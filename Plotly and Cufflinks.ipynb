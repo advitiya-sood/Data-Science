{
 "cells": [
  {
   "cell_type": "code",
   "execution_count": 16,
   "metadata": {
    "collapsed": true
   },
   "outputs": [
    {
     "name": "stdout",
     "output_type": "stream",
     "text": [
      "Collecting cufflinks\n",
      "  Using cached https://files.pythonhosted.org/packages/1a/18/4d32edaaf31ba4af9745dac676c4a28c48d3fc539000c29e855bd8db3b86/cufflinks-0.17.3.tar.gz\n",
      "Requirement already satisfied: numpy>=1.9.2 in c:\\users\\puneet sood\\anaconda3\\lib\\site-packages (from cufflinks) (1.16.5)\n",
      "Requirement already satisfied: pandas>=0.19.2 in c:\\users\\puneet sood\\anaconda3\\lib\\site-packages (from cufflinks) (0.25.1)\n",
      "Requirement already satisfied: plotly>=4.1.1 in c:\\users\\puneet sood\\anaconda3\\lib\\site-packages (from cufflinks) (4.9.0)\n",
      "Requirement already satisfied: six>=1.9.0 in c:\\users\\puneet sood\\anaconda3\\lib\\site-packages (from cufflinks) (1.12.0)\n",
      "Collecting colorlover>=0.2.1 (from cufflinks)\n",
      "  Using cached https://files.pythonhosted.org/packages/9a/53/f696e4480b1d1de3b1523991dea71cf417c8b19fe70c704da164f3f90972/colorlover-0.3.0-py3-none-any.whl\n",
      "Requirement already satisfied: setuptools>=34.4.1 in c:\\users\\puneet sood\\anaconda3\\lib\\site-packages (from cufflinks) (41.4.0)\n",
      "Requirement already satisfied: ipython>=5.3.0 in c:\\users\\puneet sood\\anaconda3\\lib\\site-packages (from cufflinks) (7.8.0)\n",
      "Requirement already satisfied: ipywidgets>=7.0.0 in c:\\users\\puneet sood\\anaconda3\\lib\\site-packages (from cufflinks) (7.5.1)\n",
      "Requirement already satisfied: python-dateutil>=2.6.1 in c:\\users\\puneet sood\\anaconda3\\lib\\site-packages (from pandas>=0.19.2->cufflinks) (2.8.0)\n",
      "Requirement already satisfied: pytz>=2017.2 in c:\\users\\puneet sood\\anaconda3\\lib\\site-packages (from pandas>=0.19.2->cufflinks) (2019.3)\n",
      "Requirement already satisfied: retrying>=1.3.3 in c:\\users\\puneet sood\\anaconda3\\lib\\site-packages (from plotly>=4.1.1->cufflinks) (1.3.3)\n",
      "Requirement already satisfied: prompt-toolkit<2.1.0,>=2.0.0 in c:\\users\\puneet sood\\anaconda3\\lib\\site-packages (from ipython>=5.3.0->cufflinks) (2.0.10)\n",
      "Requirement already satisfied: traitlets>=4.2 in c:\\users\\puneet sood\\anaconda3\\lib\\site-packages (from ipython>=5.3.0->cufflinks) (4.3.3)\n",
      "Requirement already satisfied: decorator in c:\\users\\puneet sood\\anaconda3\\lib\\site-packages (from ipython>=5.3.0->cufflinks) (4.4.0)\n",
      "Requirement already satisfied: backcall in c:\\users\\puneet sood\\anaconda3\\lib\\site-packages (from ipython>=5.3.0->cufflinks) (0.1.0)\n",
      "Requirement already satisfied: jedi>=0.10 in c:\\users\\puneet sood\\anaconda3\\lib\\site-packages (from ipython>=5.3.0->cufflinks) (0.15.1)\n",
      "Requirement already satisfied: colorama; sys_platform == \"win32\" in c:\\users\\puneet sood\\anaconda3\\lib\\site-packages (from ipython>=5.3.0->cufflinks) (0.4.1)\n",
      "Requirement already satisfied: pygments in c:\\users\\puneet sood\\anaconda3\\lib\\site-packages (from ipython>=5.3.0->cufflinks) (2.4.2)\n",
      "Requirement already satisfied: pickleshare in c:\\users\\puneet sood\\anaconda3\\lib\\site-packages (from ipython>=5.3.0->cufflinks) (0.7.5)\n",
      "Requirement already satisfied: ipykernel>=4.5.1 in c:\\users\\puneet sood\\anaconda3\\lib\\site-packages (from ipywidgets>=7.0.0->cufflinks) (5.1.2)\n",
      "Requirement already satisfied: widgetsnbextension~=3.5.0 in c:\\users\\puneet sood\\anaconda3\\lib\\site-packages (from ipywidgets>=7.0.0->cufflinks) (3.5.1)\n",
      "Requirement already satisfied: nbformat>=4.2.0 in c:\\users\\puneet sood\\anaconda3\\lib\\site-packages (from ipywidgets>=7.0.0->cufflinks) (4.4.0)\n",
      "Requirement already satisfied: wcwidth in c:\\users\\puneet sood\\anaconda3\\lib\\site-packages (from prompt-toolkit<2.1.0,>=2.0.0->ipython>=5.3.0->cufflinks) (0.1.7)\n",
      "Requirement already satisfied: ipython-genutils in c:\\users\\puneet sood\\anaconda3\\lib\\site-packages (from traitlets>=4.2->ipython>=5.3.0->cufflinks) (0.2.0)\n",
      "Requirement already satisfied: parso>=0.5.0 in c:\\users\\puneet sood\\anaconda3\\lib\\site-packages (from jedi>=0.10->ipython>=5.3.0->cufflinks) (0.5.1)\n",
      "Requirement already satisfied: tornado>=4.2 in c:\\users\\puneet sood\\anaconda3\\lib\\site-packages (from ipykernel>=4.5.1->ipywidgets>=7.0.0->cufflinks) (6.0.3)\n",
      "Requirement already satisfied: jupyter-client in c:\\users\\puneet sood\\anaconda3\\lib\\site-packages (from ipykernel>=4.5.1->ipywidgets>=7.0.0->cufflinks) (5.3.3)\n",
      "Requirement already satisfied: notebook>=4.4.1 in c:\\users\\puneet sood\\anaconda3\\lib\\site-packages (from widgetsnbextension~=3.5.0->ipywidgets>=7.0.0->cufflinks) (6.0.1)\n",
      "Requirement already satisfied: jupyter-core in c:\\users\\puneet sood\\anaconda3\\lib\\site-packages (from nbformat>=4.2.0->ipywidgets>=7.0.0->cufflinks) (4.5.0)\n",
      "Requirement already satisfied: jsonschema!=2.5.0,>=2.4 in c:\\users\\puneet sood\\anaconda3\\lib\\site-packages (from nbformat>=4.2.0->ipywidgets>=7.0.0->cufflinks) (3.0.2)\n",
      "Requirement already satisfied: pyzmq>=13 in c:\\users\\puneet sood\\anaconda3\\lib\\site-packages (from jupyter-client->ipykernel>=4.5.1->ipywidgets>=7.0.0->cufflinks) (18.1.0)\n",
      "Requirement already satisfied: pywin32>=1.0; sys_platform == \"win32\" in c:\\users\\puneet sood\\anaconda3\\lib\\site-packages (from jupyter-client->ipykernel>=4.5.1->ipywidgets>=7.0.0->cufflinks) (223)\n",
      "Requirement already satisfied: nbconvert in c:\\users\\puneet sood\\anaconda3\\lib\\site-packages (from notebook>=4.4.1->widgetsnbextension~=3.5.0->ipywidgets>=7.0.0->cufflinks) (5.6.0)\n",
      "Requirement already satisfied: jinja2 in c:\\users\\puneet sood\\anaconda3\\lib\\site-packages (from notebook>=4.4.1->widgetsnbextension~=3.5.0->ipywidgets>=7.0.0->cufflinks) (2.10.3)\n",
      "Requirement already satisfied: terminado>=0.8.1 in c:\\users\\puneet sood\\anaconda3\\lib\\site-packages (from notebook>=4.4.1->widgetsnbextension~=3.5.0->ipywidgets>=7.0.0->cufflinks) (0.8.2)\n",
      "Requirement already satisfied: Send2Trash in c:\\users\\puneet sood\\anaconda3\\lib\\site-packages (from notebook>=4.4.1->widgetsnbextension~=3.5.0->ipywidgets>=7.0.0->cufflinks) (1.5.0)\n",
      "Requirement already satisfied: prometheus-client in c:\\users\\puneet sood\\anaconda3\\lib\\site-packages (from notebook>=4.4.1->widgetsnbextension~=3.5.0->ipywidgets>=7.0.0->cufflinks) (0.7.1)\n",
      "Requirement already satisfied: pyrsistent>=0.14.0 in c:\\users\\puneet sood\\anaconda3\\lib\\site-packages (from jsonschema!=2.5.0,>=2.4->nbformat>=4.2.0->ipywidgets>=7.0.0->cufflinks) (0.15.4)\n",
      "Requirement already satisfied: attrs>=17.4.0 in c:\\users\\puneet sood\\anaconda3\\lib\\site-packages (from jsonschema!=2.5.0,>=2.4->nbformat>=4.2.0->ipywidgets>=7.0.0->cufflinks) (19.2.0)\n",
      "Requirement already satisfied: defusedxml in c:\\users\\puneet sood\\anaconda3\\lib\\site-packages (from nbconvert->notebook>=4.4.1->widgetsnbextension~=3.5.0->ipywidgets>=7.0.0->cufflinks) (0.6.0)\n",
      "Requirement already satisfied: pandocfilters>=1.4.1 in c:\\users\\puneet sood\\anaconda3\\lib\\site-packages (from nbconvert->notebook>=4.4.1->widgetsnbextension~=3.5.0->ipywidgets>=7.0.0->cufflinks) (1.4.2)\n",
      "Requirement already satisfied: mistune<2,>=0.8.1 in c:\\users\\puneet sood\\anaconda3\\lib\\site-packages (from nbconvert->notebook>=4.4.1->widgetsnbextension~=3.5.0->ipywidgets>=7.0.0->cufflinks) (0.8.4)\n",
      "Requirement already satisfied: entrypoints>=0.2.2 in c:\\users\\puneet sood\\anaconda3\\lib\\site-packages (from nbconvert->notebook>=4.4.1->widgetsnbextension~=3.5.0->ipywidgets>=7.0.0->cufflinks) (0.3)\n",
      "Requirement already satisfied: testpath in c:\\users\\puneet sood\\anaconda3\\lib\\site-packages (from nbconvert->notebook>=4.4.1->widgetsnbextension~=3.5.0->ipywidgets>=7.0.0->cufflinks) (0.4.2)\n",
      "Requirement already satisfied: bleach in c:\\users\\puneet sood\\anaconda3\\lib\\site-packages (from nbconvert->notebook>=4.4.1->widgetsnbextension~=3.5.0->ipywidgets>=7.0.0->cufflinks) (3.1.0)\n",
      "Requirement already satisfied: MarkupSafe>=0.23 in c:\\users\\puneet sood\\anaconda3\\lib\\site-packages (from jinja2->notebook>=4.4.1->widgetsnbextension~=3.5.0->ipywidgets>=7.0.0->cufflinks) (1.1.1)\n",
      "Requirement already satisfied: webencodings in c:\\users\\puneet sood\\anaconda3\\lib\\site-packages (from bleach->nbconvert->notebook>=4.4.1->widgetsnbextension~=3.5.0->ipywidgets>=7.0.0->cufflinks) (0.5.1)\n",
      "Building wheels for collected packages: cufflinks\n",
      "  Building wheel for cufflinks (setup.py): started\n",
      "  Building wheel for cufflinks (setup.py): finished with status 'done'\n",
      "  Created wheel for cufflinks: filename=cufflinks-0.17.3-cp37-none-any.whl size=68730 sha256=8010ec1ab310aaf74798b17b5ce482348e81b6cc7c7521135b8fd25144d4930b\n",
      "  Stored in directory: C:\\Users\\Puneet Sood\\AppData\\Local\\pip\\Cache\\wheels\\7d\\ba\\8d\\38b672c3e40d8bd22dd60b8e6e29965b43f2b4be4d064e44d5\n",
      "Successfully built cufflinks\n",
      "Installing collected packages: colorlover, cufflinks\n",
      "Successfully installed colorlover-0.3.0 cufflinks-0.17.3\n"
     ]
    }
   ],
   "source": [
    "!pip install cufflinks"
   ]
  },
  {
   "cell_type": "code",
   "execution_count": 36,
   "metadata": {},
   "outputs": [],
   "source": [
    "import pandas as pd\n",
    "import numpy as np\n",
    "%matplotlib inline"
   ]
  },
  {
   "cell_type": "code",
   "execution_count": 10,
   "metadata": {},
   "outputs": [
    {
     "data": {
      "text/plain": [
       "'4.9.0'"
      ]
     },
     "execution_count": 10,
     "metadata": {},
     "output_type": "execute_result"
    }
   ],
   "source": [
    "from plotly import __version__\n",
    "__version__"
   ]
  },
  {
   "cell_type": "code",
   "execution_count": 18,
   "metadata": {},
   "outputs": [],
   "source": [
    "import cufflinks as cf"
   ]
  },
  {
   "cell_type": "code",
   "execution_count": 20,
   "metadata": {},
   "outputs": [],
   "source": [
    "from plotly.offline import download_plotlyjs,init_notebook_mode,plot,iplot"
   ]
  },
  {
   "cell_type": "code",
   "execution_count": 22,
   "metadata": {},
   "outputs": [
    {
     "data": {
      "text/html": [
       "        <script type=\"text/javascript\">\n",
       "        window.PlotlyConfig = {MathJaxConfig: 'local'};\n",
       "        if (window.MathJax) {MathJax.Hub.Config({SVG: {font: \"STIX-Web\"}});}\n",
       "        if (typeof require !== 'undefined') {\n",
       "        require.undef(\"plotly\");\n",
       "        requirejs.config({\n",
       "            paths: {\n",
       "                'plotly': ['https://cdn.plot.ly/plotly-latest.min']\n",
       "            }\n",
       "        });\n",
       "        require(['plotly'], function(Plotly) {\n",
       "            window._Plotly = Plotly;\n",
       "        });\n",
       "        }\n",
       "        </script>\n",
       "        "
      ]
     },
     "metadata": {},
     "output_type": "display_data"
    }
   ],
   "source": [
    "init_notebook_mode(connected=True)"
   ]
  },
  {
   "cell_type": "code",
   "execution_count": 24,
   "metadata": {},
   "outputs": [
    {
     "data": {
      "text/html": [
       "        <script type=\"text/javascript\">\n",
       "        window.PlotlyConfig = {MathJaxConfig: 'local'};\n",
       "        if (window.MathJax) {MathJax.Hub.Config({SVG: {font: \"STIX-Web\"}});}\n",
       "        if (typeof require !== 'undefined') {\n",
       "        require.undef(\"plotly\");\n",
       "        requirejs.config({\n",
       "            paths: {\n",
       "                'plotly': ['https://cdn.plot.ly/plotly-latest.min']\n",
       "            }\n",
       "        });\n",
       "        require(['plotly'], function(Plotly) {\n",
       "            window._Plotly = Plotly;\n",
       "        });\n",
       "        }\n",
       "        </script>\n",
       "        "
      ]
     },
     "metadata": {},
     "output_type": "display_data"
    }
   ],
   "source": [
    "cf.go_offline()"
   ]
  },
  {
   "cell_type": "code",
   "execution_count": 29,
   "metadata": {},
   "outputs": [
    {
     "data": {
      "text/html": [
       "<div>\n",
       "<style scoped>\n",
       "    .dataframe tbody tr th:only-of-type {\n",
       "        vertical-align: middle;\n",
       "    }\n",
       "\n",
       "    .dataframe tbody tr th {\n",
       "        vertical-align: top;\n",
       "    }\n",
       "\n",
       "    .dataframe thead th {\n",
       "        text-align: right;\n",
       "    }\n",
       "</style>\n",
       "<table border=\"1\" class=\"dataframe\">\n",
       "  <thead>\n",
       "    <tr style=\"text-align: right;\">\n",
       "      <th></th>\n",
       "      <th>A</th>\n",
       "      <th>B</th>\n",
       "      <th>C</th>\n",
       "      <th>D</th>\n",
       "    </tr>\n",
       "  </thead>\n",
       "  <tbody>\n",
       "    <tr>\n",
       "      <td>0</td>\n",
       "      <td>-0.440040</td>\n",
       "      <td>0.005254</td>\n",
       "      <td>-0.059834</td>\n",
       "      <td>-0.048439</td>\n",
       "    </tr>\n",
       "    <tr>\n",
       "      <td>1</td>\n",
       "      <td>-0.359561</td>\n",
       "      <td>0.771628</td>\n",
       "      <td>-1.130759</td>\n",
       "      <td>-0.781933</td>\n",
       "    </tr>\n",
       "    <tr>\n",
       "      <td>2</td>\n",
       "      <td>1.873407</td>\n",
       "      <td>-1.340031</td>\n",
       "      <td>-1.517099</td>\n",
       "      <td>-0.380150</td>\n",
       "    </tr>\n",
       "    <tr>\n",
       "      <td>3</td>\n",
       "      <td>0.389692</td>\n",
       "      <td>0.831870</td>\n",
       "      <td>0.116081</td>\n",
       "      <td>0.092724</td>\n",
       "    </tr>\n",
       "    <tr>\n",
       "      <td>4</td>\n",
       "      <td>-0.022267</td>\n",
       "      <td>2.240200</td>\n",
       "      <td>-0.124433</td>\n",
       "      <td>0.780825</td>\n",
       "    </tr>\n",
       "  </tbody>\n",
       "</table>\n",
       "</div>"
      ],
      "text/plain": [
       "          A         B         C         D\n",
       "0 -0.440040  0.005254 -0.059834 -0.048439\n",
       "1 -0.359561  0.771628 -1.130759 -0.781933\n",
       "2  1.873407 -1.340031 -1.517099 -0.380150\n",
       "3  0.389692  0.831870  0.116081  0.092724\n",
       "4 -0.022267  2.240200 -0.124433  0.780825"
      ]
     },
     "execution_count": 29,
     "metadata": {},
     "output_type": "execute_result"
    }
   ],
   "source": [
    "df=pd.DataFrame(np.random.randn(100,4),columns=\"A B C D\".split())\n",
    "df.head()"
   ]
  },
  {
   "cell_type": "code",
   "execution_count": 33,
   "metadata": {},
   "outputs": [
    {
     "data": {
      "text/html": [
       "<div>\n",
       "<style scoped>\n",
       "    .dataframe tbody tr th:only-of-type {\n",
       "        vertical-align: middle;\n",
       "    }\n",
       "\n",
       "    .dataframe tbody tr th {\n",
       "        vertical-align: top;\n",
       "    }\n",
       "\n",
       "    .dataframe thead th {\n",
       "        text-align: right;\n",
       "    }\n",
       "</style>\n",
       "<table border=\"1\" class=\"dataframe\">\n",
       "  <thead>\n",
       "    <tr style=\"text-align: right;\">\n",
       "      <th></th>\n",
       "      <th>CATEGORY</th>\n",
       "      <th>VALUES</th>\n",
       "    </tr>\n",
       "  </thead>\n",
       "  <tbody>\n",
       "    <tr>\n",
       "      <td>0</td>\n",
       "      <td>A</td>\n",
       "      <td>1</td>\n",
       "    </tr>\n",
       "    <tr>\n",
       "      <td>1</td>\n",
       "      <td>B</td>\n",
       "      <td>2</td>\n",
       "    </tr>\n",
       "    <tr>\n",
       "      <td>2</td>\n",
       "      <td>C</td>\n",
       "      <td>3</td>\n",
       "    </tr>\n",
       "  </tbody>\n",
       "</table>\n",
       "</div>"
      ],
      "text/plain": [
       "  CATEGORY  VALUES\n",
       "0        A       1\n",
       "1        B       2\n",
       "2        C       3"
      ]
     },
     "execution_count": 33,
     "metadata": {},
     "output_type": "execute_result"
    }
   ],
   "source": [
    "df1=pd.DataFrame({\"CATEGORY\":\"A B C\".split(),\"VALUES\":[1,2,3]})\n",
    "df1"
   ]
  },
  {
   "cell_type": "code",
   "execution_count": 38,
   "metadata": {},
   "outputs": [
    {
     "data": {
      "text/plain": [
       "<matplotlib.axes._subplots.AxesSubplot at 0x187173c7f08>"
      ]
     },
     "execution_count": 38,
     "metadata": {},
     "output_type": "execute_result"
    },
    {
     "data": {
      "image/png": "[encoded data removed]",
      "text/plain": [
       "<Figure size 432x288 with 1 Axes>"
      ]
     },
     "metadata": {
      "needs_background": "light"
     },
     "output_type": "display_data"
    }
   ],
   "source": [
    "df.plot()"
   ]
  },
  {
   "cell_type": "code",
   "execution_count": 40,
   "metadata": {},
   "outputs": [
    {
     "data": {
      "application/vnd.plotly.v1+json": {
       "config": {
        "linkText": "Export to plot.ly",
        "plotlyServerURL": "https://plot.ly",
        "showLink": true
       },
       "data": [
        {
         "line": {
          "color": "rgba(255, 153, 51, 1.0)",
          "dash": "solid",
          "shape": "linear",
          "width": 1.3
         },
         "mode": "lines",
         "name": "A",
         "text": "",
         "type": "scatter",
         "x": [
          0,
          1,
          2,
          3,
          4,
          5,
          6,
          7,
          8,
          9,
          10,
          11,
          12,
          13,
          14,
          15,
          16,
          17,
          18,
          19,
          20,
          21,
          22,
          23,
          24,
          25,
          26,
          27,
          28,
          29,
          30,
          31,
          32,
          33,
          34,
          35,
          36,
          37,
          38,
          39,
          40,
          41,
          42,
          43,
          44,
          45,
          46,
          47,
          48,
          49,
          50,
          51,
          52,
          53,
          54,
          55,
          56,
          57,
          58,
          59,
          60,
          61,
          62,
          63,
          64,
          65,
          66,
          67,
          68,
          69,
          70,
          71,
          72,
          73,
          74,
          75,
          76,
          77,
          78,
          79,
          80,
          81,
          82,
          83,
          84,
          85,
          86,
          87,
          88,
          89,
          90,
          91,
          92,
          93,
          94,
          95,
          96,
          97,
          98,
          99
         ],
         "y": [
          -0.4400399649717887,
          -0.3595613077728515,
          1.873406826294262,
          0.38969186783380566,
          -0.022267424723130477,
          0.43504747311291625,
          0.2554983804257713,
          -0.43489588798704,
          1.3426244457395577,
          -0.48428219422439583,
          1.2792534848487378,
          -0.33430267928447205,
          -0.05871625452323227,
          -1.4641294945567087,
          0.6879170405939331,
          -0.5789676388980899,
          0.4834159267743571,
          0.7888288795843491,
          0.3323842082460313,
          -0.500455046491514,
          1.1349638922438667,
          0.0648394026874129,
          -1.8369173628695823,
          -1.364696374259146,
          -0.23163879310313643,
          0.44184120624887646,
          -0.008754529905923444,
          -0.8468384671871605,
          -1.7609159005214712,
          -0.8906016871681184,
          0.0014061404898391655,
          -0.8273110356202099,
          -1.4469547151441569,
          1.130716065259019,
          1.8385150812690811,
          1.4480020373494882,
          -0.7299993682456137,
          0.7084053880561713,
          -1.9574977231406003,
          1.3225294983535072,
          0.4604816538773025,
          0.5978851424936994,
          -0.029798002575205002,
          2.4444818990726014,
          0.23121109999846337,
          0.39411414563714564,
          1.424994271543353,
          -1.0108760588569032,
          -0.20433405466852314,
          -0.5930604286487997,
          -0.17345914350442432,
          -1.5383599521702267,
          1.9870464339271097,
          -0.9572961564127893,
          0.2736969217055384,
          -0.14260090164422665,
          0.5639127289263197,
          -1.2416397081029351,
          -1.0359339740593136,
          0.49857507285146657,
          -1.2100830662432491,
          1.0950061628189116,
          1.8846659520987912,
          -1.7878728745495034,
          0.28857746221554864,
          -1.4088943816655852,
          -1.2087136735183925,
          1.2778115772660252,
          1.6546599214910305,
          -0.7462906107026152,
          -0.9209903093715155,
          0.23517131057492602,
          -1.3162249191278517,
          0.8134368199054091,
          -0.0374560977698149,
          -0.9081747971850014,
          0.3002608454591211,
          -1.9056226453352814,
          0.4297281861337904,
          -0.5789872115675557,
          0.21575296332290184,
          1.5659208168241434,
          -0.5014118806704894,
          -0.36063540909619,
          -1.6235631621904136,
          0.20410868074437,
          -0.9931668727532835,
          0.24227106624572672,
          -1.4183421552714632,
          -2.4218648828227294,
          0.24063590836634863,
          -0.721590758122123,
          -0.29554997751728773,
          -0.723704077745416,
          -0.6669451077956237,
          -2.1012240102699056,
          -0.47528546735939825,
          0.9874550770448093,
          -1.0165171112904952,
          -0.6352140298009604
         ]
        },
        {
         "line": {
          "color": "rgba(55, 128, 191, 1.0)",
          "dash": "solid",
          "shape": "linear",
          "width": 1.3
         },
         "mode": "lines",
         "name": "B",
         "text": "",
         "type": "scatter",
         "x": [
          0,
          1,
          2,
          3,
          4,
          5,
          6,
          7,
          8,
          9,
          10,
          11,
          12,
          13,
          14,
          15,
          16,
          17,
          18,
          19,
          20,
          21,
          22,
          23,
          24,
          25,
          26,
          27,
          28,
          29,
          30,
          31,
          32,
          33,
          34,
          35,
          36,
          37,
          38,
          39,
          40,
          41,
          42,
          43,
          44,
          45,
          46,
          47,
          48,
          49,
          50,
          51,
          52,
          53,
          54,
          55,
          56,
          57,
          58,
          59,
          60,
          61,
          62,
          63,
          64,
          65,
          66,
          67,
          68,
          69,
          70,
          71,
          72,
          73,
          74,
          75,
          76,
          77,
          78,
          79,
          80,
          81,
          82,
          83,
          84,
          85,
          86,
          87,
          88,
          89,
          90,
          91,
          92,
          93,
          94,
          95,
          96,
          97,
          98,
          99
         ],
         "y": [
          0.005253742579835973,
          0.7716277501844138,
          -1.3400305920631033,
          0.8318700917157779,
          2.240199667702425,
          -0.22292209976958163,
          -0.21705185991763193,
          -0.7393949298922802,
          -0.3067156431895187,
          0.3828707180093922,
          2.1967246063897288,
          -0.02905384790058943,
          0.23135537214505922,
          -1.8585285444240034,
          1.5382087491369076,
          2.0203249946759017,
          -0.10883618494234559,
          0.5586990172547254,
          -0.5173941777182314,
          0.6493323533920731,
          0.5779378136248604,
          1.1086260382106041,
          0.04515298529579711,
          1.8669147038799583,
          -1.081982530900694,
          0.34588203934046,
          -0.6738517290892458,
          0.5307011208620993,
          -0.2890152225836287,
          -1.0968014185406156,
          0.0069997093709019825,
          1.0096161393672936,
          -0.11999388042626354,
          -0.9846719383735099,
          2.1550176489971897,
          -0.0862558055942889,
          -0.6472715416910069,
          2.638125871089636,
          1.1062598580697107,
          -0.17386800601023839,
          -2.035440917897416,
          -0.3238816966370988,
          -0.9241586801488743,
          0.28270061840290656,
          -1.2936177268615774,
          -1.653251938555071,
          0.16674799397119405,
          -0.2662948634241881,
          0.08036384060337945,
          1.0983462697803852,
          0.3509552047370613,
          -0.43682665169660967,
          -1.3827744606669374,
          0.4738958851556978,
          -1.1325269214747788,
          -0.648548134378684,
          -0.23004881722647422,
          1.868850040978546,
          -0.07655085017094414,
          -1.406890502921777,
          -1.065453004451698,
          0.5349288988151877,
          1.3773373978807573,
          0.5867444979295666,
          0.8620421567209805,
          0.02407766005255767,
          -0.24521601213683414,
          0.048430437282934974,
          -1.7974755498952042,
          -1.2740596900069847,
          0.1877725087100248,
          -0.4093879315825059,
          0.5824620905697605,
          -0.799413254250628,
          2.6027632503644575,
          -1.563154453440586,
          -0.9213031507408195,
          0.07979897204686634,
          -0.9906227712393095,
          0.7259471437511759,
          0.13646236887374574,
          -0.5901089050824726,
          0.4830250607805121,
          0.07045911603626373,
          -1.0395461897361091,
          0.159846520137536,
          1.0109455233378781,
          0.15754580369888657,
          -0.10428812849781907,
          0.8880653905779591,
          -0.2091950350731277,
          -1.5960364240674625,
          -0.7720547303970756,
          1.4142597808980752,
          0.253057761265195,
          2.096759738915302,
          -0.49800753714594564,
          2.205377221396586,
          0.7549940575074778,
          0.03171008771101023
         ]
        },
        {
         "line": {
          "color": "rgba(50, 171, 96, 1.0)",
          "dash": "solid",
          "shape": "linear",
          "width": 1.3
         },
         "mode": "lines",
         "name": "C",
         "text": "",
         "type": "scatter",
         "x": [
          0,
          1,
          2,
          3,
          4,
          5,
          6,
          7,
          8,
          9,
          10,
          11,
          12,
          13,
          14,
          15,
          16,
          17,
          18,
          19,
          20,
          21,
          22,
          23,
          24,
          25,
          26,
          27,
          28,
          29,
          30,
          31,
          32,
          33,
          34,
          35,
          36,
          37,
          38,
          39,
          40,
          41,
          42,
          43,
          44,
          45,
          46,
          47,
          48,
          49,
          50,
          51,
          52,
          53,
          54,
          55,
          56,
          57,
          58,
          59,
          60,
          61,
          62,
          63,
          64,
          65,
          66,
          67,
          68,
          69,
          70,
          71,
          72,
          73,
          74,
          75,
          76,
          77,
          78,
          79,
          80,
          81,
          82,
          83,
          84,
          85,
          86,
          87,
          88,
          89,
          90,
          91,
          92,
          93,
          94,
          95,
          96,
          97,
          98,
          99
         ],
         "y": [
          -0.059833531115340205,
          -1.1307586921024038,
          -1.5170991708405983,
          0.1160808301074496,
          -0.12443331309427426,
          1.2676305263539098,
          -1.6463008113069764,
          1.0704509382146838,
          -1.2047255156083325,
          -0.6037064891403543,
          -0.7475201631838689,
          -1.1744669027475887,
          0.48030262284316644,
          0.9098214135560966,
          -1.5993906133446323,
          0.4197640743888284,
          -0.2149301619105147,
          -0.17314106369777055,
          0.028213515702107568,
          -0.18534379249626168,
          0.3151620624222115,
          0.9543056213143404,
          1.5883852349755774,
          -0.12240271652122195,
          -0.5270291517043504,
          0.4864170800204461,
          0.8562578232246958,
          -1.6797894688423038,
          -0.9467473139214349,
          -0.7997157670107652,
          0.10001814984347672,
          1.7828893670975494,
          0.7031607462574542,
          0.010171140660643115,
          -0.40167286790753254,
          -0.022713288502423733,
          -1.2176710880508304,
          2.069515328450902,
          -0.4091616095882992,
          -0.0215929308246728,
          0.5974480325520253,
          -1.2983711082734464,
          -0.8769517606723604,
          0.43442891150441015,
          -0.6944095639989479,
          4.032736790835397,
          -0.5183645416258648,
          -0.35214783613094147,
          0.4283182689039598,
          -1.2825855564049675,
          2.042810376896394,
          0.8363617075024146,
          -0.24996803048593447,
          -0.7249052202412539,
          1.0659431873725955,
          0.11999074219720175,
          -2.6225097483783832,
          -0.9306985386490227,
          0.6149332485969911,
          -1.135900314950092,
          0.38599838131658937,
          -0.08306721638522246,
          1.6228039601371533,
          -0.07772711618525334,
          1.3298450092271772,
          -0.05050903008593878,
          1.8652974639279727,
          -0.2665584107205339,
          0.3849658987096003,
          -0.15359569461542186,
          1.8237622467376262,
          0.3661468059331742,
          -2.916564206650955,
          0.3972639089615204,
          0.008198659931431334,
          -1.5760208632854669,
          -0.8030979407843182,
          0.35268724922940176,
          -0.07195584029076904,
          0.6332523111960984,
          -0.053138329815598066,
          1.2350429498079165,
          0.5319503342878098,
          -1.6645778363543628,
          1.0582342841677217,
          0.13758399933343138,
          0.028425285203291552,
          0.6308990774792219,
          -0.44371572618825567,
          -0.03240748373035467,
          -0.6681543753003671,
          -0.11092583493554127,
          -1.3046806089449365,
          -1.0946605716276787,
          -1.0221848513838285,
          0.029419760269896504,
          0.7125106388215899,
          0.7110358381773751,
          0.2072281455770876,
          0.8858439582475902
         ]
        },
        {
         "line": {
          "color": "rgba(128, 0, 128, 1.0)",
          "dash": "solid",
          "shape": "linear",
          "width": 1.3
         },
         "mode": "lines",
         "name": "D",
         "text": "",
         "type": "scatter",
         "x": [
          0,
          1,
          2,
          3,
          4,
          5,
          6,
          7,
          8,
          9,
          10,
          11,
          12,
          13,
          14,
          15,
          16,
          17,
          18,
          19,
          20,
          21,
          22,
          23,
          24,
          25,
          26,
          27,
          28,
          29,
          30,
          31,
          32,
          33,
          34,
          35,
          36,
          37,
          38,
          39,
          40,
          41,
          42,
          43,
          44,
          45,
          46,
          47,
          48,
          49,
          50,
          51,
          52,
          53,
          54,
          55,
          56,
          57,
          58,
          59,
          60,
          61,
          62,
          63,
          64,
          65,
          66,
          67,
          68,
          69,
          70,
          71,
          72,
          73,
          74,
          75,
          76,
          77,
          78,
          79,
          80,
          81,
          82,
          83,
          84,
          85,
          86,
          87,
          88,
          89,
          90,
          91,
          92,
          93,
          94,
          95,
          96,
          97,
          98,
          99
         ],
         "y": [
          -0.048438637774105314,
          -0.7819332955743884,
          -0.3801495953586696,
          0.09272418733206131,
          0.7808245571391312,
          0.5292232251316453,
          0.7274627743044587,
          -0.39748388296073767,
          0.33351628234173764,
          1.4353874488035603,
          -0.6416122676165328,
          -0.21624374030643773,
          -0.18262892551164203,
          1.4320690617186551,
          0.7522520439339312,
          -0.22238280208314654,
          -0.0024148553404345257,
          -1.5499752000072256,
          -1.969076768612912,
          1.0340972198392024,
          0.580563689799276,
          1.4587509308564321,
          -0.7825285048922617,
          0.16942465775404666,
          0.6580084266340505,
          0.9721824509859225,
          -0.9114882246177496,
          0.4611795445753822,
          0.7117293714633903,
          1.0491048103930758,
          0.8913969800869878,
          0.8974951904504173,
          -1.8467424551374227,
          1.2907662114214729,
          -2.459928488972569,
          -0.7628256803186014,
          -1.1986338915846038,
          0.8409660087997013,
          0.39053277181916746,
          0.3537879516964365,
          -0.19827400142084714,
          2.45078684667432,
          0.39339632744919706,
          1.2959445775725915,
          1.55742033037734,
          0.15903677031659075,
          0.8301172205354383,
          0.07725869797638997,
          -0.8540182591131804,
          -0.4997019785406598,
          1.2306188176947799,
          1.0920997473503868,
          -1.4925144990722459,
          -0.637145097678531,
          0.6605694198821305,
          -0.2817495373297371,
          -0.8375067117343374,
          -0.49206741167074847,
          -0.7726679333091742,
          -0.25396873345375925,
          0.9369327122811331,
          0.11446557309415974,
          0.557350214273498,
          -1.9565685423533479,
          -1.5931447014695428,
          0.42898871597828225,
          -0.13836267817067688,
          0.1740860135897892,
          -0.8150969593659615,
          0.3098140820911925,
          1.5856448102666456,
          -2.1520243724874897,
          -1.7069881134059737,
          0.6700740038384747,
          -1.2851453720497432,
          0.6364030819540974,
          -0.6728078005632903,
          -0.541035384971853,
          0.48763875357064984,
          1.091767088668557,
          1.109686796001412,
          -0.8621987749294595,
          -0.6507530256151302,
          0.485891682406828,
          1.4384870607912152,
          -1.2671510033372553,
          1.4909740801643505,
          -0.8486207628250105,
          -0.32893116836800396,
          -0.06685992986459374,
          -0.038509021919391075,
          1.39546176696491,
          -0.15091955130675058,
          1.0986346044800837,
          0.025414523902503757,
          1.26850959258467,
          0.4458738876443096,
          0.9496227170696862,
          -0.561925735762768,
          -0.5181977558854044
         ]
        }
       ],
       "layout": {
        "legend": {
         "bgcolor": "#F5F6F9",
         "font": {
          "color": "#4D5663"
         }
        },
        "paper_bgcolor": "#F5F6F9",
        "plot_bgcolor": "#F5F6F9",
        "template": {
         "data": {
          "bar": [
           {
            "error_x": {
             "color": "#2a3f5f"
            },
            "error_y": {
             "color": "#2a3f5f"
            },
            "marker": {
             "line": {
              "color": "#E5ECF6",
              "width": 0.5
             }
            },
            "type": "bar"
           }
          ],
          "barpolar": [
           {
            "marker": {
             "line": {
              "color": "#E5ECF6",
              "width": 0.5
             }
            },
            "type": "barpolar"
           }
          ],
          "carpet": [
           {
            "aaxis": {
             "endlinecolor": "#2a3f5f",
             "gridcolor": "white",
             "linecolor": "white",
             "minorgridcolor": "white",
             "startlinecolor": "#2a3f5f"
            },
            "baxis": {
             "endlinecolor": "#2a3f5f",
             "gridcolor": "white",
             "linecolor": "white",
             "minorgridcolor": "white",
             "startlinecolor": "#2a3f5f"
            },
            "type": "carpet"
           }
          ],
          "choropleth": [
           {
            "colorbar": {
             "outlinewidth": 0,
             "ticks": ""
            },
            "type": "choropleth"
           }
          ],
          "contour": [
           {
            "colorbar": {
             "outlinewidth": 0,
             "ticks": ""
            },
            "colorscale": [
             [
              0,
              "#0d0887"
             ],
             [
              0.1111111111111111,
              "#46039f"
             ],
             [
              0.2222222222222222,
              "#7201a8"
             ],
             [
              0.3333333333333333,
              "#9c179e"
             ],
             [
              0.4444444444444444,
              "#bd3786"
             ],
             [
              0.5555555555555556,
              "#d8576b"
             ],
             [
              0.6666666666666666,
              "#ed7953"
             ],
             [
              0.7777777777777778,
              "#fb9f3a"
             ],
             [
              0.8888888888888888,
              "#fdca26"
             ],
             [
              1,
              "#f0f921"
             ]
            ],
            "type": "contour"
           }
          ],
          "contourcarpet": [
           {
            "colorbar": {
             "outlinewidth": 0,
             "ticks": ""
            },
            "type": "contourcarpet"
           }
          ],
          "heatmap": [
           {
            "colorbar": {
             "outlinewidth": 0,
             "ticks": ""
            },
            "colorscale": [
             [
              0,
              "#0d0887"
             ],
             [
              0.1111111111111111,
              "#46039f"
             ],
             [
              0.2222222222222222,
              "#7201a8"
             ],
             [
              0.3333333333333333,
              "#9c179e"
             ],
             [
              0.4444444444444444,
              "#bd3786"
             ],
             [
              0.5555555555555556,
              "#d8576b"
             ],
             [
              0.6666666666666666,
              "#ed7953"
             ],
             [
              0.7777777777777778,
              "#fb9f3a"
             ],
             [
              0.8888888888888888,
              "#fdca26"
             ],
             [
              1,
              "#f0f921"
             ]
            ],
            "type": "heatmap"
           }
          ],
          "heatmapgl": [
           {
            "colorbar": {
             "outlinewidth": 0,
             "ticks": ""
            },
            "colorscale": [
             [
              0,
              "#0d0887"
             ],
             [
              0.1111111111111111,
              "#46039f"
             ],
             [
              0.2222222222222222,
              "#7201a8"
             ],
             [
              0.3333333333333333,
              "#9c179e"
             ],
             [
              0.4444444444444444,
              "#bd3786"
             ],
             [
              0.5555555555555556,
              "#d8576b"
             ],
             [
              0.6666666666666666,
              "#ed7953"
             ],
             [
              0.7777777777777778,
              "#fb9f3a"
             ],
             [
              0.8888888888888888,
              "#fdca26"
             ],
             [
              1,
              "#f0f921"
             ]
            ],
            "type": "heatmapgl"
           }
          ],
          "histogram": [
           {
            "marker": {
             "colorbar": {
              "outlinewidth": 0,
              "ticks": ""
             }
            },
            "type": "histogram"
           }
          ],
          "histogram2d": [
           {
            "colorbar": {
             "outlinewidth": 0,
             "ticks": ""
            },
            "colorscale": [
             [
              0,
              "#0d0887"
             ],
             [
              0.1111111111111111,
              "#46039f"
             ],
             [
              0.2222222222222222,
              "#7201a8"
             ],
             [
              0.3333333333333333,
              "#9c179e"
             ],
             [
              0.4444444444444444,
              "#bd3786"
             ],
             [
              0.5555555555555556,
              "#d8576b"
             ],
             [
              0.6666666666666666,
              "#ed7953"
             ],
             [
              0.7777777777777778,
              "#fb9f3a"
             ],
             [
              0.8888888888888888,
              "#fdca26"
             ],
             [
              1,
              "#f0f921"
             ]
            ],
            "type": "histogram2d"
           }
          ],
          "histogram2dcontour": [
           {
            "colorbar": {
             "outlinewidth": 0,
             "ticks": ""
            },
            "colorscale": [
             [
              0,
              "#0d0887"
             ],
             [
              0.1111111111111111,
              "#46039f"
             ],
             [
              0.2222222222222222,
              "#7201a8"
             ],
             [
              0.3333333333333333,
              "#9c179e"
             ],
             [
              0.4444444444444444,
              "#bd3786"
             ],
             [
              0.5555555555555556,
              "#d8576b"
             ],
             [
              0.6666666666666666,
              "#ed7953"
             ],
             [
              0.7777777777777778,
              "#fb9f3a"
             ],
             [
              0.8888888888888888,
              "#fdca26"
             ],
             [
              1,
              "#f0f921"
             ]
            ],
            "type": "histogram2dcontour"
           }
          ],
          "mesh3d": [
           {
            "colorbar": {
             "outlinewidth": 0,
             "ticks": ""
            },
            "type": "mesh3d"
           }
          ],
          "parcoords": [
           {
            "line": {
             "colorbar": {
              "outlinewidth": 0,
              "ticks": ""
             }
            },
            "type": "parcoords"
           }
          ],
          "pie": [
           {
            "automargin": true,
            "type": "pie"
           }
          ],
          "scatter": [
           {
            "marker": {
             "colorbar": {
              "outlinewidth": 0,
              "ticks": ""
             }
            },
            "type": "scatter"
           }
          ],
          "scatter3d": [
           {
            "line": {
             "colorbar": {
              "outlinewidth": 0,
              "ticks": ""
             }
            },
            "marker": {
             "colorbar": {
              "outlinewidth": 0,
              "ticks": ""
             }
            },
            "type": "scatter3d"
           }
          ],
          "scattercarpet": [
           {
            "marker": {
             "colorbar": {
              "outlinewidth": 0,
              "ticks": ""
             }
            },
            "type": "scattercarpet"
           }
          ],
          "scattergeo": [
           {
            "marker": {
             "colorbar": {
              "outlinewidth": 0,
              "ticks": ""
             }
            },
            "type": "scattergeo"
           }
          ],
          "scattergl": [
           {
            "marker": {
             "colorbar": {
              "outlinewidth": 0,
              "ticks": ""
             }
            },
            "type": "scattergl"
           }
          ],
          "scattermapbox": [
           {
            "marker": {
             "colorbar": {
              "outlinewidth": 0,
              "ticks": ""
             }
            },
            "type": "scattermapbox"
           }
          ],
          "scatterpolar": [
           {
            "marker": {
             "colorbar": {
              "outlinewidth": 0,
              "ticks": ""
             }
            },
            "type": "scatterpolar"
           }
          ],
          "scatterpolargl": [
           {
            "marker": {
             "colorbar": {
              "outlinewidth": 0,
              "ticks": ""
             }
            },
            "type": "scatterpolargl"
           }
          ],
          "scatterternary": [
           {
            "marker": {
             "colorbar": {
              "outlinewidth": 0,
              "ticks": ""
             }
            },
            "type": "scatterternary"
           }
          ],
          "surface": [
           {
            "colorbar": {
             "outlinewidth": 0,
             "ticks": ""
            },
            "colorscale": [
             [
              0,
              "#0d0887"
             ],
             [
              0.1111111111111111,
              "#46039f"
             ],
             [
              0.2222222222222222,
              "#7201a8"
             ],
             [
              0.3333333333333333,
              "#9c179e"
             ],
             [
              0.4444444444444444,
              "#bd3786"
             ],
             [
              0.5555555555555556,
              "#d8576b"
             ],
             [
              0.6666666666666666,
              "#ed7953"
             ],
             [
              0.7777777777777778,
              "#fb9f3a"
             ],
             [
              0.8888888888888888,
              "#fdca26"
             ],
             [
              1,
              "#f0f921"
             ]
            ],
            "type": "surface"
           }
          ],
          "table": [
           {
            "cells": {
             "fill": {
              "color": "#EBF0F8"
             },
             "line": {
              "color": "white"
             }
            },
            "header": {
             "fill": {
              "color": "#C8D4E3"
             },
             "line": {
              "color": "white"
             }
            },
            "type": "table"
           }
          ]
         },
         "layout": {
          "annotationdefaults": {
           "arrowcolor": "#2a3f5f",
           "arrowhead": 0,
           "arrowwidth": 1
          },
          "coloraxis": {
           "colorbar": {
            "outlinewidth": 0,
            "ticks": ""
           }
          },
          "colorscale": {
           "diverging": [
            [
             0,
             "#8e0152"
            ],
            [
             0.1,
             "#c51b7d"
            ],
            [
             0.2,
             "#de77ae"
            ],
            [
             0.3,
             "#f1b6da"
            ],
            [
             0.4,
             "#fde0ef"
            ],
            [
             0.5,
             "#f7f7f7"
            ],
            [
             0.6,
             "#e6f5d0"
            ],
            [
             0.7,
             "#b8e186"
            ],
            [
             0.8,
             "#7fbc41"
            ],
            [
             0.9,
             "#4d9221"
            ],
            [
             1,
             "#276419"
            ]
           ],
           "sequential": [
            [
             0,
             "#0d0887"
            ],
            [
             0.1111111111111111,
             "#46039f"
            ],
            [
             0.2222222222222222,
             "#7201a8"
            ],
            [
             0.3333333333333333,
             "#9c179e"
            ],
            [
             0.4444444444444444,
             "#bd3786"
            ],
            [
             0.5555555555555556,
             "#d8576b"
            ],
            [
             0.6666666666666666,
             "#ed7953"
            ],
            [
             0.7777777777777778,
             "#fb9f3a"
            ],
            [
             0.8888888888888888,
             "#fdca26"
            ],
            [
             1,
             "#f0f921"
            ]
           ],
           "sequentialminus": [
            [
             0,
             "#0d0887"
            ],
            [
             0.1111111111111111,
             "#46039f"
            ],
            [
             0.2222222222222222,
             "#7201a8"
            ],
            [
             0.3333333333333333,
             "#9c179e"
            ],
            [
             0.4444444444444444,
             "#bd3786"
            ],
            [
             0.5555555555555556,
             "#d8576b"
            ],
            [
             0.6666666666666666,
             "#ed7953"
            ],
            [
             0.7777777777777778,
             "#fb9f3a"
            ],
            [
             0.8888888888888888,
             "#fdca26"
            ],
            [
             1,
             "#f0f921"
            ]
           ]
          },
          "colorway": [
           "#636efa",
           "#EF553B",
           "#00cc96",
           "#ab63fa",
           "#FFA15A",
           "#19d3f3",
           "#FF6692",
           "#B6E880",
           "#FF97FF",
           "#FECB52"
          ],
          "font": {
           "color": "#2a3f5f"
          },
          "geo": {
           "bgcolor": "white",
           "lakecolor": "white",
           "landcolor": "#E5ECF6",
           "showlakes": true,
           "showland": true,
           "subunitcolor": "white"
          },
          "hoverlabel": {
           "align": "left"
          },
          "hovermode": "closest",
          "mapbox": {
           "style": "light"
          },
          "paper_bgcolor": "white",
          "plot_bgcolor": "#E5ECF6",
          "polar": {
           "angularaxis": {
            "gridcolor": "white",
            "linecolor": "white",
            "ticks": ""
           },
           "bgcolor": "#E5ECF6",
           "radialaxis": {
            "gridcolor": "white",
            "linecolor": "white",
            "ticks": ""
           }
          },
          "scene": {
           "xaxis": {
            "backgroundcolor": "#E5ECF6",
            "gridcolor": "white",
            "gridwidth": 2,
            "linecolor": "white",
            "showbackground": true,
            "ticks": "",
            "zerolinecolor": "white"
           },
           "yaxis": {
            "backgroundcolor": "#E5ECF6",
            "gridcolor": "white",
            "gridwidth": 2,
            "linecolor": "white",
            "showbackground": true,
            "ticks": "",
            "zerolinecolor": "white"
           },
           "zaxis": {
            "backgroundcolor": "#E5ECF6",
            "gridcolor": "white",
            "gridwidth": 2,
            "linecolor": "white",
            "showbackground": true,
            "ticks": "",
            "zerolinecolor": "white"
           }
          },
          "shapedefaults": {
           "line": {
            "color": "#2a3f5f"
           }
          },
          "ternary": {
           "aaxis": {
            "gridcolor": "white",
            "linecolor": "white",
            "ticks": ""
           },
           "baxis": {
            "gridcolor": "white",
            "linecolor": "white",
            "ticks": ""
           },
           "bgcolor": "#E5ECF6",
           "caxis": {
            "gridcolor": "white",
            "linecolor": "white",
            "ticks": ""
           }
          },
          "title": {
           "x": 0.05
          },
          "xaxis": {
           "automargin": true,
           "gridcolor": "white",
           "linecolor": "white",
           "ticks": "",
           "title": {
            "standoff": 15
           },
           "zerolinecolor": "white",
           "zerolinewidth": 2
          },
          "yaxis": {
           "automargin": true,
           "gridcolor": "white",
           "linecolor": "white",
           "ticks": "",
           "title": {
            "standoff": 15
           },
           "zerolinecolor": "white",
           "zerolinewidth": 2
          }
         }
        },
        "title": {
         "font": {
          "color": "#4D5663"
         }
        },
        "xaxis": {
         "gridcolor": "#E1E5ED",
         "showgrid": true,
         "tickfont": {
          "color": "#4D5663"
         },
         "title": {
          "font": {
           "color": "#4D5663"
          },
          "text": ""
         },
         "zerolinecolor": "#E1E5ED"
        },
        "yaxis": {
         "gridcolor": "#E1E5ED",
         "showgrid": true,
         "tickfont": {
          "color": "#4D5663"
         },
         "title": {
          "font": {
           "color": "#4D5663"
          },
          "text": ""
         },
         "zerolinecolor": "#E1E5ED"
        }
       }
      },
      "text/html": [
       "<div>\n",
       "        \n",
       "        \n",
       "            <div id=\"51e6f6c1-33c4-4092-b905-9295c769f6ae\" class=\"plotly-graph-div\" style=\"height:525px; width:100%;\"></div>\n",
       "            <script type=\"text/javascript\">\n",
       "                require([\"plotly\"], function(Plotly) {\n",
       "                    window.PLOTLYENV=window.PLOTLYENV || {};\n",
       "                    window.PLOTLYENV.BASE_URL='https://plot.ly';\n",
       "                    \n",
       "                if (document.getElementById(\"51e6f6c1-33c4-4092-b905-9295c769f6ae\")) {\n",
       "                    Plotly.newPlot(\n",
       "                        '51e6f6c1-33c4-4092-b905-9295c769f6ae',\n",
       "                        [{\"line\": {\"color\": \"rgba(255, 153, 51, 1.0)\", \"dash\": \"solid\", \"shape\": \"linear\", \"width\": 1.3}, \"mode\": \"lines\", \"name\": \"A\", \"text\": \"\", \"type\": \"scatter\", \"x\": [0, 1, 2, 3, 4, 5, 6, 7, 8, 9, 10, 11, 12, 13, 14, 15, 16, 17, 18, 19, 20, 21, 22, 23, 24, 25, 26, 27, 28, 29, 30, 31, 32, 33, 34, 35, 36, 37, 38, 39, 40, 41, 42, 43, 44, 45, 46, 47, 48, 49, 50, 51, 52, 53, 54, 55, 56, 57, 58, 59, 60, 61, 62, 63, 64, 65, 66, 67, 68, 69, 70, 71, 72, 73, 74, 75, 76, 77, 78, 79, 80, 81, 82, 83, 84, 85, 86, 87, 88, 89, 90, 91, 92, 93, 94, 95, 96, 97, 98, 99], \"y\": [-0.4400399649717887, -0.3595613077728515, 1.873406826294262, 0.38969186783380566, -0.022267424723130477, 0.43504747311291625, 0.2554983804257713, -0.43489588798704, 1.3426244457395577, -0.48428219422439583, 1.2792534848487378, -0.33430267928447205, -0.05871625452323227, -1.4641294945567087, 0.6879170405939331, -0.5789676388980899, 0.4834159267743571, 0.7888288795843491, 0.3323842082460313, -0.500455046491514, 1.1349638922438667, 0.0648394026874129, -1.8369173628695823, -1.364696374259146, -0.23163879310313643, 0.44184120624887646, -0.008754529905923444, -0.8468384671871605, -1.7609159005214712, -0.8906016871681184, 0.0014061404898391655, -0.8273110356202099, -1.4469547151441569, 1.130716065259019, 1.8385150812690811, 1.4480020373494882, -0.7299993682456137, 0.7084053880561713, -1.9574977231406003, 1.3225294983535072, 0.4604816538773025, 0.5978851424936994, -0.029798002575205002, 2.4444818990726014, 0.23121109999846337, 0.39411414563714564, 1.424994271543353, -1.0108760588569032, -0.20433405466852314, -0.5930604286487997, -0.17345914350442432, -1.5383599521702267, 1.9870464339271097, -0.9572961564127893, 0.2736969217055384, -0.14260090164422665, 0.5639127289263197, -1.2416397081029351, -1.0359339740593136, 0.49857507285146657, -1.2100830662432491, 1.0950061628189116, 1.8846659520987912, -1.7878728745495034, 0.28857746221554864, -1.4088943816655852, -1.2087136735183925, 1.2778115772660252, 1.6546599214910305, -0.7462906107026152, -0.9209903093715155, 0.23517131057492602, -1.3162249191278517, 0.8134368199054091, -0.0374560977698149, -0.9081747971850014, 0.3002608454591211, -1.9056226453352814, 0.4297281861337904, -0.5789872115675557, 0.21575296332290184, 1.5659208168241434, -0.5014118806704894, -0.36063540909619, -1.6235631621904136, 0.20410868074437, -0.9931668727532835, 0.24227106624572672, -1.4183421552714632, -2.4218648828227294, 0.24063590836634863, -0.721590758122123, -0.29554997751728773, -0.723704077745416, -0.6669451077956237, -2.1012240102699056, -0.47528546735939825, 0.9874550770448093, -1.0165171112904952, -0.6352140298009604]}, {\"line\": {\"color\": \"rgba(55, 128, 191, 1.0)\", \"dash\": \"solid\", \"shape\": \"linear\", \"width\": 1.3}, \"mode\": \"lines\", \"name\": \"B\", \"text\": \"\", \"type\": \"scatter\", \"x\": [0, 1, 2, 3, 4, 5, 6, 7, 8, 9, 10, 11, 12, 13, 14, 15, 16, 17, 18, 19, 20, 21, 22, 23, 24, 25, 26, 27, 28, 29, 30, 31, 32, 33, 34, 35, 36, 37, 38, 39, 40, 41, 42, 43, 44, 45, 46, 47, 48, 49, 50, 51, 52, 53, 54, 55, 56, 57, 58, 59, 60, 61, 62, 63, 64, 65, 66, 67, 68, 69, 70, 71, 72, 73, 74, 75, 76, 77, 78, 79, 80, 81, 82, 83, 84, 85, 86, 87, 88, 89, 90, 91, 92, 93, 94, 95, 96, 97, 98, 99], \"y\": [0.005253742579835973, 0.7716277501844138, -1.3400305920631033, 0.8318700917157779, 2.240199667702425, -0.22292209976958163, -0.21705185991763193, -0.7393949298922802, -0.3067156431895187, 0.3828707180093922, 2.1967246063897288, -0.02905384790058943, 0.23135537214505922, -1.8585285444240034, 1.5382087491369076, 2.0203249946759017, -0.10883618494234559, 0.5586990172547254, -0.5173941777182314, 0.6493323533920731, 0.5779378136248604, 1.1086260382106041, 0.04515298529579711, 1.8669147038799583, -1.081982530900694, 0.34588203934046, -0.6738517290892458, 0.5307011208620993, -0.2890152225836287, -1.0968014185406156, 0.0069997093709019825, 1.0096161393672936, -0.11999388042626354, -0.9846719383735099, 2.1550176489971897, -0.0862558055942889, -0.6472715416910069, 2.638125871089636, 1.1062598580697107, -0.17386800601023839, -2.035440917897416, -0.3238816966370988, -0.9241586801488743, 0.28270061840290656, -1.2936177268615774, -1.653251938555071, 0.16674799397119405, -0.2662948634241881, 0.08036384060337945, 1.0983462697803852, 0.3509552047370613, -0.43682665169660967, -1.3827744606669374, 0.4738958851556978, -1.1325269214747788, -0.648548134378684, -0.23004881722647422, 1.868850040978546, -0.07655085017094414, -1.406890502921777, -1.065453004451698, 0.5349288988151877, 1.3773373978807573, 0.5867444979295666, 0.8620421567209805, 0.02407766005255767, -0.24521601213683414, 0.048430437282934974, -1.7974755498952042, -1.2740596900069847, 0.1877725087100248, -0.4093879315825059, 0.5824620905697605, -0.799413254250628, 2.6027632503644575, -1.563154453440586, -0.9213031507408195, 0.07979897204686634, -0.9906227712393095, 0.7259471437511759, 0.13646236887374574, -0.5901089050824726, 0.4830250607805121, 0.07045911603626373, -1.0395461897361091, 0.159846520137536, 1.0109455233378781, 0.15754580369888657, -0.10428812849781907, 0.8880653905779591, -0.2091950350731277, -1.5960364240674625, -0.7720547303970756, 1.4142597808980752, 0.253057761265195, 2.096759738915302, -0.49800753714594564, 2.205377221396586, 0.7549940575074778, 0.03171008771101023]}, {\"line\": {\"color\": \"rgba(50, 171, 96, 1.0)\", \"dash\": \"solid\", \"shape\": \"linear\", \"width\": 1.3}, \"mode\": \"lines\", \"name\": \"C\", \"text\": \"\", \"type\": \"scatter\", \"x\": [0, 1, 2, 3, 4, 5, 6, 7, 8, 9, 10, 11, 12, 13, 14, 15, 16, 17, 18, 19, 20, 21, 22, 23, 24, 25, 26, 27, 28, 29, 30, 31, 32, 33, 34, 35, 36, 37, 38, 39, 40, 41, 42, 43, 44, 45, 46, 47, 48, 49, 50, 51, 52, 53, 54, 55, 56, 57, 58, 59, 60, 61, 62, 63, 64, 65, 66, 67, 68, 69, 70, 71, 72, 73, 74, 75, 76, 77, 78, 79, 80, 81, 82, 83, 84, 85, 86, 87, 88, 89, 90, 91, 92, 93, 94, 95, 96, 97, 98, 99], \"y\": [-0.059833531115340205, -1.1307586921024038, -1.5170991708405983, 0.1160808301074496, -0.12443331309427426, 1.2676305263539098, -1.6463008113069764, 1.0704509382146838, -1.2047255156083325, -0.6037064891403543, -0.7475201631838689, -1.1744669027475887, 0.48030262284316644, 0.9098214135560966, -1.5993906133446323, 0.4197640743888284, -0.2149301619105147, -0.17314106369777055, 0.028213515702107568, -0.18534379249626168, 0.3151620624222115, 0.9543056213143404, 1.5883852349755774, -0.12240271652122195, -0.5270291517043504, 0.4864170800204461, 0.8562578232246958, -1.6797894688423038, -0.9467473139214349, -0.7997157670107652, 0.10001814984347672, 1.7828893670975494, 0.7031607462574542, 0.010171140660643115, -0.40167286790753254, -0.022713288502423733, -1.2176710880508304, 2.069515328450902, -0.4091616095882992, -0.0215929308246728, 0.5974480325520253, -1.2983711082734464, -0.8769517606723604, 0.43442891150441015, -0.6944095639989479, 4.032736790835397, -0.5183645416258648, -0.35214783613094147, 0.4283182689039598, -1.2825855564049675, 2.042810376896394, 0.8363617075024146, -0.24996803048593447, -0.7249052202412539, 1.0659431873725955, 0.11999074219720175, -2.6225097483783832, -0.9306985386490227, 0.6149332485969911, -1.135900314950092, 0.38599838131658937, -0.08306721638522246, 1.6228039601371533, -0.07772711618525334, 1.3298450092271772, -0.05050903008593878, 1.8652974639279727, -0.2665584107205339, 0.3849658987096003, -0.15359569461542186, 1.8237622467376262, 0.3661468059331742, -2.916564206650955, 0.3972639089615204, 0.008198659931431334, -1.5760208632854669, -0.8030979407843182, 0.35268724922940176, -0.07195584029076904, 0.6332523111960984, -0.053138329815598066, 1.2350429498079165, 0.5319503342878098, -1.6645778363543628, 1.0582342841677217, 0.13758399933343138, 0.028425285203291552, 0.6308990774792219, -0.44371572618825567, -0.03240748373035467, -0.6681543753003671, -0.11092583493554127, -1.3046806089449365, -1.0946605716276787, -1.0221848513838285, 0.029419760269896504, 0.7125106388215899, 0.7110358381773751, 0.2072281455770876, 0.8858439582475902]}, {\"line\": {\"color\": \"rgba(128, 0, 128, 1.0)\", \"dash\": \"solid\", \"shape\": \"linear\", \"width\": 1.3}, \"mode\": \"lines\", \"name\": \"D\", \"text\": \"\", \"type\": \"scatter\", \"x\": [0, 1, 2, 3, 4, 5, 6, 7, 8, 9, 10, 11, 12, 13, 14, 15, 16, 17, 18, 19, 20, 21, 22, 23, 24, 25, 26, 27, 28, 29, 30, 31, 32, 33, 34, 35, 36, 37, 38, 39, 40, 41, 42, 43, 44, 45, 46, 47, 48, 49, 50, 51, 52, 53, 54, 55, 56, 57, 58, 59, 60, 61, 62, 63, 64, 65, 66, 67, 68, 69, 70, 71, 72, 73, 74, 75, 76, 77, 78, 79, 80, 81, 82, 83, 84, 85, 86, 87, 88, 89, 90, 91, 92, 93, 94, 95, 96, 97, 98, 99], \"y\": [-0.048438637774105314, -0.7819332955743884, -0.3801495953586696, 0.09272418733206131, 0.7808245571391312, 0.5292232251316453, 0.7274627743044587, -0.39748388296073767, 0.33351628234173764, 1.4353874488035603, -0.6416122676165328, -0.21624374030643773, -0.18262892551164203, 1.4320690617186551, 0.7522520439339312, -0.22238280208314654, -0.0024148553404345257, -1.5499752000072256, -1.969076768612912, 1.0340972198392024, 0.580563689799276, 1.4587509308564321, -0.7825285048922617, 0.16942465775404666, 0.6580084266340505, 0.9721824509859225, -0.9114882246177496, 0.4611795445753822, 0.7117293714633903, 1.0491048103930758, 0.8913969800869878, 0.8974951904504173, -1.8467424551374227, 1.2907662114214729, -2.459928488972569, -0.7628256803186014, -1.1986338915846038, 0.8409660087997013, 0.39053277181916746, 0.3537879516964365, -0.19827400142084714, 2.45078684667432, 0.39339632744919706, 1.2959445775725915, 1.55742033037734, 0.15903677031659075, 0.8301172205354383, 0.07725869797638997, -0.8540182591131804, -0.4997019785406598, 1.2306188176947799, 1.0920997473503868, -1.4925144990722459, -0.637145097678531, 0.6605694198821305, -0.2817495373297371, -0.8375067117343374, -0.49206741167074847, -0.7726679333091742, -0.25396873345375925, 0.9369327122811331, 0.11446557309415974, 0.557350214273498, -1.9565685423533479, -1.5931447014695428, 0.42898871597828225, -0.13836267817067688, 0.1740860135897892, -0.8150969593659615, 0.3098140820911925, 1.5856448102666456, -2.1520243724874897, -1.7069881134059737, 0.6700740038384747, -1.2851453720497432, 0.6364030819540974, -0.6728078005632903, -0.541035384971853, 0.48763875357064984, 1.091767088668557, 1.109686796001412, -0.8621987749294595, -0.6507530256151302, 0.485891682406828, 1.4384870607912152, -1.2671510033372553, 1.4909740801643505, -0.8486207628250105, -0.32893116836800396, -0.06685992986459374, -0.038509021919391075, 1.39546176696491, -0.15091955130675058, 1.0986346044800837, 0.025414523902503757, 1.26850959258467, 0.4458738876443096, 0.9496227170696862, -0.561925735762768, -0.5181977558854044]}],\n",
       "                        {\"legend\": {\"bgcolor\": \"#F5F6F9\", \"font\": {\"color\": \"#4D5663\"}}, \"paper_bgcolor\": \"#F5F6F9\", \"plot_bgcolor\": \"#F5F6F9\", \"template\": {\"data\": {\"bar\": [{\"error_x\": {\"color\": \"#2a3f5f\"}, \"error_y\": {\"color\": \"#2a3f5f\"}, \"marker\": {\"line\": {\"color\": \"#E5ECF6\", \"width\": 0.5}}, \"type\": \"bar\"}], \"barpolar\": [{\"marker\": {\"line\": {\"color\": \"#E5ECF6\", \"width\": 0.5}}, \"type\": \"barpolar\"}], \"carpet\": [{\"aaxis\": {\"endlinecolor\": \"#2a3f5f\", \"gridcolor\": \"white\", \"linecolor\": \"white\", \"minorgridcolor\": \"white\", \"startlinecolor\": \"#2a3f5f\"}, \"baxis\": {\"endlinecolor\": \"#2a3f5f\", \"gridcolor\": \"white\", \"linecolor\": \"white\", \"minorgridcolor\": \"white\", \"startlinecolor\": \"#2a3f5f\"}, \"type\": \"carpet\"}], \"choropleth\": [{\"colorbar\": {\"outlinewidth\": 0, \"ticks\": \"\"}, \"type\": \"choropleth\"}], \"contour\": [{\"colorbar\": {\"outlinewidth\": 0, \"ticks\": \"\"}, \"colorscale\": [[0.0, \"#0d0887\"], [0.1111111111111111, \"#46039f\"], [0.2222222222222222, \"#7201a8\"], [0.3333333333333333, \"#9c179e\"], [0.4444444444444444, \"#bd3786\"], [0.5555555555555556, \"#d8576b\"], [0.6666666666666666, \"#ed7953\"], [0.7777777777777778, \"#fb9f3a\"], [0.8888888888888888, \"#fdca26\"], [1.0, \"#f0f921\"]], \"type\": \"contour\"}], \"contourcarpet\": [{\"colorbar\": {\"outlinewidth\": 0, \"ticks\": \"\"}, \"type\": \"contourcarpet\"}], \"heatmap\": [{\"colorbar\": {\"outlinewidth\": 0, \"ticks\": \"\"}, \"colorscale\": [[0.0, \"#0d0887\"], [0.1111111111111111, \"#46039f\"], [0.2222222222222222, \"#7201a8\"], [0.3333333333333333, \"#9c179e\"], [0.4444444444444444, \"#bd3786\"], [0.5555555555555556, \"#d8576b\"], [0.6666666666666666, \"#ed7953\"], [0.7777777777777778, \"#fb9f3a\"], [0.8888888888888888, \"#fdca26\"], [1.0, \"#f0f921\"]], \"type\": \"heatmap\"}], \"heatmapgl\": [{\"colorbar\": {\"outlinewidth\": 0, \"ticks\": \"\"}, \"colorscale\": [[0.0, \"#0d0887\"], [0.1111111111111111, \"#46039f\"], [0.2222222222222222, \"#7201a8\"], [0.3333333333333333, \"#9c179e\"], [0.4444444444444444, \"#bd3786\"], [0.5555555555555556, \"#d8576b\"], [0.6666666666666666, \"#ed7953\"], [0.7777777777777778, \"#fb9f3a\"], [0.8888888888888888, \"#fdca26\"], [1.0, \"#f0f921\"]], \"type\": \"heatmapgl\"}], \"histogram\": [{\"marker\": {\"colorbar\": {\"outlinewidth\": 0, \"ticks\": \"\"}}, \"type\": \"histogram\"}], \"histogram2d\": [{\"colorbar\": {\"outlinewidth\": 0, \"ticks\": \"\"}, \"colorscale\": [[0.0, \"#0d0887\"], [0.1111111111111111, \"#46039f\"], [0.2222222222222222, \"#7201a8\"], [0.3333333333333333, \"#9c179e\"], [0.4444444444444444, \"#bd3786\"], [0.5555555555555556, \"#d8576b\"], [0.6666666666666666, \"#ed7953\"], [0.7777777777777778, \"#fb9f3a\"], [0.8888888888888888, \"#fdca26\"], [1.0, \"#f0f921\"]], \"type\": \"histogram2d\"}], \"histogram2dcontour\": [{\"colorbar\": {\"outlinewidth\": 0, \"ticks\": \"\"}, \"colorscale\": [[0.0, \"#0d0887\"], [0.1111111111111111, \"#46039f\"], [0.2222222222222222, \"#7201a8\"], [0.3333333333333333, \"#9c179e\"], [0.4444444444444444, \"#bd3786\"], [0.5555555555555556, \"#d8576b\"], [0.6666666666666666, \"#ed7953\"], [0.7777777777777778, \"#fb9f3a\"], [0.8888888888888888, \"#fdca26\"], [1.0, \"#f0f921\"]], \"type\": \"histogram2dcontour\"}], \"mesh3d\": [{\"colorbar\": {\"outlinewidth\": 0, \"ticks\": \"\"}, \"type\": \"mesh3d\"}], \"parcoords\": [{\"line\": {\"colorbar\": {\"outlinewidth\": 0, \"ticks\": \"\"}}, \"type\": \"parcoords\"}], \"pie\": [{\"automargin\": true, \"type\": \"pie\"}], \"scatter\": [{\"marker\": {\"colorbar\": {\"outlinewidth\": 0, \"ticks\": \"\"}}, \"type\": \"scatter\"}], \"scatter3d\": [{\"line\": {\"colorbar\": {\"outlinewidth\": 0, \"ticks\": \"\"}}, \"marker\": {\"colorbar\": {\"outlinewidth\": 0, \"ticks\": \"\"}}, \"type\": \"scatter3d\"}], \"scattercarpet\": [{\"marker\": {\"colorbar\": {\"outlinewidth\": 0, \"ticks\": \"\"}}, \"type\": \"scattercarpet\"}], \"scattergeo\": [{\"marker\": {\"colorbar\": {\"outlinewidth\": 0, \"ticks\": \"\"}}, \"type\": \"scattergeo\"}], \"scattergl\": [{\"marker\": {\"colorbar\": {\"outlinewidth\": 0, \"ticks\": \"\"}}, \"type\": \"scattergl\"}], \"scattermapbox\": [{\"marker\": {\"colorbar\": {\"outlinewidth\": 0, \"ticks\": \"\"}}, \"type\": \"scattermapbox\"}], \"scatterpolar\": [{\"marker\": {\"colorbar\": {\"outlinewidth\": 0, \"ticks\": \"\"}}, \"type\": \"scatterpolar\"}], \"scatterpolargl\": [{\"marker\": {\"colorbar\": {\"outlinewidth\": 0, \"ticks\": \"\"}}, \"type\": \"scatterpolargl\"}], \"scatterternary\": [{\"marker\": {\"colorbar\": {\"outlinewidth\": 0, \"ticks\": \"\"}}, \"type\": \"scatterternary\"}], \"surface\": [{\"colorbar\": {\"outlinewidth\": 0, \"ticks\": \"\"}, \"colorscale\": [[0.0, \"#0d0887\"], [0.1111111111111111, \"#46039f\"], [0.2222222222222222, \"#7201a8\"], [0.3333333333333333, \"#9c179e\"], [0.4444444444444444, \"#bd3786\"], [0.5555555555555556, \"#d8576b\"], [0.6666666666666666, \"#ed7953\"], [0.7777777777777778, \"#fb9f3a\"], [0.8888888888888888, \"#fdca26\"], [1.0, \"#f0f921\"]], \"type\": \"surface\"}], \"table\": [{\"cells\": {\"fill\": {\"color\": \"#EBF0F8\"}, \"line\": {\"color\": \"white\"}}, \"header\": {\"fill\": {\"color\": \"#C8D4E3\"}, \"line\": {\"color\": \"white\"}}, \"type\": \"table\"}]}, \"layout\": {\"annotationdefaults\": {\"arrowcolor\": \"#2a3f5f\", \"arrowhead\": 0, \"arrowwidth\": 1}, \"coloraxis\": {\"colorbar\": {\"outlinewidth\": 0, \"ticks\": \"\"}}, \"colorscale\": {\"diverging\": [[0, \"#8e0152\"], [0.1, \"#c51b7d\"], [0.2, \"#de77ae\"], [0.3, \"#f1b6da\"], [0.4, \"#fde0ef\"], [0.5, \"#f7f7f7\"], [0.6, \"#e6f5d0\"], [0.7, \"#b8e186\"], [0.8, \"#7fbc41\"], [0.9, \"#4d9221\"], [1, \"#276419\"]], \"sequential\": [[0.0, \"#0d0887\"], [0.1111111111111111, \"#46039f\"], [0.2222222222222222, \"#7201a8\"], [0.3333333333333333, \"#9c179e\"], [0.4444444444444444, \"#bd3786\"], [0.5555555555555556, \"#d8576b\"], [0.6666666666666666, \"#ed7953\"], [0.7777777777777778, \"#fb9f3a\"], [0.8888888888888888, \"#fdca26\"], [1.0, \"#f0f921\"]], \"sequentialminus\": [[0.0, \"#0d0887\"], [0.1111111111111111, \"#46039f\"], [0.2222222222222222, \"#7201a8\"], [0.3333333333333333, \"#9c179e\"], [0.4444444444444444, \"#bd3786\"], [0.5555555555555556, \"#d8576b\"], [0.6666666666666666, \"#ed7953\"], [0.7777777777777778, \"#fb9f3a\"], [0.8888888888888888, \"#fdca26\"], [1.0, \"#f0f921\"]]}, \"colorway\": [\"#636efa\", \"#EF553B\", \"#00cc96\", \"#ab63fa\", \"#FFA15A\", \"#19d3f3\", \"#FF6692\", \"#B6E880\", \"#FF97FF\", \"#FECB52\"], \"font\": {\"color\": \"#2a3f5f\"}, \"geo\": {\"bgcolor\": \"white\", \"lakecolor\": \"white\", \"landcolor\": \"#E5ECF6\", \"showlakes\": true, \"showland\": true, \"subunitcolor\": \"white\"}, \"hoverlabel\": {\"align\": \"left\"}, \"hovermode\": \"closest\", \"mapbox\": {\"style\": \"light\"}, \"paper_bgcolor\": \"white\", \"plot_bgcolor\": \"#E5ECF6\", \"polar\": {\"angularaxis\": {\"gridcolor\": \"white\", \"linecolor\": \"white\", \"ticks\": \"\"}, \"bgcolor\": \"#E5ECF6\", \"radialaxis\": {\"gridcolor\": \"white\", \"linecolor\": \"white\", \"ticks\": \"\"}}, \"scene\": {\"xaxis\": {\"backgroundcolor\": \"#E5ECF6\", \"gridcolor\": \"white\", \"gridwidth\": 2, \"linecolor\": \"white\", \"showbackground\": true, \"ticks\": \"\", \"zerolinecolor\": \"white\"}, \"yaxis\": {\"backgroundcolor\": \"#E5ECF6\", \"gridcolor\": \"white\", \"gridwidth\": 2, \"linecolor\": \"white\", \"showbackground\": true, \"ticks\": \"\", \"zerolinecolor\": \"white\"}, \"zaxis\": {\"backgroundcolor\": \"#E5ECF6\", \"gridcolor\": \"white\", \"gridwidth\": 2, \"linecolor\": \"white\", \"showbackground\": true, \"ticks\": \"\", \"zerolinecolor\": \"white\"}}, \"shapedefaults\": {\"line\": {\"color\": \"#2a3f5f\"}}, \"ternary\": {\"aaxis\": {\"gridcolor\": \"white\", \"linecolor\": \"white\", \"ticks\": \"\"}, \"baxis\": {\"gridcolor\": \"white\", \"linecolor\": \"white\", \"ticks\": \"\"}, \"bgcolor\": \"#E5ECF6\", \"caxis\": {\"gridcolor\": \"white\", \"linecolor\": \"white\", \"ticks\": \"\"}}, \"title\": {\"x\": 0.05}, \"xaxis\": {\"automargin\": true, \"gridcolor\": \"white\", \"linecolor\": \"white\", \"ticks\": \"\", \"title\": {\"standoff\": 15}, \"zerolinecolor\": \"white\", \"zerolinewidth\": 2}, \"yaxis\": {\"automargin\": true, \"gridcolor\": \"white\", \"linecolor\": \"white\", \"ticks\": \"\", \"title\": {\"standoff\": 15}, \"zerolinecolor\": \"white\", \"zerolinewidth\": 2}}}, \"title\": {\"font\": {\"color\": \"#4D5663\"}}, \"xaxis\": {\"gridcolor\": \"#E1E5ED\", \"showgrid\": true, \"tickfont\": {\"color\": \"#4D5663\"}, \"title\": {\"font\": {\"color\": \"#4D5663\"}, \"text\": \"\"}, \"zerolinecolor\": \"#E1E5ED\"}, \"yaxis\": {\"gridcolor\": \"#E1E5ED\", \"showgrid\": true, \"tickfont\": {\"color\": \"#4D5663\"}, \"title\": {\"font\": {\"color\": \"#4D5663\"}, \"text\": \"\"}, \"zerolinecolor\": \"#E1E5ED\"}},\n",
       "                        {\"showLink\": true, \"linkText\": \"Export to plot.ly\", \"plotlyServerURL\": \"https://plot.ly\", \"responsive\": true}\n",
       "                    ).then(function(){\n",
       "                            \n",
       "var gd = document.getElementById('51e6f6c1-33c4-4092-b905-9295c769f6ae');\n",
       "var x = new MutationObserver(function (mutations, observer) {{\n",
       "        var display = window.getComputedStyle(gd).display;\n",
       "        if (!display || display === 'none') {{\n",
       "            console.log([gd, 'removed!']);\n",
       "            Plotly.purge(gd);\n",
       "            observer.disconnect();\n",
       "        }}\n",
       "}});\n",
       "\n",
       "// Listen for the removal of the full notebook cells\n",
       "var notebookContainer = gd.closest('#notebook-container');\n",
       "if (notebookContainer) {{\n",
       "    x.observe(notebookContainer, {childList: true});\n",
       "}}\n",
       "\n",
       "// Listen for the clearing of the current output cell\n",
       "var outputEl = gd.closest('.output');\n",
       "if (outputEl) {{\n",
       "    x.observe(outputEl, {childList: true});\n",
       "}}\n",
       "\n",
       "                        })\n",
       "                };\n",
       "                });\n",
       "            </script>\n",
       "        </div>"
      ]
     },
     "metadata": {},
     "output_type": "display_data"
    }
   ],
   "source": [
    "df.iplot()                                                     #interactive plot created"
   ]
  },
  {
   "cell_type": "code",
   "execution_count": 43,
   "metadata": {},
   "outputs": [
    {
     "data": {
      "application/vnd.plotly.v1+json": {
       "config": {
        "linkText": "Export to plot.ly",
        "plotlyServerURL": "https://plot.ly",
        "showLink": true
       },
       "data": [
        {
         "line": {
          "color": "rgba(255, 153, 51, 1.0)",
          "dash": "solid",
          "shape": "linear",
          "width": 1.3
         },
         "marker": {
          "size": 12,
          "symbol": "circle"
         },
         "mode": "markers",
         "name": "D",
         "text": "",
         "type": "scatter",
         "x": [
          0.005253742579835973,
          0.7716277501844138,
          -1.3400305920631033,
          0.8318700917157779,
          2.240199667702425,
          -0.22292209976958163,
          -0.21705185991763193,
          -0.7393949298922802,
          -0.3067156431895187,
          0.3828707180093922,
          2.1967246063897288,
          -0.02905384790058943,
          0.23135537214505922,
          -1.8585285444240034,
          1.5382087491369076,
          2.0203249946759017,
          -0.10883618494234559,
          0.5586990172547254,
          -0.5173941777182314,
          0.6493323533920731,
          0.5779378136248604,
          1.1086260382106041,
          0.04515298529579711,
          1.8669147038799583,
          -1.081982530900694,
          0.34588203934046,
          -0.6738517290892458,
          0.5307011208620993,
          -0.2890152225836287,
          -1.0968014185406156,
          0.0069997093709019825,
          1.0096161393672936,
          -0.11999388042626354,
          -0.9846719383735099,
          2.1550176489971897,
          -0.0862558055942889,
          -0.6472715416910069,
          2.638125871089636,
          1.1062598580697107,
          -0.17386800601023839,
          -2.035440917897416,
          -0.3238816966370988,
          -0.9241586801488743,
          0.28270061840290656,
          -1.2936177268615774,
          -1.653251938555071,
          0.16674799397119405,
          -0.2662948634241881,
          0.08036384060337945,
          1.0983462697803852,
          0.3509552047370613,
          -0.43682665169660967,
          -1.3827744606669374,
          0.4738958851556978,
          -1.1325269214747788,
          -0.648548134378684,
          -0.23004881722647422,
          1.868850040978546,
          -0.07655085017094414,
          -1.406890502921777,
          -1.065453004451698,
          0.5349288988151877,
          1.3773373978807573,
          0.5867444979295666,
          0.8620421567209805,
          0.02407766005255767,
          -0.24521601213683414,
          0.048430437282934974,
          -1.7974755498952042,
          -1.2740596900069847,
          0.1877725087100248,
          -0.4093879315825059,
          0.5824620905697605,
          -0.799413254250628,
          2.6027632503644575,
          -1.563154453440586,
          -0.9213031507408195,
          0.07979897204686634,
          -0.9906227712393095,
          0.7259471437511759,
          0.13646236887374574,
          -0.5901089050824726,
          0.4830250607805121,
          0.07045911603626373,
          -1.0395461897361091,
          0.159846520137536,
          1.0109455233378781,
          0.15754580369888657,
          -0.10428812849781907,
          0.8880653905779591,
          -0.2091950350731277,
          -1.5960364240674625,
          -0.7720547303970756,
          1.4142597808980752,
          0.253057761265195,
          2.096759738915302,
          -0.49800753714594564,
          2.205377221396586,
          0.7549940575074778,
          0.03171008771101023
         ],
         "y": [
          -0.048438637774105314,
          -0.7819332955743884,
          -0.3801495953586696,
          0.09272418733206131,
          0.7808245571391312,
          0.5292232251316453,
          0.7274627743044587,
          -0.39748388296073767,
          0.33351628234173764,
          1.4353874488035603,
          -0.6416122676165328,
          -0.21624374030643773,
          -0.18262892551164203,
          1.4320690617186551,
          0.7522520439339312,
          -0.22238280208314654,
          -0.0024148553404345257,
          -1.5499752000072256,
          -1.969076768612912,
          1.0340972198392024,
          0.580563689799276,
          1.4587509308564321,
          -0.7825285048922617,
          0.16942465775404666,
          0.6580084266340505,
          0.9721824509859225,
          -0.9114882246177496,
          0.4611795445753822,
          0.7117293714633903,
          1.0491048103930758,
          0.8913969800869878,
          0.8974951904504173,
          -1.8467424551374227,
          1.2907662114214729,
          -2.459928488972569,
          -0.7628256803186014,
          -1.1986338915846038,
          0.8409660087997013,
          0.39053277181916746,
          0.3537879516964365,
          -0.19827400142084714,
          2.45078684667432,
          0.39339632744919706,
          1.2959445775725915,
          1.55742033037734,
          0.15903677031659075,
          0.8301172205354383,
          0.07725869797638997,
          -0.8540182591131804,
          -0.4997019785406598,
          1.2306188176947799,
          1.0920997473503868,
          -1.4925144990722459,
          -0.637145097678531,
          0.6605694198821305,
          -0.2817495373297371,
          -0.8375067117343374,
          -0.49206741167074847,
          -0.7726679333091742,
          -0.25396873345375925,
          0.9369327122811331,
          0.11446557309415974,
          0.557350214273498,
          -1.9565685423533479,
          -1.5931447014695428,
          0.42898871597828225,
          -0.13836267817067688,
          0.1740860135897892,
          -0.8150969593659615,
          0.3098140820911925,
          1.5856448102666456,
          -2.1520243724874897,
          -1.7069881134059737,
          0.6700740038384747,
          -1.2851453720497432,
          0.6364030819540974,
          -0.6728078005632903,
          -0.541035384971853,
          0.48763875357064984,
          1.091767088668557,
          1.109686796001412,
          -0.8621987749294595,
          -0.6507530256151302,
          0.485891682406828,
          1.4384870607912152,
          -1.2671510033372553,
          1.4909740801643505,
          -0.8486207628250105,
          -0.32893116836800396,
          -0.06685992986459374,
          -0.038509021919391075,
          1.39546176696491,
          -0.15091955130675058,
          1.0986346044800837,
          0.025414523902503757,
          1.26850959258467,
          0.4458738876443096,
          0.9496227170696862,
          -0.561925735762768,
          -0.5181977558854044
         ]
        }
       ],
       "layout": {
        "legend": {
         "bgcolor": "#F5F6F9",
         "font": {
          "color": "#4D5663"
         }
        },
        "paper_bgcolor": "#F5F6F9",
        "plot_bgcolor": "#F5F6F9",
        "template": {
         "data": {
          "bar": [
           {
            "error_x": {
             "color": "#2a3f5f"
            },
            "error_y": {
             "color": "#2a3f5f"
            },
            "marker": {
             "line": {
              "color": "#E5ECF6",
              "width": 0.5
             }
            },
            "type": "bar"
           }
          ],
          "barpolar": [
           {
            "marker": {
             "line": {
              "color": "#E5ECF6",
              "width": 0.5
             }
            },
            "type": "barpolar"
           }
          ],
          "carpet": [
           {
            "aaxis": {
             "endlinecolor": "#2a3f5f",
             "gridcolor": "white",
             "linecolor": "white",
             "minorgridcolor": "white",
             "startlinecolor": "#2a3f5f"
            },
            "baxis": {
             "endlinecolor": "#2a3f5f",
             "gridcolor": "white",
             "linecolor": "white",
             "minorgridcolor": "white",
             "startlinecolor": "#2a3f5f"
            },
            "type": "carpet"
           }
          ],
          "choropleth": [
           {
            "colorbar": {
             "outlinewidth": 0,
             "ticks": ""
            },
            "type": "choropleth"
           }
          ],
          "contour": [
           {
            "colorbar": {
             "outlinewidth": 0,
             "ticks": ""
            },
            "colorscale": [
             [
              0,
              "#0d0887"
             ],
             [
              0.1111111111111111,
              "#46039f"
             ],
             [
              0.2222222222222222,
              "#7201a8"
             ],
             [
              0.3333333333333333,
              "#9c179e"
             ],
             [
              0.4444444444444444,
              "#bd3786"
             ],
             [
              0.5555555555555556,
              "#d8576b"
             ],
             [
              0.6666666666666666,
              "#ed7953"
             ],
             [
              0.7777777777777778,
              "#fb9f3a"
             ],
             [
              0.8888888888888888,
              "#fdca26"
             ],
             [
              1,
              "#f0f921"
             ]
            ],
            "type": "contour"
           }
          ],
          "contourcarpet": [
           {
            "colorbar": {
             "outlinewidth": 0,
             "ticks": ""
            },
            "type": "contourcarpet"
           }
          ],
          "heatmap": [
           {
            "colorbar": {
             "outlinewidth": 0,
             "ticks": ""
            },
            "colorscale": [
             [
              0,
              "#0d0887"
             ],
             [
              0.1111111111111111,
              "#46039f"
             ],
             [
              0.2222222222222222,
              "#7201a8"
             ],
             [
              0.3333333333333333,
              "#9c179e"
             ],
             [
              0.4444444444444444,
              "#bd3786"
             ],
             [
              0.5555555555555556,
              "#d8576b"
             ],
             [
              0.6666666666666666,
              "#ed7953"
             ],
             [
              0.7777777777777778,
              "#fb9f3a"
             ],
             [
              0.8888888888888888,
              "#fdca26"
             ],
             [
              1,
              "#f0f921"
             ]
            ],
            "type": "heatmap"
           }
          ],
          "heatmapgl": [
           {
            "colorbar": {
             "outlinewidth": 0,
             "ticks": ""
            },
            "colorscale": [
             [
              0,
              "#0d0887"
             ],
             [
              0.1111111111111111,
              "#46039f"
             ],
             [
              0.2222222222222222,
              "#7201a8"
             ],
             [
              0.3333333333333333,
              "#9c179e"
             ],
             [
              0.4444444444444444,
              "#bd3786"
             ],
             [
              0.5555555555555556,
              "#d8576b"
             ],
             [
              0.6666666666666666,
              "#ed7953"
             ],
             [
              0.7777777777777778,
              "#fb9f3a"
             ],
             [
              0.8888888888888888,
              "#fdca26"
             ],
             [
              1,
              "#f0f921"
             ]
            ],
            "type": "heatmapgl"
           }
          ],
          "histogram": [
           {
            "marker": {
             "colorbar": {
              "outlinewidth": 0,
              "ticks": ""
             }
            },
            "type": "histogram"
           }
          ],
          "histogram2d": [
           {
            "colorbar": {
             "outlinewidth": 0,
             "ticks": ""
            },
            "colorscale": [
             [
              0,
              "#0d0887"
             ],
             [
              0.1111111111111111,
              "#46039f"
             ],
             [
              0.2222222222222222,
              "#7201a8"
             ],
             [
              0.3333333333333333,
              "#9c179e"
             ],
             [
              0.4444444444444444,
              "#bd3786"
             ],
             [
              0.5555555555555556,
              "#d8576b"
             ],
             [
              0.6666666666666666,
              "#ed7953"
             ],
             [
              0.7777777777777778,
              "#fb9f3a"
             ],
             [
              0.8888888888888888,
              "#fdca26"
             ],
             [
              1,
              "#f0f921"
             ]
            ],
            "type": "histogram2d"
           }
          ],
          "histogram2dcontour": [
           {
            "colorbar": {
             "outlinewidth": 0,
             "ticks": ""
            },
            "colorscale": [
             [
              0,
              "#0d0887"
             ],
             [
              0.1111111111111111,
              "#46039f"
             ],
             [
              0.2222222222222222,
              "#7201a8"
             ],
             [
              0.3333333333333333,
              "#9c179e"
             ],
             [
              0.4444444444444444,
              "#bd3786"
             ],
             [
              0.5555555555555556,
              "#d8576b"
             ],
             [
              0.6666666666666666,
              "#ed7953"
             ],
             [
              0.7777777777777778,
              "#fb9f3a"
             ],
             [
              0.8888888888888888,
              "#fdca26"
             ],
             [
              1,
              "#f0f921"
             ]
            ],
            "type": "histogram2dcontour"
           }
          ],
          "mesh3d": [
           {
            "colorbar": {
             "outlinewidth": 0,
             "ticks": ""
            },
            "type": "mesh3d"
           }
          ],
          "parcoords": [
           {
            "line": {
             "colorbar": {
              "outlinewidth": 0,
              "ticks": ""
             }
            },
            "type": "parcoords"
           }
          ],
          "pie": [
           {
            "automargin": true,
            "type": "pie"
           }
          ],
          "scatter": [
           {
            "marker": {
             "colorbar": {
              "outlinewidth": 0,
              "ticks": ""
             }
            },
            "type": "scatter"
           }
          ],
          "scatter3d": [
           {
            "line": {
             "colorbar": {
              "outlinewidth": 0,
              "ticks": ""
             }
            },
            "marker": {
             "colorbar": {
              "outlinewidth": 0,
              "ticks": ""
             }
            },
            "type": "scatter3d"
           }
          ],
          "scattercarpet": [
           {
            "marker": {
             "colorbar": {
              "outlinewidth": 0,
              "ticks": ""
             }
            },
            "type": "scattercarpet"
           }
          ],
          "scattergeo": [
           {
            "marker": {
             "colorbar": {
              "outlinewidth": 0,
              "ticks": ""
             }
            },
            "type": "scattergeo"
           }
          ],
          "scattergl": [
           {
            "marker": {
             "colorbar": {
              "outlinewidth": 0,
              "ticks": ""
             }
            },
            "type": "scattergl"
           }
          ],
          "scattermapbox": [
           {
            "marker": {
             "colorbar": {
              "outlinewidth": 0,
              "ticks": ""
             }
            },
            "type": "scattermapbox"
           }
          ],
          "scatterpolar": [
           {
            "marker": {
             "colorbar": {
              "outlinewidth": 0,
              "ticks": ""
             }
            },
            "type": "scatterpolar"
           }
          ],
          "scatterpolargl": [
           {
            "marker": {
             "colorbar": {
              "outlinewidth": 0,
              "ticks": ""
             }
            },
            "type": "scatterpolargl"
           }
          ],
          "scatterternary": [
           {
            "marker": {
             "colorbar": {
              "outlinewidth": 0,
              "ticks": ""
             }
            },
            "type": "scatterternary"
           }
          ],
          "surface": [
           {
            "colorbar": {
             "outlinewidth": 0,
             "ticks": ""
            },
            "colorscale": [
             [
              0,
              "#0d0887"
             ],
             [
              0.1111111111111111,
              "#46039f"
             ],
             [
              0.2222222222222222,
              "#7201a8"
             ],
             [
              0.3333333333333333,
              "#9c179e"
             ],
             [
              0.4444444444444444,
              "#bd3786"
             ],
             [
              0.5555555555555556,
              "#d8576b"
             ],
             [
              0.6666666666666666,
              "#ed7953"
             ],
             [
              0.7777777777777778,
              "#fb9f3a"
             ],
             [
              0.8888888888888888,
              "#fdca26"
             ],
             [
              1,
              "#f0f921"
             ]
            ],
            "type": "surface"
           }
          ],
          "table": [
           {
            "cells": {
             "fill": {
              "color": "#EBF0F8"
             },
             "line": {
              "color": "white"
             }
            },
            "header": {
             "fill": {
              "color": "#C8D4E3"
             },
             "line": {
              "color": "white"
             }
            },
            "type": "table"
           }
          ]
         },
         "layout": {
          "annotationdefaults": {
           "arrowcolor": "#2a3f5f",
           "arrowhead": 0,
           "arrowwidth": 1
          },
          "coloraxis": {
           "colorbar": {
            "outlinewidth": 0,
            "ticks": ""
           }
          },
          "colorscale": {
           "diverging": [
            [
             0,
             "#8e0152"
            ],
            [
             0.1,
             "#c51b7d"
            ],
            [
             0.2,
             "#de77ae"
            ],
            [
             0.3,
             "#f1b6da"
            ],
            [
             0.4,
             "#fde0ef"
            ],
            [
             0.5,
             "#f7f7f7"
            ],
            [
             0.6,
             "#e6f5d0"
            ],
            [
             0.7,
             "#b8e186"
            ],
            [
             0.8,
             "#7fbc41"
            ],
            [
             0.9,
             "#4d9221"
            ],
            [
             1,
             "#276419"
            ]
           ],
           "sequential": [
            [
             0,
             "#0d0887"
            ],
            [
             0.1111111111111111,
             "#46039f"
            ],
            [
             0.2222222222222222,
             "#7201a8"
            ],
            [
             0.3333333333333333,
             "#9c179e"
            ],
            [
             0.4444444444444444,
             "#bd3786"
            ],
            [
             0.5555555555555556,
             "#d8576b"
            ],
            [
             0.6666666666666666,
             "#ed7953"
            ],
            [
             0.7777777777777778,
             "#fb9f3a"
            ],
            [
             0.8888888888888888,
             "#fdca26"
            ],
            [
             1,
             "#f0f921"
            ]
           ],
           "sequentialminus": [
            [
             0,
             "#0d0887"
            ],
            [
             0.1111111111111111,
             "#46039f"
            ],
            [
             0.2222222222222222,
             "#7201a8"
            ],
            [
             0.3333333333333333,
             "#9c179e"
            ],
            [
             0.4444444444444444,
             "#bd3786"
            ],
            [
             0.5555555555555556,
             "#d8576b"
            ],
            [
             0.6666666666666666,
             "#ed7953"
            ],
            [
             0.7777777777777778,
             "#fb9f3a"
            ],
            [
             0.8888888888888888,
             "#fdca26"
            ],
            [
             1,
             "#f0f921"
            ]
           ]
          },
          "colorway": [
           "#636efa",
           "#EF553B",
           "#00cc96",
           "#ab63fa",
           "#FFA15A",
           "#19d3f3",
           "#FF6692",
           "#B6E880",
           "#FF97FF",
           "#FECB52"
          ],
          "font": {
           "color": "#2a3f5f"
          },
          "geo": {
           "bgcolor": "white",
           "lakecolor": "white",
           "landcolor": "#E5ECF6",
           "showlakes": true,
           "showland": true,
           "subunitcolor": "white"
          },
          "hoverlabel": {
           "align": "left"
          },
          "hovermode": "closest",
          "mapbox": {
           "style": "light"
          },
          "paper_bgcolor": "white",
          "plot_bgcolor": "#E5ECF6",
          "polar": {
           "angularaxis": {
            "gridcolor": "white",
            "linecolor": "white",
            "ticks": ""
           },
           "bgcolor": "#E5ECF6",
           "radialaxis": {
            "gridcolor": "white",
            "linecolor": "white",
            "ticks": ""
           }
          },
          "scene": {
           "xaxis": {
            "backgroundcolor": "#E5ECF6",
            "gridcolor": "white",
            "gridwidth": 2,
            "linecolor": "white",
            "showbackground": true,
            "ticks": "",
            "zerolinecolor": "white"
           },
           "yaxis": {
            "backgroundcolor": "#E5ECF6",
            "gridcolor": "white",
            "gridwidth": 2,
            "linecolor": "white",
            "showbackground": true,
            "ticks": "",
            "zerolinecolor": "white"
           },
           "zaxis": {
            "backgroundcolor": "#E5ECF6",
            "gridcolor": "white",
            "gridwidth": 2,
            "linecolor": "white",
            "showbackground": true,
            "ticks": "",
            "zerolinecolor": "white"
           }
          },
          "shapedefaults": {
           "line": {
            "color": "#2a3f5f"
           }
          },
          "ternary": {
           "aaxis": {
            "gridcolor": "white",
            "linecolor": "white",
            "ticks": ""
           },
           "baxis": {
            "gridcolor": "white",
            "linecolor": "white",
            "ticks": ""
           },
           "bgcolor": "#E5ECF6",
           "caxis": {
            "gridcolor": "white",
            "linecolor": "white",
            "ticks": ""
           }
          },
          "title": {
           "x": 0.05
          },
          "xaxis": {
           "automargin": true,
           "gridcolor": "white",
           "linecolor": "white",
           "ticks": "",
           "title": {
            "standoff": 15
           },
           "zerolinecolor": "white",
           "zerolinewidth": 2
          },
          "yaxis": {
           "automargin": true,
           "gridcolor": "white",
           "linecolor": "white",
           "ticks": "",
           "title": {
            "standoff": 15
           },
           "zerolinecolor": "white",
           "zerolinewidth": 2
          }
         }
        },
        "title": {
         "font": {
          "color": "#4D5663"
         }
        },
        "xaxis": {
         "gridcolor": "#E1E5ED",
         "showgrid": true,
         "tickfont": {
          "color": "#4D5663"
         },
         "title": {
          "font": {
           "color": "#4D5663"
          },
          "text": ""
         },
         "zerolinecolor": "#E1E5ED"
        },
        "yaxis": {
         "gridcolor": "#E1E5ED",
         "showgrid": true,
         "tickfont": {
          "color": "#4D5663"
         },
         "title": {
          "font": {
           "color": "#4D5663"
          },
          "text": ""
         },
         "zerolinecolor": "#E1E5ED"
        }
       }
      },
      "text/html": [
       "<div>\n",
       "        \n",
       "        \n",
       "            <div id=\"c7c1b4f6-72a2-4c60-97f4-51fa152892f2\" class=\"plotly-graph-div\" style=\"height:525px; width:100%;\"></div>\n",
       "            <script type=\"text/javascript\">\n",
       "                require([\"plotly\"], function(Plotly) {\n",
       "                    window.PLOTLYENV=window.PLOTLYENV || {};\n",
       "                    window.PLOTLYENV.BASE_URL='https://plot.ly';\n",
       "                    \n",
       "                if (document.getElementById(\"c7c1b4f6-72a2-4c60-97f4-51fa152892f2\")) {\n",
       "                    Plotly.newPlot(\n",
       "                        'c7c1b4f6-72a2-4c60-97f4-51fa152892f2',\n",
       "                        [{\"line\": {\"color\": \"rgba(255, 153, 51, 1.0)\", \"dash\": \"solid\", \"shape\": \"linear\", \"width\": 1.3}, \"marker\": {\"size\": 12, \"symbol\": \"circle\"}, \"mode\": \"markers\", \"name\": \"D\", \"text\": \"\", \"type\": \"scatter\", \"x\": [0.005253742579835973, 0.7716277501844138, -1.3400305920631033, 0.8318700917157779, 2.240199667702425, -0.22292209976958163, -0.21705185991763193, -0.7393949298922802, -0.3067156431895187, 0.3828707180093922, 2.1967246063897288, -0.02905384790058943, 0.23135537214505922, -1.8585285444240034, 1.5382087491369076, 2.0203249946759017, -0.10883618494234559, 0.5586990172547254, -0.5173941777182314, 0.6493323533920731, 0.5779378136248604, 1.1086260382106041, 0.04515298529579711, 1.8669147038799583, -1.081982530900694, 0.34588203934046, -0.6738517290892458, 0.5307011208620993, -0.2890152225836287, -1.0968014185406156, 0.0069997093709019825, 1.0096161393672936, -0.11999388042626354, -0.9846719383735099, 2.1550176489971897, -0.0862558055942889, -0.6472715416910069, 2.638125871089636, 1.1062598580697107, -0.17386800601023839, -2.035440917897416, -0.3238816966370988, -0.9241586801488743, 0.28270061840290656, -1.2936177268615774, -1.653251938555071, 0.16674799397119405, -0.2662948634241881, 0.08036384060337945, 1.0983462697803852, 0.3509552047370613, -0.43682665169660967, -1.3827744606669374, 0.4738958851556978, -1.1325269214747788, -0.648548134378684, -0.23004881722647422, 1.868850040978546, -0.07655085017094414, -1.406890502921777, -1.065453004451698, 0.5349288988151877, 1.3773373978807573, 0.5867444979295666, 0.8620421567209805, 0.02407766005255767, -0.24521601213683414, 0.048430437282934974, -1.7974755498952042, -1.2740596900069847, 0.1877725087100248, -0.4093879315825059, 0.5824620905697605, -0.799413254250628, 2.6027632503644575, -1.563154453440586, -0.9213031507408195, 0.07979897204686634, -0.9906227712393095, 0.7259471437511759, 0.13646236887374574, -0.5901089050824726, 0.4830250607805121, 0.07045911603626373, -1.0395461897361091, 0.159846520137536, 1.0109455233378781, 0.15754580369888657, -0.10428812849781907, 0.8880653905779591, -0.2091950350731277, -1.5960364240674625, -0.7720547303970756, 1.4142597808980752, 0.253057761265195, 2.096759738915302, -0.49800753714594564, 2.205377221396586, 0.7549940575074778, 0.03171008771101023], \"y\": [-0.048438637774105314, -0.7819332955743884, -0.3801495953586696, 0.09272418733206131, 0.7808245571391312, 0.5292232251316453, 0.7274627743044587, -0.39748388296073767, 0.33351628234173764, 1.4353874488035603, -0.6416122676165328, -0.21624374030643773, -0.18262892551164203, 1.4320690617186551, 0.7522520439339312, -0.22238280208314654, -0.0024148553404345257, -1.5499752000072256, -1.969076768612912, 1.0340972198392024, 0.580563689799276, 1.4587509308564321, -0.7825285048922617, 0.16942465775404666, 0.6580084266340505, 0.9721824509859225, -0.9114882246177496, 0.4611795445753822, 0.7117293714633903, 1.0491048103930758, 0.8913969800869878, 0.8974951904504173, -1.8467424551374227, 1.2907662114214729, -2.459928488972569, -0.7628256803186014, -1.1986338915846038, 0.8409660087997013, 0.39053277181916746, 0.3537879516964365, -0.19827400142084714, 2.45078684667432, 0.39339632744919706, 1.2959445775725915, 1.55742033037734, 0.15903677031659075, 0.8301172205354383, 0.07725869797638997, -0.8540182591131804, -0.4997019785406598, 1.2306188176947799, 1.0920997473503868, -1.4925144990722459, -0.637145097678531, 0.6605694198821305, -0.2817495373297371, -0.8375067117343374, -0.49206741167074847, -0.7726679333091742, -0.25396873345375925, 0.9369327122811331, 0.11446557309415974, 0.557350214273498, -1.9565685423533479, -1.5931447014695428, 0.42898871597828225, -0.13836267817067688, 0.1740860135897892, -0.8150969593659615, 0.3098140820911925, 1.5856448102666456, -2.1520243724874897, -1.7069881134059737, 0.6700740038384747, -1.2851453720497432, 0.6364030819540974, -0.6728078005632903, -0.541035384971853, 0.48763875357064984, 1.091767088668557, 1.109686796001412, -0.8621987749294595, -0.6507530256151302, 0.485891682406828, 1.4384870607912152, -1.2671510033372553, 1.4909740801643505, -0.8486207628250105, -0.32893116836800396, -0.06685992986459374, -0.038509021919391075, 1.39546176696491, -0.15091955130675058, 1.0986346044800837, 0.025414523902503757, 1.26850959258467, 0.4458738876443096, 0.9496227170696862, -0.561925735762768, -0.5181977558854044]}],\n",
       "                        {\"legend\": {\"bgcolor\": \"#F5F6F9\", \"font\": {\"color\": \"#4D5663\"}}, \"paper_bgcolor\": \"#F5F6F9\", \"plot_bgcolor\": \"#F5F6F9\", \"template\": {\"data\": {\"bar\": [{\"error_x\": {\"color\": \"#2a3f5f\"}, \"error_y\": {\"color\": \"#2a3f5f\"}, \"marker\": {\"line\": {\"color\": \"#E5ECF6\", \"width\": 0.5}}, \"type\": \"bar\"}], \"barpolar\": [{\"marker\": {\"line\": {\"color\": \"#E5ECF6\", \"width\": 0.5}}, \"type\": \"barpolar\"}], \"carpet\": [{\"aaxis\": {\"endlinecolor\": \"#2a3f5f\", \"gridcolor\": \"white\", \"linecolor\": \"white\", \"minorgridcolor\": \"white\", \"startlinecolor\": \"#2a3f5f\"}, \"baxis\": {\"endlinecolor\": \"#2a3f5f\", \"gridcolor\": \"white\", \"linecolor\": \"white\", \"minorgridcolor\": \"white\", \"startlinecolor\": \"#2a3f5f\"}, \"type\": \"carpet\"}], \"choropleth\": [{\"colorbar\": {\"outlinewidth\": 0, \"ticks\": \"\"}, \"type\": \"choropleth\"}], \"contour\": [{\"colorbar\": {\"outlinewidth\": 0, \"ticks\": \"\"}, \"colorscale\": [[0.0, \"#0d0887\"], [0.1111111111111111, \"#46039f\"], [0.2222222222222222, \"#7201a8\"], [0.3333333333333333, \"#9c179e\"], [0.4444444444444444, \"#bd3786\"], [0.5555555555555556, \"#d8576b\"], [0.6666666666666666, \"#ed7953\"], [0.7777777777777778, \"#fb9f3a\"], [0.8888888888888888, \"#fdca26\"], [1.0, \"#f0f921\"]], \"type\": \"contour\"}], \"contourcarpet\": [{\"colorbar\": {\"outlinewidth\": 0, \"ticks\": \"\"}, \"type\": \"contourcarpet\"}], \"heatmap\": [{\"colorbar\": {\"outlinewidth\": 0, \"ticks\": \"\"}, \"colorscale\": [[0.0, \"#0d0887\"], [0.1111111111111111, \"#46039f\"], [0.2222222222222222, \"#7201a8\"], [0.3333333333333333, \"#9c179e\"], [0.4444444444444444, \"#bd3786\"], [0.5555555555555556, \"#d8576b\"], [0.6666666666666666, \"#ed7953\"], [0.7777777777777778, \"#fb9f3a\"], [0.8888888888888888, \"#fdca26\"], [1.0, \"#f0f921\"]], \"type\": \"heatmap\"}], \"heatmapgl\": [{\"colorbar\": {\"outlinewidth\": 0, \"ticks\": \"\"}, \"colorscale\": [[0.0, \"#0d0887\"], [0.1111111111111111, \"#46039f\"], [0.2222222222222222, \"#7201a8\"], [0.3333333333333333, \"#9c179e\"], [0.4444444444444444, \"#bd3786\"], [0.5555555555555556, \"#d8576b\"], [0.6666666666666666, \"#ed7953\"], [0.7777777777777778, \"#fb9f3a\"], [0.8888888888888888, \"#fdca26\"], [1.0, \"#f0f921\"]], \"type\": \"heatmapgl\"}], \"histogram\": [{\"marker\": {\"colorbar\": {\"outlinewidth\": 0, \"ticks\": \"\"}}, \"type\": \"histogram\"}], \"histogram2d\": [{\"colorbar\": {\"outlinewidth\": 0, \"ticks\": \"\"}, \"colorscale\": [[0.0, \"#0d0887\"], [0.1111111111111111, \"#46039f\"], [0.2222222222222222, \"#7201a8\"], [0.3333333333333333, \"#9c179e\"], [0.4444444444444444, \"#bd3786\"], [0.5555555555555556, \"#d8576b\"], [0.6666666666666666, \"#ed7953\"], [0.7777777777777778, \"#fb9f3a\"], [0.8888888888888888, \"#fdca26\"], [1.0, \"#f0f921\"]], \"type\": \"histogram2d\"}], \"histogram2dcontour\": [{\"colorbar\": {\"outlinewidth\": 0, \"ticks\": \"\"}, \"colorscale\": [[0.0, \"#0d0887\"], [0.1111111111111111, \"#46039f\"], [0.2222222222222222, \"#7201a8\"], [0.3333333333333333, \"#9c179e\"], [0.4444444444444444, \"#bd3786\"], [0.5555555555555556, \"#d8576b\"], [0.6666666666666666, \"#ed7953\"], [0.7777777777777778, \"#fb9f3a\"], [0.8888888888888888, \"#fdca26\"], [1.0, \"#f0f921\"]], \"type\": \"histogram2dcontour\"}], \"mesh3d\": [{\"colorbar\": {\"outlinewidth\": 0, \"ticks\": \"\"}, \"type\": \"mesh3d\"}], \"parcoords\": [{\"line\": {\"colorbar\": {\"outlinewidth\": 0, \"ticks\": \"\"}}, \"type\": \"parcoords\"}], \"pie\": [{\"automargin\": true, \"type\": \"pie\"}], \"scatter\": [{\"marker\": {\"colorbar\": {\"outlinewidth\": 0, \"ticks\": \"\"}}, \"type\": \"scatter\"}], \"scatter3d\": [{\"line\": {\"colorbar\": {\"outlinewidth\": 0, \"ticks\": \"\"}}, \"marker\": {\"colorbar\": {\"outlinewidth\": 0, \"ticks\": \"\"}}, \"type\": \"scatter3d\"}], \"scattercarpet\": [{\"marker\": {\"colorbar\": {\"outlinewidth\": 0, \"ticks\": \"\"}}, \"type\": \"scattercarpet\"}], \"scattergeo\": [{\"marker\": {\"colorbar\": {\"outlinewidth\": 0, \"ticks\": \"\"}}, \"type\": \"scattergeo\"}], \"scattergl\": [{\"marker\": {\"colorbar\": {\"outlinewidth\": 0, \"ticks\": \"\"}}, \"type\": \"scattergl\"}], \"scattermapbox\": [{\"marker\": {\"colorbar\": {\"outlinewidth\": 0, \"ticks\": \"\"}}, \"type\": \"scattermapbox\"}], \"scatterpolar\": [{\"marker\": {\"colorbar\": {\"outlinewidth\": 0, \"ticks\": \"\"}}, \"type\": \"scatterpolar\"}], \"scatterpolargl\": [{\"marker\": {\"colorbar\": {\"outlinewidth\": 0, \"ticks\": \"\"}}, \"type\": \"scatterpolargl\"}], \"scatterternary\": [{\"marker\": {\"colorbar\": {\"outlinewidth\": 0, \"ticks\": \"\"}}, \"type\": \"scatterternary\"}], \"surface\": [{\"colorbar\": {\"outlinewidth\": 0, \"ticks\": \"\"}, \"colorscale\": [[0.0, \"#0d0887\"], [0.1111111111111111, \"#46039f\"], [0.2222222222222222, \"#7201a8\"], [0.3333333333333333, \"#9c179e\"], [0.4444444444444444, \"#bd3786\"], [0.5555555555555556, \"#d8576b\"], [0.6666666666666666, \"#ed7953\"], [0.7777777777777778, \"#fb9f3a\"], [0.8888888888888888, \"#fdca26\"], [1.0, \"#f0f921\"]], \"type\": \"surface\"}], \"table\": [{\"cells\": {\"fill\": {\"color\": \"#EBF0F8\"}, \"line\": {\"color\": \"white\"}}, \"header\": {\"fill\": {\"color\": \"#C8D4E3\"}, \"line\": {\"color\": \"white\"}}, \"type\": \"table\"}]}, \"layout\": {\"annotationdefaults\": {\"arrowcolor\": \"#2a3f5f\", \"arrowhead\": 0, \"arrowwidth\": 1}, \"coloraxis\": {\"colorbar\": {\"outlinewidth\": 0, \"ticks\": \"\"}}, \"colorscale\": {\"diverging\": [[0, \"#8e0152\"], [0.1, \"#c51b7d\"], [0.2, \"#de77ae\"], [0.3, \"#f1b6da\"], [0.4, \"#fde0ef\"], [0.5, \"#f7f7f7\"], [0.6, \"#e6f5d0\"], [0.7, \"#b8e186\"], [0.8, \"#7fbc41\"], [0.9, \"#4d9221\"], [1, \"#276419\"]], \"sequential\": [[0.0, \"#0d0887\"], [0.1111111111111111, \"#46039f\"], [0.2222222222222222, \"#7201a8\"], [0.3333333333333333, \"#9c179e\"], [0.4444444444444444, \"#bd3786\"], [0.5555555555555556, \"#d8576b\"], [0.6666666666666666, \"#ed7953\"], [0.7777777777777778, \"#fb9f3a\"], [0.8888888888888888, \"#fdca26\"], [1.0, \"#f0f921\"]], \"sequentialminus\": [[0.0, \"#0d0887\"], [0.1111111111111111, \"#46039f\"], [0.2222222222222222, \"#7201a8\"], [0.3333333333333333, \"#9c179e\"], [0.4444444444444444, \"#bd3786\"], [0.5555555555555556, \"#d8576b\"], [0.6666666666666666, \"#ed7953\"], [0.7777777777777778, \"#fb9f3a\"], [0.8888888888888888, \"#fdca26\"], [1.0, \"#f0f921\"]]}, \"colorway\": [\"#636efa\", \"#EF553B\", \"#00cc96\", \"#ab63fa\", \"#FFA15A\", \"#19d3f3\", \"#FF6692\", \"#B6E880\", \"#FF97FF\", \"#FECB52\"], \"font\": {\"color\": \"#2a3f5f\"}, \"geo\": {\"bgcolor\": \"white\", \"lakecolor\": \"white\", \"landcolor\": \"#E5ECF6\", \"showlakes\": true, \"showland\": true, \"subunitcolor\": \"white\"}, \"hoverlabel\": {\"align\": \"left\"}, \"hovermode\": \"closest\", \"mapbox\": {\"style\": \"light\"}, \"paper_bgcolor\": \"white\", \"plot_bgcolor\": \"#E5ECF6\", \"polar\": {\"angularaxis\": {\"gridcolor\": \"white\", \"linecolor\": \"white\", \"ticks\": \"\"}, \"bgcolor\": \"#E5ECF6\", \"radialaxis\": {\"gridcolor\": \"white\", \"linecolor\": \"white\", \"ticks\": \"\"}}, \"scene\": {\"xaxis\": {\"backgroundcolor\": \"#E5ECF6\", \"gridcolor\": \"white\", \"gridwidth\": 2, \"linecolor\": \"white\", \"showbackground\": true, \"ticks\": \"\", \"zerolinecolor\": \"white\"}, \"yaxis\": {\"backgroundcolor\": \"#E5ECF6\", \"gridcolor\": \"white\", \"gridwidth\": 2, \"linecolor\": \"white\", \"showbackground\": true, \"ticks\": \"\", \"zerolinecolor\": \"white\"}, \"zaxis\": {\"backgroundcolor\": \"#E5ECF6\", \"gridcolor\": \"white\", \"gridwidth\": 2, \"linecolor\": \"white\", \"showbackground\": true, \"ticks\": \"\", \"zerolinecolor\": \"white\"}}, \"shapedefaults\": {\"line\": {\"color\": \"#2a3f5f\"}}, \"ternary\": {\"aaxis\": {\"gridcolor\": \"white\", \"linecolor\": \"white\", \"ticks\": \"\"}, \"baxis\": {\"gridcolor\": \"white\", \"linecolor\": \"white\", \"ticks\": \"\"}, \"bgcolor\": \"#E5ECF6\", \"caxis\": {\"gridcolor\": \"white\", \"linecolor\": \"white\", \"ticks\": \"\"}}, \"title\": {\"x\": 0.05}, \"xaxis\": {\"automargin\": true, \"gridcolor\": \"white\", \"linecolor\": \"white\", \"ticks\": \"\", \"title\": {\"standoff\": 15}, \"zerolinecolor\": \"white\", \"zerolinewidth\": 2}, \"yaxis\": {\"automargin\": true, \"gridcolor\": \"white\", \"linecolor\": \"white\", \"ticks\": \"\", \"title\": {\"standoff\": 15}, \"zerolinecolor\": \"white\", \"zerolinewidth\": 2}}}, \"title\": {\"font\": {\"color\": \"#4D5663\"}}, \"xaxis\": {\"gridcolor\": \"#E1E5ED\", \"showgrid\": true, \"tickfont\": {\"color\": \"#4D5663\"}, \"title\": {\"font\": {\"color\": \"#4D5663\"}, \"text\": \"\"}, \"zerolinecolor\": \"#E1E5ED\"}, \"yaxis\": {\"gridcolor\": \"#E1E5ED\", \"showgrid\": true, \"tickfont\": {\"color\": \"#4D5663\"}, \"title\": {\"font\": {\"color\": \"#4D5663\"}, \"text\": \"\"}, \"zerolinecolor\": \"#E1E5ED\"}},\n",
       "                        {\"showLink\": true, \"linkText\": \"Export to plot.ly\", \"plotlyServerURL\": \"https://plot.ly\", \"responsive\": true}\n",
       "                    ).then(function(){\n",
       "                            \n",
       "var gd = document.getElementById('c7c1b4f6-72a2-4c60-97f4-51fa152892f2');\n",
       "var x = new MutationObserver(function (mutations, observer) {{\n",
       "        var display = window.getComputedStyle(gd).display;\n",
       "        if (!display || display === 'none') {{\n",
       "            console.log([gd, 'removed!']);\n",
       "            Plotly.purge(gd);\n",
       "            observer.disconnect();\n",
       "        }}\n",
       "}});\n",
       "\n",
       "// Listen for the removal of the full notebook cells\n",
       "var notebookContainer = gd.closest('#notebook-container');\n",
       "if (notebookContainer) {{\n",
       "    x.observe(notebookContainer, {childList: true});\n",
       "}}\n",
       "\n",
       "// Listen for the clearing of the current output cell\n",
       "var outputEl = gd.closest('.output');\n",
       "if (outputEl) {{\n",
       "    x.observe(outputEl, {childList: true});\n",
       "}}\n",
       "\n",
       "                        })\n",
       "                };\n",
       "                });\n",
       "            </script>\n",
       "        </div>"
      ]
     },
     "metadata": {},
     "output_type": "display_data"
    }
   ],
   "source": [
    "df.iplot(kind=\"scatter\",x=\"B\",y=\"D\",mode=\"markers\")          # mode= markers :::important:::"
   ]
  },
  {
   "cell_type": "code",
   "execution_count": 47,
   "metadata": {},
   "outputs": [
    {
     "data": {
      "application/vnd.plotly.v1+json": {
       "config": {
        "linkText": "Export to plot.ly",
        "plotlyServerURL": "https://plot.ly",
        "showLink": true
       },
       "data": [
        {
         "marker": {
          "color": "rgba(255, 153, 51, 0.6)",
          "line": {
           "color": "rgba(255, 153, 51, 1.0)",
           "width": 1
          }
         },
         "name": "VALUES",
         "orientation": "v",
         "text": "",
         "type": "bar",
         "x": [
          "A",
          "B",
          "C"
         ],
         "y": [
          1,
          2,
          3
         ]
        }
       ],
       "layout": {
        "legend": {
         "bgcolor": "#F5F6F9",
         "font": {
          "color": "#4D5663"
         }
        },
        "paper_bgcolor": "#F5F6F9",
        "plot_bgcolor": "#F5F6F9",
        "template": {
         "data": {
          "bar": [
           {
            "error_x": {
             "color": "#2a3f5f"
            },
            "error_y": {
             "color": "#2a3f5f"
            },
            "marker": {
             "line": {
              "color": "#E5ECF6",
              "width": 0.5
             }
            },
            "type": "bar"
           }
          ],
          "barpolar": [
           {
            "marker": {
             "line": {
              "color": "#E5ECF6",
              "width": 0.5
             }
            },
            "type": "barpolar"
           }
          ],
          "carpet": [
           {
            "aaxis": {
             "endlinecolor": "#2a3f5f",
             "gridcolor": "white",
             "linecolor": "white",
             "minorgridcolor": "white",
             "startlinecolor": "#2a3f5f"
            },
            "baxis": {
             "endlinecolor": "#2a3f5f",
             "gridcolor": "white",
             "linecolor": "white",
             "minorgridcolor": "white",
             "startlinecolor": "#2a3f5f"
            },
            "type": "carpet"
           }
          ],
          "choropleth": [
           {
            "colorbar": {
             "outlinewidth": 0,
             "ticks": ""
            },
            "type": "choropleth"
           }
          ],
          "contour": [
           {
            "colorbar": {
             "outlinewidth": 0,
             "ticks": ""
            },
            "colorscale": [
             [
              0,
              "#0d0887"
             ],
             [
              0.1111111111111111,
              "#46039f"
             ],
             [
              0.2222222222222222,
              "#7201a8"
             ],
             [
              0.3333333333333333,
              "#9c179e"
             ],
             [
              0.4444444444444444,
              "#bd3786"
             ],
             [
              0.5555555555555556,
              "#d8576b"
             ],
             [
              0.6666666666666666,
              "#ed7953"
             ],
             [
              0.7777777777777778,
              "#fb9f3a"
             ],
             [
              0.8888888888888888,
              "#fdca26"
             ],
             [
              1,
              "#f0f921"
             ]
            ],
            "type": "contour"
           }
          ],
          "contourcarpet": [
           {
            "colorbar": {
             "outlinewidth": 0,
             "ticks": ""
            },
            "type": "contourcarpet"
           }
          ],
          "heatmap": [
           {
            "colorbar": {
             "outlinewidth": 0,
             "ticks": ""
            },
            "colorscale": [
             [
              0,
              "#0d0887"
             ],
             [
              0.1111111111111111,
              "#46039f"
             ],
             [
              0.2222222222222222,
              "#7201a8"
             ],
             [
              0.3333333333333333,
              "#9c179e"
             ],
             [
              0.4444444444444444,
              "#bd3786"
             ],
             [
              0.5555555555555556,
              "#d8576b"
             ],
             [
              0.6666666666666666,
              "#ed7953"
             ],
             [
              0.7777777777777778,
              "#fb9f3a"
             ],
             [
              0.8888888888888888,
              "#fdca26"
             ],
             [
              1,
              "#f0f921"
             ]
            ],
            "type": "heatmap"
           }
          ],
          "heatmapgl": [
           {
            "colorbar": {
             "outlinewidth": 0,
             "ticks": ""
            },
            "colorscale": [
             [
              0,
              "#0d0887"
             ],
             [
              0.1111111111111111,
              "#46039f"
             ],
             [
              0.2222222222222222,
              "#7201a8"
             ],
             [
              0.3333333333333333,
              "#9c179e"
             ],
             [
              0.4444444444444444,
              "#bd3786"
             ],
             [
              0.5555555555555556,
              "#d8576b"
             ],
             [
              0.6666666666666666,
              "#ed7953"
             ],
             [
              0.7777777777777778,
              "#fb9f3a"
             ],
             [
              0.8888888888888888,
              "#fdca26"
             ],
             [
              1,
              "#f0f921"
             ]
            ],
            "type": "heatmapgl"
           }
          ],
          "histogram": [
           {
            "marker": {
             "colorbar": {
              "outlinewidth": 0,
              "ticks": ""
             }
            },
            "type": "histogram"
           }
          ],
          "histogram2d": [
           {
            "colorbar": {
             "outlinewidth": 0,
             "ticks": ""
            },
            "colorscale": [
             [
              0,
              "#0d0887"
             ],
             [
              0.1111111111111111,
              "#46039f"
             ],
             [
              0.2222222222222222,
              "#7201a8"
             ],
             [
              0.3333333333333333,
              "#9c179e"
             ],
             [
              0.4444444444444444,
              "#bd3786"
             ],
             [
              0.5555555555555556,
              "#d8576b"
             ],
             [
              0.6666666666666666,
              "#ed7953"
             ],
             [
              0.7777777777777778,
              "#fb9f3a"
             ],
             [
              0.8888888888888888,
              "#fdca26"
             ],
             [
              1,
              "#f0f921"
             ]
            ],
            "type": "histogram2d"
           }
          ],
          "histogram2dcontour": [
           {
            "colorbar": {
             "outlinewidth": 0,
             "ticks": ""
            },
            "colorscale": [
             [
              0,
              "#0d0887"
             ],
             [
              0.1111111111111111,
              "#46039f"
             ],
             [
              0.2222222222222222,
              "#7201a8"
             ],
             [
              0.3333333333333333,
              "#9c179e"
             ],
             [
              0.4444444444444444,
              "#bd3786"
             ],
             [
              0.5555555555555556,
              "#d8576b"
             ],
             [
              0.6666666666666666,
              "#ed7953"
             ],
             [
              0.7777777777777778,
              "#fb9f3a"
             ],
             [
              0.8888888888888888,
              "#fdca26"
             ],
             [
              1,
              "#f0f921"
             ]
            ],
            "type": "histogram2dcontour"
           }
          ],
          "mesh3d": [
           {
            "colorbar": {
             "outlinewidth": 0,
             "ticks": ""
            },
            "type": "mesh3d"
           }
          ],
          "parcoords": [
           {
            "line": {
             "colorbar": {
              "outlinewidth": 0,
              "ticks": ""
             }
            },
            "type": "parcoords"
           }
          ],
          "pie": [
           {
            "automargin": true,
            "type": "pie"
           }
          ],
          "scatter": [
           {
            "marker": {
             "colorbar": {
              "outlinewidth": 0,
              "ticks": ""
             }
            },
            "type": "scatter"
           }
          ],
          "scatter3d": [
           {
            "line": {
             "colorbar": {
              "outlinewidth": 0,
              "ticks": ""
             }
            },
            "marker": {
             "colorbar": {
              "outlinewidth": 0,
              "ticks": ""
             }
            },
            "type": "scatter3d"
           }
          ],
          "scattercarpet": [
           {
            "marker": {
             "colorbar": {
              "outlinewidth": 0,
              "ticks": ""
             }
            },
            "type": "scattercarpet"
           }
          ],
          "scattergeo": [
           {
            "marker": {
             "colorbar": {
              "outlinewidth": 0,
              "ticks": ""
             }
            },
            "type": "scattergeo"
           }
          ],
          "scattergl": [
           {
            "marker": {
             "colorbar": {
              "outlinewidth": 0,
              "ticks": ""
             }
            },
            "type": "scattergl"
           }
          ],
          "scattermapbox": [
           {
            "marker": {
             "colorbar": {
              "outlinewidth": 0,
              "ticks": ""
             }
            },
            "type": "scattermapbox"
           }
          ],
          "scatterpolar": [
           {
            "marker": {
             "colorbar": {
              "outlinewidth": 0,
              "ticks": ""
             }
            },
            "type": "scatterpolar"
           }
          ],
          "scatterpolargl": [
           {
            "marker": {
             "colorbar": {
              "outlinewidth": 0,
              "ticks": ""
             }
            },
            "type": "scatterpolargl"
           }
          ],
          "scatterternary": [
           {
            "marker": {
             "colorbar": {
              "outlinewidth": 0,
              "ticks": ""
             }
            },
            "type": "scatterternary"
           }
          ],
          "surface": [
           {
            "colorbar": {
             "outlinewidth": 0,
             "ticks": ""
            },
            "colorscale": [
             [
              0,
              "#0d0887"
             ],
             [
              0.1111111111111111,
              "#46039f"
             ],
             [
              0.2222222222222222,
              "#7201a8"
             ],
             [
              0.3333333333333333,
              "#9c179e"
             ],
             [
              0.4444444444444444,
              "#bd3786"
             ],
             [
              0.5555555555555556,
              "#d8576b"
             ],
             [
              0.6666666666666666,
              "#ed7953"
             ],
             [
              0.7777777777777778,
              "#fb9f3a"
             ],
             [
              0.8888888888888888,
              "#fdca26"
             ],
             [
              1,
              "#f0f921"
             ]
            ],
            "type": "surface"
           }
          ],
          "table": [
           {
            "cells": {
             "fill": {
              "color": "#EBF0F8"
             },
             "line": {
              "color": "white"
             }
            },
            "header": {
             "fill": {
              "color": "#C8D4E3"
             },
             "line": {
              "color": "white"
             }
            },
            "type": "table"
           }
          ]
         },
         "layout": {
          "annotationdefaults": {
           "arrowcolor": "#2a3f5f",
           "arrowhead": 0,
           "arrowwidth": 1
          },
          "coloraxis": {
           "colorbar": {
            "outlinewidth": 0,
            "ticks": ""
           }
          },
          "colorscale": {
           "diverging": [
            [
             0,
             "#8e0152"
            ],
            [
             0.1,
             "#c51b7d"
            ],
            [
             0.2,
             "#de77ae"
            ],
            [
             0.3,
             "#f1b6da"
            ],
            [
             0.4,
             "#fde0ef"
            ],
            [
             0.5,
             "#f7f7f7"
            ],
            [
             0.6,
             "#e6f5d0"
            ],
            [
             0.7,
             "#b8e186"
            ],
            [
             0.8,
             "#7fbc41"
            ],
            [
             0.9,
             "#4d9221"
            ],
            [
             1,
             "#276419"
            ]
           ],
           "sequential": [
            [
             0,
             "#0d0887"
            ],
            [
             0.1111111111111111,
             "#46039f"
            ],
            [
             0.2222222222222222,
             "#7201a8"
            ],
            [
             0.3333333333333333,
             "#9c179e"
            ],
            [
             0.4444444444444444,
             "#bd3786"
            ],
            [
             0.5555555555555556,
             "#d8576b"
            ],
            [
             0.6666666666666666,
             "#ed7953"
            ],
            [
             0.7777777777777778,
             "#fb9f3a"
            ],
            [
             0.8888888888888888,
             "#fdca26"
            ],
            [
             1,
             "#f0f921"
            ]
           ],
           "sequentialminus": [
            [
             0,
             "#0d0887"
            ],
            [
             0.1111111111111111,
             "#46039f"
            ],
            [
             0.2222222222222222,
             "#7201a8"
            ],
            [
             0.3333333333333333,
             "#9c179e"
            ],
            [
             0.4444444444444444,
             "#bd3786"
            ],
            [
             0.5555555555555556,
             "#d8576b"
            ],
            [
             0.6666666666666666,
             "#ed7953"
            ],
            [
             0.7777777777777778,
             "#fb9f3a"
            ],
            [
             0.8888888888888888,
             "#fdca26"
            ],
            [
             1,
             "#f0f921"
            ]
           ]
          },
          "colorway": [
           "#636efa",
           "#EF553B",
           "#00cc96",
           "#ab63fa",
           "#FFA15A",
           "#19d3f3",
           "#FF6692",
           "#B6E880",
           "#FF97FF",
           "#FECB52"
          ],
          "font": {
           "color": "#2a3f5f"
          },
          "geo": {
           "bgcolor": "white",
           "lakecolor": "white",
           "landcolor": "#E5ECF6",
           "showlakes": true,
           "showland": true,
           "subunitcolor": "white"
          },
          "hoverlabel": {
           "align": "left"
          },
          "hovermode": "closest",
          "mapbox": {
           "style": "light"
          },
          "paper_bgcolor": "white",
          "plot_bgcolor": "#E5ECF6",
          "polar": {
           "angularaxis": {
            "gridcolor": "white",
            "linecolor": "white",
            "ticks": ""
           },
           "bgcolor": "#E5ECF6",
           "radialaxis": {
            "gridcolor": "white",
            "linecolor": "white",
            "ticks": ""
           }
          },
          "scene": {
           "xaxis": {
            "backgroundcolor": "#E5ECF6",
            "gridcolor": "white",
            "gridwidth": 2,
            "linecolor": "white",
            "showbackground": true,
            "ticks": "",
            "zerolinecolor": "white"
           },
           "yaxis": {
            "backgroundcolor": "#E5ECF6",
            "gridcolor": "white",
            "gridwidth": 2,
            "linecolor": "white",
            "showbackground": true,
            "ticks": "",
            "zerolinecolor": "white"
           },
           "zaxis": {
            "backgroundcolor": "#E5ECF6",
            "gridcolor": "white",
            "gridwidth": 2,
            "linecolor": "white",
            "showbackground": true,
            "ticks": "",
            "zerolinecolor": "white"
           }
          },
          "shapedefaults": {
           "line": {
            "color": "#2a3f5f"
           }
          },
          "ternary": {
           "aaxis": {
            "gridcolor": "white",
            "linecolor": "white",
            "ticks": ""
           },
           "baxis": {
            "gridcolor": "white",
            "linecolor": "white",
            "ticks": ""
           },
           "bgcolor": "#E5ECF6",
           "caxis": {
            "gridcolor": "white",
            "linecolor": "white",
            "ticks": ""
           }
          },
          "title": {
           "x": 0.05
          },
          "xaxis": {
           "automargin": true,
           "gridcolor": "white",
           "linecolor": "white",
           "ticks": "",
           "title": {
            "standoff": 15
           },
           "zerolinecolor": "white",
           "zerolinewidth": 2
          },
          "yaxis": {
           "automargin": true,
           "gridcolor": "white",
           "linecolor": "white",
           "ticks": "",
           "title": {
            "standoff": 15
           },
           "zerolinecolor": "white",
           "zerolinewidth": 2
          }
         }
        },
        "title": {
         "font": {
          "color": "#4D5663"
         }
        },
        "xaxis": {
         "gridcolor": "#E1E5ED",
         "showgrid": true,
         "tickfont": {
          "color": "#4D5663"
         },
         "title": {
          "font": {
           "color": "#4D5663"
          },
          "text": ""
         },
         "zerolinecolor": "#E1E5ED"
        },
        "yaxis": {
         "gridcolor": "#E1E5ED",
         "showgrid": true,
         "tickfont": {
          "color": "#4D5663"
         },
         "title": {
          "font": {
           "color": "#4D5663"
          },
          "text": ""
         },
         "zerolinecolor": "#E1E5ED"
        }
       }
      },
      "text/html": [
       "<div>\n",
       "        \n",
       "        \n",
       "            <div id=\"916acb53-f6f8-4c4f-956b-a4df1d1273b9\" class=\"plotly-graph-div\" style=\"height:525px; width:100%;\"></div>\n",
       "            <script type=\"text/javascript\">\n",
       "                require([\"plotly\"], function(Plotly) {\n",
       "                    window.PLOTLYENV=window.PLOTLYENV || {};\n",
       "                    window.PLOTLYENV.BASE_URL='https://plot.ly';\n",
       "                    \n",
       "                if (document.getElementById(\"916acb53-f6f8-4c4f-956b-a4df1d1273b9\")) {\n",
       "                    Plotly.newPlot(\n",
       "                        '916acb53-f6f8-4c4f-956b-a4df1d1273b9',\n",
       "                        [{\"marker\": {\"color\": \"rgba(255, 153, 51, 0.6)\", \"line\": {\"color\": \"rgba(255, 153, 51, 1.0)\", \"width\": 1}}, \"name\": \"VALUES\", \"orientation\": \"v\", \"text\": \"\", \"type\": \"bar\", \"x\": [\"A\", \"B\", \"C\"], \"y\": [1, 2, 3]}],\n",
       "                        {\"legend\": {\"bgcolor\": \"#F5F6F9\", \"font\": {\"color\": \"#4D5663\"}}, \"paper_bgcolor\": \"#F5F6F9\", \"plot_bgcolor\": \"#F5F6F9\", \"template\": {\"data\": {\"bar\": [{\"error_x\": {\"color\": \"#2a3f5f\"}, \"error_y\": {\"color\": \"#2a3f5f\"}, \"marker\": {\"line\": {\"color\": \"#E5ECF6\", \"width\": 0.5}}, \"type\": \"bar\"}], \"barpolar\": [{\"marker\": {\"line\": {\"color\": \"#E5ECF6\", \"width\": 0.5}}, \"type\": \"barpolar\"}], \"carpet\": [{\"aaxis\": {\"endlinecolor\": \"#2a3f5f\", \"gridcolor\": \"white\", \"linecolor\": \"white\", \"minorgridcolor\": \"white\", \"startlinecolor\": \"#2a3f5f\"}, \"baxis\": {\"endlinecolor\": \"#2a3f5f\", \"gridcolor\": \"white\", \"linecolor\": \"white\", \"minorgridcolor\": \"white\", \"startlinecolor\": \"#2a3f5f\"}, \"type\": \"carpet\"}], \"choropleth\": [{\"colorbar\": {\"outlinewidth\": 0, \"ticks\": \"\"}, \"type\": \"choropleth\"}], \"contour\": [{\"colorbar\": {\"outlinewidth\": 0, \"ticks\": \"\"}, \"colorscale\": [[0.0, \"#0d0887\"], [0.1111111111111111, \"#46039f\"], [0.2222222222222222, \"#7201a8\"], [0.3333333333333333, \"#9c179e\"], [0.4444444444444444, \"#bd3786\"], [0.5555555555555556, \"#d8576b\"], [0.6666666666666666, \"#ed7953\"], [0.7777777777777778, \"#fb9f3a\"], [0.8888888888888888, \"#fdca26\"], [1.0, \"#f0f921\"]], \"type\": \"contour\"}], \"contourcarpet\": [{\"colorbar\": {\"outlinewidth\": 0, \"ticks\": \"\"}, \"type\": \"contourcarpet\"}], \"heatmap\": [{\"colorbar\": {\"outlinewidth\": 0, \"ticks\": \"\"}, \"colorscale\": [[0.0, \"#0d0887\"], [0.1111111111111111, \"#46039f\"], [0.2222222222222222, \"#7201a8\"], [0.3333333333333333, \"#9c179e\"], [0.4444444444444444, \"#bd3786\"], [0.5555555555555556, \"#d8576b\"], [0.6666666666666666, \"#ed7953\"], [0.7777777777777778, \"#fb9f3a\"], [0.8888888888888888, \"#fdca26\"], [1.0, \"#f0f921\"]], \"type\": \"heatmap\"}], \"heatmapgl\": [{\"colorbar\": {\"outlinewidth\": 0, \"ticks\": \"\"}, \"colorscale\": [[0.0, \"#0d0887\"], [0.1111111111111111, \"#46039f\"], [0.2222222222222222, \"#7201a8\"], [0.3333333333333333, \"#9c179e\"], [0.4444444444444444, \"#bd3786\"], [0.5555555555555556, \"#d8576b\"], [0.6666666666666666, \"#ed7953\"], [0.7777777777777778, \"#fb9f3a\"], [0.8888888888888888, \"#fdca26\"], [1.0, \"#f0f921\"]], \"type\": \"heatmapgl\"}], \"histogram\": [{\"marker\": {\"colorbar\": {\"outlinewidth\": 0, \"ticks\": \"\"}}, \"type\": \"histogram\"}], \"histogram2d\": [{\"colorbar\": {\"outlinewidth\": 0, \"ticks\": \"\"}, \"colorscale\": [[0.0, \"#0d0887\"], [0.1111111111111111, \"#46039f\"], [0.2222222222222222, \"#7201a8\"], [0.3333333333333333, \"#9c179e\"], [0.4444444444444444, \"#bd3786\"], [0.5555555555555556, \"#d8576b\"], [0.6666666666666666, \"#ed7953\"], [0.7777777777777778, \"#fb9f3a\"], [0.8888888888888888, \"#fdca26\"], [1.0, \"#f0f921\"]], \"type\": \"histogram2d\"}], \"histogram2dcontour\": [{\"colorbar\": {\"outlinewidth\": 0, \"ticks\": \"\"}, \"colorscale\": [[0.0, \"#0d0887\"], [0.1111111111111111, \"#46039f\"], [0.2222222222222222, \"#7201a8\"], [0.3333333333333333, \"#9c179e\"], [0.4444444444444444, \"#bd3786\"], [0.5555555555555556, \"#d8576b\"], [0.6666666666666666, \"#ed7953\"], [0.7777777777777778, \"#fb9f3a\"], [0.8888888888888888, \"#fdca26\"], [1.0, \"#f0f921\"]], \"type\": \"histogram2dcontour\"}], \"mesh3d\": [{\"colorbar\": {\"outlinewidth\": 0, \"ticks\": \"\"}, \"type\": \"mesh3d\"}], \"parcoords\": [{\"line\": {\"colorbar\": {\"outlinewidth\": 0, \"ticks\": \"\"}}, \"type\": \"parcoords\"}], \"pie\": [{\"automargin\": true, \"type\": \"pie\"}], \"scatter\": [{\"marker\": {\"colorbar\": {\"outlinewidth\": 0, \"ticks\": \"\"}}, \"type\": \"scatter\"}], \"scatter3d\": [{\"line\": {\"colorbar\": {\"outlinewidth\": 0, \"ticks\": \"\"}}, \"marker\": {\"colorbar\": {\"outlinewidth\": 0, \"ticks\": \"\"}}, \"type\": \"scatter3d\"}], \"scattercarpet\": [{\"marker\": {\"colorbar\": {\"outlinewidth\": 0, \"ticks\": \"\"}}, \"type\": \"scattercarpet\"}], \"scattergeo\": [{\"marker\": {\"colorbar\": {\"outlinewidth\": 0, \"ticks\": \"\"}}, \"type\": \"scattergeo\"}], \"scattergl\": [{\"marker\": {\"colorbar\": {\"outlinewidth\": 0, \"ticks\": \"\"}}, \"type\": \"scattergl\"}], \"scattermapbox\": [{\"marker\": {\"colorbar\": {\"outlinewidth\": 0, \"ticks\": \"\"}}, \"type\": \"scattermapbox\"}], \"scatterpolar\": [{\"marker\": {\"colorbar\": {\"outlinewidth\": 0, \"ticks\": \"\"}}, \"type\": \"scatterpolar\"}], \"scatterpolargl\": [{\"marker\": {\"colorbar\": {\"outlinewidth\": 0, \"ticks\": \"\"}}, \"type\": \"scatterpolargl\"}], \"scatterternary\": [{\"marker\": {\"colorbar\": {\"outlinewidth\": 0, \"ticks\": \"\"}}, \"type\": \"scatterternary\"}], \"surface\": [{\"colorbar\": {\"outlinewidth\": 0, \"ticks\": \"\"}, \"colorscale\": [[0.0, \"#0d0887\"], [0.1111111111111111, \"#46039f\"], [0.2222222222222222, \"#7201a8\"], [0.3333333333333333, \"#9c179e\"], [0.4444444444444444, \"#bd3786\"], [0.5555555555555556, \"#d8576b\"], [0.6666666666666666, \"#ed7953\"], [0.7777777777777778, \"#fb9f3a\"], [0.8888888888888888, \"#fdca26\"], [1.0, \"#f0f921\"]], \"type\": \"surface\"}], \"table\": [{\"cells\": {\"fill\": {\"color\": \"#EBF0F8\"}, \"line\": {\"color\": \"white\"}}, \"header\": {\"fill\": {\"color\": \"#C8D4E3\"}, \"line\": {\"color\": \"white\"}}, \"type\": \"table\"}]}, \"layout\": {\"annotationdefaults\": {\"arrowcolor\": \"#2a3f5f\", \"arrowhead\": 0, \"arrowwidth\": 1}, \"coloraxis\": {\"colorbar\": {\"outlinewidth\": 0, \"ticks\": \"\"}}, \"colorscale\": {\"diverging\": [[0, \"#8e0152\"], [0.1, \"#c51b7d\"], [0.2, \"#de77ae\"], [0.3, \"#f1b6da\"], [0.4, \"#fde0ef\"], [0.5, \"#f7f7f7\"], [0.6, \"#e6f5d0\"], [0.7, \"#b8e186\"], [0.8, \"#7fbc41\"], [0.9, \"#4d9221\"], [1, \"#276419\"]], \"sequential\": [[0.0, \"#0d0887\"], [0.1111111111111111, \"#46039f\"], [0.2222222222222222, \"#7201a8\"], [0.3333333333333333, \"#9c179e\"], [0.4444444444444444, \"#bd3786\"], [0.5555555555555556, \"#d8576b\"], [0.6666666666666666, \"#ed7953\"], [0.7777777777777778, \"#fb9f3a\"], [0.8888888888888888, \"#fdca26\"], [1.0, \"#f0f921\"]], \"sequentialminus\": [[0.0, \"#0d0887\"], [0.1111111111111111, \"#46039f\"], [0.2222222222222222, \"#7201a8\"], [0.3333333333333333, \"#9c179e\"], [0.4444444444444444, \"#bd3786\"], [0.5555555555555556, \"#d8576b\"], [0.6666666666666666, \"#ed7953\"], [0.7777777777777778, \"#fb9f3a\"], [0.8888888888888888, \"#fdca26\"], [1.0, \"#f0f921\"]]}, \"colorway\": [\"#636efa\", \"#EF553B\", \"#00cc96\", \"#ab63fa\", \"#FFA15A\", \"#19d3f3\", \"#FF6692\", \"#B6E880\", \"#FF97FF\", \"#FECB52\"], \"font\": {\"color\": \"#2a3f5f\"}, \"geo\": {\"bgcolor\": \"white\", \"lakecolor\": \"white\", \"landcolor\": \"#E5ECF6\", \"showlakes\": true, \"showland\": true, \"subunitcolor\": \"white\"}, \"hoverlabel\": {\"align\": \"left\"}, \"hovermode\": \"closest\", \"mapbox\": {\"style\": \"light\"}, \"paper_bgcolor\": \"white\", \"plot_bgcolor\": \"#E5ECF6\", \"polar\": {\"angularaxis\": {\"gridcolor\": \"white\", \"linecolor\": \"white\", \"ticks\": \"\"}, \"bgcolor\": \"#E5ECF6\", \"radialaxis\": {\"gridcolor\": \"white\", \"linecolor\": \"white\", \"ticks\": \"\"}}, \"scene\": {\"xaxis\": {\"backgroundcolor\": \"#E5ECF6\", \"gridcolor\": \"white\", \"gridwidth\": 2, \"linecolor\": \"white\", \"showbackground\": true, \"ticks\": \"\", \"zerolinecolor\": \"white\"}, \"yaxis\": {\"backgroundcolor\": \"#E5ECF6\", \"gridcolor\": \"white\", \"gridwidth\": 2, \"linecolor\": \"white\", \"showbackground\": true, \"ticks\": \"\", \"zerolinecolor\": \"white\"}, \"zaxis\": {\"backgroundcolor\": \"#E5ECF6\", \"gridcolor\": \"white\", \"gridwidth\": 2, \"linecolor\": \"white\", \"showbackground\": true, \"ticks\": \"\", \"zerolinecolor\": \"white\"}}, \"shapedefaults\": {\"line\": {\"color\": \"#2a3f5f\"}}, \"ternary\": {\"aaxis\": {\"gridcolor\": \"white\", \"linecolor\": \"white\", \"ticks\": \"\"}, \"baxis\": {\"gridcolor\": \"white\", \"linecolor\": \"white\", \"ticks\": \"\"}, \"bgcolor\": \"#E5ECF6\", \"caxis\": {\"gridcolor\": \"white\", \"linecolor\": \"white\", \"ticks\": \"\"}}, \"title\": {\"x\": 0.05}, \"xaxis\": {\"automargin\": true, \"gridcolor\": \"white\", \"linecolor\": \"white\", \"ticks\": \"\", \"title\": {\"standoff\": 15}, \"zerolinecolor\": \"white\", \"zerolinewidth\": 2}, \"yaxis\": {\"automargin\": true, \"gridcolor\": \"white\", \"linecolor\": \"white\", \"ticks\": \"\", \"title\": {\"standoff\": 15}, \"zerolinecolor\": \"white\", \"zerolinewidth\": 2}}}, \"title\": {\"font\": {\"color\": \"#4D5663\"}}, \"xaxis\": {\"gridcolor\": \"#E1E5ED\", \"showgrid\": true, \"tickfont\": {\"color\": \"#4D5663\"}, \"title\": {\"font\": {\"color\": \"#4D5663\"}, \"text\": \"\"}, \"zerolinecolor\": \"#E1E5ED\"}, \"yaxis\": {\"gridcolor\": \"#E1E5ED\", \"showgrid\": true, \"tickfont\": {\"color\": \"#4D5663\"}, \"title\": {\"font\": {\"color\": \"#4D5663\"}, \"text\": \"\"}, \"zerolinecolor\": \"#E1E5ED\"}},\n",
       "                        {\"showLink\": true, \"linkText\": \"Export to plot.ly\", \"plotlyServerURL\": \"https://plot.ly\", \"responsive\": true}\n",
       "                    ).then(function(){\n",
       "                            \n",
       "var gd = document.getElementById('916acb53-f6f8-4c4f-956b-a4df1d1273b9');\n",
       "var x = new MutationObserver(function (mutations, observer) {{\n",
       "        var display = window.getComputedStyle(gd).display;\n",
       "        if (!display || display === 'none') {{\n",
       "            console.log([gd, 'removed!']);\n",
       "            Plotly.purge(gd);\n",
       "            observer.disconnect();\n",
       "        }}\n",
       "}});\n",
       "\n",
       "// Listen for the removal of the full notebook cells\n",
       "var notebookContainer = gd.closest('#notebook-container');\n",
       "if (notebookContainer) {{\n",
       "    x.observe(notebookContainer, {childList: true});\n",
       "}}\n",
       "\n",
       "// Listen for the clearing of the current output cell\n",
       "var outputEl = gd.closest('.output');\n",
       "if (outputEl) {{\n",
       "    x.observe(outputEl, {childList: true});\n",
       "}}\n",
       "\n",
       "                        })\n",
       "                };\n",
       "                });\n",
       "            </script>\n",
       "        </div>"
      ]
     },
     "metadata": {},
     "output_type": "display_data"
    }
   ],
   "source": [
    "df1.iplot(kind=\"bar\",x=\"CATEGORY\",y=\"VALUES\")"
   ]
  },
  {
   "cell_type": "code",
   "execution_count": 52,
   "metadata": {},
   "outputs": [
    {
     "data": {
      "application/vnd.plotly.v1+json": {
       "config": {
        "linkText": "Export to plot.ly",
        "plotlyServerURL": "https://plot.ly",
        "showLink": true
       },
       "data": [
        {
         "marker": {
          "color": "rgba(255, 153, 51, 0.6)",
          "line": {
           "color": "rgba(255, 153, 51, 1.0)",
           "width": 1
          }
         },
         "name": "None",
         "orientation": "v",
         "text": "",
         "type": "bar",
         "x": [
          "A",
          "B",
          "C",
          "D"
         ],
         "y": [
          -13.220278355027999,
          8.234599407352825,
          -0.9405866720831658,
          7.4630742800814485
         ]
        }
       ],
       "layout": {
        "legend": {
         "bgcolor": "#F5F6F9",
         "font": {
          "color": "#4D5663"
         }
        },
        "paper_bgcolor": "#F5F6F9",
        "plot_bgcolor": "#F5F6F9",
        "template": {
         "data": {
          "bar": [
           {
            "error_x": {
             "color": "#2a3f5f"
            },
            "error_y": {
             "color": "#2a3f5f"
            },
            "marker": {
             "line": {
              "color": "#E5ECF6",
              "width": 0.5
             }
            },
            "type": "bar"
           }
          ],
          "barpolar": [
           {
            "marker": {
             "line": {
              "color": "#E5ECF6",
              "width": 0.5
             }
            },
            "type": "barpolar"
           }
          ],
          "carpet": [
           {
            "aaxis": {
             "endlinecolor": "#2a3f5f",
             "gridcolor": "white",
             "linecolor": "white",
             "minorgridcolor": "white",
             "startlinecolor": "#2a3f5f"
            },
            "baxis": {
             "endlinecolor": "#2a3f5f",
             "gridcolor": "white",
             "linecolor": "white",
             "minorgridcolor": "white",
             "startlinecolor": "#2a3f5f"
            },
            "type": "carpet"
           }
          ],
          "choropleth": [
           {
            "colorbar": {
             "outlinewidth": 0,
             "ticks": ""
            },
            "type": "choropleth"
           }
          ],
          "contour": [
           {
            "colorbar": {
             "outlinewidth": 0,
             "ticks": ""
            },
            "colorscale": [
             [
              0,
              "#0d0887"
             ],
             [
              0.1111111111111111,
              "#46039f"
             ],
             [
              0.2222222222222222,
              "#7201a8"
             ],
             [
              0.3333333333333333,
              "#9c179e"
             ],
             [
              0.4444444444444444,
              "#bd3786"
             ],
             [
              0.5555555555555556,
              "#d8576b"
             ],
             [
              0.6666666666666666,
              "#ed7953"
             ],
             [
              0.7777777777777778,
              "#fb9f3a"
             ],
             [
              0.8888888888888888,
              "#fdca26"
             ],
             [
              1,
              "#f0f921"
             ]
            ],
            "type": "contour"
           }
          ],
          "contourcarpet": [
           {
            "colorbar": {
             "outlinewidth": 0,
             "ticks": ""
            },
            "type": "contourcarpet"
           }
          ],
          "heatmap": [
           {
            "colorbar": {
             "outlinewidth": 0,
             "ticks": ""
            },
            "colorscale": [
             [
              0,
              "#0d0887"
             ],
             [
              0.1111111111111111,
              "#46039f"
             ],
             [
              0.2222222222222222,
              "#7201a8"
             ],
             [
              0.3333333333333333,
              "#9c179e"
             ],
             [
              0.4444444444444444,
              "#bd3786"
             ],
             [
              0.5555555555555556,
              "#d8576b"
             ],
             [
              0.6666666666666666,
              "#ed7953"
             ],
             [
              0.7777777777777778,
              "#fb9f3a"
             ],
             [
              0.8888888888888888,
              "#fdca26"
             ],
             [
              1,
              "#f0f921"
             ]
            ],
            "type": "heatmap"
           }
          ],
          "heatmapgl": [
           {
            "colorbar": {
             "outlinewidth": 0,
             "ticks": ""
            },
            "colorscale": [
             [
              0,
              "#0d0887"
             ],
             [
              0.1111111111111111,
              "#46039f"
             ],
             [
              0.2222222222222222,
              "#7201a8"
             ],
             [
              0.3333333333333333,
              "#9c179e"
             ],
             [
              0.4444444444444444,
              "#bd3786"
             ],
             [
              0.5555555555555556,
              "#d8576b"
             ],
             [
              0.6666666666666666,
              "#ed7953"
             ],
             [
              0.7777777777777778,
              "#fb9f3a"
             ],
             [
              0.8888888888888888,
              "#fdca26"
             ],
             [
              1,
              "#f0f921"
             ]
            ],
            "type": "heatmapgl"
           }
          ],
          "histogram": [
           {
            "marker": {
             "colorbar": {
              "outlinewidth": 0,
              "ticks": ""
             }
            },
            "type": "histogram"
           }
          ],
          "histogram2d": [
           {
            "colorbar": {
             "outlinewidth": 0,
             "ticks": ""
            },
            "colorscale": [
             [
              0,
              "#0d0887"
             ],
             [
              0.1111111111111111,
              "#46039f"
             ],
             [
              0.2222222222222222,
              "#7201a8"
             ],
             [
              0.3333333333333333,
              "#9c179e"
             ],
             [
              0.4444444444444444,
              "#bd3786"
             ],
             [
              0.5555555555555556,
              "#d8576b"
             ],
             [
              0.6666666666666666,
              "#ed7953"
             ],
             [
              0.7777777777777778,
              "#fb9f3a"
             ],
             [
              0.8888888888888888,
              "#fdca26"
             ],
             [
              1,
              "#f0f921"
             ]
            ],
            "type": "histogram2d"
           }
          ],
          "histogram2dcontour": [
           {
            "colorbar": {
             "outlinewidth": 0,
             "ticks": ""
            },
            "colorscale": [
             [
              0,
              "#0d0887"
             ],
             [
              0.1111111111111111,
              "#46039f"
             ],
             [
              0.2222222222222222,
              "#7201a8"
             ],
             [
              0.3333333333333333,
              "#9c179e"
             ],
             [
              0.4444444444444444,
              "#bd3786"
             ],
             [
              0.5555555555555556,
              "#d8576b"
             ],
             [
              0.6666666666666666,
              "#ed7953"
             ],
             [
              0.7777777777777778,
              "#fb9f3a"
             ],
             [
              0.8888888888888888,
              "#fdca26"
             ],
             [
              1,
              "#f0f921"
             ]
            ],
            "type": "histogram2dcontour"
           }
          ],
          "mesh3d": [
           {
            "colorbar": {
             "outlinewidth": 0,
             "ticks": ""
            },
            "type": "mesh3d"
           }
          ],
          "parcoords": [
           {
            "line": {
             "colorbar": {
              "outlinewidth": 0,
              "ticks": ""
             }
            },
            "type": "parcoords"
           }
          ],
          "pie": [
           {
            "automargin": true,
            "type": "pie"
           }
          ],
          "scatter": [
           {
            "marker": {
             "colorbar": {
              "outlinewidth": 0,
              "ticks": ""
             }
            },
            "type": "scatter"
           }
          ],
          "scatter3d": [
           {
            "line": {
             "colorbar": {
              "outlinewidth": 0,
              "ticks": ""
             }
            },
            "marker": {
             "colorbar": {
              "outlinewidth": 0,
              "ticks": ""
             }
            },
            "type": "scatter3d"
           }
          ],
          "scattercarpet": [
           {
            "marker": {
             "colorbar": {
              "outlinewidth": 0,
              "ticks": ""
             }
            },
            "type": "scattercarpet"
           }
          ],
          "scattergeo": [
           {
            "marker": {
             "colorbar": {
              "outlinewidth": 0,
              "ticks": ""
             }
            },
            "type": "scattergeo"
           }
          ],
          "scattergl": [
           {
            "marker": {
             "colorbar": {
              "outlinewidth": 0,
              "ticks": ""
             }
            },
            "type": "scattergl"
           }
          ],
          "scattermapbox": [
           {
            "marker": {
             "colorbar": {
              "outlinewidth": 0,
              "ticks": ""
             }
            },
            "type": "scattermapbox"
           }
          ],
          "scatterpolar": [
           {
            "marker": {
             "colorbar": {
              "outlinewidth": 0,
              "ticks": ""
             }
            },
            "type": "scatterpolar"
           }
          ],
          "scatterpolargl": [
           {
            "marker": {
             "colorbar": {
              "outlinewidth": 0,
              "ticks": ""
             }
            },
            "type": "scatterpolargl"
           }
          ],
          "scatterternary": [
           {
            "marker": {
             "colorbar": {
              "outlinewidth": 0,
              "ticks": ""
             }
            },
            "type": "scatterternary"
           }
          ],
          "surface": [
           {
            "colorbar": {
             "outlinewidth": 0,
             "ticks": ""
            },
            "colorscale": [
             [
              0,
              "#0d0887"
             ],
             [
              0.1111111111111111,
              "#46039f"
             ],
             [
              0.2222222222222222,
              "#7201a8"
             ],
             [
              0.3333333333333333,
              "#9c179e"
             ],
             [
              0.4444444444444444,
              "#bd3786"
             ],
             [
              0.5555555555555556,
              "#d8576b"
             ],
             [
              0.6666666666666666,
              "#ed7953"
             ],
             [
              0.7777777777777778,
              "#fb9f3a"
             ],
             [
              0.8888888888888888,
              "#fdca26"
             ],
             [
              1,
              "#f0f921"
             ]
            ],
            "type": "surface"
           }
          ],
          "table": [
           {
            "cells": {
             "fill": {
              "color": "#EBF0F8"
             },
             "line": {
              "color": "white"
             }
            },
            "header": {
             "fill": {
              "color": "#C8D4E3"
             },
             "line": {
              "color": "white"
             }
            },
            "type": "table"
           }
          ]
         },
         "layout": {
          "annotationdefaults": {
           "arrowcolor": "#2a3f5f",
           "arrowhead": 0,
           "arrowwidth": 1
          },
          "coloraxis": {
           "colorbar": {
            "outlinewidth": 0,
            "ticks": ""
           }
          },
          "colorscale": {
           "diverging": [
            [
             0,
             "#8e0152"
            ],
            [
             0.1,
             "#c51b7d"
            ],
            [
             0.2,
             "#de77ae"
            ],
            [
             0.3,
             "#f1b6da"
            ],
            [
             0.4,
             "#fde0ef"
            ],
            [
             0.5,
             "#f7f7f7"
            ],
            [
             0.6,
             "#e6f5d0"
            ],
            [
             0.7,
             "#b8e186"
            ],
            [
             0.8,
             "#7fbc41"
            ],
            [
             0.9,
             "#4d9221"
            ],
            [
             1,
             "#276419"
            ]
           ],
           "sequential": [
            [
             0,
             "#0d0887"
            ],
            [
             0.1111111111111111,
             "#46039f"
            ],
            [
             0.2222222222222222,
             "#7201a8"
            ],
            [
             0.3333333333333333,
             "#9c179e"
            ],
            [
             0.4444444444444444,
             "#bd3786"
            ],
            [
             0.5555555555555556,
             "#d8576b"
            ],
            [
             0.6666666666666666,
             "#ed7953"
            ],
            [
             0.7777777777777778,
             "#fb9f3a"
            ],
            [
             0.8888888888888888,
             "#fdca26"
            ],
            [
             1,
             "#f0f921"
            ]
           ],
           "sequentialminus": [
            [
             0,
             "#0d0887"
            ],
            [
             0.1111111111111111,
             "#46039f"
            ],
            [
             0.2222222222222222,
             "#7201a8"
            ],
            [
             0.3333333333333333,
             "#9c179e"
            ],
            [
             0.4444444444444444,
             "#bd3786"
            ],
            [
             0.5555555555555556,
             "#d8576b"
            ],
            [
             0.6666666666666666,
             "#ed7953"
            ],
            [
             0.7777777777777778,
             "#fb9f3a"
            ],
            [
             0.8888888888888888,
             "#fdca26"
            ],
            [
             1,
             "#f0f921"
            ]
           ]
          },
          "colorway": [
           "#636efa",
           "#EF553B",
           "#00cc96",
           "#ab63fa",
           "#FFA15A",
           "#19d3f3",
           "#FF6692",
           "#B6E880",
           "#FF97FF",
           "#FECB52"
          ],
          "font": {
           "color": "#2a3f5f"
          },
          "geo": {
           "bgcolor": "white",
           "lakecolor": "white",
           "landcolor": "#E5ECF6",
           "showlakes": true,
           "showland": true,
           "subunitcolor": "white"
          },
          "hoverlabel": {
           "align": "left"
          },
          "hovermode": "closest",
          "mapbox": {
           "style": "light"
          },
          "paper_bgcolor": "white",
          "plot_bgcolor": "#E5ECF6",
          "polar": {
           "angularaxis": {
            "gridcolor": "white",
            "linecolor": "white",
            "ticks": ""
           },
           "bgcolor": "#E5ECF6",
           "radialaxis": {
            "gridcolor": "white",
            "linecolor": "white",
            "ticks": ""
           }
          },
          "scene": {
           "xaxis": {
            "backgroundcolor": "#E5ECF6",
            "gridcolor": "white",
            "gridwidth": 2,
            "linecolor": "white",
            "showbackground": true,
            "ticks": "",
            "zerolinecolor": "white"
           },
           "yaxis": {
            "backgroundcolor": "#E5ECF6",
            "gridcolor": "white",
            "gridwidth": 2,
            "linecolor": "white",
            "showbackground": true,
            "ticks": "",
            "zerolinecolor": "white"
           },
           "zaxis": {
            "backgroundcolor": "#E5ECF6",
            "gridcolor": "white",
            "gridwidth": 2,
            "linecolor": "white",
            "showbackground": true,
            "ticks": "",
            "zerolinecolor": "white"
           }
          },
          "shapedefaults": {
           "line": {
            "color": "#2a3f5f"
           }
          },
          "ternary": {
           "aaxis": {
            "gridcolor": "white",
            "linecolor": "white",
            "ticks": ""
           },
           "baxis": {
            "gridcolor": "white",
            "linecolor": "white",
            "ticks": ""
           },
           "bgcolor": "#E5ECF6",
           "caxis": {
            "gridcolor": "white",
            "linecolor": "white",
            "ticks": ""
           }
          },
          "title": {
           "x": 0.05
          },
          "xaxis": {
           "automargin": true,
           "gridcolor": "white",
           "linecolor": "white",
           "ticks": "",
           "title": {
            "standoff": 15
           },
           "zerolinecolor": "white",
           "zerolinewidth": 2
          },
          "yaxis": {
           "automargin": true,
           "gridcolor": "white",
           "linecolor": "white",
           "ticks": "",
           "title": {
            "standoff": 15
           },
           "zerolinecolor": "white",
           "zerolinewidth": 2
          }
         }
        },
        "title": {
         "font": {
          "color": "#4D5663"
         }
        },
        "xaxis": {
         "gridcolor": "#E1E5ED",
         "showgrid": true,
         "tickfont": {
          "color": "#4D5663"
         },
         "title": {
          "font": {
           "color": "#4D5663"
          },
          "text": ""
         },
         "zerolinecolor": "#E1E5ED"
        },
        "yaxis": {
         "gridcolor": "#E1E5ED",
         "showgrid": true,
         "tickfont": {
          "color": "#4D5663"
         },
         "title": {
          "font": {
           "color": "#4D5663"
          },
          "text": ""
         },
         "zerolinecolor": "#E1E5ED"
        }
       }
      },
      "text/html": [
       "<div>\n",
       "        \n",
       "        \n",
       "            <div id=\"94737de3-21b7-4f34-88cb-d214a880c47d\" class=\"plotly-graph-div\" style=\"height:525px; width:100%;\"></div>\n",
       "            <script type=\"text/javascript\">\n",
       "                require([\"plotly\"], function(Plotly) {\n",
       "                    window.PLOTLYENV=window.PLOTLYENV || {};\n",
       "                    window.PLOTLYENV.BASE_URL='https://plot.ly';\n",
       "                    \n",
       "                if (document.getElementById(\"94737de3-21b7-4f34-88cb-d214a880c47d\")) {\n",
       "                    Plotly.newPlot(\n",
       "                        '94737de3-21b7-4f34-88cb-d214a880c47d',\n",
       "                        [{\"marker\": {\"color\": \"rgba(255, 153, 51, 0.6)\", \"line\": {\"color\": \"rgba(255, 153, 51, 1.0)\", \"width\": 1}}, \"name\": \"None\", \"orientation\": \"v\", \"text\": \"\", \"type\": \"bar\", \"x\": [\"A\", \"B\", \"C\", \"D\"], \"y\": [-13.220278355027999, 8.234599407352825, -0.9405866720831658, 7.4630742800814485]}],\n",
       "                        {\"legend\": {\"bgcolor\": \"#F5F6F9\", \"font\": {\"color\": \"#4D5663\"}}, \"paper_bgcolor\": \"#F5F6F9\", \"plot_bgcolor\": \"#F5F6F9\", \"template\": {\"data\": {\"bar\": [{\"error_x\": {\"color\": \"#2a3f5f\"}, \"error_y\": {\"color\": \"#2a3f5f\"}, \"marker\": {\"line\": {\"color\": \"#E5ECF6\", \"width\": 0.5}}, \"type\": \"bar\"}], \"barpolar\": [{\"marker\": {\"line\": {\"color\": \"#E5ECF6\", \"width\": 0.5}}, \"type\": \"barpolar\"}], \"carpet\": [{\"aaxis\": {\"endlinecolor\": \"#2a3f5f\", \"gridcolor\": \"white\", \"linecolor\": \"white\", \"minorgridcolor\": \"white\", \"startlinecolor\": \"#2a3f5f\"}, \"baxis\": {\"endlinecolor\": \"#2a3f5f\", \"gridcolor\": \"white\", \"linecolor\": \"white\", \"minorgridcolor\": \"white\", \"startlinecolor\": \"#2a3f5f\"}, \"type\": \"carpet\"}], \"choropleth\": [{\"colorbar\": {\"outlinewidth\": 0, \"ticks\": \"\"}, \"type\": \"choropleth\"}], \"contour\": [{\"colorbar\": {\"outlinewidth\": 0, \"ticks\": \"\"}, \"colorscale\": [[0.0, \"#0d0887\"], [0.1111111111111111, \"#46039f\"], [0.2222222222222222, \"#7201a8\"], [0.3333333333333333, \"#9c179e\"], [0.4444444444444444, \"#bd3786\"], [0.5555555555555556, \"#d8576b\"], [0.6666666666666666, \"#ed7953\"], [0.7777777777777778, \"#fb9f3a\"], [0.8888888888888888, \"#fdca26\"], [1.0, \"#f0f921\"]], \"type\": \"contour\"}], \"contourcarpet\": [{\"colorbar\": {\"outlinewidth\": 0, \"ticks\": \"\"}, \"type\": \"contourcarpet\"}], \"heatmap\": [{\"colorbar\": {\"outlinewidth\": 0, \"ticks\": \"\"}, \"colorscale\": [[0.0, \"#0d0887\"], [0.1111111111111111, \"#46039f\"], [0.2222222222222222, \"#7201a8\"], [0.3333333333333333, \"#9c179e\"], [0.4444444444444444, \"#bd3786\"], [0.5555555555555556, \"#d8576b\"], [0.6666666666666666, \"#ed7953\"], [0.7777777777777778, \"#fb9f3a\"], [0.8888888888888888, \"#fdca26\"], [1.0, \"#f0f921\"]], \"type\": \"heatmap\"}], \"heatmapgl\": [{\"colorbar\": {\"outlinewidth\": 0, \"ticks\": \"\"}, \"colorscale\": [[0.0, \"#0d0887\"], [0.1111111111111111, \"#46039f\"], [0.2222222222222222, \"#7201a8\"], [0.3333333333333333, \"#9c179e\"], [0.4444444444444444, \"#bd3786\"], [0.5555555555555556, \"#d8576b\"], [0.6666666666666666, \"#ed7953\"], [0.7777777777777778, \"#fb9f3a\"], [0.8888888888888888, \"#fdca26\"], [1.0, \"#f0f921\"]], \"type\": \"heatmapgl\"}], \"histogram\": [{\"marker\": {\"colorbar\": {\"outlinewidth\": 0, \"ticks\": \"\"}}, \"type\": \"histogram\"}], \"histogram2d\": [{\"colorbar\": {\"outlinewidth\": 0, \"ticks\": \"\"}, \"colorscale\": [[0.0, \"#0d0887\"], [0.1111111111111111, \"#46039f\"], [0.2222222222222222, \"#7201a8\"], [0.3333333333333333, \"#9c179e\"], [0.4444444444444444, \"#bd3786\"], [0.5555555555555556, \"#d8576b\"], [0.6666666666666666, \"#ed7953\"], [0.7777777777777778, \"#fb9f3a\"], [0.8888888888888888, \"#fdca26\"], [1.0, \"#f0f921\"]], \"type\": \"histogram2d\"}], \"histogram2dcontour\": [{\"colorbar\": {\"outlinewidth\": 0, \"ticks\": \"\"}, \"colorscale\": [[0.0, \"#0d0887\"], [0.1111111111111111, \"#46039f\"], [0.2222222222222222, \"#7201a8\"], [0.3333333333333333, \"#9c179e\"], [0.4444444444444444, \"#bd3786\"], [0.5555555555555556, \"#d8576b\"], [0.6666666666666666, \"#ed7953\"], [0.7777777777777778, \"#fb9f3a\"], [0.8888888888888888, \"#fdca26\"], [1.0, \"#f0f921\"]], \"type\": \"histogram2dcontour\"}], \"mesh3d\": [{\"colorbar\": {\"outlinewidth\": 0, \"ticks\": \"\"}, \"type\": \"mesh3d\"}], \"parcoords\": [{\"line\": {\"colorbar\": {\"outlinewidth\": 0, \"ticks\": \"\"}}, \"type\": \"parcoords\"}], \"pie\": [{\"automargin\": true, \"type\": \"pie\"}], \"scatter\": [{\"marker\": {\"colorbar\": {\"outlinewidth\": 0, \"ticks\": \"\"}}, \"type\": \"scatter\"}], \"scatter3d\": [{\"line\": {\"colorbar\": {\"outlinewidth\": 0, \"ticks\": \"\"}}, \"marker\": {\"colorbar\": {\"outlinewidth\": 0, \"ticks\": \"\"}}, \"type\": \"scatter3d\"}], \"scattercarpet\": [{\"marker\": {\"colorbar\": {\"outlinewidth\": 0, \"ticks\": \"\"}}, \"type\": \"scattercarpet\"}], \"scattergeo\": [{\"marker\": {\"colorbar\": {\"outlinewidth\": 0, \"ticks\": \"\"}}, \"type\": \"scattergeo\"}], \"scattergl\": [{\"marker\": {\"colorbar\": {\"outlinewidth\": 0, \"ticks\": \"\"}}, \"type\": \"scattergl\"}], \"scattermapbox\": [{\"marker\": {\"colorbar\": {\"outlinewidth\": 0, \"ticks\": \"\"}}, \"type\": \"scattermapbox\"}], \"scatterpolar\": [{\"marker\": {\"colorbar\": {\"outlinewidth\": 0, \"ticks\": \"\"}}, \"type\": \"scatterpolar\"}], \"scatterpolargl\": [{\"marker\": {\"colorbar\": {\"outlinewidth\": 0, \"ticks\": \"\"}}, \"type\": \"scatterpolargl\"}], \"scatterternary\": [{\"marker\": {\"colorbar\": {\"outlinewidth\": 0, \"ticks\": \"\"}}, \"type\": \"scatterternary\"}], \"surface\": [{\"colorbar\": {\"outlinewidth\": 0, \"ticks\": \"\"}, \"colorscale\": [[0.0, \"#0d0887\"], [0.1111111111111111, \"#46039f\"], [0.2222222222222222, \"#7201a8\"], [0.3333333333333333, \"#9c179e\"], [0.4444444444444444, \"#bd3786\"], [0.5555555555555556, \"#d8576b\"], [0.6666666666666666, \"#ed7953\"], [0.7777777777777778, \"#fb9f3a\"], [0.8888888888888888, \"#fdca26\"], [1.0, \"#f0f921\"]], \"type\": \"surface\"}], \"table\": [{\"cells\": {\"fill\": {\"color\": \"#EBF0F8\"}, \"line\": {\"color\": \"white\"}}, \"header\": {\"fill\": {\"color\": \"#C8D4E3\"}, \"line\": {\"color\": \"white\"}}, \"type\": \"table\"}]}, \"layout\": {\"annotationdefaults\": {\"arrowcolor\": \"#2a3f5f\", \"arrowhead\": 0, \"arrowwidth\": 1}, \"coloraxis\": {\"colorbar\": {\"outlinewidth\": 0, \"ticks\": \"\"}}, \"colorscale\": {\"diverging\": [[0, \"#8e0152\"], [0.1, \"#c51b7d\"], [0.2, \"#de77ae\"], [0.3, \"#f1b6da\"], [0.4, \"#fde0ef\"], [0.5, \"#f7f7f7\"], [0.6, \"#e6f5d0\"], [0.7, \"#b8e186\"], [0.8, \"#7fbc41\"], [0.9, \"#4d9221\"], [1, \"#276419\"]], \"sequential\": [[0.0, \"#0d0887\"], [0.1111111111111111, \"#46039f\"], [0.2222222222222222, \"#7201a8\"], [0.3333333333333333, \"#9c179e\"], [0.4444444444444444, \"#bd3786\"], [0.5555555555555556, \"#d8576b\"], [0.6666666666666666, \"#ed7953\"], [0.7777777777777778, \"#fb9f3a\"], [0.8888888888888888, \"#fdca26\"], [1.0, \"#f0f921\"]], \"sequentialminus\": [[0.0, \"#0d0887\"], [0.1111111111111111, \"#46039f\"], [0.2222222222222222, \"#7201a8\"], [0.3333333333333333, \"#9c179e\"], [0.4444444444444444, \"#bd3786\"], [0.5555555555555556, \"#d8576b\"], [0.6666666666666666, \"#ed7953\"], [0.7777777777777778, \"#fb9f3a\"], [0.8888888888888888, \"#fdca26\"], [1.0, \"#f0f921\"]]}, \"colorway\": [\"#636efa\", \"#EF553B\", \"#00cc96\", \"#ab63fa\", \"#FFA15A\", \"#19d3f3\", \"#FF6692\", \"#B6E880\", \"#FF97FF\", \"#FECB52\"], \"font\": {\"color\": \"#2a3f5f\"}, \"geo\": {\"bgcolor\": \"white\", \"lakecolor\": \"white\", \"landcolor\": \"#E5ECF6\", \"showlakes\": true, \"showland\": true, \"subunitcolor\": \"white\"}, \"hoverlabel\": {\"align\": \"left\"}, \"hovermode\": \"closest\", \"mapbox\": {\"style\": \"light\"}, \"paper_bgcolor\": \"white\", \"plot_bgcolor\": \"#E5ECF6\", \"polar\": {\"angularaxis\": {\"gridcolor\": \"white\", \"linecolor\": \"white\", \"ticks\": \"\"}, \"bgcolor\": \"#E5ECF6\", \"radialaxis\": {\"gridcolor\": \"white\", \"linecolor\": \"white\", \"ticks\": \"\"}}, \"scene\": {\"xaxis\": {\"backgroundcolor\": \"#E5ECF6\", \"gridcolor\": \"white\", \"gridwidth\": 2, \"linecolor\": \"white\", \"showbackground\": true, \"ticks\": \"\", \"zerolinecolor\": \"white\"}, \"yaxis\": {\"backgroundcolor\": \"#E5ECF6\", \"gridcolor\": \"white\", \"gridwidth\": 2, \"linecolor\": \"white\", \"showbackground\": true, \"ticks\": \"\", \"zerolinecolor\": \"white\"}, \"zaxis\": {\"backgroundcolor\": \"#E5ECF6\", \"gridcolor\": \"white\", \"gridwidth\": 2, \"linecolor\": \"white\", \"showbackground\": true, \"ticks\": \"\", \"zerolinecolor\": \"white\"}}, \"shapedefaults\": {\"line\": {\"color\": \"#2a3f5f\"}}, \"ternary\": {\"aaxis\": {\"gridcolor\": \"white\", \"linecolor\": \"white\", \"ticks\": \"\"}, \"baxis\": {\"gridcolor\": \"white\", \"linecolor\": \"white\", \"ticks\": \"\"}, \"bgcolor\": \"#E5ECF6\", \"caxis\": {\"gridcolor\": \"white\", \"linecolor\": \"white\", \"ticks\": \"\"}}, \"title\": {\"x\": 0.05}, \"xaxis\": {\"automargin\": true, \"gridcolor\": \"white\", \"linecolor\": \"white\", \"ticks\": \"\", \"title\": {\"standoff\": 15}, \"zerolinecolor\": \"white\", \"zerolinewidth\": 2}, \"yaxis\": {\"automargin\": true, \"gridcolor\": \"white\", \"linecolor\": \"white\", \"ticks\": \"\", \"title\": {\"standoff\": 15}, \"zerolinecolor\": \"white\", \"zerolinewidth\": 2}}}, \"title\": {\"font\": {\"color\": \"#4D5663\"}}, \"xaxis\": {\"gridcolor\": \"#E1E5ED\", \"showgrid\": true, \"tickfont\": {\"color\": \"#4D5663\"}, \"title\": {\"font\": {\"color\": \"#4D5663\"}, \"text\": \"\"}, \"zerolinecolor\": \"#E1E5ED\"}, \"yaxis\": {\"gridcolor\": \"#E1E5ED\", \"showgrid\": true, \"tickfont\": {\"color\": \"#4D5663\"}, \"title\": {\"font\": {\"color\": \"#4D5663\"}, \"text\": \"\"}, \"zerolinecolor\": \"#E1E5ED\"}},\n",
       "                        {\"showLink\": true, \"linkText\": \"Export to plot.ly\", \"plotlyServerURL\": \"https://plot.ly\", \"responsive\": true}\n",
       "                    ).then(function(){\n",
       "                            \n",
       "var gd = document.getElementById('94737de3-21b7-4f34-88cb-d214a880c47d');\n",
       "var x = new MutationObserver(function (mutations, observer) {{\n",
       "        var display = window.getComputedStyle(gd).display;\n",
       "        if (!display || display === 'none') {{\n",
       "            console.log([gd, 'removed!']);\n",
       "            Plotly.purge(gd);\n",
       "            observer.disconnect();\n",
       "        }}\n",
       "}});\n",
       "\n",
       "// Listen for the removal of the full notebook cells\n",
       "var notebookContainer = gd.closest('#notebook-container');\n",
       "if (notebookContainer) {{\n",
       "    x.observe(notebookContainer, {childList: true});\n",
       "}}\n",
       "\n",
       "// Listen for the clearing of the current output cell\n",
       "var outputEl = gd.closest('.output');\n",
       "if (outputEl) {{\n",
       "    x.observe(outputEl, {childList: true});\n",
       "}}\n",
       "\n",
       "                        })\n",
       "                };\n",
       "                });\n",
       "            </script>\n",
       "        </div>"
      ]
     },
     "metadata": {},
     "output_type": "display_data"
    }
   ],
   "source": [
    "df.sum().iplot(kind=\"bar\")"
   ]
  },
  {
   "cell_type": "code",
   "execution_count": 54,
   "metadata": {},
   "outputs": [
    {
     "data": {
      "application/vnd.plotly.v1+json": {
       "config": {
        "linkText": "Export to plot.ly",
        "plotlyServerURL": "https://plot.ly",
        "showLink": true
       },
       "data": [
        {
         "boxpoints": false,
         "line": {
          "width": 1.3
         },
         "marker": {
          "color": "rgba(255, 153, 51, 1.0)"
         },
         "name": "A",
         "orientation": "v",
         "type": "box",
         "y": [
          -0.4400399649717887,
          -0.3595613077728515,
          1.873406826294262,
          0.38969186783380566,
          -0.022267424723130477,
          0.43504747311291625,
          0.2554983804257713,
          -0.43489588798704,
          1.3426244457395577,
          -0.48428219422439583,
          1.2792534848487378,
          -0.33430267928447205,
          -0.05871625452323227,
          -1.4641294945567087,
          0.6879170405939331,
          -0.5789676388980899,
          0.4834159267743571,
          0.7888288795843491,
          0.3323842082460313,
          -0.500455046491514,
          1.1349638922438667,
          0.0648394026874129,
          -1.8369173628695823,
          -1.364696374259146,
          -0.23163879310313643,
          0.44184120624887646,
          -0.008754529905923444,
          -0.8468384671871605,
          -1.7609159005214712,
          -0.8906016871681184,
          0.0014061404898391655,
          -0.8273110356202099,
          -1.4469547151441569,
          1.130716065259019,
          1.8385150812690811,
          1.4480020373494882,
          -0.7299993682456137,
          0.7084053880561713,
          -1.9574977231406003,
          1.3225294983535072,
          0.4604816538773025,
          0.5978851424936994,
          -0.029798002575205002,
          2.4444818990726014,
          0.23121109999846337,
          0.39411414563714564,
          1.424994271543353,
          -1.0108760588569032,
          -0.20433405466852314,
          -0.5930604286487997,
          -0.17345914350442432,
          -1.5383599521702267,
          1.9870464339271097,
          -0.9572961564127893,
          0.2736969217055384,
          -0.14260090164422665,
          0.5639127289263197,
          -1.2416397081029351,
          -1.0359339740593136,
          0.49857507285146657,
          -1.2100830662432491,
          1.0950061628189116,
          1.8846659520987912,
          -1.7878728745495034,
          0.28857746221554864,
          -1.4088943816655852,
          -1.2087136735183925,
          1.2778115772660252,
          1.6546599214910305,
          -0.7462906107026152,
          -0.9209903093715155,
          0.23517131057492602,
          -1.3162249191278517,
          0.8134368199054091,
          -0.0374560977698149,
          -0.9081747971850014,
          0.3002608454591211,
          -1.9056226453352814,
          0.4297281861337904,
          -0.5789872115675557,
          0.21575296332290184,
          1.5659208168241434,
          -0.5014118806704894,
          -0.36063540909619,
          -1.6235631621904136,
          0.20410868074437,
          -0.9931668727532835,
          0.24227106624572672,
          -1.4183421552714632,
          -2.4218648828227294,
          0.24063590836634863,
          -0.721590758122123,
          -0.29554997751728773,
          -0.723704077745416,
          -0.6669451077956237,
          -2.1012240102699056,
          -0.47528546735939825,
          0.9874550770448093,
          -1.0165171112904952,
          -0.6352140298009604
         ]
        },
        {
         "boxpoints": false,
         "line": {
          "width": 1.3
         },
         "marker": {
          "color": "rgba(55, 128, 191, 1.0)"
         },
         "name": "B",
         "orientation": "v",
         "type": "box",
         "y": [
          0.005253742579835973,
          0.7716277501844138,
          -1.3400305920631033,
          0.8318700917157779,
          2.240199667702425,
          -0.22292209976958163,
          -0.21705185991763193,
          -0.7393949298922802,
          -0.3067156431895187,
          0.3828707180093922,
          2.1967246063897288,
          -0.02905384790058943,
          0.23135537214505922,
          -1.8585285444240034,
          1.5382087491369076,
          2.0203249946759017,
          -0.10883618494234559,
          0.5586990172547254,
          -0.5173941777182314,
          0.6493323533920731,
          0.5779378136248604,
          1.1086260382106041,
          0.04515298529579711,
          1.8669147038799583,
          -1.081982530900694,
          0.34588203934046,
          -0.6738517290892458,
          0.5307011208620993,
          -0.2890152225836287,
          -1.0968014185406156,
          0.0069997093709019825,
          1.0096161393672936,
          -0.11999388042626354,
          -0.9846719383735099,
          2.1550176489971897,
          -0.0862558055942889,
          -0.6472715416910069,
          2.638125871089636,
          1.1062598580697107,
          -0.17386800601023839,
          -2.035440917897416,
          -0.3238816966370988,
          -0.9241586801488743,
          0.28270061840290656,
          -1.2936177268615774,
          -1.653251938555071,
          0.16674799397119405,
          -0.2662948634241881,
          0.08036384060337945,
          1.0983462697803852,
          0.3509552047370613,
          -0.43682665169660967,
          -1.3827744606669374,
          0.4738958851556978,
          -1.1325269214747788,
          -0.648548134378684,
          -0.23004881722647422,
          1.868850040978546,
          -0.07655085017094414,
          -1.406890502921777,
          -1.065453004451698,
          0.5349288988151877,
          1.3773373978807573,
          0.5867444979295666,
          0.8620421567209805,
          0.02407766005255767,
          -0.24521601213683414,
          0.048430437282934974,
          -1.7974755498952042,
          -1.2740596900069847,
          0.1877725087100248,
          -0.4093879315825059,
          0.5824620905697605,
          -0.799413254250628,
          2.6027632503644575,
          -1.563154453440586,
          -0.9213031507408195,
          0.07979897204686634,
          -0.9906227712393095,
          0.7259471437511759,
          0.13646236887374574,
          -0.5901089050824726,
          0.4830250607805121,
          0.07045911603626373,
          -1.0395461897361091,
          0.159846520137536,
          1.0109455233378781,
          0.15754580369888657,
          -0.10428812849781907,
          0.8880653905779591,
          -0.2091950350731277,
          -1.5960364240674625,
          -0.7720547303970756,
          1.4142597808980752,
          0.253057761265195,
          2.096759738915302,
          -0.49800753714594564,
          2.205377221396586,
          0.7549940575074778,
          0.03171008771101023
         ]
        },
        {
         "boxpoints": false,
         "line": {
          "width": 1.3
         },
         "marker": {
          "color": "rgba(50, 171, 96, 1.0)"
         },
         "name": "C",
         "orientation": "v",
         "type": "box",
         "y": [
          -0.059833531115340205,
          -1.1307586921024038,
          -1.5170991708405983,
          0.1160808301074496,
          -0.12443331309427426,
          1.2676305263539098,
          -1.6463008113069764,
          1.0704509382146838,
          -1.2047255156083325,
          -0.6037064891403543,
          -0.7475201631838689,
          -1.1744669027475887,
          0.48030262284316644,
          0.9098214135560966,
          -1.5993906133446323,
          0.4197640743888284,
          -0.2149301619105147,
          -0.17314106369777055,
          0.028213515702107568,
          -0.18534379249626168,
          0.3151620624222115,
          0.9543056213143404,
          1.5883852349755774,
          -0.12240271652122195,
          -0.5270291517043504,
          0.4864170800204461,
          0.8562578232246958,
          -1.6797894688423038,
          -0.9467473139214349,
          -0.7997157670107652,
          0.10001814984347672,
          1.7828893670975494,
          0.7031607462574542,
          0.010171140660643115,
          -0.40167286790753254,
          -0.022713288502423733,
          -1.2176710880508304,
          2.069515328450902,
          -0.4091616095882992,
          -0.0215929308246728,
          0.5974480325520253,
          -1.2983711082734464,
          -0.8769517606723604,
          0.43442891150441015,
          -0.6944095639989479,
          4.032736790835397,
          -0.5183645416258648,
          -0.35214783613094147,
          0.4283182689039598,
          -1.2825855564049675,
          2.042810376896394,
          0.8363617075024146,
          -0.24996803048593447,
          -0.7249052202412539,
          1.0659431873725955,
          0.11999074219720175,
          -2.6225097483783832,
          -0.9306985386490227,
          0.6149332485969911,
          -1.135900314950092,
          0.38599838131658937,
          -0.08306721638522246,
          1.6228039601371533,
          -0.07772711618525334,
          1.3298450092271772,
          -0.05050903008593878,
          1.8652974639279727,
          -0.2665584107205339,
          0.3849658987096003,
          -0.15359569461542186,
          1.8237622467376262,
          0.3661468059331742,
          -2.916564206650955,
          0.3972639089615204,
          0.008198659931431334,
          -1.5760208632854669,
          -0.8030979407843182,
          0.35268724922940176,
          -0.07195584029076904,
          0.6332523111960984,
          -0.053138329815598066,
          1.2350429498079165,
          0.5319503342878098,
          -1.6645778363543628,
          1.0582342841677217,
          0.13758399933343138,
          0.028425285203291552,
          0.6308990774792219,
          -0.44371572618825567,
          -0.03240748373035467,
          -0.6681543753003671,
          -0.11092583493554127,
          -1.3046806089449365,
          -1.0946605716276787,
          -1.0221848513838285,
          0.029419760269896504,
          0.7125106388215899,
          0.7110358381773751,
          0.2072281455770876,
          0.8858439582475902
         ]
        },
        {
         "boxpoints": false,
         "line": {
          "width": 1.3
         },
         "marker": {
          "color": "rgba(128, 0, 128, 1.0)"
         },
         "name": "D",
         "orientation": "v",
         "type": "box",
         "y": [
          -0.048438637774105314,
          -0.7819332955743884,
          -0.3801495953586696,
          0.09272418733206131,
          0.7808245571391312,
          0.5292232251316453,
          0.7274627743044587,
          -0.39748388296073767,
          0.33351628234173764,
          1.4353874488035603,
          -0.6416122676165328,
          -0.21624374030643773,
          -0.18262892551164203,
          1.4320690617186551,
          0.7522520439339312,
          -0.22238280208314654,
          -0.0024148553404345257,
          -1.5499752000072256,
          -1.969076768612912,
          1.0340972198392024,
          0.580563689799276,
          1.4587509308564321,
          -0.7825285048922617,
          0.16942465775404666,
          0.6580084266340505,
          0.9721824509859225,
          -0.9114882246177496,
          0.4611795445753822,
          0.7117293714633903,
          1.0491048103930758,
          0.8913969800869878,
          0.8974951904504173,
          -1.8467424551374227,
          1.2907662114214729,
          -2.459928488972569,
          -0.7628256803186014,
          -1.1986338915846038,
          0.8409660087997013,
          0.39053277181916746,
          0.3537879516964365,
          -0.19827400142084714,
          2.45078684667432,
          0.39339632744919706,
          1.2959445775725915,
          1.55742033037734,
          0.15903677031659075,
          0.8301172205354383,
          0.07725869797638997,
          -0.8540182591131804,
          -0.4997019785406598,
          1.2306188176947799,
          1.0920997473503868,
          -1.4925144990722459,
          -0.637145097678531,
          0.6605694198821305,
          -0.2817495373297371,
          -0.8375067117343374,
          -0.49206741167074847,
          -0.7726679333091742,
          -0.25396873345375925,
          0.9369327122811331,
          0.11446557309415974,
          0.557350214273498,
          -1.9565685423533479,
          -1.5931447014695428,
          0.42898871597828225,
          -0.13836267817067688,
          0.1740860135897892,
          -0.8150969593659615,
          0.3098140820911925,
          1.5856448102666456,
          -2.1520243724874897,
          -1.7069881134059737,
          0.6700740038384747,
          -1.2851453720497432,
          0.6364030819540974,
          -0.6728078005632903,
          -0.541035384971853,
          0.48763875357064984,
          1.091767088668557,
          1.109686796001412,
          -0.8621987749294595,
          -0.6507530256151302,
          0.485891682406828,
          1.4384870607912152,
          -1.2671510033372553,
          1.4909740801643505,
          -0.8486207628250105,
          -0.32893116836800396,
          -0.06685992986459374,
          -0.038509021919391075,
          1.39546176696491,
          -0.15091955130675058,
          1.0986346044800837,
          0.025414523902503757,
          1.26850959258467,
          0.4458738876443096,
          0.9496227170696862,
          -0.561925735762768,
          -0.5181977558854044
         ]
        }
       ],
       "layout": {
        "legend": {
         "bgcolor": "#F5F6F9",
         "font": {
          "color": "#4D5663"
         }
        },
        "paper_bgcolor": "#F5F6F9",
        "plot_bgcolor": "#F5F6F9",
        "template": {
         "data": {
          "bar": [
           {
            "error_x": {
             "color": "#2a3f5f"
            },
            "error_y": {
             "color": "#2a3f5f"
            },
            "marker": {
             "line": {
              "color": "#E5ECF6",
              "width": 0.5
             }
            },
            "type": "bar"
           }
          ],
          "barpolar": [
           {
            "marker": {
             "line": {
              "color": "#E5ECF6",
              "width": 0.5
             }
            },
            "type": "barpolar"
           }
          ],
          "carpet": [
           {
            "aaxis": {
             "endlinecolor": "#2a3f5f",
             "gridcolor": "white",
             "linecolor": "white",
             "minorgridcolor": "white",
             "startlinecolor": "#2a3f5f"
            },
            "baxis": {
             "endlinecolor": "#2a3f5f",
             "gridcolor": "white",
             "linecolor": "white",
             "minorgridcolor": "white",
             "startlinecolor": "#2a3f5f"
            },
            "type": "carpet"
           }
          ],
          "choropleth": [
           {
            "colorbar": {
             "outlinewidth": 0,
             "ticks": ""
            },
            "type": "choropleth"
           }
          ],
          "contour": [
           {
            "colorbar": {
             "outlinewidth": 0,
             "ticks": ""
            },
            "colorscale": [
             [
              0,
              "#0d0887"
             ],
             [
              0.1111111111111111,
              "#46039f"
             ],
             [
              0.2222222222222222,
              "#7201a8"
             ],
             [
              0.3333333333333333,
              "#9c179e"
             ],
             [
              0.4444444444444444,
              "#bd3786"
             ],
             [
              0.5555555555555556,
              "#d8576b"
             ],
             [
              0.6666666666666666,
              "#ed7953"
             ],
             [
              0.7777777777777778,
              "#fb9f3a"
             ],
             [
              0.8888888888888888,
              "#fdca26"
             ],
             [
              1,
              "#f0f921"
             ]
            ],
            "type": "contour"
           }
          ],
          "contourcarpet": [
           {
            "colorbar": {
             "outlinewidth": 0,
             "ticks": ""
            },
            "type": "contourcarpet"
           }
          ],
          "heatmap": [
           {
            "colorbar": {
             "outlinewidth": 0,
             "ticks": ""
            },
            "colorscale": [
             [
              0,
              "#0d0887"
             ],
             [
              0.1111111111111111,
              "#46039f"
             ],
             [
              0.2222222222222222,
              "#7201a8"
             ],
             [
              0.3333333333333333,
              "#9c179e"
             ],
             [
              0.4444444444444444,
              "#bd3786"
             ],
             [
              0.5555555555555556,
              "#d8576b"
             ],
             [
              0.6666666666666666,
              "#ed7953"
             ],
             [
              0.7777777777777778,
              "#fb9f3a"
             ],
             [
              0.8888888888888888,
              "#fdca26"
             ],
             [
              1,
              "#f0f921"
             ]
            ],
            "type": "heatmap"
           }
          ],
          "heatmapgl": [
           {
            "colorbar": {
             "outlinewidth": 0,
             "ticks": ""
            },
            "colorscale": [
             [
              0,
              "#0d0887"
             ],
             [
              0.1111111111111111,
              "#46039f"
             ],
             [
              0.2222222222222222,
              "#7201a8"
             ],
             [
              0.3333333333333333,
              "#9c179e"
             ],
             [
              0.4444444444444444,
              "#bd3786"
             ],
             [
              0.5555555555555556,
              "#d8576b"
             ],
             [
              0.6666666666666666,
              "#ed7953"
             ],
             [
              0.7777777777777778,
              "#fb9f3a"
             ],
             [
              0.8888888888888888,
              "#fdca26"
             ],
             [
              1,
              "#f0f921"
             ]
            ],
            "type": "heatmapgl"
           }
          ],
          "histogram": [
           {
            "marker": {
             "colorbar": {
              "outlinewidth": 0,
              "ticks": ""
             }
            },
            "type": "histogram"
           }
          ],
          "histogram2d": [
           {
            "colorbar": {
             "outlinewidth": 0,
             "ticks": ""
            },
            "colorscale": [
             [
              0,
              "#0d0887"
             ],
             [
              0.1111111111111111,
              "#46039f"
             ],
             [
              0.2222222222222222,
              "#7201a8"
             ],
             [
              0.3333333333333333,
              "#9c179e"
             ],
             [
              0.4444444444444444,
              "#bd3786"
             ],
             [
              0.5555555555555556,
              "#d8576b"
             ],
             [
              0.6666666666666666,
              "#ed7953"
             ],
             [
              0.7777777777777778,
              "#fb9f3a"
             ],
             [
              0.8888888888888888,
              "#fdca26"
             ],
             [
              1,
              "#f0f921"
             ]
            ],
            "type": "histogram2d"
           }
          ],
          "histogram2dcontour": [
           {
            "colorbar": {
             "outlinewidth": 0,
             "ticks": ""
            },
            "colorscale": [
             [
              0,
              "#0d0887"
             ],
             [
              0.1111111111111111,
              "#46039f"
             ],
             [
              0.2222222222222222,
              "#7201a8"
             ],
             [
              0.3333333333333333,
              "#9c179e"
             ],
             [
              0.4444444444444444,
              "#bd3786"
             ],
             [
              0.5555555555555556,
              "#d8576b"
             ],
             [
              0.6666666666666666,
              "#ed7953"
             ],
             [
              0.7777777777777778,
              "#fb9f3a"
             ],
             [
              0.8888888888888888,
              "#fdca26"
             ],
             [
              1,
              "#f0f921"
             ]
            ],
            "type": "histogram2dcontour"
           }
          ],
          "mesh3d": [
           {
            "colorbar": {
             "outlinewidth": 0,
             "ticks": ""
            },
            "type": "mesh3d"
           }
          ],
          "parcoords": [
           {
            "line": {
             "colorbar": {
              "outlinewidth": 0,
              "ticks": ""
             }
            },
            "type": "parcoords"
           }
          ],
          "pie": [
           {
            "automargin": true,
            "type": "pie"
           }
          ],
          "scatter": [
           {
            "marker": {
             "colorbar": {
              "outlinewidth": 0,
              "ticks": ""
             }
            },
            "type": "scatter"
           }
          ],
          "scatter3d": [
           {
            "line": {
             "colorbar": {
              "outlinewidth": 0,
              "ticks": ""
             }
            },
            "marker": {
             "colorbar": {
              "outlinewidth": 0,
              "ticks": ""
             }
            },
            "type": "scatter3d"
           }
          ],
          "scattercarpet": [
           {
            "marker": {
             "colorbar": {
              "outlinewidth": 0,
              "ticks": ""
             }
            },
            "type": "scattercarpet"
           }
          ],
          "scattergeo": [
           {
            "marker": {
             "colorbar": {
              "outlinewidth": 0,
              "ticks": ""
             }
            },
            "type": "scattergeo"
           }
          ],
          "scattergl": [
           {
            "marker": {
             "colorbar": {
              "outlinewidth": 0,
              "ticks": ""
             }
            },
            "type": "scattergl"
           }
          ],
          "scattermapbox": [
           {
            "marker": {
             "colorbar": {
              "outlinewidth": 0,
              "ticks": ""
             }
            },
            "type": "scattermapbox"
           }
          ],
          "scatterpolar": [
           {
            "marker": {
             "colorbar": {
              "outlinewidth": 0,
              "ticks": ""
             }
            },
            "type": "scatterpolar"
           }
          ],
          "scatterpolargl": [
           {
            "marker": {
             "colorbar": {
              "outlinewidth": 0,
              "ticks": ""
             }
            },
            "type": "scatterpolargl"
           }
          ],
          "scatterternary": [
           {
            "marker": {
             "colorbar": {
              "outlinewidth": 0,
              "ticks": ""
             }
            },
            "type": "scatterternary"
           }
          ],
          "surface": [
           {
            "colorbar": {
             "outlinewidth": 0,
             "ticks": ""
            },
            "colorscale": [
             [
              0,
              "#0d0887"
             ],
             [
              0.1111111111111111,
              "#46039f"
             ],
             [
              0.2222222222222222,
              "#7201a8"
             ],
             [
              0.3333333333333333,
              "#9c179e"
             ],
             [
              0.4444444444444444,
              "#bd3786"
             ],
             [
              0.5555555555555556,
              "#d8576b"
             ],
             [
              0.6666666666666666,
              "#ed7953"
             ],
             [
              0.7777777777777778,
              "#fb9f3a"
             ],
             [
              0.8888888888888888,
              "#fdca26"
             ],
             [
              1,
              "#f0f921"
             ]
            ],
            "type": "surface"
           }
          ],
          "table": [
           {
            "cells": {
             "fill": {
              "color": "#EBF0F8"
             },
             "line": {
              "color": "white"
             }
            },
            "header": {
             "fill": {
              "color": "#C8D4E3"
             },
             "line": {
              "color": "white"
             }
            },
            "type": "table"
           }
          ]
         },
         "layout": {
          "annotationdefaults": {
           "arrowcolor": "#2a3f5f",
           "arrowhead": 0,
           "arrowwidth": 1
          },
          "coloraxis": {
           "colorbar": {
            "outlinewidth": 0,
            "ticks": ""
           }
          },
          "colorscale": {
           "diverging": [
            [
             0,
             "#8e0152"
            ],
            [
             0.1,
             "#c51b7d"
            ],
            [
             0.2,
             "#de77ae"
            ],
            [
             0.3,
             "#f1b6da"
            ],
            [
             0.4,
             "#fde0ef"
            ],
            [
             0.5,
             "#f7f7f7"
            ],
            [
             0.6,
             "#e6f5d0"
            ],
            [
             0.7,
             "#b8e186"
            ],
            [
             0.8,
             "#7fbc41"
            ],
            [
             0.9,
             "#4d9221"
            ],
            [
             1,
             "#276419"
            ]
           ],
           "sequential": [
            [
             0,
             "#0d0887"
            ],
            [
             0.1111111111111111,
             "#46039f"
            ],
            [
             0.2222222222222222,
             "#7201a8"
            ],
            [
             0.3333333333333333,
             "#9c179e"
            ],
            [
             0.4444444444444444,
             "#bd3786"
            ],
            [
             0.5555555555555556,
             "#d8576b"
            ],
            [
             0.6666666666666666,
             "#ed7953"
            ],
            [
             0.7777777777777778,
             "#fb9f3a"
            ],
            [
             0.8888888888888888,
             "#fdca26"
            ],
            [
             1,
             "#f0f921"
            ]
           ],
           "sequentialminus": [
            [
             0,
             "#0d0887"
            ],
            [
             0.1111111111111111,
             "#46039f"
            ],
            [
             0.2222222222222222,
             "#7201a8"
            ],
            [
             0.3333333333333333,
             "#9c179e"
            ],
            [
             0.4444444444444444,
             "#bd3786"
            ],
            [
             0.5555555555555556,
             "#d8576b"
            ],
            [
             0.6666666666666666,
             "#ed7953"
            ],
            [
             0.7777777777777778,
             "#fb9f3a"
            ],
            [
             0.8888888888888888,
             "#fdca26"
            ],
            [
             1,
             "#f0f921"
            ]
           ]
          },
          "colorway": [
           "#636efa",
           "#EF553B",
           "#00cc96",
           "#ab63fa",
           "#FFA15A",
           "#19d3f3",
           "#FF6692",
           "#B6E880",
           "#FF97FF",
           "#FECB52"
          ],
          "font": {
           "color": "#2a3f5f"
          },
          "geo": {
           "bgcolor": "white",
           "lakecolor": "white",
           "landcolor": "#E5ECF6",
           "showlakes": true,
           "showland": true,
           "subunitcolor": "white"
          },
          "hoverlabel": {
           "align": "left"
          },
          "hovermode": "closest",
          "mapbox": {
           "style": "light"
          },
          "paper_bgcolor": "white",
          "plot_bgcolor": "#E5ECF6",
          "polar": {
           "angularaxis": {
            "gridcolor": "white",
            "linecolor": "white",
            "ticks": ""
           },
           "bgcolor": "#E5ECF6",
           "radialaxis": {
            "gridcolor": "white",
            "linecolor": "white",
            "ticks": ""
           }
          },
          "scene": {
           "xaxis": {
            "backgroundcolor": "#E5ECF6",
            "gridcolor": "white",
            "gridwidth": 2,
            "linecolor": "white",
            "showbackground": true,
            "ticks": "",
            "zerolinecolor": "white"
           },
           "yaxis": {
            "backgroundcolor": "#E5ECF6",
            "gridcolor": "white",
            "gridwidth": 2,
            "linecolor": "white",
            "showbackground": true,
            "ticks": "",
            "zerolinecolor": "white"
           },
           "zaxis": {
            "backgroundcolor": "#E5ECF6",
            "gridcolor": "white",
            "gridwidth": 2,
            "linecolor": "white",
            "showbackground": true,
            "ticks": "",
            "zerolinecolor": "white"
           }
          },
          "shapedefaults": {
           "line": {
            "color": "#2a3f5f"
           }
          },
          "ternary": {
           "aaxis": {
            "gridcolor": "white",
            "linecolor": "white",
            "ticks": ""
           },
           "baxis": {
            "gridcolor": "white",
            "linecolor": "white",
            "ticks": ""
           },
           "bgcolor": "#E5ECF6",
           "caxis": {
            "gridcolor": "white",
            "linecolor": "white",
            "ticks": ""
           }
          },
          "title": {
           "x": 0.05
          },
          "xaxis": {
           "automargin": true,
           "gridcolor": "white",
           "linecolor": "white",
           "ticks": "",
           "title": {
            "standoff": 15
           },
           "zerolinecolor": "white",
           "zerolinewidth": 2
          },
          "yaxis": {
           "automargin": true,
           "gridcolor": "white",
           "linecolor": "white",
           "ticks": "",
           "title": {
            "standoff": 15
           },
           "zerolinecolor": "white",
           "zerolinewidth": 2
          }
         }
        },
        "title": {
         "font": {
          "color": "#4D5663"
         }
        },
        "xaxis": {
         "gridcolor": "#E1E5ED",
         "showgrid": true,
         "tickfont": {
          "color": "#4D5663"
         },
         "title": {
          "font": {
           "color": "#4D5663"
          },
          "text": ""
         },
         "zerolinecolor": "#E1E5ED"
        },
        "yaxis": {
         "gridcolor": "#E1E5ED",
         "showgrid": true,
         "tickfont": {
          "color": "#4D5663"
         },
         "title": {
          "font": {
           "color": "#4D5663"
          },
          "text": ""
         },
         "zerolinecolor": "#E1E5ED"
        }
       }
      },
      "text/html": [
       "<div>\n",
       "        \n",
       "        \n",
       "            <div id=\"20f97e09-d91b-4d84-a797-3948123f22f8\" class=\"plotly-graph-div\" style=\"height:525px; width:100%;\"></div>\n",
       "            <script type=\"text/javascript\">\n",
       "                require([\"plotly\"], function(Plotly) {\n",
       "                    window.PLOTLYENV=window.PLOTLYENV || {};\n",
       "                    window.PLOTLYENV.BASE_URL='https://plot.ly';\n",
       "                    \n",
       "                if (document.getElementById(\"20f97e09-d91b-4d84-a797-3948123f22f8\")) {\n",
       "                    Plotly.newPlot(\n",
       "                        '20f97e09-d91b-4d84-a797-3948123f22f8',\n",
       "                        [{\"boxpoints\": false, \"line\": {\"width\": 1.3}, \"marker\": {\"color\": \"rgba(255, 153, 51, 1.0)\"}, \"name\": \"A\", \"orientation\": \"v\", \"type\": \"box\", \"y\": [-0.4400399649717887, -0.3595613077728515, 1.873406826294262, 0.38969186783380566, -0.022267424723130477, 0.43504747311291625, 0.2554983804257713, -0.43489588798704, 1.3426244457395577, -0.48428219422439583, 1.2792534848487378, -0.33430267928447205, -0.05871625452323227, -1.4641294945567087, 0.6879170405939331, -0.5789676388980899, 0.4834159267743571, 0.7888288795843491, 0.3323842082460313, -0.500455046491514, 1.1349638922438667, 0.0648394026874129, -1.8369173628695823, -1.364696374259146, -0.23163879310313643, 0.44184120624887646, -0.008754529905923444, -0.8468384671871605, -1.7609159005214712, -0.8906016871681184, 0.0014061404898391655, -0.8273110356202099, -1.4469547151441569, 1.130716065259019, 1.8385150812690811, 1.4480020373494882, -0.7299993682456137, 0.7084053880561713, -1.9574977231406003, 1.3225294983535072, 0.4604816538773025, 0.5978851424936994, -0.029798002575205002, 2.4444818990726014, 0.23121109999846337, 0.39411414563714564, 1.424994271543353, -1.0108760588569032, -0.20433405466852314, -0.5930604286487997, -0.17345914350442432, -1.5383599521702267, 1.9870464339271097, -0.9572961564127893, 0.2736969217055384, -0.14260090164422665, 0.5639127289263197, -1.2416397081029351, -1.0359339740593136, 0.49857507285146657, -1.2100830662432491, 1.0950061628189116, 1.8846659520987912, -1.7878728745495034, 0.28857746221554864, -1.4088943816655852, -1.2087136735183925, 1.2778115772660252, 1.6546599214910305, -0.7462906107026152, -0.9209903093715155, 0.23517131057492602, -1.3162249191278517, 0.8134368199054091, -0.0374560977698149, -0.9081747971850014, 0.3002608454591211, -1.9056226453352814, 0.4297281861337904, -0.5789872115675557, 0.21575296332290184, 1.5659208168241434, -0.5014118806704894, -0.36063540909619, -1.6235631621904136, 0.20410868074437, -0.9931668727532835, 0.24227106624572672, -1.4183421552714632, -2.4218648828227294, 0.24063590836634863, -0.721590758122123, -0.29554997751728773, -0.723704077745416, -0.6669451077956237, -2.1012240102699056, -0.47528546735939825, 0.9874550770448093, -1.0165171112904952, -0.6352140298009604]}, {\"boxpoints\": false, \"line\": {\"width\": 1.3}, \"marker\": {\"color\": \"rgba(55, 128, 191, 1.0)\"}, \"name\": \"B\", \"orientation\": \"v\", \"type\": \"box\", \"y\": [0.005253742579835973, 0.7716277501844138, -1.3400305920631033, 0.8318700917157779, 2.240199667702425, -0.22292209976958163, -0.21705185991763193, -0.7393949298922802, -0.3067156431895187, 0.3828707180093922, 2.1967246063897288, -0.02905384790058943, 0.23135537214505922, -1.8585285444240034, 1.5382087491369076, 2.0203249946759017, -0.10883618494234559, 0.5586990172547254, -0.5173941777182314, 0.6493323533920731, 0.5779378136248604, 1.1086260382106041, 0.04515298529579711, 1.8669147038799583, -1.081982530900694, 0.34588203934046, -0.6738517290892458, 0.5307011208620993, -0.2890152225836287, -1.0968014185406156, 0.0069997093709019825, 1.0096161393672936, -0.11999388042626354, -0.9846719383735099, 2.1550176489971897, -0.0862558055942889, -0.6472715416910069, 2.638125871089636, 1.1062598580697107, -0.17386800601023839, -2.035440917897416, -0.3238816966370988, -0.9241586801488743, 0.28270061840290656, -1.2936177268615774, -1.653251938555071, 0.16674799397119405, -0.2662948634241881, 0.08036384060337945, 1.0983462697803852, 0.3509552047370613, -0.43682665169660967, -1.3827744606669374, 0.4738958851556978, -1.1325269214747788, -0.648548134378684, -0.23004881722647422, 1.868850040978546, -0.07655085017094414, -1.406890502921777, -1.065453004451698, 0.5349288988151877, 1.3773373978807573, 0.5867444979295666, 0.8620421567209805, 0.02407766005255767, -0.24521601213683414, 0.048430437282934974, -1.7974755498952042, -1.2740596900069847, 0.1877725087100248, -0.4093879315825059, 0.5824620905697605, -0.799413254250628, 2.6027632503644575, -1.563154453440586, -0.9213031507408195, 0.07979897204686634, -0.9906227712393095, 0.7259471437511759, 0.13646236887374574, -0.5901089050824726, 0.4830250607805121, 0.07045911603626373, -1.0395461897361091, 0.159846520137536, 1.0109455233378781, 0.15754580369888657, -0.10428812849781907, 0.8880653905779591, -0.2091950350731277, -1.5960364240674625, -0.7720547303970756, 1.4142597808980752, 0.253057761265195, 2.096759738915302, -0.49800753714594564, 2.205377221396586, 0.7549940575074778, 0.03171008771101023]}, {\"boxpoints\": false, \"line\": {\"width\": 1.3}, \"marker\": {\"color\": \"rgba(50, 171, 96, 1.0)\"}, \"name\": \"C\", \"orientation\": \"v\", \"type\": \"box\", \"y\": [-0.059833531115340205, -1.1307586921024038, -1.5170991708405983, 0.1160808301074496, -0.12443331309427426, 1.2676305263539098, -1.6463008113069764, 1.0704509382146838, -1.2047255156083325, -0.6037064891403543, -0.7475201631838689, -1.1744669027475887, 0.48030262284316644, 0.9098214135560966, -1.5993906133446323, 0.4197640743888284, -0.2149301619105147, -0.17314106369777055, 0.028213515702107568, -0.18534379249626168, 0.3151620624222115, 0.9543056213143404, 1.5883852349755774, -0.12240271652122195, -0.5270291517043504, 0.4864170800204461, 0.8562578232246958, -1.6797894688423038, -0.9467473139214349, -0.7997157670107652, 0.10001814984347672, 1.7828893670975494, 0.7031607462574542, 0.010171140660643115, -0.40167286790753254, -0.022713288502423733, -1.2176710880508304, 2.069515328450902, -0.4091616095882992, -0.0215929308246728, 0.5974480325520253, -1.2983711082734464, -0.8769517606723604, 0.43442891150441015, -0.6944095639989479, 4.032736790835397, -0.5183645416258648, -0.35214783613094147, 0.4283182689039598, -1.2825855564049675, 2.042810376896394, 0.8363617075024146, -0.24996803048593447, -0.7249052202412539, 1.0659431873725955, 0.11999074219720175, -2.6225097483783832, -0.9306985386490227, 0.6149332485969911, -1.135900314950092, 0.38599838131658937, -0.08306721638522246, 1.6228039601371533, -0.07772711618525334, 1.3298450092271772, -0.05050903008593878, 1.8652974639279727, -0.2665584107205339, 0.3849658987096003, -0.15359569461542186, 1.8237622467376262, 0.3661468059331742, -2.916564206650955, 0.3972639089615204, 0.008198659931431334, -1.5760208632854669, -0.8030979407843182, 0.35268724922940176, -0.07195584029076904, 0.6332523111960984, -0.053138329815598066, 1.2350429498079165, 0.5319503342878098, -1.6645778363543628, 1.0582342841677217, 0.13758399933343138, 0.028425285203291552, 0.6308990774792219, -0.44371572618825567, -0.03240748373035467, -0.6681543753003671, -0.11092583493554127, -1.3046806089449365, -1.0946605716276787, -1.0221848513838285, 0.029419760269896504, 0.7125106388215899, 0.7110358381773751, 0.2072281455770876, 0.8858439582475902]}, {\"boxpoints\": false, \"line\": {\"width\": 1.3}, \"marker\": {\"color\": \"rgba(128, 0, 128, 1.0)\"}, \"name\": \"D\", \"orientation\": \"v\", \"type\": \"box\", \"y\": [-0.048438637774105314, -0.7819332955743884, -0.3801495953586696, 0.09272418733206131, 0.7808245571391312, 0.5292232251316453, 0.7274627743044587, -0.39748388296073767, 0.33351628234173764, 1.4353874488035603, -0.6416122676165328, -0.21624374030643773, -0.18262892551164203, 1.4320690617186551, 0.7522520439339312, -0.22238280208314654, -0.0024148553404345257, -1.5499752000072256, -1.969076768612912, 1.0340972198392024, 0.580563689799276, 1.4587509308564321, -0.7825285048922617, 0.16942465775404666, 0.6580084266340505, 0.9721824509859225, -0.9114882246177496, 0.4611795445753822, 0.7117293714633903, 1.0491048103930758, 0.8913969800869878, 0.8974951904504173, -1.8467424551374227, 1.2907662114214729, -2.459928488972569, -0.7628256803186014, -1.1986338915846038, 0.8409660087997013, 0.39053277181916746, 0.3537879516964365, -0.19827400142084714, 2.45078684667432, 0.39339632744919706, 1.2959445775725915, 1.55742033037734, 0.15903677031659075, 0.8301172205354383, 0.07725869797638997, -0.8540182591131804, -0.4997019785406598, 1.2306188176947799, 1.0920997473503868, -1.4925144990722459, -0.637145097678531, 0.6605694198821305, -0.2817495373297371, -0.8375067117343374, -0.49206741167074847, -0.7726679333091742, -0.25396873345375925, 0.9369327122811331, 0.11446557309415974, 0.557350214273498, -1.9565685423533479, -1.5931447014695428, 0.42898871597828225, -0.13836267817067688, 0.1740860135897892, -0.8150969593659615, 0.3098140820911925, 1.5856448102666456, -2.1520243724874897, -1.7069881134059737, 0.6700740038384747, -1.2851453720497432, 0.6364030819540974, -0.6728078005632903, -0.541035384971853, 0.48763875357064984, 1.091767088668557, 1.109686796001412, -0.8621987749294595, -0.6507530256151302, 0.485891682406828, 1.4384870607912152, -1.2671510033372553, 1.4909740801643505, -0.8486207628250105, -0.32893116836800396, -0.06685992986459374, -0.038509021919391075, 1.39546176696491, -0.15091955130675058, 1.0986346044800837, 0.025414523902503757, 1.26850959258467, 0.4458738876443096, 0.9496227170696862, -0.561925735762768, -0.5181977558854044]}],\n",
       "                        {\"legend\": {\"bgcolor\": \"#F5F6F9\", \"font\": {\"color\": \"#4D5663\"}}, \"paper_bgcolor\": \"#F5F6F9\", \"plot_bgcolor\": \"#F5F6F9\", \"template\": {\"data\": {\"bar\": [{\"error_x\": {\"color\": \"#2a3f5f\"}, \"error_y\": {\"color\": \"#2a3f5f\"}, \"marker\": {\"line\": {\"color\": \"#E5ECF6\", \"width\": 0.5}}, \"type\": \"bar\"}], \"barpolar\": [{\"marker\": {\"line\": {\"color\": \"#E5ECF6\", \"width\": 0.5}}, \"type\": \"barpolar\"}], \"carpet\": [{\"aaxis\": {\"endlinecolor\": \"#2a3f5f\", \"gridcolor\": \"white\", \"linecolor\": \"white\", \"minorgridcolor\": \"white\", \"startlinecolor\": \"#2a3f5f\"}, \"baxis\": {\"endlinecolor\": \"#2a3f5f\", \"gridcolor\": \"white\", \"linecolor\": \"white\", \"minorgridcolor\": \"white\", \"startlinecolor\": \"#2a3f5f\"}, \"type\": \"carpet\"}], \"choropleth\": [{\"colorbar\": {\"outlinewidth\": 0, \"ticks\": \"\"}, \"type\": \"choropleth\"}], \"contour\": [{\"colorbar\": {\"outlinewidth\": 0, \"ticks\": \"\"}, \"colorscale\": [[0.0, \"#0d0887\"], [0.1111111111111111, \"#46039f\"], [0.2222222222222222, \"#7201a8\"], [0.3333333333333333, \"#9c179e\"], [0.4444444444444444, \"#bd3786\"], [0.5555555555555556, \"#d8576b\"], [0.6666666666666666, \"#ed7953\"], [0.7777777777777778, \"#fb9f3a\"], [0.8888888888888888, \"#fdca26\"], [1.0, \"#f0f921\"]], \"type\": \"contour\"}], \"contourcarpet\": [{\"colorbar\": {\"outlinewidth\": 0, \"ticks\": \"\"}, \"type\": \"contourcarpet\"}], \"heatmap\": [{\"colorbar\": {\"outlinewidth\": 0, \"ticks\": \"\"}, \"colorscale\": [[0.0, \"#0d0887\"], [0.1111111111111111, \"#46039f\"], [0.2222222222222222, \"#7201a8\"], [0.3333333333333333, \"#9c179e\"], [0.4444444444444444, \"#bd3786\"], [0.5555555555555556, \"#d8576b\"], [0.6666666666666666, \"#ed7953\"], [0.7777777777777778, \"#fb9f3a\"], [0.8888888888888888, \"#fdca26\"], [1.0, \"#f0f921\"]], \"type\": \"heatmap\"}], \"heatmapgl\": [{\"colorbar\": {\"outlinewidth\": 0, \"ticks\": \"\"}, \"colorscale\": [[0.0, \"#0d0887\"], [0.1111111111111111, \"#46039f\"], [0.2222222222222222, \"#7201a8\"], [0.3333333333333333, \"#9c179e\"], [0.4444444444444444, \"#bd3786\"], [0.5555555555555556, \"#d8576b\"], [0.6666666666666666, \"#ed7953\"], [0.7777777777777778, \"#fb9f3a\"], [0.8888888888888888, \"#fdca26\"], [1.0, \"#f0f921\"]], \"type\": \"heatmapgl\"}], \"histogram\": [{\"marker\": {\"colorbar\": {\"outlinewidth\": 0, \"ticks\": \"\"}}, \"type\": \"histogram\"}], \"histogram2d\": [{\"colorbar\": {\"outlinewidth\": 0, \"ticks\": \"\"}, \"colorscale\": [[0.0, \"#0d0887\"], [0.1111111111111111, \"#46039f\"], [0.2222222222222222, \"#7201a8\"], [0.3333333333333333, \"#9c179e\"], [0.4444444444444444, \"#bd3786\"], [0.5555555555555556, \"#d8576b\"], [0.6666666666666666, \"#ed7953\"], [0.7777777777777778, \"#fb9f3a\"], [0.8888888888888888, \"#fdca26\"], [1.0, \"#f0f921\"]], \"type\": \"histogram2d\"}], \"histogram2dcontour\": [{\"colorbar\": {\"outlinewidth\": 0, \"ticks\": \"\"}, \"colorscale\": [[0.0, \"#0d0887\"], [0.1111111111111111, \"#46039f\"], [0.2222222222222222, \"#7201a8\"], [0.3333333333333333, \"#9c179e\"], [0.4444444444444444, \"#bd3786\"], [0.5555555555555556, \"#d8576b\"], [0.6666666666666666, \"#ed7953\"], [0.7777777777777778, \"#fb9f3a\"], [0.8888888888888888, \"#fdca26\"], [1.0, \"#f0f921\"]], \"type\": \"histogram2dcontour\"}], \"mesh3d\": [{\"colorbar\": {\"outlinewidth\": 0, \"ticks\": \"\"}, \"type\": \"mesh3d\"}], \"parcoords\": [{\"line\": {\"colorbar\": {\"outlinewidth\": 0, \"ticks\": \"\"}}, \"type\": \"parcoords\"}], \"pie\": [{\"automargin\": true, \"type\": \"pie\"}], \"scatter\": [{\"marker\": {\"colorbar\": {\"outlinewidth\": 0, \"ticks\": \"\"}}, \"type\": \"scatter\"}], \"scatter3d\": [{\"line\": {\"colorbar\": {\"outlinewidth\": 0, \"ticks\": \"\"}}, \"marker\": {\"colorbar\": {\"outlinewidth\": 0, \"ticks\": \"\"}}, \"type\": \"scatter3d\"}], \"scattercarpet\": [{\"marker\": {\"colorbar\": {\"outlinewidth\": 0, \"ticks\": \"\"}}, \"type\": \"scattercarpet\"}], \"scattergeo\": [{\"marker\": {\"colorbar\": {\"outlinewidth\": 0, \"ticks\": \"\"}}, \"type\": \"scattergeo\"}], \"scattergl\": [{\"marker\": {\"colorbar\": {\"outlinewidth\": 0, \"ticks\": \"\"}}, \"type\": \"scattergl\"}], \"scattermapbox\": [{\"marker\": {\"colorbar\": {\"outlinewidth\": 0, \"ticks\": \"\"}}, \"type\": \"scattermapbox\"}], \"scatterpolar\": [{\"marker\": {\"colorbar\": {\"outlinewidth\": 0, \"ticks\": \"\"}}, \"type\": \"scatterpolar\"}], \"scatterpolargl\": [{\"marker\": {\"colorbar\": {\"outlinewidth\": 0, \"ticks\": \"\"}}, \"type\": \"scatterpolargl\"}], \"scatterternary\": [{\"marker\": {\"colorbar\": {\"outlinewidth\": 0, \"ticks\": \"\"}}, \"type\": \"scatterternary\"}], \"surface\": [{\"colorbar\": {\"outlinewidth\": 0, \"ticks\": \"\"}, \"colorscale\": [[0.0, \"#0d0887\"], [0.1111111111111111, \"#46039f\"], [0.2222222222222222, \"#7201a8\"], [0.3333333333333333, \"#9c179e\"], [0.4444444444444444, \"#bd3786\"], [0.5555555555555556, \"#d8576b\"], [0.6666666666666666, \"#ed7953\"], [0.7777777777777778, \"#fb9f3a\"], [0.8888888888888888, \"#fdca26\"], [1.0, \"#f0f921\"]], \"type\": \"surface\"}], \"table\": [{\"cells\": {\"fill\": {\"color\": \"#EBF0F8\"}, \"line\": {\"color\": \"white\"}}, \"header\": {\"fill\": {\"color\": \"#C8D4E3\"}, \"line\": {\"color\": \"white\"}}, \"type\": \"table\"}]}, \"layout\": {\"annotationdefaults\": {\"arrowcolor\": \"#2a3f5f\", \"arrowhead\": 0, \"arrowwidth\": 1}, \"coloraxis\": {\"colorbar\": {\"outlinewidth\": 0, \"ticks\": \"\"}}, \"colorscale\": {\"diverging\": [[0, \"#8e0152\"], [0.1, \"#c51b7d\"], [0.2, \"#de77ae\"], [0.3, \"#f1b6da\"], [0.4, \"#fde0ef\"], [0.5, \"#f7f7f7\"], [0.6, \"#e6f5d0\"], [0.7, \"#b8e186\"], [0.8, \"#7fbc41\"], [0.9, \"#4d9221\"], [1, \"#276419\"]], \"sequential\": [[0.0, \"#0d0887\"], [0.1111111111111111, \"#46039f\"], [0.2222222222222222, \"#7201a8\"], [0.3333333333333333, \"#9c179e\"], [0.4444444444444444, \"#bd3786\"], [0.5555555555555556, \"#d8576b\"], [0.6666666666666666, \"#ed7953\"], [0.7777777777777778, \"#fb9f3a\"], [0.8888888888888888, \"#fdca26\"], [1.0, \"#f0f921\"]], \"sequentialminus\": [[0.0, \"#0d0887\"], [0.1111111111111111, \"#46039f\"], [0.2222222222222222, \"#7201a8\"], [0.3333333333333333, \"#9c179e\"], [0.4444444444444444, \"#bd3786\"], [0.5555555555555556, \"#d8576b\"], [0.6666666666666666, \"#ed7953\"], [0.7777777777777778, \"#fb9f3a\"], [0.8888888888888888, \"#fdca26\"], [1.0, \"#f0f921\"]]}, \"colorway\": [\"#636efa\", \"#EF553B\", \"#00cc96\", \"#ab63fa\", \"#FFA15A\", \"#19d3f3\", \"#FF6692\", \"#B6E880\", \"#FF97FF\", \"#FECB52\"], \"font\": {\"color\": \"#2a3f5f\"}, \"geo\": {\"bgcolor\": \"white\", \"lakecolor\": \"white\", \"landcolor\": \"#E5ECF6\", \"showlakes\": true, \"showland\": true, \"subunitcolor\": \"white\"}, \"hoverlabel\": {\"align\": \"left\"}, \"hovermode\": \"closest\", \"mapbox\": {\"style\": \"light\"}, \"paper_bgcolor\": \"white\", \"plot_bgcolor\": \"#E5ECF6\", \"polar\": {\"angularaxis\": {\"gridcolor\": \"white\", \"linecolor\": \"white\", \"ticks\": \"\"}, \"bgcolor\": \"#E5ECF6\", \"radialaxis\": {\"gridcolor\": \"white\", \"linecolor\": \"white\", \"ticks\": \"\"}}, \"scene\": {\"xaxis\": {\"backgroundcolor\": \"#E5ECF6\", \"gridcolor\": \"white\", \"gridwidth\": 2, \"linecolor\": \"white\", \"showbackground\": true, \"ticks\": \"\", \"zerolinecolor\": \"white\"}, \"yaxis\": {\"backgroundcolor\": \"#E5ECF6\", \"gridcolor\": \"white\", \"gridwidth\": 2, \"linecolor\": \"white\", \"showbackground\": true, \"ticks\": \"\", \"zerolinecolor\": \"white\"}, \"zaxis\": {\"backgroundcolor\": \"#E5ECF6\", \"gridcolor\": \"white\", \"gridwidth\": 2, \"linecolor\": \"white\", \"showbackground\": true, \"ticks\": \"\", \"zerolinecolor\": \"white\"}}, \"shapedefaults\": {\"line\": {\"color\": \"#2a3f5f\"}}, \"ternary\": {\"aaxis\": {\"gridcolor\": \"white\", \"linecolor\": \"white\", \"ticks\": \"\"}, \"baxis\": {\"gridcolor\": \"white\", \"linecolor\": \"white\", \"ticks\": \"\"}, \"bgcolor\": \"#E5ECF6\", \"caxis\": {\"gridcolor\": \"white\", \"linecolor\": \"white\", \"ticks\": \"\"}}, \"title\": {\"x\": 0.05}, \"xaxis\": {\"automargin\": true, \"gridcolor\": \"white\", \"linecolor\": \"white\", \"ticks\": \"\", \"title\": {\"standoff\": 15}, \"zerolinecolor\": \"white\", \"zerolinewidth\": 2}, \"yaxis\": {\"automargin\": true, \"gridcolor\": \"white\", \"linecolor\": \"white\", \"ticks\": \"\", \"title\": {\"standoff\": 15}, \"zerolinecolor\": \"white\", \"zerolinewidth\": 2}}}, \"title\": {\"font\": {\"color\": \"#4D5663\"}}, \"xaxis\": {\"gridcolor\": \"#E1E5ED\", \"showgrid\": true, \"tickfont\": {\"color\": \"#4D5663\"}, \"title\": {\"font\": {\"color\": \"#4D5663\"}, \"text\": \"\"}, \"zerolinecolor\": \"#E1E5ED\"}, \"yaxis\": {\"gridcolor\": \"#E1E5ED\", \"showgrid\": true, \"tickfont\": {\"color\": \"#4D5663\"}, \"title\": {\"font\": {\"color\": \"#4D5663\"}, \"text\": \"\"}, \"zerolinecolor\": \"#E1E5ED\"}},\n",
       "                        {\"showLink\": true, \"linkText\": \"Export to plot.ly\", \"plotlyServerURL\": \"https://plot.ly\", \"responsive\": true}\n",
       "                    ).then(function(){\n",
       "                            \n",
       "var gd = document.getElementById('20f97e09-d91b-4d84-a797-3948123f22f8');\n",
       "var x = new MutationObserver(function (mutations, observer) {{\n",
       "        var display = window.getComputedStyle(gd).display;\n",
       "        if (!display || display === 'none') {{\n",
       "            console.log([gd, 'removed!']);\n",
       "            Plotly.purge(gd);\n",
       "            observer.disconnect();\n",
       "        }}\n",
       "}});\n",
       "\n",
       "// Listen for the removal of the full notebook cells\n",
       "var notebookContainer = gd.closest('#notebook-container');\n",
       "if (notebookContainer) {{\n",
       "    x.observe(notebookContainer, {childList: true});\n",
       "}}\n",
       "\n",
       "// Listen for the clearing of the current output cell\n",
       "var outputEl = gd.closest('.output');\n",
       "if (outputEl) {{\n",
       "    x.observe(outputEl, {childList: true});\n",
       "}}\n",
       "\n",
       "                        })\n",
       "                };\n",
       "                });\n",
       "            </script>\n",
       "        </div>"
      ]
     },
     "metadata": {},
     "output_type": "display_data"
    }
   ],
   "source": [
    "df.iplot(kind=\"box\")"
   ]
  },
  {
   "cell_type": "code",
   "execution_count": 59,
   "metadata": {},
   "outputs": [
    {
     "data": {
      "text/html": [
       "<div>\n",
       "<style scoped>\n",
       "    .dataframe tbody tr th:only-of-type {\n",
       "        vertical-align: middle;\n",
       "    }\n",
       "\n",
       "    .dataframe tbody tr th {\n",
       "        vertical-align: top;\n",
       "    }\n",
       "\n",
       "    .dataframe thead th {\n",
       "        text-align: right;\n",
       "    }\n",
       "</style>\n",
       "<table border=\"1\" class=\"dataframe\">\n",
       "  <thead>\n",
       "    <tr style=\"text-align: right;\">\n",
       "      <th></th>\n",
       "      <th>A</th>\n",
       "      <th>B</th>\n",
       "      <th>C</th>\n",
       "    </tr>\n",
       "  </thead>\n",
       "  <tbody>\n",
       "    <tr>\n",
       "      <td>0</td>\n",
       "      <td>1</td>\n",
       "      <td>10</td>\n",
       "      <td>5</td>\n",
       "    </tr>\n",
       "    <tr>\n",
       "      <td>1</td>\n",
       "      <td>2</td>\n",
       "      <td>20</td>\n",
       "      <td>4</td>\n",
       "    </tr>\n",
       "    <tr>\n",
       "      <td>2</td>\n",
       "      <td>3</td>\n",
       "      <td>30</td>\n",
       "      <td>3</td>\n",
       "    </tr>\n",
       "    <tr>\n",
       "      <td>3</td>\n",
       "      <td>4</td>\n",
       "      <td>40</td>\n",
       "      <td>2</td>\n",
       "    </tr>\n",
       "    <tr>\n",
       "      <td>4</td>\n",
       "      <td>5</td>\n",
       "      <td>50</td>\n",
       "      <td>1</td>\n",
       "    </tr>\n",
       "  </tbody>\n",
       "</table>\n",
       "</div>"
      ],
      "text/plain": [
       "   A   B  C\n",
       "0  1  10  5\n",
       "1  2  20  4\n",
       "2  3  30  3\n",
       "3  4  40  2\n",
       "4  5  50  1"
      ]
     },
     "execution_count": 59,
     "metadata": {},
     "output_type": "execute_result"
    }
   ],
   "source": [
    "df2=pd.DataFrame({\"A\":[1,2,3,4,5],\"B\":[10,20,30,40,50],\"C\":[5,4,3,2,1]})\n",
    "df2\n"
   ]
  },
  {
   "cell_type": "code",
   "execution_count": 62,
   "metadata": {},
   "outputs": [
    {
     "data": {
      "application/vnd.plotly.v1+json": {
       "config": {
        "linkText": "Export to plot.ly",
        "plotlyServerURL": "https://plot.ly",
        "showLink": true
       },
       "data": [
        {
         "colorscale": [
          [
           0,
           "rgb(255, 153, 51)"
          ],
          [
           0.1111111111111111,
           "rgb(55, 128, 191)"
          ],
          [
           0.2222222222222222,
           "rgb(50, 171, 96)"
          ],
          [
           0.3333333333333333,
           "rgb(128, 0, 128)"
          ],
          [
           0.4444444444444444,
           "rgb(219, 64, 82)"
          ],
          [
           0.5555555555555556,
           "rgb(0, 128, 128)"
          ],
          [
           0.6666666666666666,
           "rgb(255, 255, 51)"
          ],
          [
           0.7777777777777778,
           "rgb(128, 128, 0)"
          ],
          [
           0.8888888888888888,
           "rgb(251, 128, 114)"
          ],
          [
           1,
           "rgb(128, 177, 211)"
          ]
         ],
         "type": "surface",
         "x": [
          0,
          1,
          2,
          3,
          4
         ],
         "y": [
          "A",
          "B",
          "C"
         ],
         "z": [
          [
           1,
           2,
           3,
           4,
           5
          ],
          [
           10,
           20,
           30,
           40,
           50
          ],
          [
           5,
           4,
           3,
           2,
           1
          ]
         ]
        }
       ],
       "layout": {
        "legend": {
         "bgcolor": "#F5F6F9",
         "font": {
          "color": "#4D5663"
         }
        },
        "paper_bgcolor": "#F5F6F9",
        "plot_bgcolor": "#F5F6F9",
        "template": {
         "data": {
          "bar": [
           {
            "error_x": {
             "color": "#2a3f5f"
            },
            "error_y": {
             "color": "#2a3f5f"
            },
            "marker": {
             "line": {
              "color": "#E5ECF6",
              "width": 0.5
             }
            },
            "type": "bar"
           }
          ],
          "barpolar": [
           {
            "marker": {
             "line": {
              "color": "#E5ECF6",
              "width": 0.5
             }
            },
            "type": "barpolar"
           }
          ],
          "carpet": [
           {
            "aaxis": {
             "endlinecolor": "#2a3f5f",
             "gridcolor": "white",
             "linecolor": "white",
             "minorgridcolor": "white",
             "startlinecolor": "#2a3f5f"
            },
            "baxis": {
             "endlinecolor": "#2a3f5f",
             "gridcolor": "white",
             "linecolor": "white",
             "minorgridcolor": "white",
             "startlinecolor": "#2a3f5f"
            },
            "type": "carpet"
           }
          ],
          "choropleth": [
           {
            "colorbar": {
             "outlinewidth": 0,
             "ticks": ""
            },
            "type": "choropleth"
           }
          ],
          "contour": [
           {
            "colorbar": {
             "outlinewidth": 0,
             "ticks": ""
            },
            "colorscale": [
             [
              0,
              "#0d0887"
             ],
             [
              0.1111111111111111,
              "#46039f"
             ],
             [
              0.2222222222222222,
              "#7201a8"
             ],
             [
              0.3333333333333333,
              "#9c179e"
             ],
             [
              0.4444444444444444,
              "#bd3786"
             ],
             [
              0.5555555555555556,
              "#d8576b"
             ],
             [
              0.6666666666666666,
              "#ed7953"
             ],
             [
              0.7777777777777778,
              "#fb9f3a"
             ],
             [
              0.8888888888888888,
              "#fdca26"
             ],
             [
              1,
              "#f0f921"
             ]
            ],
            "type": "contour"
           }
          ],
          "contourcarpet": [
           {
            "colorbar": {
             "outlinewidth": 0,
             "ticks": ""
            },
            "type": "contourcarpet"
           }
          ],
          "heatmap": [
           {
            "colorbar": {
             "outlinewidth": 0,
             "ticks": ""
            },
            "colorscale": [
             [
              0,
              "#0d0887"
             ],
             [
              0.1111111111111111,
              "#46039f"
             ],
             [
              0.2222222222222222,
              "#7201a8"
             ],
             [
              0.3333333333333333,
              "#9c179e"
             ],
             [
              0.4444444444444444,
              "#bd3786"
             ],
             [
              0.5555555555555556,
              "#d8576b"
             ],
             [
              0.6666666666666666,
              "#ed7953"
             ],
             [
              0.7777777777777778,
              "#fb9f3a"
             ],
             [
              0.8888888888888888,
              "#fdca26"
             ],
             [
              1,
              "#f0f921"
             ]
            ],
            "type": "heatmap"
           }
          ],
          "heatmapgl": [
           {
            "colorbar": {
             "outlinewidth": 0,
             "ticks": ""
            },
            "colorscale": [
             [
              0,
              "#0d0887"
             ],
             [
              0.1111111111111111,
              "#46039f"
             ],
             [
              0.2222222222222222,
              "#7201a8"
             ],
             [
              0.3333333333333333,
              "#9c179e"
             ],
             [
              0.4444444444444444,
              "#bd3786"
             ],
             [
              0.5555555555555556,
              "#d8576b"
             ],
             [
              0.6666666666666666,
              "#ed7953"
             ],
             [
              0.7777777777777778,
              "#fb9f3a"
             ],
             [
              0.8888888888888888,
              "#fdca26"
             ],
             [
              1,
              "#f0f921"
             ]
            ],
            "type": "heatmapgl"
           }
          ],
          "histogram": [
           {
            "marker": {
             "colorbar": {
              "outlinewidth": 0,
              "ticks": ""
             }
            },
            "type": "histogram"
           }
          ],
          "histogram2d": [
           {
            "colorbar": {
             "outlinewidth": 0,
             "ticks": ""
            },
            "colorscale": [
             [
              0,
              "#0d0887"
             ],
             [
              0.1111111111111111,
              "#46039f"
             ],
             [
              0.2222222222222222,
              "#7201a8"
             ],
             [
              0.3333333333333333,
              "#9c179e"
             ],
             [
              0.4444444444444444,
              "#bd3786"
             ],
             [
              0.5555555555555556,
              "#d8576b"
             ],
             [
              0.6666666666666666,
              "#ed7953"
             ],
             [
              0.7777777777777778,
              "#fb9f3a"
             ],
             [
              0.8888888888888888,
              "#fdca26"
             ],
             [
              1,
              "#f0f921"
             ]
            ],
            "type": "histogram2d"
           }
          ],
          "histogram2dcontour": [
           {
            "colorbar": {
             "outlinewidth": 0,
             "ticks": ""
            },
            "colorscale": [
             [
              0,
              "#0d0887"
             ],
             [
              0.1111111111111111,
              "#46039f"
             ],
             [
              0.2222222222222222,
              "#7201a8"
             ],
             [
              0.3333333333333333,
              "#9c179e"
             ],
             [
              0.4444444444444444,
              "#bd3786"
             ],
             [
              0.5555555555555556,
              "#d8576b"
             ],
             [
              0.6666666666666666,
              "#ed7953"
             ],
             [
              0.7777777777777778,
              "#fb9f3a"
             ],
             [
              0.8888888888888888,
              "#fdca26"
             ],
             [
              1,
              "#f0f921"
             ]
            ],
            "type": "histogram2dcontour"
           }
          ],
          "mesh3d": [
           {
            "colorbar": {
             "outlinewidth": 0,
             "ticks": ""
            },
            "type": "mesh3d"
           }
          ],
          "parcoords": [
           {
            "line": {
             "colorbar": {
              "outlinewidth": 0,
              "ticks": ""
             }
            },
            "type": "parcoords"
           }
          ],
          "pie": [
           {
            "automargin": true,
            "type": "pie"
           }
          ],
          "scatter": [
           {
            "marker": {
             "colorbar": {
              "outlinewidth": 0,
              "ticks": ""
             }
            },
            "type": "scatter"
           }
          ],
          "scatter3d": [
           {
            "line": {
             "colorbar": {
              "outlinewidth": 0,
              "ticks": ""
             }
            },
            "marker": {
             "colorbar": {
              "outlinewidth": 0,
              "ticks": ""
             }
            },
            "type": "scatter3d"
           }
          ],
          "scattercarpet": [
           {
            "marker": {
             "colorbar": {
              "outlinewidth": 0,
              "ticks": ""
             }
            },
            "type": "scattercarpet"
           }
          ],
          "scattergeo": [
           {
            "marker": {
             "colorbar": {
              "outlinewidth": 0,
              "ticks": ""
             }
            },
            "type": "scattergeo"
           }
          ],
          "scattergl": [
           {
            "marker": {
             "colorbar": {
              "outlinewidth": 0,
              "ticks": ""
             }
            },
            "type": "scattergl"
           }
          ],
          "scattermapbox": [
           {
            "marker": {
             "colorbar": {
              "outlinewidth": 0,
              "ticks": ""
             }
            },
            "type": "scattermapbox"
           }
          ],
          "scatterpolar": [
           {
            "marker": {
             "colorbar": {
              "outlinewidth": 0,
              "ticks": ""
             }
            },
            "type": "scatterpolar"
           }
          ],
          "scatterpolargl": [
           {
            "marker": {
             "colorbar": {
              "outlinewidth": 0,
              "ticks": ""
             }
            },
            "type": "scatterpolargl"
           }
          ],
          "scatterternary": [
           {
            "marker": {
             "colorbar": {
              "outlinewidth": 0,
              "ticks": ""
             }
            },
            "type": "scatterternary"
           }
          ],
          "surface": [
           {
            "colorbar": {
             "outlinewidth": 0,
             "ticks": ""
            },
            "colorscale": [
             [
              0,
              "#0d0887"
             ],
             [
              0.1111111111111111,
              "#46039f"
             ],
             [
              0.2222222222222222,
              "#7201a8"
             ],
             [
              0.3333333333333333,
              "#9c179e"
             ],
             [
              0.4444444444444444,
              "#bd3786"
             ],
             [
              0.5555555555555556,
              "#d8576b"
             ],
             [
              0.6666666666666666,
              "#ed7953"
             ],
             [
              0.7777777777777778,
              "#fb9f3a"
             ],
             [
              0.8888888888888888,
              "#fdca26"
             ],
             [
              1,
              "#f0f921"
             ]
            ],
            "type": "surface"
           }
          ],
          "table": [
           {
            "cells": {
             "fill": {
              "color": "#EBF0F8"
             },
             "line": {
              "color": "white"
             }
            },
            "header": {
             "fill": {
              "color": "#C8D4E3"
             },
             "line": {
              "color": "white"
             }
            },
            "type": "table"
           }
          ]
         },
         "layout": {
          "annotationdefaults": {
           "arrowcolor": "#2a3f5f",
           "arrowhead": 0,
           "arrowwidth": 1
          },
          "coloraxis": {
           "colorbar": {
            "outlinewidth": 0,
            "ticks": ""
           }
          },
          "colorscale": {
           "diverging": [
            [
             0,
             "#8e0152"
            ],
            [
             0.1,
             "#c51b7d"
            ],
            [
             0.2,
             "#de77ae"
            ],
            [
             0.3,
             "#f1b6da"
            ],
            [
             0.4,
             "#fde0ef"
            ],
            [
             0.5,
             "#f7f7f7"
            ],
            [
             0.6,
             "#e6f5d0"
            ],
            [
             0.7,
             "#b8e186"
            ],
            [
             0.8,
             "#7fbc41"
            ],
            [
             0.9,
             "#4d9221"
            ],
            [
             1,
             "#276419"
            ]
           ],
           "sequential": [
            [
             0,
             "#0d0887"
            ],
            [
             0.1111111111111111,
             "#46039f"
            ],
            [
             0.2222222222222222,
             "#7201a8"
            ],
            [
             0.3333333333333333,
             "#9c179e"
            ],
            [
             0.4444444444444444,
             "#bd3786"
            ],
            [
             0.5555555555555556,
             "#d8576b"
            ],
            [
             0.6666666666666666,
             "#ed7953"
            ],
            [
             0.7777777777777778,
             "#fb9f3a"
            ],
            [
             0.8888888888888888,
             "#fdca26"
            ],
            [
             1,
             "#f0f921"
            ]
           ],
           "sequentialminus": [
            [
             0,
             "#0d0887"
            ],
            [
             0.1111111111111111,
             "#46039f"
            ],
            [
             0.2222222222222222,
             "#7201a8"
            ],
            [
             0.3333333333333333,
             "#9c179e"
            ],
            [
             0.4444444444444444,
             "#bd3786"
            ],
            [
             0.5555555555555556,
             "#d8576b"
            ],
            [
             0.6666666666666666,
             "#ed7953"
            ],
            [
             0.7777777777777778,
             "#fb9f3a"
            ],
            [
             0.8888888888888888,
             "#fdca26"
            ],
            [
             1,
             "#f0f921"
            ]
           ]
          },
          "colorway": [
           "#636efa",
           "#EF553B",
           "#00cc96",
           "#ab63fa",
           "#FFA15A",
           "#19d3f3",
           "#FF6692",
           "#B6E880",
           "#FF97FF",
           "#FECB52"
          ],
          "font": {
           "color": "#2a3f5f"
          },
          "geo": {
           "bgcolor": "white",
           "lakecolor": "white",
           "landcolor": "#E5ECF6",
           "showlakes": true,
           "showland": true,
           "subunitcolor": "white"
          },
          "hoverlabel": {
           "align": "left"
          },
          "hovermode": "closest",
          "mapbox": {
           "style": "light"
          },
          "paper_bgcolor": "white",
          "plot_bgcolor": "#E5ECF6",
          "polar": {
           "angularaxis": {
            "gridcolor": "white",
            "linecolor": "white",
            "ticks": ""
           },
           "bgcolor": "#E5ECF6",
           "radialaxis": {
            "gridcolor": "white",
            "linecolor": "white",
            "ticks": ""
           }
          },
          "scene": {
           "xaxis": {
            "backgroundcolor": "#E5ECF6",
            "gridcolor": "white",
            "gridwidth": 2,
            "linecolor": "white",
            "showbackground": true,
            "ticks": "",
            "zerolinecolor": "white"
           },
           "yaxis": {
            "backgroundcolor": "#E5ECF6",
            "gridcolor": "white",
            "gridwidth": 2,
            "linecolor": "white",
            "showbackground": true,
            "ticks": "",
            "zerolinecolor": "white"
           },
           "zaxis": {
            "backgroundcolor": "#E5ECF6",
            "gridcolor": "white",
            "gridwidth": 2,
            "linecolor": "white",
            "showbackground": true,
            "ticks": "",
            "zerolinecolor": "white"
           }
          },
          "shapedefaults": {
           "line": {
            "color": "#2a3f5f"
           }
          },
          "ternary": {
           "aaxis": {
            "gridcolor": "white",
            "linecolor": "white",
            "ticks": ""
           },
           "baxis": {
            "gridcolor": "white",
            "linecolor": "white",
            "ticks": ""
           },
           "bgcolor": "#E5ECF6",
           "caxis": {
            "gridcolor": "white",
            "linecolor": "white",
            "ticks": ""
           }
          },
          "title": {
           "x": 0.05
          },
          "xaxis": {
           "automargin": true,
           "gridcolor": "white",
           "linecolor": "white",
           "ticks": "",
           "title": {
            "standoff": 15
           },
           "zerolinecolor": "white",
           "zerolinewidth": 2
          },
          "yaxis": {
           "automargin": true,
           "gridcolor": "white",
           "linecolor": "white",
           "ticks": "",
           "title": {
            "standoff": 15
           },
           "zerolinecolor": "white",
           "zerolinewidth": 2
          }
         }
        },
        "title": {
         "font": {
          "color": "#4D5663"
         }
        },
        "xaxis": {
         "gridcolor": "#E1E5ED",
         "showgrid": true,
         "tickfont": {
          "color": "#4D5663"
         },
         "title": {
          "font": {
           "color": "#4D5663"
          },
          "text": ""
         },
         "zerolinecolor": "#E1E5ED"
        },
        "yaxis": {
         "gridcolor": "#E1E5ED",
         "showgrid": true,
         "tickfont": {
          "color": "#4D5663"
         },
         "title": {
          "font": {
           "color": "#4D5663"
          },
          "text": ""
         },
         "zerolinecolor": "#E1E5ED"
        }
       }
      },
      "text/html": [
       "<div>\n",
       "        \n",
       "        \n",
       "            <div id=\"7c794fbe-b462-4275-a70a-5e9691b8301c\" class=\"plotly-graph-div\" style=\"height:525px; width:100%;\"></div>\n",
       "            <script type=\"text/javascript\">\n",
       "                require([\"plotly\"], function(Plotly) {\n",
       "                    window.PLOTLYENV=window.PLOTLYENV || {};\n",
       "                    window.PLOTLYENV.BASE_URL='https://plot.ly';\n",
       "                    \n",
       "                if (document.getElementById(\"7c794fbe-b462-4275-a70a-5e9691b8301c\")) {\n",
       "                    Plotly.newPlot(\n",
       "                        '7c794fbe-b462-4275-a70a-5e9691b8301c',\n",
       "                        [{\"colorscale\": [[0.0, \"rgb(255, 153, 51)\"], [0.1111111111111111, \"rgb(55, 128, 191)\"], [0.2222222222222222, \"rgb(50, 171, 96)\"], [0.3333333333333333, \"rgb(128, 0, 128)\"], [0.4444444444444444, \"rgb(219, 64, 82)\"], [0.5555555555555556, \"rgb(0, 128, 128)\"], [0.6666666666666666, \"rgb(255, 255, 51)\"], [0.7777777777777778, \"rgb(128, 128, 0)\"], [0.8888888888888888, \"rgb(251, 128, 114)\"], [1.0, \"rgb(128, 177, 211)\"]], \"type\": \"surface\", \"x\": [0, 1, 2, 3, 4], \"y\": [\"A\", \"B\", \"C\"], \"z\": [[1, 2, 3, 4, 5], [10, 20, 30, 40, 50], [5, 4, 3, 2, 1]]}],\n",
       "                        {\"legend\": {\"bgcolor\": \"#F5F6F9\", \"font\": {\"color\": \"#4D5663\"}}, \"paper_bgcolor\": \"#F5F6F9\", \"plot_bgcolor\": \"#F5F6F9\", \"template\": {\"data\": {\"bar\": [{\"error_x\": {\"color\": \"#2a3f5f\"}, \"error_y\": {\"color\": \"#2a3f5f\"}, \"marker\": {\"line\": {\"color\": \"#E5ECF6\", \"width\": 0.5}}, \"type\": \"bar\"}], \"barpolar\": [{\"marker\": {\"line\": {\"color\": \"#E5ECF6\", \"width\": 0.5}}, \"type\": \"barpolar\"}], \"carpet\": [{\"aaxis\": {\"endlinecolor\": \"#2a3f5f\", \"gridcolor\": \"white\", \"linecolor\": \"white\", \"minorgridcolor\": \"white\", \"startlinecolor\": \"#2a3f5f\"}, \"baxis\": {\"endlinecolor\": \"#2a3f5f\", \"gridcolor\": \"white\", \"linecolor\": \"white\", \"minorgridcolor\": \"white\", \"startlinecolor\": \"#2a3f5f\"}, \"type\": \"carpet\"}], \"choropleth\": [{\"colorbar\": {\"outlinewidth\": 0, \"ticks\": \"\"}, \"type\": \"choropleth\"}], \"contour\": [{\"colorbar\": {\"outlinewidth\": 0, \"ticks\": \"\"}, \"colorscale\": [[0.0, \"#0d0887\"], [0.1111111111111111, \"#46039f\"], [0.2222222222222222, \"#7201a8\"], [0.3333333333333333, \"#9c179e\"], [0.4444444444444444, \"#bd3786\"], [0.5555555555555556, \"#d8576b\"], [0.6666666666666666, \"#ed7953\"], [0.7777777777777778, \"#fb9f3a\"], [0.8888888888888888, \"#fdca26\"], [1.0, \"#f0f921\"]], \"type\": \"contour\"}], \"contourcarpet\": [{\"colorbar\": {\"outlinewidth\": 0, \"ticks\": \"\"}, \"type\": \"contourcarpet\"}], \"heatmap\": [{\"colorbar\": {\"outlinewidth\": 0, \"ticks\": \"\"}, \"colorscale\": [[0.0, \"#0d0887\"], [0.1111111111111111, \"#46039f\"], [0.2222222222222222, \"#7201a8\"], [0.3333333333333333, \"#9c179e\"], [0.4444444444444444, \"#bd3786\"], [0.5555555555555556, \"#d8576b\"], [0.6666666666666666, \"#ed7953\"], [0.7777777777777778, \"#fb9f3a\"], [0.8888888888888888, \"#fdca26\"], [1.0, \"#f0f921\"]], \"type\": \"heatmap\"}], \"heatmapgl\": [{\"colorbar\": {\"outlinewidth\": 0, \"ticks\": \"\"}, \"colorscale\": [[0.0, \"#0d0887\"], [0.1111111111111111, \"#46039f\"], [0.2222222222222222, \"#7201a8\"], [0.3333333333333333, \"#9c179e\"], [0.4444444444444444, \"#bd3786\"], [0.5555555555555556, \"#d8576b\"], [0.6666666666666666, \"#ed7953\"], [0.7777777777777778, \"#fb9f3a\"], [0.8888888888888888, \"#fdca26\"], [1.0, \"#f0f921\"]], \"type\": \"heatmapgl\"}], \"histogram\": [{\"marker\": {\"colorbar\": {\"outlinewidth\": 0, \"ticks\": \"\"}}, \"type\": \"histogram\"}], \"histogram2d\": [{\"colorbar\": {\"outlinewidth\": 0, \"ticks\": \"\"}, \"colorscale\": [[0.0, \"#0d0887\"], [0.1111111111111111, \"#46039f\"], [0.2222222222222222, \"#7201a8\"], [0.3333333333333333, \"#9c179e\"], [0.4444444444444444, \"#bd3786\"], [0.5555555555555556, \"#d8576b\"], [0.6666666666666666, \"#ed7953\"], [0.7777777777777778, \"#fb9f3a\"], [0.8888888888888888, \"#fdca26\"], [1.0, \"#f0f921\"]], \"type\": \"histogram2d\"}], \"histogram2dcontour\": [{\"colorbar\": {\"outlinewidth\": 0, \"ticks\": \"\"}, \"colorscale\": [[0.0, \"#0d0887\"], [0.1111111111111111, \"#46039f\"], [0.2222222222222222, \"#7201a8\"], [0.3333333333333333, \"#9c179e\"], [0.4444444444444444, \"#bd3786\"], [0.5555555555555556, \"#d8576b\"], [0.6666666666666666, \"#ed7953\"], [0.7777777777777778, \"#fb9f3a\"], [0.8888888888888888, \"#fdca26\"], [1.0, \"#f0f921\"]], \"type\": \"histogram2dcontour\"}], \"mesh3d\": [{\"colorbar\": {\"outlinewidth\": 0, \"ticks\": \"\"}, \"type\": \"mesh3d\"}], \"parcoords\": [{\"line\": {\"colorbar\": {\"outlinewidth\": 0, \"ticks\": \"\"}}, \"type\": \"parcoords\"}], \"pie\": [{\"automargin\": true, \"type\": \"pie\"}], \"scatter\": [{\"marker\": {\"colorbar\": {\"outlinewidth\": 0, \"ticks\": \"\"}}, \"type\": \"scatter\"}], \"scatter3d\": [{\"line\": {\"colorbar\": {\"outlinewidth\": 0, \"ticks\": \"\"}}, \"marker\": {\"colorbar\": {\"outlinewidth\": 0, \"ticks\": \"\"}}, \"type\": \"scatter3d\"}], \"scattercarpet\": [{\"marker\": {\"colorbar\": {\"outlinewidth\": 0, \"ticks\": \"\"}}, \"type\": \"scattercarpet\"}], \"scattergeo\": [{\"marker\": {\"colorbar\": {\"outlinewidth\": 0, \"ticks\": \"\"}}, \"type\": \"scattergeo\"}], \"scattergl\": [{\"marker\": {\"colorbar\": {\"outlinewidth\": 0, \"ticks\": \"\"}}, \"type\": \"scattergl\"}], \"scattermapbox\": [{\"marker\": {\"colorbar\": {\"outlinewidth\": 0, \"ticks\": \"\"}}, \"type\": \"scattermapbox\"}], \"scatterpolar\": [{\"marker\": {\"colorbar\": {\"outlinewidth\": 0, \"ticks\": \"\"}}, \"type\": \"scatterpolar\"}], \"scatterpolargl\": [{\"marker\": {\"colorbar\": {\"outlinewidth\": 0, \"ticks\": \"\"}}, \"type\": \"scatterpolargl\"}], \"scatterternary\": [{\"marker\": {\"colorbar\": {\"outlinewidth\": 0, \"ticks\": \"\"}}, \"type\": \"scatterternary\"}], \"surface\": [{\"colorbar\": {\"outlinewidth\": 0, \"ticks\": \"\"}, \"colorscale\": [[0.0, \"#0d0887\"], [0.1111111111111111, \"#46039f\"], [0.2222222222222222, \"#7201a8\"], [0.3333333333333333, \"#9c179e\"], [0.4444444444444444, \"#bd3786\"], [0.5555555555555556, \"#d8576b\"], [0.6666666666666666, \"#ed7953\"], [0.7777777777777778, \"#fb9f3a\"], [0.8888888888888888, \"#fdca26\"], [1.0, \"#f0f921\"]], \"type\": \"surface\"}], \"table\": [{\"cells\": {\"fill\": {\"color\": \"#EBF0F8\"}, \"line\": {\"color\": \"white\"}}, \"header\": {\"fill\": {\"color\": \"#C8D4E3\"}, \"line\": {\"color\": \"white\"}}, \"type\": \"table\"}]}, \"layout\": {\"annotationdefaults\": {\"arrowcolor\": \"#2a3f5f\", \"arrowhead\": 0, \"arrowwidth\": 1}, \"coloraxis\": {\"colorbar\": {\"outlinewidth\": 0, \"ticks\": \"\"}}, \"colorscale\": {\"diverging\": [[0, \"#8e0152\"], [0.1, \"#c51b7d\"], [0.2, \"#de77ae\"], [0.3, \"#f1b6da\"], [0.4, \"#fde0ef\"], [0.5, \"#f7f7f7\"], [0.6, \"#e6f5d0\"], [0.7, \"#b8e186\"], [0.8, \"#7fbc41\"], [0.9, \"#4d9221\"], [1, \"#276419\"]], \"sequential\": [[0.0, \"#0d0887\"], [0.1111111111111111, \"#46039f\"], [0.2222222222222222, \"#7201a8\"], [0.3333333333333333, \"#9c179e\"], [0.4444444444444444, \"#bd3786\"], [0.5555555555555556, \"#d8576b\"], [0.6666666666666666, \"#ed7953\"], [0.7777777777777778, \"#fb9f3a\"], [0.8888888888888888, \"#fdca26\"], [1.0, \"#f0f921\"]], \"sequentialminus\": [[0.0, \"#0d0887\"], [0.1111111111111111, \"#46039f\"], [0.2222222222222222, \"#7201a8\"], [0.3333333333333333, \"#9c179e\"], [0.4444444444444444, \"#bd3786\"], [0.5555555555555556, \"#d8576b\"], [0.6666666666666666, \"#ed7953\"], [0.7777777777777778, \"#fb9f3a\"], [0.8888888888888888, \"#fdca26\"], [1.0, \"#f0f921\"]]}, \"colorway\": [\"#636efa\", \"#EF553B\", \"#00cc96\", \"#ab63fa\", \"#FFA15A\", \"#19d3f3\", \"#FF6692\", \"#B6E880\", \"#FF97FF\", \"#FECB52\"], \"font\": {\"color\": \"#2a3f5f\"}, \"geo\": {\"bgcolor\": \"white\", \"lakecolor\": \"white\", \"landcolor\": \"#E5ECF6\", \"showlakes\": true, \"showland\": true, \"subunitcolor\": \"white\"}, \"hoverlabel\": {\"align\": \"left\"}, \"hovermode\": \"closest\", \"mapbox\": {\"style\": \"light\"}, \"paper_bgcolor\": \"white\", \"plot_bgcolor\": \"#E5ECF6\", \"polar\": {\"angularaxis\": {\"gridcolor\": \"white\", \"linecolor\": \"white\", \"ticks\": \"\"}, \"bgcolor\": \"#E5ECF6\", \"radialaxis\": {\"gridcolor\": \"white\", \"linecolor\": \"white\", \"ticks\": \"\"}}, \"scene\": {\"xaxis\": {\"backgroundcolor\": \"#E5ECF6\", \"gridcolor\": \"white\", \"gridwidth\": 2, \"linecolor\": \"white\", \"showbackground\": true, \"ticks\": \"\", \"zerolinecolor\": \"white\"}, \"yaxis\": {\"backgroundcolor\": \"#E5ECF6\", \"gridcolor\": \"white\", \"gridwidth\": 2, \"linecolor\": \"white\", \"showbackground\": true, \"ticks\": \"\", \"zerolinecolor\": \"white\"}, \"zaxis\": {\"backgroundcolor\": \"#E5ECF6\", \"gridcolor\": \"white\", \"gridwidth\": 2, \"linecolor\": \"white\", \"showbackground\": true, \"ticks\": \"\", \"zerolinecolor\": \"white\"}}, \"shapedefaults\": {\"line\": {\"color\": \"#2a3f5f\"}}, \"ternary\": {\"aaxis\": {\"gridcolor\": \"white\", \"linecolor\": \"white\", \"ticks\": \"\"}, \"baxis\": {\"gridcolor\": \"white\", \"linecolor\": \"white\", \"ticks\": \"\"}, \"bgcolor\": \"#E5ECF6\", \"caxis\": {\"gridcolor\": \"white\", \"linecolor\": \"white\", \"ticks\": \"\"}}, \"title\": {\"x\": 0.05}, \"xaxis\": {\"automargin\": true, \"gridcolor\": \"white\", \"linecolor\": \"white\", \"ticks\": \"\", \"title\": {\"standoff\": 15}, \"zerolinecolor\": \"white\", \"zerolinewidth\": 2}, \"yaxis\": {\"automargin\": true, \"gridcolor\": \"white\", \"linecolor\": \"white\", \"ticks\": \"\", \"title\": {\"standoff\": 15}, \"zerolinecolor\": \"white\", \"zerolinewidth\": 2}}}, \"title\": {\"font\": {\"color\": \"#4D5663\"}}, \"xaxis\": {\"gridcolor\": \"#E1E5ED\", \"showgrid\": true, \"tickfont\": {\"color\": \"#4D5663\"}, \"title\": {\"font\": {\"color\": \"#4D5663\"}, \"text\": \"\"}, \"zerolinecolor\": \"#E1E5ED\"}, \"yaxis\": {\"gridcolor\": \"#E1E5ED\", \"showgrid\": true, \"tickfont\": {\"color\": \"#4D5663\"}, \"title\": {\"font\": {\"color\": \"#4D5663\"}, \"text\": \"\"}, \"zerolinecolor\": \"#E1E5ED\"}},\n",
       "                        {\"showLink\": true, \"linkText\": \"Export to plot.ly\", \"plotlyServerURL\": \"https://plot.ly\", \"responsive\": true}\n",
       "                    ).then(function(){\n",
       "                            \n",
       "var gd = document.getElementById('7c794fbe-b462-4275-a70a-5e9691b8301c');\n",
       "var x = new MutationObserver(function (mutations, observer) {{\n",
       "        var display = window.getComputedStyle(gd).display;\n",
       "        if (!display || display === 'none') {{\n",
       "            console.log([gd, 'removed!']);\n",
       "            Plotly.purge(gd);\n",
       "            observer.disconnect();\n",
       "        }}\n",
       "}});\n",
       "\n",
       "// Listen for the removal of the full notebook cells\n",
       "var notebookContainer = gd.closest('#notebook-container');\n",
       "if (notebookContainer) {{\n",
       "    x.observe(notebookContainer, {childList: true});\n",
       "}}\n",
       "\n",
       "// Listen for the clearing of the current output cell\n",
       "var outputEl = gd.closest('.output');\n",
       "if (outputEl) {{\n",
       "    x.observe(outputEl, {childList: true});\n",
       "}}\n",
       "\n",
       "                        })\n",
       "                };\n",
       "                });\n",
       "            </script>\n",
       "        </div>"
      ]
     },
     "metadata": {},
     "output_type": "display_data"
    }
   ],
   "source": [
    "df2.iplot(kind=\"surface\")"
   ]
  },
  {
   "cell_type": "code",
   "execution_count": 65,
   "metadata": {},
   "outputs": [
    {
     "data": {
      "application/vnd.plotly.v1+json": {
       "config": {
        "linkText": "Export to plot.ly",
        "plotlyServerURL": "https://plot.ly",
        "showLink": true
       },
       "data": [
        {
         "histfunc": "count",
         "histnorm": "",
         "marker": {
          "color": "rgba(255, 153, 51, 1.0)",
          "line": {
           "color": "#4D5663",
           "width": 1.3
          }
         },
         "name": "A",
         "opacity": 0.8,
         "orientation": "v",
         "type": "histogram",
         "x": [
          -0.4400399649717887,
          -0.3595613077728515,
          1.873406826294262,
          0.38969186783380566,
          -0.022267424723130477,
          0.43504747311291625,
          0.2554983804257713,
          -0.43489588798704,
          1.3426244457395577,
          -0.48428219422439583,
          1.2792534848487378,
          -0.33430267928447205,
          -0.05871625452323227,
          -1.4641294945567087,
          0.6879170405939331,
          -0.5789676388980899,
          0.4834159267743571,
          0.7888288795843491,
          0.3323842082460313,
          -0.500455046491514,
          1.1349638922438667,
          0.0648394026874129,
          -1.8369173628695823,
          -1.364696374259146,
          -0.23163879310313643,
          0.44184120624887646,
          -0.008754529905923444,
          -0.8468384671871605,
          -1.7609159005214712,
          -0.8906016871681184,
          0.0014061404898391655,
          -0.8273110356202099,
          -1.4469547151441569,
          1.130716065259019,
          1.8385150812690811,
          1.4480020373494882,
          -0.7299993682456137,
          0.7084053880561713,
          -1.9574977231406003,
          1.3225294983535072,
          0.4604816538773025,
          0.5978851424936994,
          -0.029798002575205002,
          2.4444818990726014,
          0.23121109999846337,
          0.39411414563714564,
          1.424994271543353,
          -1.0108760588569032,
          -0.20433405466852314,
          -0.5930604286487997,
          -0.17345914350442432,
          -1.5383599521702267,
          1.9870464339271097,
          -0.9572961564127893,
          0.2736969217055384,
          -0.14260090164422665,
          0.5639127289263197,
          -1.2416397081029351,
          -1.0359339740593136,
          0.49857507285146657,
          -1.2100830662432491,
          1.0950061628189116,
          1.8846659520987912,
          -1.7878728745495034,
          0.28857746221554864,
          -1.4088943816655852,
          -1.2087136735183925,
          1.2778115772660252,
          1.6546599214910305,
          -0.7462906107026152,
          -0.9209903093715155,
          0.23517131057492602,
          -1.3162249191278517,
          0.8134368199054091,
          -0.0374560977698149,
          -0.9081747971850014,
          0.3002608454591211,
          -1.9056226453352814,
          0.4297281861337904,
          -0.5789872115675557,
          0.21575296332290184,
          1.5659208168241434,
          -0.5014118806704894,
          -0.36063540909619,
          -1.6235631621904136,
          0.20410868074437,
          -0.9931668727532835,
          0.24227106624572672,
          -1.4183421552714632,
          -2.4218648828227294,
          0.24063590836634863,
          -0.721590758122123,
          -0.29554997751728773,
          -0.723704077745416,
          -0.6669451077956237,
          -2.1012240102699056,
          -0.47528546735939825,
          0.9874550770448093,
          -1.0165171112904952,
          -0.6352140298009604
         ]
        },
        {
         "histfunc": "count",
         "histnorm": "",
         "marker": {
          "color": "rgba(55, 128, 191, 1.0)",
          "line": {
           "color": "#4D5663",
           "width": 1.3
          }
         },
         "name": "B",
         "opacity": 0.8,
         "orientation": "v",
         "type": "histogram",
         "x": [
          0.005253742579835973,
          0.7716277501844138,
          -1.3400305920631033,
          0.8318700917157779,
          2.240199667702425,
          -0.22292209976958163,
          -0.21705185991763193,
          -0.7393949298922802,
          -0.3067156431895187,
          0.3828707180093922,
          2.1967246063897288,
          -0.02905384790058943,
          0.23135537214505922,
          -1.8585285444240034,
          1.5382087491369076,
          2.0203249946759017,
          -0.10883618494234559,
          0.5586990172547254,
          -0.5173941777182314,
          0.6493323533920731,
          0.5779378136248604,
          1.1086260382106041,
          0.04515298529579711,
          1.8669147038799583,
          -1.081982530900694,
          0.34588203934046,
          -0.6738517290892458,
          0.5307011208620993,
          -0.2890152225836287,
          -1.0968014185406156,
          0.0069997093709019825,
          1.0096161393672936,
          -0.11999388042626354,
          -0.9846719383735099,
          2.1550176489971897,
          -0.0862558055942889,
          -0.6472715416910069,
          2.638125871089636,
          1.1062598580697107,
          -0.17386800601023839,
          -2.035440917897416,
          -0.3238816966370988,
          -0.9241586801488743,
          0.28270061840290656,
          -1.2936177268615774,
          -1.653251938555071,
          0.16674799397119405,
          -0.2662948634241881,
          0.08036384060337945,
          1.0983462697803852,
          0.3509552047370613,
          -0.43682665169660967,
          -1.3827744606669374,
          0.4738958851556978,
          -1.1325269214747788,
          -0.648548134378684,
          -0.23004881722647422,
          1.868850040978546,
          -0.07655085017094414,
          -1.406890502921777,
          -1.065453004451698,
          0.5349288988151877,
          1.3773373978807573,
          0.5867444979295666,
          0.8620421567209805,
          0.02407766005255767,
          -0.24521601213683414,
          0.048430437282934974,
          -1.7974755498952042,
          -1.2740596900069847,
          0.1877725087100248,
          -0.4093879315825059,
          0.5824620905697605,
          -0.799413254250628,
          2.6027632503644575,
          -1.563154453440586,
          -0.9213031507408195,
          0.07979897204686634,
          -0.9906227712393095,
          0.7259471437511759,
          0.13646236887374574,
          -0.5901089050824726,
          0.4830250607805121,
          0.07045911603626373,
          -1.0395461897361091,
          0.159846520137536,
          1.0109455233378781,
          0.15754580369888657,
          -0.10428812849781907,
          0.8880653905779591,
          -0.2091950350731277,
          -1.5960364240674625,
          -0.7720547303970756,
          1.4142597808980752,
          0.253057761265195,
          2.096759738915302,
          -0.49800753714594564,
          2.205377221396586,
          0.7549940575074778,
          0.03171008771101023
         ]
        },
        {
         "histfunc": "count",
         "histnorm": "",
         "marker": {
          "color": "rgba(50, 171, 96, 1.0)",
          "line": {
           "color": "#4D5663",
           "width": 1.3
          }
         },
         "name": "C",
         "opacity": 0.8,
         "orientation": "v",
         "type": "histogram",
         "x": [
          -0.059833531115340205,
          -1.1307586921024038,
          -1.5170991708405983,
          0.1160808301074496,
          -0.12443331309427426,
          1.2676305263539098,
          -1.6463008113069764,
          1.0704509382146838,
          -1.2047255156083325,
          -0.6037064891403543,
          -0.7475201631838689,
          -1.1744669027475887,
          0.48030262284316644,
          0.9098214135560966,
          -1.5993906133446323,
          0.4197640743888284,
          -0.2149301619105147,
          -0.17314106369777055,
          0.028213515702107568,
          -0.18534379249626168,
          0.3151620624222115,
          0.9543056213143404,
          1.5883852349755774,
          -0.12240271652122195,
          -0.5270291517043504,
          0.4864170800204461,
          0.8562578232246958,
          -1.6797894688423038,
          -0.9467473139214349,
          -0.7997157670107652,
          0.10001814984347672,
          1.7828893670975494,
          0.7031607462574542,
          0.010171140660643115,
          -0.40167286790753254,
          -0.022713288502423733,
          -1.2176710880508304,
          2.069515328450902,
          -0.4091616095882992,
          -0.0215929308246728,
          0.5974480325520253,
          -1.2983711082734464,
          -0.8769517606723604,
          0.43442891150441015,
          -0.6944095639989479,
          4.032736790835397,
          -0.5183645416258648,
          -0.35214783613094147,
          0.4283182689039598,
          -1.2825855564049675,
          2.042810376896394,
          0.8363617075024146,
          -0.24996803048593447,
          -0.7249052202412539,
          1.0659431873725955,
          0.11999074219720175,
          -2.6225097483783832,
          -0.9306985386490227,
          0.6149332485969911,
          -1.135900314950092,
          0.38599838131658937,
          -0.08306721638522246,
          1.6228039601371533,
          -0.07772711618525334,
          1.3298450092271772,
          -0.05050903008593878,
          1.8652974639279727,
          -0.2665584107205339,
          0.3849658987096003,
          -0.15359569461542186,
          1.8237622467376262,
          0.3661468059331742,
          -2.916564206650955,
          0.3972639089615204,
          0.008198659931431334,
          -1.5760208632854669,
          -0.8030979407843182,
          0.35268724922940176,
          -0.07195584029076904,
          0.6332523111960984,
          -0.053138329815598066,
          1.2350429498079165,
          0.5319503342878098,
          -1.6645778363543628,
          1.0582342841677217,
          0.13758399933343138,
          0.028425285203291552,
          0.6308990774792219,
          -0.44371572618825567,
          -0.03240748373035467,
          -0.6681543753003671,
          -0.11092583493554127,
          -1.3046806089449365,
          -1.0946605716276787,
          -1.0221848513838285,
          0.029419760269896504,
          0.7125106388215899,
          0.7110358381773751,
          0.2072281455770876,
          0.8858439582475902
         ]
        },
        {
         "histfunc": "count",
         "histnorm": "",
         "marker": {
          "color": "rgba(128, 0, 128, 1.0)",
          "line": {
           "color": "#4D5663",
           "width": 1.3
          }
         },
         "name": "D",
         "opacity": 0.8,
         "orientation": "v",
         "type": "histogram",
         "x": [
          -0.048438637774105314,
          -0.7819332955743884,
          -0.3801495953586696,
          0.09272418733206131,
          0.7808245571391312,
          0.5292232251316453,
          0.7274627743044587,
          -0.39748388296073767,
          0.33351628234173764,
          1.4353874488035603,
          -0.6416122676165328,
          -0.21624374030643773,
          -0.18262892551164203,
          1.4320690617186551,
          0.7522520439339312,
          -0.22238280208314654,
          -0.0024148553404345257,
          -1.5499752000072256,
          -1.969076768612912,
          1.0340972198392024,
          0.580563689799276,
          1.4587509308564321,
          -0.7825285048922617,
          0.16942465775404666,
          0.6580084266340505,
          0.9721824509859225,
          -0.9114882246177496,
          0.4611795445753822,
          0.7117293714633903,
          1.0491048103930758,
          0.8913969800869878,
          0.8974951904504173,
          -1.8467424551374227,
          1.2907662114214729,
          -2.459928488972569,
          -0.7628256803186014,
          -1.1986338915846038,
          0.8409660087997013,
          0.39053277181916746,
          0.3537879516964365,
          -0.19827400142084714,
          2.45078684667432,
          0.39339632744919706,
          1.2959445775725915,
          1.55742033037734,
          0.15903677031659075,
          0.8301172205354383,
          0.07725869797638997,
          -0.8540182591131804,
          -0.4997019785406598,
          1.2306188176947799,
          1.0920997473503868,
          -1.4925144990722459,
          -0.637145097678531,
          0.6605694198821305,
          -0.2817495373297371,
          -0.8375067117343374,
          -0.49206741167074847,
          -0.7726679333091742,
          -0.25396873345375925,
          0.9369327122811331,
          0.11446557309415974,
          0.557350214273498,
          -1.9565685423533479,
          -1.5931447014695428,
          0.42898871597828225,
          -0.13836267817067688,
          0.1740860135897892,
          -0.8150969593659615,
          0.3098140820911925,
          1.5856448102666456,
          -2.1520243724874897,
          -1.7069881134059737,
          0.6700740038384747,
          -1.2851453720497432,
          0.6364030819540974,
          -0.6728078005632903,
          -0.541035384971853,
          0.48763875357064984,
          1.091767088668557,
          1.109686796001412,
          -0.8621987749294595,
          -0.6507530256151302,
          0.485891682406828,
          1.4384870607912152,
          -1.2671510033372553,
          1.4909740801643505,
          -0.8486207628250105,
          -0.32893116836800396,
          -0.06685992986459374,
          -0.038509021919391075,
          1.39546176696491,
          -0.15091955130675058,
          1.0986346044800837,
          0.025414523902503757,
          1.26850959258467,
          0.4458738876443096,
          0.9496227170696862,
          -0.561925735762768,
          -0.5181977558854044
         ]
        }
       ],
       "layout": {
        "barmode": "overlay",
        "legend": {
         "bgcolor": "#F5F6F9",
         "font": {
          "color": "#4D5663"
         }
        },
        "paper_bgcolor": "#F5F6F9",
        "plot_bgcolor": "#F5F6F9",
        "template": {
         "data": {
          "bar": [
           {
            "error_x": {
             "color": "#2a3f5f"
            },
            "error_y": {
             "color": "#2a3f5f"
            },
            "marker": {
             "line": {
              "color": "#E5ECF6",
              "width": 0.5
             }
            },
            "type": "bar"
           }
          ],
          "barpolar": [
           {
            "marker": {
             "line": {
              "color": "#E5ECF6",
              "width": 0.5
             }
            },
            "type": "barpolar"
           }
          ],
          "carpet": [
           {
            "aaxis": {
             "endlinecolor": "#2a3f5f",
             "gridcolor": "white",
             "linecolor": "white",
             "minorgridcolor": "white",
             "startlinecolor": "#2a3f5f"
            },
            "baxis": {
             "endlinecolor": "#2a3f5f",
             "gridcolor": "white",
             "linecolor": "white",
             "minorgridcolor": "white",
             "startlinecolor": "#2a3f5f"
            },
            "type": "carpet"
           }
          ],
          "choropleth": [
           {
            "colorbar": {
             "outlinewidth": 0,
             "ticks": ""
            },
            "type": "choropleth"
           }
          ],
          "contour": [
           {
            "colorbar": {
             "outlinewidth": 0,
             "ticks": ""
            },
            "colorscale": [
             [
              0,
              "#0d0887"
             ],
             [
              0.1111111111111111,
              "#46039f"
             ],
             [
              0.2222222222222222,
              "#7201a8"
             ],
             [
              0.3333333333333333,
              "#9c179e"
             ],
             [
              0.4444444444444444,
              "#bd3786"
             ],
             [
              0.5555555555555556,
              "#d8576b"
             ],
             [
              0.6666666666666666,
              "#ed7953"
             ],
             [
              0.7777777777777778,
              "#fb9f3a"
             ],
             [
              0.8888888888888888,
              "#fdca26"
             ],
             [
              1,
              "#f0f921"
             ]
            ],
            "type": "contour"
           }
          ],
          "contourcarpet": [
           {
            "colorbar": {
             "outlinewidth": 0,
             "ticks": ""
            },
            "type": "contourcarpet"
           }
          ],
          "heatmap": [
           {
            "colorbar": {
             "outlinewidth": 0,
             "ticks": ""
            },
            "colorscale": [
             [
              0,
              "#0d0887"
             ],
             [
              0.1111111111111111,
              "#46039f"
             ],
             [
              0.2222222222222222,
              "#7201a8"
             ],
             [
              0.3333333333333333,
              "#9c179e"
             ],
             [
              0.4444444444444444,
              "#bd3786"
             ],
             [
              0.5555555555555556,
              "#d8576b"
             ],
             [
              0.6666666666666666,
              "#ed7953"
             ],
             [
              0.7777777777777778,
              "#fb9f3a"
             ],
             [
              0.8888888888888888,
              "#fdca26"
             ],
             [
              1,
              "#f0f921"
             ]
            ],
            "type": "heatmap"
           }
          ],
          "heatmapgl": [
           {
            "colorbar": {
             "outlinewidth": 0,
             "ticks": ""
            },
            "colorscale": [
             [
              0,
              "#0d0887"
             ],
             [
              0.1111111111111111,
              "#46039f"
             ],
             [
              0.2222222222222222,
              "#7201a8"
             ],
             [
              0.3333333333333333,
              "#9c179e"
             ],
             [
              0.4444444444444444,
              "#bd3786"
             ],
             [
              0.5555555555555556,
              "#d8576b"
             ],
             [
              0.6666666666666666,
              "#ed7953"
             ],
             [
              0.7777777777777778,
              "#fb9f3a"
             ],
             [
              0.8888888888888888,
              "#fdca26"
             ],
             [
              1,
              "#f0f921"
             ]
            ],
            "type": "heatmapgl"
           }
          ],
          "histogram": [
           {
            "marker": {
             "colorbar": {
              "outlinewidth": 0,
              "ticks": ""
             }
            },
            "type": "histogram"
           }
          ],
          "histogram2d": [
           {
            "colorbar": {
             "outlinewidth": 0,
             "ticks": ""
            },
            "colorscale": [
             [
              0,
              "#0d0887"
             ],
             [
              0.1111111111111111,
              "#46039f"
             ],
             [
              0.2222222222222222,
              "#7201a8"
             ],
             [
              0.3333333333333333,
              "#9c179e"
             ],
             [
              0.4444444444444444,
              "#bd3786"
             ],
             [
              0.5555555555555556,
              "#d8576b"
             ],
             [
              0.6666666666666666,
              "#ed7953"
             ],
             [
              0.7777777777777778,
              "#fb9f3a"
             ],
             [
              0.8888888888888888,
              "#fdca26"
             ],
             [
              1,
              "#f0f921"
             ]
            ],
            "type": "histogram2d"
           }
          ],
          "histogram2dcontour": [
           {
            "colorbar": {
             "outlinewidth": 0,
             "ticks": ""
            },
            "colorscale": [
             [
              0,
              "#0d0887"
             ],
             [
              0.1111111111111111,
              "#46039f"
             ],
             [
              0.2222222222222222,
              "#7201a8"
             ],
             [
              0.3333333333333333,
              "#9c179e"
             ],
             [
              0.4444444444444444,
              "#bd3786"
             ],
             [
              0.5555555555555556,
              "#d8576b"
             ],
             [
              0.6666666666666666,
              "#ed7953"
             ],
             [
              0.7777777777777778,
              "#fb9f3a"
             ],
             [
              0.8888888888888888,
              "#fdca26"
             ],
             [
              1,
              "#f0f921"
             ]
            ],
            "type": "histogram2dcontour"
           }
          ],
          "mesh3d": [
           {
            "colorbar": {
             "outlinewidth": 0,
             "ticks": ""
            },
            "type": "mesh3d"
           }
          ],
          "parcoords": [
           {
            "line": {
             "colorbar": {
              "outlinewidth": 0,
              "ticks": ""
             }
            },
            "type": "parcoords"
           }
          ],
          "pie": [
           {
            "automargin": true,
            "type": "pie"
           }
          ],
          "scatter": [
           {
            "marker": {
             "colorbar": {
              "outlinewidth": 0,
              "ticks": ""
             }
            },
            "type": "scatter"
           }
          ],
          "scatter3d": [
           {
            "line": {
             "colorbar": {
              "outlinewidth": 0,
              "ticks": ""
             }
            },
            "marker": {
             "colorbar": {
              "outlinewidth": 0,
              "ticks": ""
             }
            },
            "type": "scatter3d"
           }
          ],
          "scattercarpet": [
           {
            "marker": {
             "colorbar": {
              "outlinewidth": 0,
              "ticks": ""
             }
            },
            "type": "scattercarpet"
           }
          ],
          "scattergeo": [
           {
            "marker": {
             "colorbar": {
              "outlinewidth": 0,
              "ticks": ""
             }
            },
            "type": "scattergeo"
           }
          ],
          "scattergl": [
           {
            "marker": {
             "colorbar": {
              "outlinewidth": 0,
              "ticks": ""
             }
            },
            "type": "scattergl"
           }
          ],
          "scattermapbox": [
           {
            "marker": {
             "colorbar": {
              "outlinewidth": 0,
              "ticks": ""
             }
            },
            "type": "scattermapbox"
           }
          ],
          "scatterpolar": [
           {
            "marker": {
             "colorbar": {
              "outlinewidth": 0,
              "ticks": ""
             }
            },
            "type": "scatterpolar"
           }
          ],
          "scatterpolargl": [
           {
            "marker": {
             "colorbar": {
              "outlinewidth": 0,
              "ticks": ""
             }
            },
            "type": "scatterpolargl"
           }
          ],
          "scatterternary": [
           {
            "marker": {
             "colorbar": {
              "outlinewidth": 0,
              "ticks": ""
             }
            },
            "type": "scatterternary"
           }
          ],
          "surface": [
           {
            "colorbar": {
             "outlinewidth": 0,
             "ticks": ""
            },
            "colorscale": [
             [
              0,
              "#0d0887"
             ],
             [
              0.1111111111111111,
              "#46039f"
             ],
             [
              0.2222222222222222,
              "#7201a8"
             ],
             [
              0.3333333333333333,
              "#9c179e"
             ],
             [
              0.4444444444444444,
              "#bd3786"
             ],
             [
              0.5555555555555556,
              "#d8576b"
             ],
             [
              0.6666666666666666,
              "#ed7953"
             ],
             [
              0.7777777777777778,
              "#fb9f3a"
             ],
             [
              0.8888888888888888,
              "#fdca26"
             ],
             [
              1,
              "#f0f921"
             ]
            ],
            "type": "surface"
           }
          ],
          "table": [
           {
            "cells": {
             "fill": {
              "color": "#EBF0F8"
             },
             "line": {
              "color": "white"
             }
            },
            "header": {
             "fill": {
              "color": "#C8D4E3"
             },
             "line": {
              "color": "white"
             }
            },
            "type": "table"
           }
          ]
         },
         "layout": {
          "annotationdefaults": {
           "arrowcolor": "#2a3f5f",
           "arrowhead": 0,
           "arrowwidth": 1
          },
          "coloraxis": {
           "colorbar": {
            "outlinewidth": 0,
            "ticks": ""
           }
          },
          "colorscale": {
           "diverging": [
            [
             0,
             "#8e0152"
            ],
            [
             0.1,
             "#c51b7d"
            ],
            [
             0.2,
             "#de77ae"
            ],
            [
             0.3,
             "#f1b6da"
            ],
            [
             0.4,
             "#fde0ef"
            ],
            [
             0.5,
             "#f7f7f7"
            ],
            [
             0.6,
             "#e6f5d0"
            ],
            [
             0.7,
             "#b8e186"
            ],
            [
             0.8,
             "#7fbc41"
            ],
            [
             0.9,
             "#4d9221"
            ],
            [
             1,
             "#276419"
            ]
           ],
           "sequential": [
            [
             0,
             "#0d0887"
            ],
            [
             0.1111111111111111,
             "#46039f"
            ],
            [
             0.2222222222222222,
             "#7201a8"
            ],
            [
             0.3333333333333333,
             "#9c179e"
            ],
            [
             0.4444444444444444,
             "#bd3786"
            ],
            [
             0.5555555555555556,
             "#d8576b"
            ],
            [
             0.6666666666666666,
             "#ed7953"
            ],
            [
             0.7777777777777778,
             "#fb9f3a"
            ],
            [
             0.8888888888888888,
             "#fdca26"
            ],
            [
             1,
             "#f0f921"
            ]
           ],
           "sequentialminus": [
            [
             0,
             "#0d0887"
            ],
            [
             0.1111111111111111,
             "#46039f"
            ],
            [
             0.2222222222222222,
             "#7201a8"
            ],
            [
             0.3333333333333333,
             "#9c179e"
            ],
            [
             0.4444444444444444,
             "#bd3786"
            ],
            [
             0.5555555555555556,
             "#d8576b"
            ],
            [
             0.6666666666666666,
             "#ed7953"
            ],
            [
             0.7777777777777778,
             "#fb9f3a"
            ],
            [
             0.8888888888888888,
             "#fdca26"
            ],
            [
             1,
             "#f0f921"
            ]
           ]
          },
          "colorway": [
           "#636efa",
           "#EF553B",
           "#00cc96",
           "#ab63fa",
           "#FFA15A",
           "#19d3f3",
           "#FF6692",
           "#B6E880",
           "#FF97FF",
           "#FECB52"
          ],
          "font": {
           "color": "#2a3f5f"
          },
          "geo": {
           "bgcolor": "white",
           "lakecolor": "white",
           "landcolor": "#E5ECF6",
           "showlakes": true,
           "showland": true,
           "subunitcolor": "white"
          },
          "hoverlabel": {
           "align": "left"
          },
          "hovermode": "closest",
          "mapbox": {
           "style": "light"
          },
          "paper_bgcolor": "white",
          "plot_bgcolor": "#E5ECF6",
          "polar": {
           "angularaxis": {
            "gridcolor": "white",
            "linecolor": "white",
            "ticks": ""
           },
           "bgcolor": "#E5ECF6",
           "radialaxis": {
            "gridcolor": "white",
            "linecolor": "white",
            "ticks": ""
           }
          },
          "scene": {
           "xaxis": {
            "backgroundcolor": "#E5ECF6",
            "gridcolor": "white",
            "gridwidth": 2,
            "linecolor": "white",
            "showbackground": true,
            "ticks": "",
            "zerolinecolor": "white"
           },
           "yaxis": {
            "backgroundcolor": "#E5ECF6",
            "gridcolor": "white",
            "gridwidth": 2,
            "linecolor": "white",
            "showbackground": true,
            "ticks": "",
            "zerolinecolor": "white"
           },
           "zaxis": {
            "backgroundcolor": "#E5ECF6",
            "gridcolor": "white",
            "gridwidth": 2,
            "linecolor": "white",
            "showbackground": true,
            "ticks": "",
            "zerolinecolor": "white"
           }
          },
          "shapedefaults": {
           "line": {
            "color": "#2a3f5f"
           }
          },
          "ternary": {
           "aaxis": {
            "gridcolor": "white",
            "linecolor": "white",
            "ticks": ""
           },
           "baxis": {
            "gridcolor": "white",
            "linecolor": "white",
            "ticks": ""
           },
           "bgcolor": "#E5ECF6",
           "caxis": {
            "gridcolor": "white",
            "linecolor": "white",
            "ticks": ""
           }
          },
          "title": {
           "x": 0.05
          },
          "xaxis": {
           "automargin": true,
           "gridcolor": "white",
           "linecolor": "white",
           "ticks": "",
           "title": {
            "standoff": 15
           },
           "zerolinecolor": "white",
           "zerolinewidth": 2
          },
          "yaxis": {
           "automargin": true,
           "gridcolor": "white",
           "linecolor": "white",
           "ticks": "",
           "title": {
            "standoff": 15
           },
           "zerolinecolor": "white",
           "zerolinewidth": 2
          }
         }
        },
        "title": {
         "font": {
          "color": "#4D5663"
         }
        },
        "xaxis": {
         "gridcolor": "#E1E5ED",
         "showgrid": true,
         "tickfont": {
          "color": "#4D5663"
         },
         "title": {
          "font": {
           "color": "#4D5663"
          },
          "text": ""
         },
         "zerolinecolor": "#E1E5ED"
        },
        "yaxis": {
         "gridcolor": "#E1E5ED",
         "showgrid": true,
         "tickfont": {
          "color": "#4D5663"
         },
         "title": {
          "font": {
           "color": "#4D5663"
          },
          "text": ""
         },
         "zerolinecolor": "#E1E5ED"
        }
       }
      },
      "text/html": [
       "<div>\n",
       "        \n",
       "        \n",
       "            <div id=\"b18c6026-8cd4-4d02-ac12-39ecbdc1738d\" class=\"plotly-graph-div\" style=\"height:525px; width:100%;\"></div>\n",
       "            <script type=\"text/javascript\">\n",
       "                require([\"plotly\"], function(Plotly) {\n",
       "                    window.PLOTLYENV=window.PLOTLYENV || {};\n",
       "                    window.PLOTLYENV.BASE_URL='https://plot.ly';\n",
       "                    \n",
       "                if (document.getElementById(\"b18c6026-8cd4-4d02-ac12-39ecbdc1738d\")) {\n",
       "                    Plotly.newPlot(\n",
       "                        'b18c6026-8cd4-4d02-ac12-39ecbdc1738d',\n",
       "                        [{\"histfunc\": \"count\", \"histnorm\": \"\", \"marker\": {\"color\": \"rgba(255, 153, 51, 1.0)\", \"line\": {\"color\": \"#4D5663\", \"width\": 1.3}}, \"name\": \"A\", \"opacity\": 0.8, \"orientation\": \"v\", \"type\": \"histogram\", \"x\": [-0.4400399649717887, -0.3595613077728515, 1.873406826294262, 0.38969186783380566, -0.022267424723130477, 0.43504747311291625, 0.2554983804257713, -0.43489588798704, 1.3426244457395577, -0.48428219422439583, 1.2792534848487378, -0.33430267928447205, -0.05871625452323227, -1.4641294945567087, 0.6879170405939331, -0.5789676388980899, 0.4834159267743571, 0.7888288795843491, 0.3323842082460313, -0.500455046491514, 1.1349638922438667, 0.0648394026874129, -1.8369173628695823, -1.364696374259146, -0.23163879310313643, 0.44184120624887646, -0.008754529905923444, -0.8468384671871605, -1.7609159005214712, -0.8906016871681184, 0.0014061404898391655, -0.8273110356202099, -1.4469547151441569, 1.130716065259019, 1.8385150812690811, 1.4480020373494882, -0.7299993682456137, 0.7084053880561713, -1.9574977231406003, 1.3225294983535072, 0.4604816538773025, 0.5978851424936994, -0.029798002575205002, 2.4444818990726014, 0.23121109999846337, 0.39411414563714564, 1.424994271543353, -1.0108760588569032, -0.20433405466852314, -0.5930604286487997, -0.17345914350442432, -1.5383599521702267, 1.9870464339271097, -0.9572961564127893, 0.2736969217055384, -0.14260090164422665, 0.5639127289263197, -1.2416397081029351, -1.0359339740593136, 0.49857507285146657, -1.2100830662432491, 1.0950061628189116, 1.8846659520987912, -1.7878728745495034, 0.28857746221554864, -1.4088943816655852, -1.2087136735183925, 1.2778115772660252, 1.6546599214910305, -0.7462906107026152, -0.9209903093715155, 0.23517131057492602, -1.3162249191278517, 0.8134368199054091, -0.0374560977698149, -0.9081747971850014, 0.3002608454591211, -1.9056226453352814, 0.4297281861337904, -0.5789872115675557, 0.21575296332290184, 1.5659208168241434, -0.5014118806704894, -0.36063540909619, -1.6235631621904136, 0.20410868074437, -0.9931668727532835, 0.24227106624572672, -1.4183421552714632, -2.4218648828227294, 0.24063590836634863, -0.721590758122123, -0.29554997751728773, -0.723704077745416, -0.6669451077956237, -2.1012240102699056, -0.47528546735939825, 0.9874550770448093, -1.0165171112904952, -0.6352140298009604]}, {\"histfunc\": \"count\", \"histnorm\": \"\", \"marker\": {\"color\": \"rgba(55, 128, 191, 1.0)\", \"line\": {\"color\": \"#4D5663\", \"width\": 1.3}}, \"name\": \"B\", \"opacity\": 0.8, \"orientation\": \"v\", \"type\": \"histogram\", \"x\": [0.005253742579835973, 0.7716277501844138, -1.3400305920631033, 0.8318700917157779, 2.240199667702425, -0.22292209976958163, -0.21705185991763193, -0.7393949298922802, -0.3067156431895187, 0.3828707180093922, 2.1967246063897288, -0.02905384790058943, 0.23135537214505922, -1.8585285444240034, 1.5382087491369076, 2.0203249946759017, -0.10883618494234559, 0.5586990172547254, -0.5173941777182314, 0.6493323533920731, 0.5779378136248604, 1.1086260382106041, 0.04515298529579711, 1.8669147038799583, -1.081982530900694, 0.34588203934046, -0.6738517290892458, 0.5307011208620993, -0.2890152225836287, -1.0968014185406156, 0.0069997093709019825, 1.0096161393672936, -0.11999388042626354, -0.9846719383735099, 2.1550176489971897, -0.0862558055942889, -0.6472715416910069, 2.638125871089636, 1.1062598580697107, -0.17386800601023839, -2.035440917897416, -0.3238816966370988, -0.9241586801488743, 0.28270061840290656, -1.2936177268615774, -1.653251938555071, 0.16674799397119405, -0.2662948634241881, 0.08036384060337945, 1.0983462697803852, 0.3509552047370613, -0.43682665169660967, -1.3827744606669374, 0.4738958851556978, -1.1325269214747788, -0.648548134378684, -0.23004881722647422, 1.868850040978546, -0.07655085017094414, -1.406890502921777, -1.065453004451698, 0.5349288988151877, 1.3773373978807573, 0.5867444979295666, 0.8620421567209805, 0.02407766005255767, -0.24521601213683414, 0.048430437282934974, -1.7974755498952042, -1.2740596900069847, 0.1877725087100248, -0.4093879315825059, 0.5824620905697605, -0.799413254250628, 2.6027632503644575, -1.563154453440586, -0.9213031507408195, 0.07979897204686634, -0.9906227712393095, 0.7259471437511759, 0.13646236887374574, -0.5901089050824726, 0.4830250607805121, 0.07045911603626373, -1.0395461897361091, 0.159846520137536, 1.0109455233378781, 0.15754580369888657, -0.10428812849781907, 0.8880653905779591, -0.2091950350731277, -1.5960364240674625, -0.7720547303970756, 1.4142597808980752, 0.253057761265195, 2.096759738915302, -0.49800753714594564, 2.205377221396586, 0.7549940575074778, 0.03171008771101023]}, {\"histfunc\": \"count\", \"histnorm\": \"\", \"marker\": {\"color\": \"rgba(50, 171, 96, 1.0)\", \"line\": {\"color\": \"#4D5663\", \"width\": 1.3}}, \"name\": \"C\", \"opacity\": 0.8, \"orientation\": \"v\", \"type\": \"histogram\", \"x\": [-0.059833531115340205, -1.1307586921024038, -1.5170991708405983, 0.1160808301074496, -0.12443331309427426, 1.2676305263539098, -1.6463008113069764, 1.0704509382146838, -1.2047255156083325, -0.6037064891403543, -0.7475201631838689, -1.1744669027475887, 0.48030262284316644, 0.9098214135560966, -1.5993906133446323, 0.4197640743888284, -0.2149301619105147, -0.17314106369777055, 0.028213515702107568, -0.18534379249626168, 0.3151620624222115, 0.9543056213143404, 1.5883852349755774, -0.12240271652122195, -0.5270291517043504, 0.4864170800204461, 0.8562578232246958, -1.6797894688423038, -0.9467473139214349, -0.7997157670107652, 0.10001814984347672, 1.7828893670975494, 0.7031607462574542, 0.010171140660643115, -0.40167286790753254, -0.022713288502423733, -1.2176710880508304, 2.069515328450902, -0.4091616095882992, -0.0215929308246728, 0.5974480325520253, -1.2983711082734464, -0.8769517606723604, 0.43442891150441015, -0.6944095639989479, 4.032736790835397, -0.5183645416258648, -0.35214783613094147, 0.4283182689039598, -1.2825855564049675, 2.042810376896394, 0.8363617075024146, -0.24996803048593447, -0.7249052202412539, 1.0659431873725955, 0.11999074219720175, -2.6225097483783832, -0.9306985386490227, 0.6149332485969911, -1.135900314950092, 0.38599838131658937, -0.08306721638522246, 1.6228039601371533, -0.07772711618525334, 1.3298450092271772, -0.05050903008593878, 1.8652974639279727, -0.2665584107205339, 0.3849658987096003, -0.15359569461542186, 1.8237622467376262, 0.3661468059331742, -2.916564206650955, 0.3972639089615204, 0.008198659931431334, -1.5760208632854669, -0.8030979407843182, 0.35268724922940176, -0.07195584029076904, 0.6332523111960984, -0.053138329815598066, 1.2350429498079165, 0.5319503342878098, -1.6645778363543628, 1.0582342841677217, 0.13758399933343138, 0.028425285203291552, 0.6308990774792219, -0.44371572618825567, -0.03240748373035467, -0.6681543753003671, -0.11092583493554127, -1.3046806089449365, -1.0946605716276787, -1.0221848513838285, 0.029419760269896504, 0.7125106388215899, 0.7110358381773751, 0.2072281455770876, 0.8858439582475902]}, {\"histfunc\": \"count\", \"histnorm\": \"\", \"marker\": {\"color\": \"rgba(128, 0, 128, 1.0)\", \"line\": {\"color\": \"#4D5663\", \"width\": 1.3}}, \"name\": \"D\", \"opacity\": 0.8, \"orientation\": \"v\", \"type\": \"histogram\", \"x\": [-0.048438637774105314, -0.7819332955743884, -0.3801495953586696, 0.09272418733206131, 0.7808245571391312, 0.5292232251316453, 0.7274627743044587, -0.39748388296073767, 0.33351628234173764, 1.4353874488035603, -0.6416122676165328, -0.21624374030643773, -0.18262892551164203, 1.4320690617186551, 0.7522520439339312, -0.22238280208314654, -0.0024148553404345257, -1.5499752000072256, -1.969076768612912, 1.0340972198392024, 0.580563689799276, 1.4587509308564321, -0.7825285048922617, 0.16942465775404666, 0.6580084266340505, 0.9721824509859225, -0.9114882246177496, 0.4611795445753822, 0.7117293714633903, 1.0491048103930758, 0.8913969800869878, 0.8974951904504173, -1.8467424551374227, 1.2907662114214729, -2.459928488972569, -0.7628256803186014, -1.1986338915846038, 0.8409660087997013, 0.39053277181916746, 0.3537879516964365, -0.19827400142084714, 2.45078684667432, 0.39339632744919706, 1.2959445775725915, 1.55742033037734, 0.15903677031659075, 0.8301172205354383, 0.07725869797638997, -0.8540182591131804, -0.4997019785406598, 1.2306188176947799, 1.0920997473503868, -1.4925144990722459, -0.637145097678531, 0.6605694198821305, -0.2817495373297371, -0.8375067117343374, -0.49206741167074847, -0.7726679333091742, -0.25396873345375925, 0.9369327122811331, 0.11446557309415974, 0.557350214273498, -1.9565685423533479, -1.5931447014695428, 0.42898871597828225, -0.13836267817067688, 0.1740860135897892, -0.8150969593659615, 0.3098140820911925, 1.5856448102666456, -2.1520243724874897, -1.7069881134059737, 0.6700740038384747, -1.2851453720497432, 0.6364030819540974, -0.6728078005632903, -0.541035384971853, 0.48763875357064984, 1.091767088668557, 1.109686796001412, -0.8621987749294595, -0.6507530256151302, 0.485891682406828, 1.4384870607912152, -1.2671510033372553, 1.4909740801643505, -0.8486207628250105, -0.32893116836800396, -0.06685992986459374, -0.038509021919391075, 1.39546176696491, -0.15091955130675058, 1.0986346044800837, 0.025414523902503757, 1.26850959258467, 0.4458738876443096, 0.9496227170696862, -0.561925735762768, -0.5181977558854044]}],\n",
       "                        {\"barmode\": \"overlay\", \"legend\": {\"bgcolor\": \"#F5F6F9\", \"font\": {\"color\": \"#4D5663\"}}, \"paper_bgcolor\": \"#F5F6F9\", \"plot_bgcolor\": \"#F5F6F9\", \"template\": {\"data\": {\"bar\": [{\"error_x\": {\"color\": \"#2a3f5f\"}, \"error_y\": {\"color\": \"#2a3f5f\"}, \"marker\": {\"line\": {\"color\": \"#E5ECF6\", \"width\": 0.5}}, \"type\": \"bar\"}], \"barpolar\": [{\"marker\": {\"line\": {\"color\": \"#E5ECF6\", \"width\": 0.5}}, \"type\": \"barpolar\"}], \"carpet\": [{\"aaxis\": {\"endlinecolor\": \"#2a3f5f\", \"gridcolor\": \"white\", \"linecolor\": \"white\", \"minorgridcolor\": \"white\", \"startlinecolor\": \"#2a3f5f\"}, \"baxis\": {\"endlinecolor\": \"#2a3f5f\", \"gridcolor\": \"white\", \"linecolor\": \"white\", \"minorgridcolor\": \"white\", \"startlinecolor\": \"#2a3f5f\"}, \"type\": \"carpet\"}], \"choropleth\": [{\"colorbar\": {\"outlinewidth\": 0, \"ticks\": \"\"}, \"type\": \"choropleth\"}], \"contour\": [{\"colorbar\": {\"outlinewidth\": 0, \"ticks\": \"\"}, \"colorscale\": [[0.0, \"#0d0887\"], [0.1111111111111111, \"#46039f\"], [0.2222222222222222, \"#7201a8\"], [0.3333333333333333, \"#9c179e\"], [0.4444444444444444, \"#bd3786\"], [0.5555555555555556, \"#d8576b\"], [0.6666666666666666, \"#ed7953\"], [0.7777777777777778, \"#fb9f3a\"], [0.8888888888888888, \"#fdca26\"], [1.0, \"#f0f921\"]], \"type\": \"contour\"}], \"contourcarpet\": [{\"colorbar\": {\"outlinewidth\": 0, \"ticks\": \"\"}, \"type\": \"contourcarpet\"}], \"heatmap\": [{\"colorbar\": {\"outlinewidth\": 0, \"ticks\": \"\"}, \"colorscale\": [[0.0, \"#0d0887\"], [0.1111111111111111, \"#46039f\"], [0.2222222222222222, \"#7201a8\"], [0.3333333333333333, \"#9c179e\"], [0.4444444444444444, \"#bd3786\"], [0.5555555555555556, \"#d8576b\"], [0.6666666666666666, \"#ed7953\"], [0.7777777777777778, \"#fb9f3a\"], [0.8888888888888888, \"#fdca26\"], [1.0, \"#f0f921\"]], \"type\": \"heatmap\"}], \"heatmapgl\": [{\"colorbar\": {\"outlinewidth\": 0, \"ticks\": \"\"}, \"colorscale\": [[0.0, \"#0d0887\"], [0.1111111111111111, \"#46039f\"], [0.2222222222222222, \"#7201a8\"], [0.3333333333333333, \"#9c179e\"], [0.4444444444444444, \"#bd3786\"], [0.5555555555555556, \"#d8576b\"], [0.6666666666666666, \"#ed7953\"], [0.7777777777777778, \"#fb9f3a\"], [0.8888888888888888, \"#fdca26\"], [1.0, \"#f0f921\"]], \"type\": \"heatmapgl\"}], \"histogram\": [{\"marker\": {\"colorbar\": {\"outlinewidth\": 0, \"ticks\": \"\"}}, \"type\": \"histogram\"}], \"histogram2d\": [{\"colorbar\": {\"outlinewidth\": 0, \"ticks\": \"\"}, \"colorscale\": [[0.0, \"#0d0887\"], [0.1111111111111111, \"#46039f\"], [0.2222222222222222, \"#7201a8\"], [0.3333333333333333, \"#9c179e\"], [0.4444444444444444, \"#bd3786\"], [0.5555555555555556, \"#d8576b\"], [0.6666666666666666, \"#ed7953\"], [0.7777777777777778, \"#fb9f3a\"], [0.8888888888888888, \"#fdca26\"], [1.0, \"#f0f921\"]], \"type\": \"histogram2d\"}], \"histogram2dcontour\": [{\"colorbar\": {\"outlinewidth\": 0, \"ticks\": \"\"}, \"colorscale\": [[0.0, \"#0d0887\"], [0.1111111111111111, \"#46039f\"], [0.2222222222222222, \"#7201a8\"], [0.3333333333333333, \"#9c179e\"], [0.4444444444444444, \"#bd3786\"], [0.5555555555555556, \"#d8576b\"], [0.6666666666666666, \"#ed7953\"], [0.7777777777777778, \"#fb9f3a\"], [0.8888888888888888, \"#fdca26\"], [1.0, \"#f0f921\"]], \"type\": \"histogram2dcontour\"}], \"mesh3d\": [{\"colorbar\": {\"outlinewidth\": 0, \"ticks\": \"\"}, \"type\": \"mesh3d\"}], \"parcoords\": [{\"line\": {\"colorbar\": {\"outlinewidth\": 0, \"ticks\": \"\"}}, \"type\": \"parcoords\"}], \"pie\": [{\"automargin\": true, \"type\": \"pie\"}], \"scatter\": [{\"marker\": {\"colorbar\": {\"outlinewidth\": 0, \"ticks\": \"\"}}, \"type\": \"scatter\"}], \"scatter3d\": [{\"line\": {\"colorbar\": {\"outlinewidth\": 0, \"ticks\": \"\"}}, \"marker\": {\"colorbar\": {\"outlinewidth\": 0, \"ticks\": \"\"}}, \"type\": \"scatter3d\"}], \"scattercarpet\": [{\"marker\": {\"colorbar\": {\"outlinewidth\": 0, \"ticks\": \"\"}}, \"type\": \"scattercarpet\"}], \"scattergeo\": [{\"marker\": {\"colorbar\": {\"outlinewidth\": 0, \"ticks\": \"\"}}, \"type\": \"scattergeo\"}], \"scattergl\": [{\"marker\": {\"colorbar\": {\"outlinewidth\": 0, \"ticks\": \"\"}}, \"type\": \"scattergl\"}], \"scattermapbox\": [{\"marker\": {\"colorbar\": {\"outlinewidth\": 0, \"ticks\": \"\"}}, \"type\": \"scattermapbox\"}], \"scatterpolar\": [{\"marker\": {\"colorbar\": {\"outlinewidth\": 0, \"ticks\": \"\"}}, \"type\": \"scatterpolar\"}], \"scatterpolargl\": [{\"marker\": {\"colorbar\": {\"outlinewidth\": 0, \"ticks\": \"\"}}, \"type\": \"scatterpolargl\"}], \"scatterternary\": [{\"marker\": {\"colorbar\": {\"outlinewidth\": 0, \"ticks\": \"\"}}, \"type\": \"scatterternary\"}], \"surface\": [{\"colorbar\": {\"outlinewidth\": 0, \"ticks\": \"\"}, \"colorscale\": [[0.0, \"#0d0887\"], [0.1111111111111111, \"#46039f\"], [0.2222222222222222, \"#7201a8\"], [0.3333333333333333, \"#9c179e\"], [0.4444444444444444, \"#bd3786\"], [0.5555555555555556, \"#d8576b\"], [0.6666666666666666, \"#ed7953\"], [0.7777777777777778, \"#fb9f3a\"], [0.8888888888888888, \"#fdca26\"], [1.0, \"#f0f921\"]], \"type\": \"surface\"}], \"table\": [{\"cells\": {\"fill\": {\"color\": \"#EBF0F8\"}, \"line\": {\"color\": \"white\"}}, \"header\": {\"fill\": {\"color\": \"#C8D4E3\"}, \"line\": {\"color\": \"white\"}}, \"type\": \"table\"}]}, \"layout\": {\"annotationdefaults\": {\"arrowcolor\": \"#2a3f5f\", \"arrowhead\": 0, \"arrowwidth\": 1}, \"coloraxis\": {\"colorbar\": {\"outlinewidth\": 0, \"ticks\": \"\"}}, \"colorscale\": {\"diverging\": [[0, \"#8e0152\"], [0.1, \"#c51b7d\"], [0.2, \"#de77ae\"], [0.3, \"#f1b6da\"], [0.4, \"#fde0ef\"], [0.5, \"#f7f7f7\"], [0.6, \"#e6f5d0\"], [0.7, \"#b8e186\"], [0.8, \"#7fbc41\"], [0.9, \"#4d9221\"], [1, \"#276419\"]], \"sequential\": [[0.0, \"#0d0887\"], [0.1111111111111111, \"#46039f\"], [0.2222222222222222, \"#7201a8\"], [0.3333333333333333, \"#9c179e\"], [0.4444444444444444, \"#bd3786\"], [0.5555555555555556, \"#d8576b\"], [0.6666666666666666, \"#ed7953\"], [0.7777777777777778, \"#fb9f3a\"], [0.8888888888888888, \"#fdca26\"], [1.0, \"#f0f921\"]], \"sequentialminus\": [[0.0, \"#0d0887\"], [0.1111111111111111, \"#46039f\"], [0.2222222222222222, \"#7201a8\"], [0.3333333333333333, \"#9c179e\"], [0.4444444444444444, \"#bd3786\"], [0.5555555555555556, \"#d8576b\"], [0.6666666666666666, \"#ed7953\"], [0.7777777777777778, \"#fb9f3a\"], [0.8888888888888888, \"#fdca26\"], [1.0, \"#f0f921\"]]}, \"colorway\": [\"#636efa\", \"#EF553B\", \"#00cc96\", \"#ab63fa\", \"#FFA15A\", \"#19d3f3\", \"#FF6692\", \"#B6E880\", \"#FF97FF\", \"#FECB52\"], \"font\": {\"color\": \"#2a3f5f\"}, \"geo\": {\"bgcolor\": \"white\", \"lakecolor\": \"white\", \"landcolor\": \"#E5ECF6\", \"showlakes\": true, \"showland\": true, \"subunitcolor\": \"white\"}, \"hoverlabel\": {\"align\": \"left\"}, \"hovermode\": \"closest\", \"mapbox\": {\"style\": \"light\"}, \"paper_bgcolor\": \"white\", \"plot_bgcolor\": \"#E5ECF6\", \"polar\": {\"angularaxis\": {\"gridcolor\": \"white\", \"linecolor\": \"white\", \"ticks\": \"\"}, \"bgcolor\": \"#E5ECF6\", \"radialaxis\": {\"gridcolor\": \"white\", \"linecolor\": \"white\", \"ticks\": \"\"}}, \"scene\": {\"xaxis\": {\"backgroundcolor\": \"#E5ECF6\", \"gridcolor\": \"white\", \"gridwidth\": 2, \"linecolor\": \"white\", \"showbackground\": true, \"ticks\": \"\", \"zerolinecolor\": \"white\"}, \"yaxis\": {\"backgroundcolor\": \"#E5ECF6\", \"gridcolor\": \"white\", \"gridwidth\": 2, \"linecolor\": \"white\", \"showbackground\": true, \"ticks\": \"\", \"zerolinecolor\": \"white\"}, \"zaxis\": {\"backgroundcolor\": \"#E5ECF6\", \"gridcolor\": \"white\", \"gridwidth\": 2, \"linecolor\": \"white\", \"showbackground\": true, \"ticks\": \"\", \"zerolinecolor\": \"white\"}}, \"shapedefaults\": {\"line\": {\"color\": \"#2a3f5f\"}}, \"ternary\": {\"aaxis\": {\"gridcolor\": \"white\", \"linecolor\": \"white\", \"ticks\": \"\"}, \"baxis\": {\"gridcolor\": \"white\", \"linecolor\": \"white\", \"ticks\": \"\"}, \"bgcolor\": \"#E5ECF6\", \"caxis\": {\"gridcolor\": \"white\", \"linecolor\": \"white\", \"ticks\": \"\"}}, \"title\": {\"x\": 0.05}, \"xaxis\": {\"automargin\": true, \"gridcolor\": \"white\", \"linecolor\": \"white\", \"ticks\": \"\", \"title\": {\"standoff\": 15}, \"zerolinecolor\": \"white\", \"zerolinewidth\": 2}, \"yaxis\": {\"automargin\": true, \"gridcolor\": \"white\", \"linecolor\": \"white\", \"ticks\": \"\", \"title\": {\"standoff\": 15}, \"zerolinecolor\": \"white\", \"zerolinewidth\": 2}}}, \"title\": {\"font\": {\"color\": \"#4D5663\"}}, \"xaxis\": {\"gridcolor\": \"#E1E5ED\", \"showgrid\": true, \"tickfont\": {\"color\": \"#4D5663\"}, \"title\": {\"font\": {\"color\": \"#4D5663\"}, \"text\": \"\"}, \"zerolinecolor\": \"#E1E5ED\"}, \"yaxis\": {\"gridcolor\": \"#E1E5ED\", \"showgrid\": true, \"tickfont\": {\"color\": \"#4D5663\"}, \"title\": {\"font\": {\"color\": \"#4D5663\"}, \"text\": \"\"}, \"zerolinecolor\": \"#E1E5ED\"}},\n",
       "                        {\"showLink\": true, \"linkText\": \"Export to plot.ly\", \"plotlyServerURL\": \"https://plot.ly\", \"responsive\": true}\n",
       "                    ).then(function(){\n",
       "                            \n",
       "var gd = document.getElementById('b18c6026-8cd4-4d02-ac12-39ecbdc1738d');\n",
       "var x = new MutationObserver(function (mutations, observer) {{\n",
       "        var display = window.getComputedStyle(gd).display;\n",
       "        if (!display || display === 'none') {{\n",
       "            console.log([gd, 'removed!']);\n",
       "            Plotly.purge(gd);\n",
       "            observer.disconnect();\n",
       "        }}\n",
       "}});\n",
       "\n",
       "// Listen for the removal of the full notebook cells\n",
       "var notebookContainer = gd.closest('#notebook-container');\n",
       "if (notebookContainer) {{\n",
       "    x.observe(notebookContainer, {childList: true});\n",
       "}}\n",
       "\n",
       "// Listen for the clearing of the current output cell\n",
       "var outputEl = gd.closest('.output');\n",
       "if (outputEl) {{\n",
       "    x.observe(outputEl, {childList: true});\n",
       "}}\n",
       "\n",
       "                        })\n",
       "                };\n",
       "                });\n",
       "            </script>\n",
       "        </div>"
      ]
     },
     "metadata": {},
     "output_type": "display_data"
    }
   ],
   "source": [
    "df.iplot(kind=\"hist\")"
   ]
  },
  {
   "cell_type": "code",
   "execution_count": 73,
   "metadata": {},
   "outputs": [
    {
     "data": {
      "application/vnd.plotly.v1+json": {
       "config": {
        "linkText": "Export to plot.ly",
        "plotlyServerURL": "https://plot.ly",
        "showLink": true
       },
       "data": [
        {
         "line": {
          "color": "rgba(255, 153, 51, 1.0)",
          "dash": "solid",
          "shape": "linear",
          "width": 1.3
         },
         "mode": "lines",
         "name": "A",
         "text": "",
         "type": "scatter",
         "x": [
          0,
          1,
          2,
          3,
          4,
          5,
          6,
          7,
          8,
          9,
          10,
          11,
          12,
          13,
          14,
          15,
          16,
          17,
          18,
          19,
          20,
          21,
          22,
          23,
          24,
          25,
          26,
          27,
          28,
          29,
          30,
          31,
          32,
          33,
          34,
          35,
          36,
          37,
          38,
          39,
          40,
          41,
          42,
          43,
          44,
          45,
          46,
          47,
          48,
          49,
          50,
          51,
          52,
          53,
          54,
          55,
          56,
          57,
          58,
          59,
          60,
          61,
          62,
          63,
          64,
          65,
          66,
          67,
          68,
          69,
          70,
          71,
          72,
          73,
          74,
          75,
          76,
          77,
          78,
          79,
          80,
          81,
          82,
          83,
          84,
          85,
          86,
          87,
          88,
          89,
          90,
          91,
          92,
          93,
          94,
          95,
          96,
          97,
          98,
          99
         ],
         "y": [
          -0.4400399649717887,
          -0.3595613077728515,
          1.873406826294262,
          0.38969186783380566,
          -0.022267424723130477,
          0.43504747311291625,
          0.2554983804257713,
          -0.43489588798704,
          1.3426244457395577,
          -0.48428219422439583,
          1.2792534848487378,
          -0.33430267928447205,
          -0.05871625452323227,
          -1.4641294945567087,
          0.6879170405939331,
          -0.5789676388980899,
          0.4834159267743571,
          0.7888288795843491,
          0.3323842082460313,
          -0.500455046491514,
          1.1349638922438667,
          0.0648394026874129,
          -1.8369173628695823,
          -1.364696374259146,
          -0.23163879310313643,
          0.44184120624887646,
          -0.008754529905923444,
          -0.8468384671871605,
          -1.7609159005214712,
          -0.8906016871681184,
          0.0014061404898391655,
          -0.8273110356202099,
          -1.4469547151441569,
          1.130716065259019,
          1.8385150812690811,
          1.4480020373494882,
          -0.7299993682456137,
          0.7084053880561713,
          -1.9574977231406003,
          1.3225294983535072,
          0.4604816538773025,
          0.5978851424936994,
          -0.029798002575205002,
          2.4444818990726014,
          0.23121109999846337,
          0.39411414563714564,
          1.424994271543353,
          -1.0108760588569032,
          -0.20433405466852314,
          -0.5930604286487997,
          -0.17345914350442432,
          -1.5383599521702267,
          1.9870464339271097,
          -0.9572961564127893,
          0.2736969217055384,
          -0.14260090164422665,
          0.5639127289263197,
          -1.2416397081029351,
          -1.0359339740593136,
          0.49857507285146657,
          -1.2100830662432491,
          1.0950061628189116,
          1.8846659520987912,
          -1.7878728745495034,
          0.28857746221554864,
          -1.4088943816655852,
          -1.2087136735183925,
          1.2778115772660252,
          1.6546599214910305,
          -0.7462906107026152,
          -0.9209903093715155,
          0.23517131057492602,
          -1.3162249191278517,
          0.8134368199054091,
          -0.0374560977698149,
          -0.9081747971850014,
          0.3002608454591211,
          -1.9056226453352814,
          0.4297281861337904,
          -0.5789872115675557,
          0.21575296332290184,
          1.5659208168241434,
          -0.5014118806704894,
          -0.36063540909619,
          -1.6235631621904136,
          0.20410868074437,
          -0.9931668727532835,
          0.24227106624572672,
          -1.4183421552714632,
          -2.4218648828227294,
          0.24063590836634863,
          -0.721590758122123,
          -0.29554997751728773,
          -0.723704077745416,
          -0.6669451077956237,
          -2.1012240102699056,
          -0.47528546735939825,
          0.9874550770448093,
          -1.0165171112904952,
          -0.6352140298009604
         ]
        },
        {
         "line": {
          "color": "rgba(55, 128, 191, 1.0)",
          "dash": "solid",
          "shape": "linear",
          "width": 1.3
         },
         "mode": "lines",
         "name": "D",
         "text": "",
         "type": "scatter",
         "x": [
          0,
          1,
          2,
          3,
          4,
          5,
          6,
          7,
          8,
          9,
          10,
          11,
          12,
          13,
          14,
          15,
          16,
          17,
          18,
          19,
          20,
          21,
          22,
          23,
          24,
          25,
          26,
          27,
          28,
          29,
          30,
          31,
          32,
          33,
          34,
          35,
          36,
          37,
          38,
          39,
          40,
          41,
          42,
          43,
          44,
          45,
          46,
          47,
          48,
          49,
          50,
          51,
          52,
          53,
          54,
          55,
          56,
          57,
          58,
          59,
          60,
          61,
          62,
          63,
          64,
          65,
          66,
          67,
          68,
          69,
          70,
          71,
          72,
          73,
          74,
          75,
          76,
          77,
          78,
          79,
          80,
          81,
          82,
          83,
          84,
          85,
          86,
          87,
          88,
          89,
          90,
          91,
          92,
          93,
          94,
          95,
          96,
          97,
          98,
          99
         ],
         "y": [
          -0.048438637774105314,
          -0.7819332955743884,
          -0.3801495953586696,
          0.09272418733206131,
          0.7808245571391312,
          0.5292232251316453,
          0.7274627743044587,
          -0.39748388296073767,
          0.33351628234173764,
          1.4353874488035603,
          -0.6416122676165328,
          -0.21624374030643773,
          -0.18262892551164203,
          1.4320690617186551,
          0.7522520439339312,
          -0.22238280208314654,
          -0.0024148553404345257,
          -1.5499752000072256,
          -1.969076768612912,
          1.0340972198392024,
          0.580563689799276,
          1.4587509308564321,
          -0.7825285048922617,
          0.16942465775404666,
          0.6580084266340505,
          0.9721824509859225,
          -0.9114882246177496,
          0.4611795445753822,
          0.7117293714633903,
          1.0491048103930758,
          0.8913969800869878,
          0.8974951904504173,
          -1.8467424551374227,
          1.2907662114214729,
          -2.459928488972569,
          -0.7628256803186014,
          -1.1986338915846038,
          0.8409660087997013,
          0.39053277181916746,
          0.3537879516964365,
          -0.19827400142084714,
          2.45078684667432,
          0.39339632744919706,
          1.2959445775725915,
          1.55742033037734,
          0.15903677031659075,
          0.8301172205354383,
          0.07725869797638997,
          -0.8540182591131804,
          -0.4997019785406598,
          1.2306188176947799,
          1.0920997473503868,
          -1.4925144990722459,
          -0.637145097678531,
          0.6605694198821305,
          -0.2817495373297371,
          -0.8375067117343374,
          -0.49206741167074847,
          -0.7726679333091742,
          -0.25396873345375925,
          0.9369327122811331,
          0.11446557309415974,
          0.557350214273498,
          -1.9565685423533479,
          -1.5931447014695428,
          0.42898871597828225,
          -0.13836267817067688,
          0.1740860135897892,
          -0.8150969593659615,
          0.3098140820911925,
          1.5856448102666456,
          -2.1520243724874897,
          -1.7069881134059737,
          0.6700740038384747,
          -1.2851453720497432,
          0.6364030819540974,
          -0.6728078005632903,
          -0.541035384971853,
          0.48763875357064984,
          1.091767088668557,
          1.109686796001412,
          -0.8621987749294595,
          -0.6507530256151302,
          0.485891682406828,
          1.4384870607912152,
          -1.2671510033372553,
          1.4909740801643505,
          -0.8486207628250105,
          -0.32893116836800396,
          -0.06685992986459374,
          -0.038509021919391075,
          1.39546176696491,
          -0.15091955130675058,
          1.0986346044800837,
          0.025414523902503757,
          1.26850959258467,
          0.4458738876443096,
          0.9496227170696862,
          -0.561925735762768,
          -0.5181977558854044
         ]
        },
        {
         "connectgaps": false,
         "fill": "tozeroy",
         "line": {
          "color": "green",
          "dash": "solid",
          "shape": "linear",
          "width": 0.5
         },
         "mode": "lines",
         "name": "Spread",
         "showlegend": false,
         "type": "scatter",
         "x": [
          0,
          1,
          2,
          3,
          4,
          5,
          6,
          7,
          8,
          9,
          10,
          11,
          12,
          13,
          14,
          15,
          16,
          17,
          18,
          19,
          20,
          21,
          22,
          23,
          24,
          25,
          26,
          27,
          28,
          29,
          30,
          31,
          32,
          33,
          34,
          35,
          36,
          37,
          38,
          39,
          40,
          41,
          42,
          43,
          44,
          45,
          46,
          47,
          48,
          49,
          50,
          51,
          52,
          53,
          54,
          55,
          56,
          57,
          58,
          59,
          60,
          61,
          62,
          63,
          64,
          65,
          66,
          67,
          68,
          69,
          70,
          71,
          72,
          73,
          74,
          75,
          76,
          77,
          78,
          79,
          80,
          81,
          82,
          83,
          84,
          85,
          86,
          87,
          88,
          89,
          90,
          91,
          92,
          93,
          94,
          95,
          96,
          97,
          98,
          99
         ],
         "xaxis": "x2",
         "y": [
          "",
          0.4223719878015369,
          2.253556421652932,
          0.2969676805017444,
          "",
          "",
          "",
          "",
          1.00910816339782,
          "",
          1.9208657524652706,
          "",
          0.12391267098840976,
          "",
          "",
          "",
          0.4858307821147916,
          2.3388040795915748,
          2.3014609768589436,
          "",
          0.5544002024445908,
          "",
          "",
          "",
          "",
          "",
          0.9027336947118262,
          "",
          "",
          "",
          "",
          "",
          0.3997877399932659,
          "",
          4.29844357024165,
          2.2108277176680895,
          0.46863452333899003,
          "",
          "",
          0.9687415466570707,
          0.6587556552981496,
          "",
          "",
          1.1485373215000099,
          "",
          0.2350773753205549,
          0.5948770510079147,
          "",
          0.6496842044446572,
          "",
          "",
          "",
          3.4795609329993553,
          "",
          "",
          0.13914863568551047,
          1.401419440660657,
          "",
          "",
          0.7525438063052259,
          "",
          0.9805405897247519,
          1.3273157378252933,
          0.16869566780384448,
          1.8817221636850914,
          "",
          "",
          1.103725563676236,
          2.469756880856992,
          "",
          "",
          2.3871956830624157,
          0.390763194278122,
          0.14336281606693435,
          1.2476892742799284,
          "",
          0.9730686460224114,
          "",
          "",
          "",
          "",
          2.428119591753603,
          0.1493411449446408,
          "",
          "",
          1.4712596840816252,
          "",
          1.0908918290707372,
          "",
          "",
          0.2791449302857397,
          "",
          "",
          "",
          "",
          "",
          "",
          0.03783235997512313,
          "",
          ""
         ],
         "yaxis": "y2"
        },
        {
         "connectgaps": false,
         "fill": "tozeroy",
         "line": {
          "color": "red",
          "dash": "solid",
          "shape": "linear",
          "width": 0.5
         },
         "mode": "lines",
         "name": "Spread",
         "showlegend": false,
         "type": "scatter",
         "x": [
          0,
          1,
          2,
          3,
          4,
          5,
          6,
          7,
          8,
          9,
          10,
          11,
          12,
          13,
          14,
          15,
          16,
          17,
          18,
          19,
          20,
          21,
          22,
          23,
          24,
          25,
          26,
          27,
          28,
          29,
          30,
          31,
          32,
          33,
          34,
          35,
          36,
          37,
          38,
          39,
          40,
          41,
          42,
          43,
          44,
          45,
          46,
          47,
          48,
          49,
          50,
          51,
          52,
          53,
          54,
          55,
          56,
          57,
          58,
          59,
          60,
          61,
          62,
          63,
          64,
          65,
          66,
          67,
          68,
          69,
          70,
          71,
          72,
          73,
          74,
          75,
          76,
          77,
          78,
          79,
          80,
          81,
          82,
          83,
          84,
          85,
          86,
          87,
          88,
          89,
          90,
          91,
          92,
          93,
          94,
          95,
          96,
          97,
          98,
          99
         ],
         "xaxis": "x2",
         "y": [
          -0.39160132719768337,
          "",
          "",
          "",
          -0.8030919818622617,
          -0.09417575201872908,
          -0.47196439387868744,
          -0.03741200502630232,
          "",
          -1.919669643027956,
          "",
          -0.11805893897803432,
          "",
          -2.8961985562753636,
          -0.06433500333999809,
          -0.35658483681494335,
          "",
          "",
          "",
          -1.5345522663307163,
          "",
          -1.3939115281690193,
          -1.0543888579773206,
          -1.5341210320131926,
          -0.8896472197371869,
          -0.530341244737046,
          "",
          -1.3080180117625426,
          -2.4726452719848613,
          -1.9397064975611942,
          -0.8899908395971486,
          -1.7248062260706272,
          "",
          -0.16005014616245394,
          "",
          "",
          "",
          -0.13256062074353003,
          -2.348030494959768,
          "",
          "",
          -1.8529017041806206,
          -0.42319433002440204,
          "",
          -1.3262092303788766,
          "",
          "",
          -1.0881347568332933,
          "",
          -0.09335845010813992,
          -1.4040779611992042,
          -2.6304596995206135,
          "",
          -0.3201510587342583,
          -0.3868724981765921,
          "",
          "",
          -0.7495722964321867,
          -0.2632660407501395,
          "",
          -2.1470157785243824,
          "",
          "",
          "",
          "",
          -1.8378830976438674,
          -1.0703509953477157,
          "",
          "",
          -1.0561046927938076,
          -2.506635119638161,
          "",
          "",
          "",
          "",
          -1.5445778791390987,
          "",
          -1.3645872603634284,
          -0.05791056743685946,
          -1.670754300236113,
          -0.8939338326785102,
          "",
          "",
          -0.8465270915030181,
          -3.062050222981629,
          "",
          -2.484140952917634,
          "",
          -1.0894109869034594,
          -2.3550049529581356,
          "",
          -2.117052525087033,
          -0.14463042621053715,
          -1.8223386822254997,
          -0.6923596316981274,
          -3.3697336028545757,
          -0.9211593550037078,
          "",
          -0.4545913755277271,
          -0.11701627391555602
         ],
         "yaxis": "y2"
        }
       ],
       "layout": {
        "hovermode": "x",
        "legend": {
         "bgcolor": "#F5F6F9",
         "font": {
          "color": "#4D5663"
         }
        },
        "paper_bgcolor": "#F5F6F9",
        "plot_bgcolor": "#F5F6F9",
        "template": {
         "data": {
          "bar": [
           {
            "error_x": {
             "color": "#2a3f5f"
            },
            "error_y": {
             "color": "#2a3f5f"
            },
            "marker": {
             "line": {
              "color": "#E5ECF6",
              "width": 0.5
             }
            },
            "type": "bar"
           }
          ],
          "barpolar": [
           {
            "marker": {
             "line": {
              "color": "#E5ECF6",
              "width": 0.5
             }
            },
            "type": "barpolar"
           }
          ],
          "carpet": [
           {
            "aaxis": {
             "endlinecolor": "#2a3f5f",
             "gridcolor": "white",
             "linecolor": "white",
             "minorgridcolor": "white",
             "startlinecolor": "#2a3f5f"
            },
            "baxis": {
             "endlinecolor": "#2a3f5f",
             "gridcolor": "white",
             "linecolor": "white",
             "minorgridcolor": "white",
             "startlinecolor": "#2a3f5f"
            },
            "type": "carpet"
           }
          ],
          "choropleth": [
           {
            "colorbar": {
             "outlinewidth": 0,
             "ticks": ""
            },
            "type": "choropleth"
           }
          ],
          "contour": [
           {
            "colorbar": {
             "outlinewidth": 0,
             "ticks": ""
            },
            "colorscale": [
             [
              0,
              "#0d0887"
             ],
             [
              0.1111111111111111,
              "#46039f"
             ],
             [
              0.2222222222222222,
              "#7201a8"
             ],
             [
              0.3333333333333333,
              "#9c179e"
             ],
             [
              0.4444444444444444,
              "#bd3786"
             ],
             [
              0.5555555555555556,
              "#d8576b"
             ],
             [
              0.6666666666666666,
              "#ed7953"
             ],
             [
              0.7777777777777778,
              "#fb9f3a"
             ],
             [
              0.8888888888888888,
              "#fdca26"
             ],
             [
              1,
              "#f0f921"
             ]
            ],
            "type": "contour"
           }
          ],
          "contourcarpet": [
           {
            "colorbar": {
             "outlinewidth": 0,
             "ticks": ""
            },
            "type": "contourcarpet"
           }
          ],
          "heatmap": [
           {
            "colorbar": {
             "outlinewidth": 0,
             "ticks": ""
            },
            "colorscale": [
             [
              0,
              "#0d0887"
             ],
             [
              0.1111111111111111,
              "#46039f"
             ],
             [
              0.2222222222222222,
              "#7201a8"
             ],
             [
              0.3333333333333333,
              "#9c179e"
             ],
             [
              0.4444444444444444,
              "#bd3786"
             ],
             [
              0.5555555555555556,
              "#d8576b"
             ],
             [
              0.6666666666666666,
              "#ed7953"
             ],
             [
              0.7777777777777778,
              "#fb9f3a"
             ],
             [
              0.8888888888888888,
              "#fdca26"
             ],
             [
              1,
              "#f0f921"
             ]
            ],
            "type": "heatmap"
           }
          ],
          "heatmapgl": [
           {
            "colorbar": {
             "outlinewidth": 0,
             "ticks": ""
            },
            "colorscale": [
             [
              0,
              "#0d0887"
             ],
             [
              0.1111111111111111,
              "#46039f"
             ],
             [
              0.2222222222222222,
              "#7201a8"
             ],
             [
              0.3333333333333333,
              "#9c179e"
             ],
             [
              0.4444444444444444,
              "#bd3786"
             ],
             [
              0.5555555555555556,
              "#d8576b"
             ],
             [
              0.6666666666666666,
              "#ed7953"
             ],
             [
              0.7777777777777778,
              "#fb9f3a"
             ],
             [
              0.8888888888888888,
              "#fdca26"
             ],
             [
              1,
              "#f0f921"
             ]
            ],
            "type": "heatmapgl"
           }
          ],
          "histogram": [
           {
            "marker": {
             "colorbar": {
              "outlinewidth": 0,
              "ticks": ""
             }
            },
            "type": "histogram"
           }
          ],
          "histogram2d": [
           {
            "colorbar": {
             "outlinewidth": 0,
             "ticks": ""
            },
            "colorscale": [
             [
              0,
              "#0d0887"
             ],
             [
              0.1111111111111111,
              "#46039f"
             ],
             [
              0.2222222222222222,
              "#7201a8"
             ],
             [
              0.3333333333333333,
              "#9c179e"
             ],
             [
              0.4444444444444444,
              "#bd3786"
             ],
             [
              0.5555555555555556,
              "#d8576b"
             ],
             [
              0.6666666666666666,
              "#ed7953"
             ],
             [
              0.7777777777777778,
              "#fb9f3a"
             ],
             [
              0.8888888888888888,
              "#fdca26"
             ],
             [
              1,
              "#f0f921"
             ]
            ],
            "type": "histogram2d"
           }
          ],
          "histogram2dcontour": [
           {
            "colorbar": {
             "outlinewidth": 0,
             "ticks": ""
            },
            "colorscale": [
             [
              0,
              "#0d0887"
             ],
             [
              0.1111111111111111,
              "#46039f"
             ],
             [
              0.2222222222222222,
              "#7201a8"
             ],
             [
              0.3333333333333333,
              "#9c179e"
             ],
             [
              0.4444444444444444,
              "#bd3786"
             ],
             [
              0.5555555555555556,
              "#d8576b"
             ],
             [
              0.6666666666666666,
              "#ed7953"
             ],
             [
              0.7777777777777778,
              "#fb9f3a"
             ],
             [
              0.8888888888888888,
              "#fdca26"
             ],
             [
              1,
              "#f0f921"
             ]
            ],
            "type": "histogram2dcontour"
           }
          ],
          "mesh3d": [
           {
            "colorbar": {
             "outlinewidth": 0,
             "ticks": ""
            },
            "type": "mesh3d"
           }
          ],
          "parcoords": [
           {
            "line": {
             "colorbar": {
              "outlinewidth": 0,
              "ticks": ""
             }
            },
            "type": "parcoords"
           }
          ],
          "pie": [
           {
            "automargin": true,
            "type": "pie"
           }
          ],
          "scatter": [
           {
            "marker": {
             "colorbar": {
              "outlinewidth": 0,
              "ticks": ""
             }
            },
            "type": "scatter"
           }
          ],
          "scatter3d": [
           {
            "line": {
             "colorbar": {
              "outlinewidth": 0,
              "ticks": ""
             }
            },
            "marker": {
             "colorbar": {
              "outlinewidth": 0,
              "ticks": ""
             }
            },
            "type": "scatter3d"
           }
          ],
          "scattercarpet": [
           {
            "marker": {
             "colorbar": {
              "outlinewidth": 0,
              "ticks": ""
             }
            },
            "type": "scattercarpet"
           }
          ],
          "scattergeo": [
           {
            "marker": {
             "colorbar": {
              "outlinewidth": 0,
              "ticks": ""
             }
            },
            "type": "scattergeo"
           }
          ],
          "scattergl": [
           {
            "marker": {
             "colorbar": {
              "outlinewidth": 0,
              "ticks": ""
             }
            },
            "type": "scattergl"
           }
          ],
          "scattermapbox": [
           {
            "marker": {
             "colorbar": {
              "outlinewidth": 0,
              "ticks": ""
             }
            },
            "type": "scattermapbox"
           }
          ],
          "scatterpolar": [
           {
            "marker": {
             "colorbar": {
              "outlinewidth": 0,
              "ticks": ""
             }
            },
            "type": "scatterpolar"
           }
          ],
          "scatterpolargl": [
           {
            "marker": {
             "colorbar": {
              "outlinewidth": 0,
              "ticks": ""
             }
            },
            "type": "scatterpolargl"
           }
          ],
          "scatterternary": [
           {
            "marker": {
             "colorbar": {
              "outlinewidth": 0,
              "ticks": ""
             }
            },
            "type": "scatterternary"
           }
          ],
          "surface": [
           {
            "colorbar": {
             "outlinewidth": 0,
             "ticks": ""
            },
            "colorscale": [
             [
              0,
              "#0d0887"
             ],
             [
              0.1111111111111111,
              "#46039f"
             ],
             [
              0.2222222222222222,
              "#7201a8"
             ],
             [
              0.3333333333333333,
              "#9c179e"
             ],
             [
              0.4444444444444444,
              "#bd3786"
             ],
             [
              0.5555555555555556,
              "#d8576b"
             ],
             [
              0.6666666666666666,
              "#ed7953"
             ],
             [
              0.7777777777777778,
              "#fb9f3a"
             ],
             [
              0.8888888888888888,
              "#fdca26"
             ],
             [
              1,
              "#f0f921"
             ]
            ],
            "type": "surface"
           }
          ],
          "table": [
           {
            "cells": {
             "fill": {
              "color": "#EBF0F8"
             },
             "line": {
              "color": "white"
             }
            },
            "header": {
             "fill": {
              "color": "#C8D4E3"
             },
             "line": {
              "color": "white"
             }
            },
            "type": "table"
           }
          ]
         },
         "layout": {
          "annotationdefaults": {
           "arrowcolor": "#2a3f5f",
           "arrowhead": 0,
           "arrowwidth": 1
          },
          "coloraxis": {
           "colorbar": {
            "outlinewidth": 0,
            "ticks": ""
           }
          },
          "colorscale": {
           "diverging": [
            [
             0,
             "#8e0152"
            ],
            [
             0.1,
             "#c51b7d"
            ],
            [
             0.2,
             "#de77ae"
            ],
            [
             0.3,
             "#f1b6da"
            ],
            [
             0.4,
             "#fde0ef"
            ],
            [
             0.5,
             "#f7f7f7"
            ],
            [
             0.6,
             "#e6f5d0"
            ],
            [
             0.7,
             "#b8e186"
            ],
            [
             0.8,
             "#7fbc41"
            ],
            [
             0.9,
             "#4d9221"
            ],
            [
             1,
             "#276419"
            ]
           ],
           "sequential": [
            [
             0,
             "#0d0887"
            ],
            [
             0.1111111111111111,
             "#46039f"
            ],
            [
             0.2222222222222222,
             "#7201a8"
            ],
            [
             0.3333333333333333,
             "#9c179e"
            ],
            [
             0.4444444444444444,
             "#bd3786"
            ],
            [
             0.5555555555555556,
             "#d8576b"
            ],
            [
             0.6666666666666666,
             "#ed7953"
            ],
            [
             0.7777777777777778,
             "#fb9f3a"
            ],
            [
             0.8888888888888888,
             "#fdca26"
            ],
            [
             1,
             "#f0f921"
            ]
           ],
           "sequentialminus": [
            [
             0,
             "#0d0887"
            ],
            [
             0.1111111111111111,
             "#46039f"
            ],
            [
             0.2222222222222222,
             "#7201a8"
            ],
            [
             0.3333333333333333,
             "#9c179e"
            ],
            [
             0.4444444444444444,
             "#bd3786"
            ],
            [
             0.5555555555555556,
             "#d8576b"
            ],
            [
             0.6666666666666666,
             "#ed7953"
            ],
            [
             0.7777777777777778,
             "#fb9f3a"
            ],
            [
             0.8888888888888888,
             "#fdca26"
            ],
            [
             1,
             "#f0f921"
            ]
           ]
          },
          "colorway": [
           "#636efa",
           "#EF553B",
           "#00cc96",
           "#ab63fa",
           "#FFA15A",
           "#19d3f3",
           "#FF6692",
           "#B6E880",
           "#FF97FF",
           "#FECB52"
          ],
          "font": {
           "color": "#2a3f5f"
          },
          "geo": {
           "bgcolor": "white",
           "lakecolor": "white",
           "landcolor": "#E5ECF6",
           "showlakes": true,
           "showland": true,
           "subunitcolor": "white"
          },
          "hoverlabel": {
           "align": "left"
          },
          "hovermode": "closest",
          "mapbox": {
           "style": "light"
          },
          "paper_bgcolor": "white",
          "plot_bgcolor": "#E5ECF6",
          "polar": {
           "angularaxis": {
            "gridcolor": "white",
            "linecolor": "white",
            "ticks": ""
           },
           "bgcolor": "#E5ECF6",
           "radialaxis": {
            "gridcolor": "white",
            "linecolor": "white",
            "ticks": ""
           }
          },
          "scene": {
           "xaxis": {
            "backgroundcolor": "#E5ECF6",
            "gridcolor": "white",
            "gridwidth": 2,
            "linecolor": "white",
            "showbackground": true,
            "ticks": "",
            "zerolinecolor": "white"
           },
           "yaxis": {
            "backgroundcolor": "#E5ECF6",
            "gridcolor": "white",
            "gridwidth": 2,
            "linecolor": "white",
            "showbackground": true,
            "ticks": "",
            "zerolinecolor": "white"
           },
           "zaxis": {
            "backgroundcolor": "#E5ECF6",
            "gridcolor": "white",
            "gridwidth": 2,
            "linecolor": "white",
            "showbackground": true,
            "ticks": "",
            "zerolinecolor": "white"
           }
          },
          "shapedefaults": {
           "line": {
            "color": "#2a3f5f"
           }
          },
          "ternary": {
           "aaxis": {
            "gridcolor": "white",
            "linecolor": "white",
            "ticks": ""
           },
           "baxis": {
            "gridcolor": "white",
            "linecolor": "white",
            "ticks": ""
           },
           "bgcolor": "#E5ECF6",
           "caxis": {
            "gridcolor": "white",
            "linecolor": "white",
            "ticks": ""
           }
          },
          "title": {
           "x": 0.05
          },
          "xaxis": {
           "automargin": true,
           "gridcolor": "white",
           "linecolor": "white",
           "ticks": "",
           "title": {
            "standoff": 15
           },
           "zerolinecolor": "white",
           "zerolinewidth": 2
          },
          "yaxis": {
           "automargin": true,
           "gridcolor": "white",
           "linecolor": "white",
           "ticks": "",
           "title": {
            "standoff": 15
           },
           "zerolinecolor": "white",
           "zerolinewidth": 2
          }
         }
        },
        "title": {
         "font": {
          "color": "#4D5663"
         }
        },
        "xaxis": {
         "gridcolor": "#E1E5ED",
         "showgrid": true,
         "tickfont": {
          "color": "#4D5663"
         },
         "title": {
          "font": {
           "color": "#4D5663"
          },
          "text": ""
         },
         "zerolinecolor": "#E1E5ED"
        },
        "xaxis2": {
         "anchor": "y2",
         "gridcolor": "#E1E5ED",
         "showgrid": true,
         "showticklabels": false,
         "tickfont": {
          "color": "#4D5663"
         },
         "title": {
          "font": {
           "color": "#4D5663"
          },
          "text": ""
         },
         "zerolinecolor": "#E1E5ED"
        },
        "yaxis": {
         "domain": [
          0.3,
          1
         ],
         "gridcolor": "#E1E5ED",
         "showgrid": true,
         "tickfont": {
          "color": "#4D5663"
         },
         "title": {
          "font": {
           "color": "#4D5663"
          },
          "text": ""
         },
         "zerolinecolor": "#E1E5ED"
        },
        "yaxis2": {
         "domain": [
          0,
          0.25
         ],
         "gridcolor": "#E1E5ED",
         "showgrid": true,
         "tickfont": {
          "color": "#4D5663"
         },
         "title": {
          "font": {
           "color": "#4D5663"
          },
          "text": "Spread"
         },
         "zerolinecolor": "#E1E5ED"
        }
       }
      },
      "text/html": [
       "<div>\n",
       "        \n",
       "        \n",
       "            <div id=\"a442522d-ed60-4d66-90d2-c89c9b07aebf\" class=\"plotly-graph-div\" style=\"height:525px; width:100%;\"></div>\n",
       "            <script type=\"text/javascript\">\n",
       "                require([\"plotly\"], function(Plotly) {\n",
       "                    window.PLOTLYENV=window.PLOTLYENV || {};\n",
       "                    window.PLOTLYENV.BASE_URL='https://plot.ly';\n",
       "                    \n",
       "                if (document.getElementById(\"a442522d-ed60-4d66-90d2-c89c9b07aebf\")) {\n",
       "                    Plotly.newPlot(\n",
       "                        'a442522d-ed60-4d66-90d2-c89c9b07aebf',\n",
       "                        [{\"line\": {\"color\": \"rgba(255, 153, 51, 1.0)\", \"dash\": \"solid\", \"shape\": \"linear\", \"width\": 1.3}, \"mode\": \"lines\", \"name\": \"A\", \"text\": \"\", \"type\": \"scatter\", \"x\": [0, 1, 2, 3, 4, 5, 6, 7, 8, 9, 10, 11, 12, 13, 14, 15, 16, 17, 18, 19, 20, 21, 22, 23, 24, 25, 26, 27, 28, 29, 30, 31, 32, 33, 34, 35, 36, 37, 38, 39, 40, 41, 42, 43, 44, 45, 46, 47, 48, 49, 50, 51, 52, 53, 54, 55, 56, 57, 58, 59, 60, 61, 62, 63, 64, 65, 66, 67, 68, 69, 70, 71, 72, 73, 74, 75, 76, 77, 78, 79, 80, 81, 82, 83, 84, 85, 86, 87, 88, 89, 90, 91, 92, 93, 94, 95, 96, 97, 98, 99], \"y\": [-0.4400399649717887, -0.3595613077728515, 1.873406826294262, 0.38969186783380566, -0.022267424723130477, 0.43504747311291625, 0.2554983804257713, -0.43489588798704, 1.3426244457395577, -0.48428219422439583, 1.2792534848487378, -0.33430267928447205, -0.05871625452323227, -1.4641294945567087, 0.6879170405939331, -0.5789676388980899, 0.4834159267743571, 0.7888288795843491, 0.3323842082460313, -0.500455046491514, 1.1349638922438667, 0.0648394026874129, -1.8369173628695823, -1.364696374259146, -0.23163879310313643, 0.44184120624887646, -0.008754529905923444, -0.8468384671871605, -1.7609159005214712, -0.8906016871681184, 0.0014061404898391655, -0.8273110356202099, -1.4469547151441569, 1.130716065259019, 1.8385150812690811, 1.4480020373494882, -0.7299993682456137, 0.7084053880561713, -1.9574977231406003, 1.3225294983535072, 0.4604816538773025, 0.5978851424936994, -0.029798002575205002, 2.4444818990726014, 0.23121109999846337, 0.39411414563714564, 1.424994271543353, -1.0108760588569032, -0.20433405466852314, -0.5930604286487997, -0.17345914350442432, -1.5383599521702267, 1.9870464339271097, -0.9572961564127893, 0.2736969217055384, -0.14260090164422665, 0.5639127289263197, -1.2416397081029351, -1.0359339740593136, 0.49857507285146657, -1.2100830662432491, 1.0950061628189116, 1.8846659520987912, -1.7878728745495034, 0.28857746221554864, -1.4088943816655852, -1.2087136735183925, 1.2778115772660252, 1.6546599214910305, -0.7462906107026152, -0.9209903093715155, 0.23517131057492602, -1.3162249191278517, 0.8134368199054091, -0.0374560977698149, -0.9081747971850014, 0.3002608454591211, -1.9056226453352814, 0.4297281861337904, -0.5789872115675557, 0.21575296332290184, 1.5659208168241434, -0.5014118806704894, -0.36063540909619, -1.6235631621904136, 0.20410868074437, -0.9931668727532835, 0.24227106624572672, -1.4183421552714632, -2.4218648828227294, 0.24063590836634863, -0.721590758122123, -0.29554997751728773, -0.723704077745416, -0.6669451077956237, -2.1012240102699056, -0.47528546735939825, 0.9874550770448093, -1.0165171112904952, -0.6352140298009604]}, {\"line\": {\"color\": \"rgba(55, 128, 191, 1.0)\", \"dash\": \"solid\", \"shape\": \"linear\", \"width\": 1.3}, \"mode\": \"lines\", \"name\": \"D\", \"text\": \"\", \"type\": \"scatter\", \"x\": [0, 1, 2, 3, 4, 5, 6, 7, 8, 9, 10, 11, 12, 13, 14, 15, 16, 17, 18, 19, 20, 21, 22, 23, 24, 25, 26, 27, 28, 29, 30, 31, 32, 33, 34, 35, 36, 37, 38, 39, 40, 41, 42, 43, 44, 45, 46, 47, 48, 49, 50, 51, 52, 53, 54, 55, 56, 57, 58, 59, 60, 61, 62, 63, 64, 65, 66, 67, 68, 69, 70, 71, 72, 73, 74, 75, 76, 77, 78, 79, 80, 81, 82, 83, 84, 85, 86, 87, 88, 89, 90, 91, 92, 93, 94, 95, 96, 97, 98, 99], \"y\": [-0.048438637774105314, -0.7819332955743884, -0.3801495953586696, 0.09272418733206131, 0.7808245571391312, 0.5292232251316453, 0.7274627743044587, -0.39748388296073767, 0.33351628234173764, 1.4353874488035603, -0.6416122676165328, -0.21624374030643773, -0.18262892551164203, 1.4320690617186551, 0.7522520439339312, -0.22238280208314654, -0.0024148553404345257, -1.5499752000072256, -1.969076768612912, 1.0340972198392024, 0.580563689799276, 1.4587509308564321, -0.7825285048922617, 0.16942465775404666, 0.6580084266340505, 0.9721824509859225, -0.9114882246177496, 0.4611795445753822, 0.7117293714633903, 1.0491048103930758, 0.8913969800869878, 0.8974951904504173, -1.8467424551374227, 1.2907662114214729, -2.459928488972569, -0.7628256803186014, -1.1986338915846038, 0.8409660087997013, 0.39053277181916746, 0.3537879516964365, -0.19827400142084714, 2.45078684667432, 0.39339632744919706, 1.2959445775725915, 1.55742033037734, 0.15903677031659075, 0.8301172205354383, 0.07725869797638997, -0.8540182591131804, -0.4997019785406598, 1.2306188176947799, 1.0920997473503868, -1.4925144990722459, -0.637145097678531, 0.6605694198821305, -0.2817495373297371, -0.8375067117343374, -0.49206741167074847, -0.7726679333091742, -0.25396873345375925, 0.9369327122811331, 0.11446557309415974, 0.557350214273498, -1.9565685423533479, -1.5931447014695428, 0.42898871597828225, -0.13836267817067688, 0.1740860135897892, -0.8150969593659615, 0.3098140820911925, 1.5856448102666456, -2.1520243724874897, -1.7069881134059737, 0.6700740038384747, -1.2851453720497432, 0.6364030819540974, -0.6728078005632903, -0.541035384971853, 0.48763875357064984, 1.091767088668557, 1.109686796001412, -0.8621987749294595, -0.6507530256151302, 0.485891682406828, 1.4384870607912152, -1.2671510033372553, 1.4909740801643505, -0.8486207628250105, -0.32893116836800396, -0.06685992986459374, -0.038509021919391075, 1.39546176696491, -0.15091955130675058, 1.0986346044800837, 0.025414523902503757, 1.26850959258467, 0.4458738876443096, 0.9496227170696862, -0.561925735762768, -0.5181977558854044]}, {\"connectgaps\": false, \"fill\": \"tozeroy\", \"line\": {\"color\": \"green\", \"dash\": \"solid\", \"shape\": \"linear\", \"width\": 0.5}, \"mode\": \"lines\", \"name\": \"Spread\", \"showlegend\": false, \"type\": \"scatter\", \"x\": [0, 1, 2, 3, 4, 5, 6, 7, 8, 9, 10, 11, 12, 13, 14, 15, 16, 17, 18, 19, 20, 21, 22, 23, 24, 25, 26, 27, 28, 29, 30, 31, 32, 33, 34, 35, 36, 37, 38, 39, 40, 41, 42, 43, 44, 45, 46, 47, 48, 49, 50, 51, 52, 53, 54, 55, 56, 57, 58, 59, 60, 61, 62, 63, 64, 65, 66, 67, 68, 69, 70, 71, 72, 73, 74, 75, 76, 77, 78, 79, 80, 81, 82, 83, 84, 85, 86, 87, 88, 89, 90, 91, 92, 93, 94, 95, 96, 97, 98, 99], \"xaxis\": \"x2\", \"y\": [\"\", 0.4223719878015369, 2.253556421652932, 0.2969676805017444, \"\", \"\", \"\", \"\", 1.00910816339782, \"\", 1.9208657524652706, \"\", 0.12391267098840976, \"\", \"\", \"\", 0.4858307821147916, 2.3388040795915748, 2.3014609768589436, \"\", 0.5544002024445908, \"\", \"\", \"\", \"\", \"\", 0.9027336947118262, \"\", \"\", \"\", \"\", \"\", 0.3997877399932659, \"\", 4.29844357024165, 2.2108277176680895, 0.46863452333899003, \"\", \"\", 0.9687415466570707, 0.6587556552981496, \"\", \"\", 1.1485373215000099, \"\", 0.2350773753205549, 0.5948770510079147, \"\", 0.6496842044446572, \"\", \"\", \"\", 3.4795609329993553, \"\", \"\", 0.13914863568551047, 1.401419440660657, \"\", \"\", 0.7525438063052259, \"\", 0.9805405897247519, 1.3273157378252933, 0.16869566780384448, 1.8817221636850914, \"\", \"\", 1.103725563676236, 2.469756880856992, \"\", \"\", 2.3871956830624157, 0.390763194278122, 0.14336281606693435, 1.2476892742799284, \"\", 0.9730686460224114, \"\", \"\", \"\", \"\", 2.428119591753603, 0.1493411449446408, \"\", \"\", 1.4712596840816252, \"\", 1.0908918290707372, \"\", \"\", 0.2791449302857397, \"\", \"\", \"\", \"\", \"\", \"\", 0.03783235997512313, \"\", \"\"], \"yaxis\": \"y2\"}, {\"connectgaps\": false, \"fill\": \"tozeroy\", \"line\": {\"color\": \"red\", \"dash\": \"solid\", \"shape\": \"linear\", \"width\": 0.5}, \"mode\": \"lines\", \"name\": \"Spread\", \"showlegend\": false, \"type\": \"scatter\", \"x\": [0, 1, 2, 3, 4, 5, 6, 7, 8, 9, 10, 11, 12, 13, 14, 15, 16, 17, 18, 19, 20, 21, 22, 23, 24, 25, 26, 27, 28, 29, 30, 31, 32, 33, 34, 35, 36, 37, 38, 39, 40, 41, 42, 43, 44, 45, 46, 47, 48, 49, 50, 51, 52, 53, 54, 55, 56, 57, 58, 59, 60, 61, 62, 63, 64, 65, 66, 67, 68, 69, 70, 71, 72, 73, 74, 75, 76, 77, 78, 79, 80, 81, 82, 83, 84, 85, 86, 87, 88, 89, 90, 91, 92, 93, 94, 95, 96, 97, 98, 99], \"xaxis\": \"x2\", \"y\": [-0.39160132719768337, \"\", \"\", \"\", -0.8030919818622617, -0.09417575201872908, -0.47196439387868744, -0.03741200502630232, \"\", -1.919669643027956, \"\", -0.11805893897803432, \"\", -2.8961985562753636, -0.06433500333999809, -0.35658483681494335, \"\", \"\", \"\", -1.5345522663307163, \"\", -1.3939115281690193, -1.0543888579773206, -1.5341210320131926, -0.8896472197371869, -0.530341244737046, \"\", -1.3080180117625426, -2.4726452719848613, -1.9397064975611942, -0.8899908395971486, -1.7248062260706272, \"\", -0.16005014616245394, \"\", \"\", \"\", -0.13256062074353003, -2.348030494959768, \"\", \"\", -1.8529017041806206, -0.42319433002440204, \"\", -1.3262092303788766, \"\", \"\", -1.0881347568332933, \"\", -0.09335845010813992, -1.4040779611992042, -2.6304596995206135, \"\", -0.3201510587342583, -0.3868724981765921, \"\", \"\", -0.7495722964321867, -0.2632660407501395, \"\", -2.1470157785243824, \"\", \"\", \"\", \"\", -1.8378830976438674, -1.0703509953477157, \"\", \"\", -1.0561046927938076, -2.506635119638161, \"\", \"\", \"\", \"\", -1.5445778791390987, \"\", -1.3645872603634284, -0.05791056743685946, -1.670754300236113, -0.8939338326785102, \"\", \"\", -0.8465270915030181, -3.062050222981629, \"\", -2.484140952917634, \"\", -1.0894109869034594, -2.3550049529581356, \"\", -2.117052525087033, -0.14463042621053715, -1.8223386822254997, -0.6923596316981274, -3.3697336028545757, -0.9211593550037078, \"\", -0.4545913755277271, -0.11701627391555602], \"yaxis\": \"y2\"}],\n",
       "                        {\"hovermode\": \"x\", \"legend\": {\"bgcolor\": \"#F5F6F9\", \"font\": {\"color\": \"#4D5663\"}}, \"paper_bgcolor\": \"#F5F6F9\", \"plot_bgcolor\": \"#F5F6F9\", \"template\": {\"data\": {\"bar\": [{\"error_x\": {\"color\": \"#2a3f5f\"}, \"error_y\": {\"color\": \"#2a3f5f\"}, \"marker\": {\"line\": {\"color\": \"#E5ECF6\", \"width\": 0.5}}, \"type\": \"bar\"}], \"barpolar\": [{\"marker\": {\"line\": {\"color\": \"#E5ECF6\", \"width\": 0.5}}, \"type\": \"barpolar\"}], \"carpet\": [{\"aaxis\": {\"endlinecolor\": \"#2a3f5f\", \"gridcolor\": \"white\", \"linecolor\": \"white\", \"minorgridcolor\": \"white\", \"startlinecolor\": \"#2a3f5f\"}, \"baxis\": {\"endlinecolor\": \"#2a3f5f\", \"gridcolor\": \"white\", \"linecolor\": \"white\", \"minorgridcolor\": \"white\", \"startlinecolor\": \"#2a3f5f\"}, \"type\": \"carpet\"}], \"choropleth\": [{\"colorbar\": {\"outlinewidth\": 0, \"ticks\": \"\"}, \"type\": \"choropleth\"}], \"contour\": [{\"colorbar\": {\"outlinewidth\": 0, \"ticks\": \"\"}, \"colorscale\": [[0.0, \"#0d0887\"], [0.1111111111111111, \"#46039f\"], [0.2222222222222222, \"#7201a8\"], [0.3333333333333333, \"#9c179e\"], [0.4444444444444444, \"#bd3786\"], [0.5555555555555556, \"#d8576b\"], [0.6666666666666666, \"#ed7953\"], [0.7777777777777778, \"#fb9f3a\"], [0.8888888888888888, \"#fdca26\"], [1.0, \"#f0f921\"]], \"type\": \"contour\"}], \"contourcarpet\": [{\"colorbar\": {\"outlinewidth\": 0, \"ticks\": \"\"}, \"type\": \"contourcarpet\"}], \"heatmap\": [{\"colorbar\": {\"outlinewidth\": 0, \"ticks\": \"\"}, \"colorscale\": [[0.0, \"#0d0887\"], [0.1111111111111111, \"#46039f\"], [0.2222222222222222, \"#7201a8\"], [0.3333333333333333, \"#9c179e\"], [0.4444444444444444, \"#bd3786\"], [0.5555555555555556, \"#d8576b\"], [0.6666666666666666, \"#ed7953\"], [0.7777777777777778, \"#fb9f3a\"], [0.8888888888888888, \"#fdca26\"], [1.0, \"#f0f921\"]], \"type\": \"heatmap\"}], \"heatmapgl\": [{\"colorbar\": {\"outlinewidth\": 0, \"ticks\": \"\"}, \"colorscale\": [[0.0, \"#0d0887\"], [0.1111111111111111, \"#46039f\"], [0.2222222222222222, \"#7201a8\"], [0.3333333333333333, \"#9c179e\"], [0.4444444444444444, \"#bd3786\"], [0.5555555555555556, \"#d8576b\"], [0.6666666666666666, \"#ed7953\"], [0.7777777777777778, \"#fb9f3a\"], [0.8888888888888888, \"#fdca26\"], [1.0, \"#f0f921\"]], \"type\": \"heatmapgl\"}], \"histogram\": [{\"marker\": {\"colorbar\": {\"outlinewidth\": 0, \"ticks\": \"\"}}, \"type\": \"histogram\"}], \"histogram2d\": [{\"colorbar\": {\"outlinewidth\": 0, \"ticks\": \"\"}, \"colorscale\": [[0.0, \"#0d0887\"], [0.1111111111111111, \"#46039f\"], [0.2222222222222222, \"#7201a8\"], [0.3333333333333333, \"#9c179e\"], [0.4444444444444444, \"#bd3786\"], [0.5555555555555556, \"#d8576b\"], [0.6666666666666666, \"#ed7953\"], [0.7777777777777778, \"#fb9f3a\"], [0.8888888888888888, \"#fdca26\"], [1.0, \"#f0f921\"]], \"type\": \"histogram2d\"}], \"histogram2dcontour\": [{\"colorbar\": {\"outlinewidth\": 0, \"ticks\": \"\"}, \"colorscale\": [[0.0, \"#0d0887\"], [0.1111111111111111, \"#46039f\"], [0.2222222222222222, \"#7201a8\"], [0.3333333333333333, \"#9c179e\"], [0.4444444444444444, \"#bd3786\"], [0.5555555555555556, \"#d8576b\"], [0.6666666666666666, \"#ed7953\"], [0.7777777777777778, \"#fb9f3a\"], [0.8888888888888888, \"#fdca26\"], [1.0, \"#f0f921\"]], \"type\": \"histogram2dcontour\"}], \"mesh3d\": [{\"colorbar\": {\"outlinewidth\": 0, \"ticks\": \"\"}, \"type\": \"mesh3d\"}], \"parcoords\": [{\"line\": {\"colorbar\": {\"outlinewidth\": 0, \"ticks\": \"\"}}, \"type\": \"parcoords\"}], \"pie\": [{\"automargin\": true, \"type\": \"pie\"}], \"scatter\": [{\"marker\": {\"colorbar\": {\"outlinewidth\": 0, \"ticks\": \"\"}}, \"type\": \"scatter\"}], \"scatter3d\": [{\"line\": {\"colorbar\": {\"outlinewidth\": 0, \"ticks\": \"\"}}, \"marker\": {\"colorbar\": {\"outlinewidth\": 0, \"ticks\": \"\"}}, \"type\": \"scatter3d\"}], \"scattercarpet\": [{\"marker\": {\"colorbar\": {\"outlinewidth\": 0, \"ticks\": \"\"}}, \"type\": \"scattercarpet\"}], \"scattergeo\": [{\"marker\": {\"colorbar\": {\"outlinewidth\": 0, \"ticks\": \"\"}}, \"type\": \"scattergeo\"}], \"scattergl\": [{\"marker\": {\"colorbar\": {\"outlinewidth\": 0, \"ticks\": \"\"}}, \"type\": \"scattergl\"}], \"scattermapbox\": [{\"marker\": {\"colorbar\": {\"outlinewidth\": 0, \"ticks\": \"\"}}, \"type\": \"scattermapbox\"}], \"scatterpolar\": [{\"marker\": {\"colorbar\": {\"outlinewidth\": 0, \"ticks\": \"\"}}, \"type\": \"scatterpolar\"}], \"scatterpolargl\": [{\"marker\": {\"colorbar\": {\"outlinewidth\": 0, \"ticks\": \"\"}}, \"type\": \"scatterpolargl\"}], \"scatterternary\": [{\"marker\": {\"colorbar\": {\"outlinewidth\": 0, \"ticks\": \"\"}}, \"type\": \"scatterternary\"}], \"surface\": [{\"colorbar\": {\"outlinewidth\": 0, \"ticks\": \"\"}, \"colorscale\": [[0.0, \"#0d0887\"], [0.1111111111111111, \"#46039f\"], [0.2222222222222222, \"#7201a8\"], [0.3333333333333333, \"#9c179e\"], [0.4444444444444444, \"#bd3786\"], [0.5555555555555556, \"#d8576b\"], [0.6666666666666666, \"#ed7953\"], [0.7777777777777778, \"#fb9f3a\"], [0.8888888888888888, \"#fdca26\"], [1.0, \"#f0f921\"]], \"type\": \"surface\"}], \"table\": [{\"cells\": {\"fill\": {\"color\": \"#EBF0F8\"}, \"line\": {\"color\": \"white\"}}, \"header\": {\"fill\": {\"color\": \"#C8D4E3\"}, \"line\": {\"color\": \"white\"}}, \"type\": \"table\"}]}, \"layout\": {\"annotationdefaults\": {\"arrowcolor\": \"#2a3f5f\", \"arrowhead\": 0, \"arrowwidth\": 1}, \"coloraxis\": {\"colorbar\": {\"outlinewidth\": 0, \"ticks\": \"\"}}, \"colorscale\": {\"diverging\": [[0, \"#8e0152\"], [0.1, \"#c51b7d\"], [0.2, \"#de77ae\"], [0.3, \"#f1b6da\"], [0.4, \"#fde0ef\"], [0.5, \"#f7f7f7\"], [0.6, \"#e6f5d0\"], [0.7, \"#b8e186\"], [0.8, \"#7fbc41\"], [0.9, \"#4d9221\"], [1, \"#276419\"]], \"sequential\": [[0.0, \"#0d0887\"], [0.1111111111111111, \"#46039f\"], [0.2222222222222222, \"#7201a8\"], [0.3333333333333333, \"#9c179e\"], [0.4444444444444444, \"#bd3786\"], [0.5555555555555556, \"#d8576b\"], [0.6666666666666666, \"#ed7953\"], [0.7777777777777778, \"#fb9f3a\"], [0.8888888888888888, \"#fdca26\"], [1.0, \"#f0f921\"]], \"sequentialminus\": [[0.0, \"#0d0887\"], [0.1111111111111111, \"#46039f\"], [0.2222222222222222, \"#7201a8\"], [0.3333333333333333, \"#9c179e\"], [0.4444444444444444, \"#bd3786\"], [0.5555555555555556, \"#d8576b\"], [0.6666666666666666, \"#ed7953\"], [0.7777777777777778, \"#fb9f3a\"], [0.8888888888888888, \"#fdca26\"], [1.0, \"#f0f921\"]]}, \"colorway\": [\"#636efa\", \"#EF553B\", \"#00cc96\", \"#ab63fa\", \"#FFA15A\", \"#19d3f3\", \"#FF6692\", \"#B6E880\", \"#FF97FF\", \"#FECB52\"], \"font\": {\"color\": \"#2a3f5f\"}, \"geo\": {\"bgcolor\": \"white\", \"lakecolor\": \"white\", \"landcolor\": \"#E5ECF6\", \"showlakes\": true, \"showland\": true, \"subunitcolor\": \"white\"}, \"hoverlabel\": {\"align\": \"left\"}, \"hovermode\": \"closest\", \"mapbox\": {\"style\": \"light\"}, \"paper_bgcolor\": \"white\", \"plot_bgcolor\": \"#E5ECF6\", \"polar\": {\"angularaxis\": {\"gridcolor\": \"white\", \"linecolor\": \"white\", \"ticks\": \"\"}, \"bgcolor\": \"#E5ECF6\", \"radialaxis\": {\"gridcolor\": \"white\", \"linecolor\": \"white\", \"ticks\": \"\"}}, \"scene\": {\"xaxis\": {\"backgroundcolor\": \"#E5ECF6\", \"gridcolor\": \"white\", \"gridwidth\": 2, \"linecolor\": \"white\", \"showbackground\": true, \"ticks\": \"\", \"zerolinecolor\": \"white\"}, \"yaxis\": {\"backgroundcolor\": \"#E5ECF6\", \"gridcolor\": \"white\", \"gridwidth\": 2, \"linecolor\": \"white\", \"showbackground\": true, \"ticks\": \"\", \"zerolinecolor\": \"white\"}, \"zaxis\": {\"backgroundcolor\": \"#E5ECF6\", \"gridcolor\": \"white\", \"gridwidth\": 2, \"linecolor\": \"white\", \"showbackground\": true, \"ticks\": \"\", \"zerolinecolor\": \"white\"}}, \"shapedefaults\": {\"line\": {\"color\": \"#2a3f5f\"}}, \"ternary\": {\"aaxis\": {\"gridcolor\": \"white\", \"linecolor\": \"white\", \"ticks\": \"\"}, \"baxis\": {\"gridcolor\": \"white\", \"linecolor\": \"white\", \"ticks\": \"\"}, \"bgcolor\": \"#E5ECF6\", \"caxis\": {\"gridcolor\": \"white\", \"linecolor\": \"white\", \"ticks\": \"\"}}, \"title\": {\"x\": 0.05}, \"xaxis\": {\"automargin\": true, \"gridcolor\": \"white\", \"linecolor\": \"white\", \"ticks\": \"\", \"title\": {\"standoff\": 15}, \"zerolinecolor\": \"white\", \"zerolinewidth\": 2}, \"yaxis\": {\"automargin\": true, \"gridcolor\": \"white\", \"linecolor\": \"white\", \"ticks\": \"\", \"title\": {\"standoff\": 15}, \"zerolinecolor\": \"white\", \"zerolinewidth\": 2}}}, \"title\": {\"font\": {\"color\": \"#4D5663\"}}, \"xaxis\": {\"gridcolor\": \"#E1E5ED\", \"showgrid\": true, \"tickfont\": {\"color\": \"#4D5663\"}, \"title\": {\"font\": {\"color\": \"#4D5663\"}, \"text\": \"\"}, \"zerolinecolor\": \"#E1E5ED\"}, \"xaxis2\": {\"anchor\": \"y2\", \"gridcolor\": \"#E1E5ED\", \"showgrid\": true, \"showticklabels\": false, \"tickfont\": {\"color\": \"#4D5663\"}, \"title\": {\"font\": {\"color\": \"#4D5663\"}, \"text\": \"\"}, \"zerolinecolor\": \"#E1E5ED\"}, \"yaxis\": {\"domain\": [0.3, 1], \"gridcolor\": \"#E1E5ED\", \"showgrid\": true, \"tickfont\": {\"color\": \"#4D5663\"}, \"title\": {\"font\": {\"color\": \"#4D5663\"}, \"text\": \"\"}, \"zerolinecolor\": \"#E1E5ED\"}, \"yaxis2\": {\"domain\": [0, 0.25], \"gridcolor\": \"#E1E5ED\", \"showgrid\": true, \"tickfont\": {\"color\": \"#4D5663\"}, \"title\": {\"font\": {\"color\": \"#4D5663\"}, \"text\": \"Spread\"}, \"zerolinecolor\": \"#E1E5ED\"}},\n",
       "                        {\"showLink\": true, \"linkText\": \"Export to plot.ly\", \"plotlyServerURL\": \"https://plot.ly\", \"responsive\": true}\n",
       "                    ).then(function(){\n",
       "                            \n",
       "var gd = document.getElementById('a442522d-ed60-4d66-90d2-c89c9b07aebf');\n",
       "var x = new MutationObserver(function (mutations, observer) {{\n",
       "        var display = window.getComputedStyle(gd).display;\n",
       "        if (!display || display === 'none') {{\n",
       "            console.log([gd, 'removed!']);\n",
       "            Plotly.purge(gd);\n",
       "            observer.disconnect();\n",
       "        }}\n",
       "}});\n",
       "\n",
       "// Listen for the removal of the full notebook cells\n",
       "var notebookContainer = gd.closest('#notebook-container');\n",
       "if (notebookContainer) {{\n",
       "    x.observe(notebookContainer, {childList: true});\n",
       "}}\n",
       "\n",
       "// Listen for the clearing of the current output cell\n",
       "var outputEl = gd.closest('.output');\n",
       "if (outputEl) {{\n",
       "    x.observe(outputEl, {childList: true});\n",
       "}}\n",
       "\n",
       "                        })\n",
       "                };\n",
       "                });\n",
       "            </script>\n",
       "        </div>"
      ]
     },
     "metadata": {},
     "output_type": "display_data"
    }
   ],
   "source": [
    "df[[\"A\",\"D\"]].iplot(kind=\"spread\")"
   ]
  },
  {
   "cell_type": "code",
   "execution_count": 83,
   "metadata": {},
   "outputs": [
    {
     "data": {
      "application/vnd.plotly.v1+json": {
       "config": {
        "linkText": "Export to plot.ly",
        "plotlyServerURL": "https://plot.ly",
        "showLink": true
       },
       "data": [
        {
         "marker": {
          "color": [
           "orange",
           "orange",
           "orange",
           "orange",
           "orange",
           "orange",
           "orange",
           "orange",
           "orange",
           "orange",
           "orange",
           "orange",
           "orange",
           "orange",
           "orange",
           "orange",
           "orange",
           "orange",
           "orange",
           "orange",
           "orange",
           "orange",
           "orange",
           "orange",
           "orange",
           "orange",
           "orange",
           "orange",
           "orange",
           "orange",
           "orange",
           "orange",
           "orange",
           "orange",
           "orange",
           "orange",
           "orange",
           "orange",
           "orange",
           "orange",
           "orange",
           "orange",
           "orange",
           "orange",
           "orange",
           "orange",
           "orange",
           "orange",
           "orange",
           "orange",
           "orange",
           "orange",
           "orange",
           "orange",
           "orange",
           "orange",
           "orange",
           "orange",
           "orange",
           "orange",
           "orange",
           "orange",
           "orange",
           "orange",
           "orange",
           "orange",
           "orange",
           "orange",
           "orange",
           "orange",
           "orange",
           "orange",
           "orange",
           "orange",
           "orange",
           "orange",
           "orange",
           "orange",
           "orange",
           "orange",
           "orange",
           "orange",
           "orange",
           "orange",
           "orange",
           "orange",
           "orange",
           "orange",
           "orange",
           "orange",
           "orange",
           "orange",
           "orange",
           "orange",
           "orange",
           "orange",
           "orange",
           "orange",
           "orange",
           "orange"
          ],
          "line": {
           "width": 1.3
          },
          "size": [
           53,
           37,
           32,
           55,
           52,
           72,
           30,
           69,
           36,
           45,
           43,
           37,
           60,
           67,
           30,
           60,
           50,
           51,
           54,
           51,
           58,
           67,
           76,
           52,
           46,
           60,
           66,
           29,
           40,
           42,
           55,
           79,
           64,
           54,
           48,
           53,
           36,
           83,
           48,
           53,
           62,
           35,
           41,
           60,
           43,
           112,
           46,
           48,
           60,
           35,
           83,
           66,
           50,
           43,
           69,
           55,
           16,
           40,
           62,
           37,
           59,
           52,
           77,
           52,
           73,
           53,
           80,
           50,
           59,
           51,
           80,
           59,
           12,
           59,
           54,
           31,
           42,
           59,
           52,
           63,
           53,
           71,
           61,
           30,
           69,
           55,
           54,
           63,
           47,
           53,
           44,
           52,
           35,
           38,
           39,
           54,
           64,
           64,
           56,
           66
          ],
          "symbol": "circle"
         },
         "mode": "markers",
         "text": "",
         "type": "scatter",
         "x": [
          -0.4400399649717887,
          -0.3595613077728515,
          1.873406826294262,
          0.38969186783380566,
          -0.022267424723130477,
          0.43504747311291625,
          0.2554983804257713,
          -0.43489588798704,
          1.3426244457395577,
          -0.48428219422439583,
          1.2792534848487378,
          -0.33430267928447205,
          -0.05871625452323227,
          -1.4641294945567087,
          0.6879170405939331,
          -0.5789676388980899,
          0.4834159267743571,
          0.7888288795843491,
          0.3323842082460313,
          -0.500455046491514,
          1.1349638922438667,
          0.0648394026874129,
          -1.8369173628695823,
          -1.364696374259146,
          -0.23163879310313643,
          0.44184120624887646,
          -0.008754529905923444,
          -0.8468384671871605,
          -1.7609159005214712,
          -0.8906016871681184,
          0.0014061404898391655,
          -0.8273110356202099,
          -1.4469547151441569,
          1.130716065259019,
          1.8385150812690811,
          1.4480020373494882,
          -0.7299993682456137,
          0.7084053880561713,
          -1.9574977231406003,
          1.3225294983535072,
          0.4604816538773025,
          0.5978851424936994,
          -0.029798002575205002,
          2.4444818990726014,
          0.23121109999846337,
          0.39411414563714564,
          1.424994271543353,
          -1.0108760588569032,
          -0.20433405466852314,
          -0.5930604286487997,
          -0.17345914350442432,
          -1.5383599521702267,
          1.9870464339271097,
          -0.9572961564127893,
          0.2736969217055384,
          -0.14260090164422665,
          0.5639127289263197,
          -1.2416397081029351,
          -1.0359339740593136,
          0.49857507285146657,
          -1.2100830662432491,
          1.0950061628189116,
          1.8846659520987912,
          -1.7878728745495034,
          0.28857746221554864,
          -1.4088943816655852,
          -1.2087136735183925,
          1.2778115772660252,
          1.6546599214910305,
          -0.7462906107026152,
          -0.9209903093715155,
          0.23517131057492602,
          -1.3162249191278517,
          0.8134368199054091,
          -0.0374560977698149,
          -0.9081747971850014,
          0.3002608454591211,
          -1.9056226453352814,
          0.4297281861337904,
          -0.5789872115675557,
          0.21575296332290184,
          1.5659208168241434,
          -0.5014118806704894,
          -0.36063540909619,
          -1.6235631621904136,
          0.20410868074437,
          -0.9931668727532835,
          0.24227106624572672,
          -1.4183421552714632,
          -2.4218648828227294,
          0.24063590836634863,
          -0.721590758122123,
          -0.29554997751728773,
          -0.723704077745416,
          -0.6669451077956237,
          -2.1012240102699056,
          -0.47528546735939825,
          0.9874550770448093,
          -1.0165171112904952,
          -0.6352140298009604
         ],
         "y": [
          0.005253742579835973,
          0.7716277501844138,
          -1.3400305920631033,
          0.8318700917157779,
          2.240199667702425,
          -0.22292209976958163,
          -0.21705185991763193,
          -0.7393949298922802,
          -0.3067156431895187,
          0.3828707180093922,
          2.1967246063897288,
          -0.02905384790058943,
          0.23135537214505922,
          -1.8585285444240034,
          1.5382087491369076,
          2.0203249946759017,
          -0.10883618494234559,
          0.5586990172547254,
          -0.5173941777182314,
          0.6493323533920731,
          0.5779378136248604,
          1.1086260382106041,
          0.04515298529579711,
          1.8669147038799583,
          -1.081982530900694,
          0.34588203934046,
          -0.6738517290892458,
          0.5307011208620993,
          -0.2890152225836287,
          -1.0968014185406156,
          0.0069997093709019825,
          1.0096161393672936,
          -0.11999388042626354,
          -0.9846719383735099,
          2.1550176489971897,
          -0.0862558055942889,
          -0.6472715416910069,
          2.638125871089636,
          1.1062598580697107,
          -0.17386800601023839,
          -2.035440917897416,
          -0.3238816966370988,
          -0.9241586801488743,
          0.28270061840290656,
          -1.2936177268615774,
          -1.653251938555071,
          0.16674799397119405,
          -0.2662948634241881,
          0.08036384060337945,
          1.0983462697803852,
          0.3509552047370613,
          -0.43682665169660967,
          -1.3827744606669374,
          0.4738958851556978,
          -1.1325269214747788,
          -0.648548134378684,
          -0.23004881722647422,
          1.868850040978546,
          -0.07655085017094414,
          -1.406890502921777,
          -1.065453004451698,
          0.5349288988151877,
          1.3773373978807573,
          0.5867444979295666,
          0.8620421567209805,
          0.02407766005255767,
          -0.24521601213683414,
          0.048430437282934974,
          -1.7974755498952042,
          -1.2740596900069847,
          0.1877725087100248,
          -0.4093879315825059,
          0.5824620905697605,
          -0.799413254250628,
          2.6027632503644575,
          -1.563154453440586,
          -0.9213031507408195,
          0.07979897204686634,
          -0.9906227712393095,
          0.7259471437511759,
          0.13646236887374574,
          -0.5901089050824726,
          0.4830250607805121,
          0.07045911603626373,
          -1.0395461897361091,
          0.159846520137536,
          1.0109455233378781,
          0.15754580369888657,
          -0.10428812849781907,
          0.8880653905779591,
          -0.2091950350731277,
          -1.5960364240674625,
          -0.7720547303970756,
          1.4142597808980752,
          0.253057761265195,
          2.096759738915302,
          -0.49800753714594564,
          2.205377221396586,
          0.7549940575074778,
          0.03171008771101023
         ]
        }
       ],
       "layout": {
        "legend": {
         "bgcolor": "#F5F6F9",
         "font": {
          "color": "#4D5663"
         }
        },
        "paper_bgcolor": "#F5F6F9",
        "plot_bgcolor": "#F5F6F9",
        "template": {
         "data": {
          "bar": [
           {
            "error_x": {
             "color": "#2a3f5f"
            },
            "error_y": {
             "color": "#2a3f5f"
            },
            "marker": {
             "line": {
              "color": "#E5ECF6",
              "width": 0.5
             }
            },
            "type": "bar"
           }
          ],
          "barpolar": [
           {
            "marker": {
             "line": {
              "color": "#E5ECF6",
              "width": 0.5
             }
            },
            "type": "barpolar"
           }
          ],
          "carpet": [
           {
            "aaxis": {
             "endlinecolor": "#2a3f5f",
             "gridcolor": "white",
             "linecolor": "white",
             "minorgridcolor": "white",
             "startlinecolor": "#2a3f5f"
            },
            "baxis": {
             "endlinecolor": "#2a3f5f",
             "gridcolor": "white",
             "linecolor": "white",
             "minorgridcolor": "white",
             "startlinecolor": "#2a3f5f"
            },
            "type": "carpet"
           }
          ],
          "choropleth": [
           {
            "colorbar": {
             "outlinewidth": 0,
             "ticks": ""
            },
            "type": "choropleth"
           }
          ],
          "contour": [
           {
            "colorbar": {
             "outlinewidth": 0,
             "ticks": ""
            },
            "colorscale": [
             [
              0,
              "#0d0887"
             ],
             [
              0.1111111111111111,
              "#46039f"
             ],
             [
              0.2222222222222222,
              "#7201a8"
             ],
             [
              0.3333333333333333,
              "#9c179e"
             ],
             [
              0.4444444444444444,
              "#bd3786"
             ],
             [
              0.5555555555555556,
              "#d8576b"
             ],
             [
              0.6666666666666666,
              "#ed7953"
             ],
             [
              0.7777777777777778,
              "#fb9f3a"
             ],
             [
              0.8888888888888888,
              "#fdca26"
             ],
             [
              1,
              "#f0f921"
             ]
            ],
            "type": "contour"
           }
          ],
          "contourcarpet": [
           {
            "colorbar": {
             "outlinewidth": 0,
             "ticks": ""
            },
            "type": "contourcarpet"
           }
          ],
          "heatmap": [
           {
            "colorbar": {
             "outlinewidth": 0,
             "ticks": ""
            },
            "colorscale": [
             [
              0,
              "#0d0887"
             ],
             [
              0.1111111111111111,
              "#46039f"
             ],
             [
              0.2222222222222222,
              "#7201a8"
             ],
             [
              0.3333333333333333,
              "#9c179e"
             ],
             [
              0.4444444444444444,
              "#bd3786"
             ],
             [
              0.5555555555555556,
              "#d8576b"
             ],
             [
              0.6666666666666666,
              "#ed7953"
             ],
             [
              0.7777777777777778,
              "#fb9f3a"
             ],
             [
              0.8888888888888888,
              "#fdca26"
             ],
             [
              1,
              "#f0f921"
             ]
            ],
            "type": "heatmap"
           }
          ],
          "heatmapgl": [
           {
            "colorbar": {
             "outlinewidth": 0,
             "ticks": ""
            },
            "colorscale": [
             [
              0,
              "#0d0887"
             ],
             [
              0.1111111111111111,
              "#46039f"
             ],
             [
              0.2222222222222222,
              "#7201a8"
             ],
             [
              0.3333333333333333,
              "#9c179e"
             ],
             [
              0.4444444444444444,
              "#bd3786"
             ],
             [
              0.5555555555555556,
              "#d8576b"
             ],
             [
              0.6666666666666666,
              "#ed7953"
             ],
             [
              0.7777777777777778,
              "#fb9f3a"
             ],
             [
              0.8888888888888888,
              "#fdca26"
             ],
             [
              1,
              "#f0f921"
             ]
            ],
            "type": "heatmapgl"
           }
          ],
          "histogram": [
           {
            "marker": {
             "colorbar": {
              "outlinewidth": 0,
              "ticks": ""
             }
            },
            "type": "histogram"
           }
          ],
          "histogram2d": [
           {
            "colorbar": {
             "outlinewidth": 0,
             "ticks": ""
            },
            "colorscale": [
             [
              0,
              "#0d0887"
             ],
             [
              0.1111111111111111,
              "#46039f"
             ],
             [
              0.2222222222222222,
              "#7201a8"
             ],
             [
              0.3333333333333333,
              "#9c179e"
             ],
             [
              0.4444444444444444,
              "#bd3786"
             ],
             [
              0.5555555555555556,
              "#d8576b"
             ],
             [
              0.6666666666666666,
              "#ed7953"
             ],
             [
              0.7777777777777778,
              "#fb9f3a"
             ],
             [
              0.8888888888888888,
              "#fdca26"
             ],
             [
              1,
              "#f0f921"
             ]
            ],
            "type": "histogram2d"
           }
          ],
          "histogram2dcontour": [
           {
            "colorbar": {
             "outlinewidth": 0,
             "ticks": ""
            },
            "colorscale": [
             [
              0,
              "#0d0887"
             ],
             [
              0.1111111111111111,
              "#46039f"
             ],
             [
              0.2222222222222222,
              "#7201a8"
             ],
             [
              0.3333333333333333,
              "#9c179e"
             ],
             [
              0.4444444444444444,
              "#bd3786"
             ],
             [
              0.5555555555555556,
              "#d8576b"
             ],
             [
              0.6666666666666666,
              "#ed7953"
             ],
             [
              0.7777777777777778,
              "#fb9f3a"
             ],
             [
              0.8888888888888888,
              "#fdca26"
             ],
             [
              1,
              "#f0f921"
             ]
            ],
            "type": "histogram2dcontour"
           }
          ],
          "mesh3d": [
           {
            "colorbar": {
             "outlinewidth": 0,
             "ticks": ""
            },
            "type": "mesh3d"
           }
          ],
          "parcoords": [
           {
            "line": {
             "colorbar": {
              "outlinewidth": 0,
              "ticks": ""
             }
            },
            "type": "parcoords"
           }
          ],
          "pie": [
           {
            "automargin": true,
            "type": "pie"
           }
          ],
          "scatter": [
           {
            "marker": {
             "colorbar": {
              "outlinewidth": 0,
              "ticks": ""
             }
            },
            "type": "scatter"
           }
          ],
          "scatter3d": [
           {
            "line": {
             "colorbar": {
              "outlinewidth": 0,
              "ticks": ""
             }
            },
            "marker": {
             "colorbar": {
              "outlinewidth": 0,
              "ticks": ""
             }
            },
            "type": "scatter3d"
           }
          ],
          "scattercarpet": [
           {
            "marker": {
             "colorbar": {
              "outlinewidth": 0,
              "ticks": ""
             }
            },
            "type": "scattercarpet"
           }
          ],
          "scattergeo": [
           {
            "marker": {
             "colorbar": {
              "outlinewidth": 0,
              "ticks": ""
             }
            },
            "type": "scattergeo"
           }
          ],
          "scattergl": [
           {
            "marker": {
             "colorbar": {
              "outlinewidth": 0,
              "ticks": ""
             }
            },
            "type": "scattergl"
           }
          ],
          "scattermapbox": [
           {
            "marker": {
             "colorbar": {
              "outlinewidth": 0,
              "ticks": ""
             }
            },
            "type": "scattermapbox"
           }
          ],
          "scatterpolar": [
           {
            "marker": {
             "colorbar": {
              "outlinewidth": 0,
              "ticks": ""
             }
            },
            "type": "scatterpolar"
           }
          ],
          "scatterpolargl": [
           {
            "marker": {
             "colorbar": {
              "outlinewidth": 0,
              "ticks": ""
             }
            },
            "type": "scatterpolargl"
           }
          ],
          "scatterternary": [
           {
            "marker": {
             "colorbar": {
              "outlinewidth": 0,
              "ticks": ""
             }
            },
            "type": "scatterternary"
           }
          ],
          "surface": [
           {
            "colorbar": {
             "outlinewidth": 0,
             "ticks": ""
            },
            "colorscale": [
             [
              0,
              "#0d0887"
             ],
             [
              0.1111111111111111,
              "#46039f"
             ],
             [
              0.2222222222222222,
              "#7201a8"
             ],
             [
              0.3333333333333333,
              "#9c179e"
             ],
             [
              0.4444444444444444,
              "#bd3786"
             ],
             [
              0.5555555555555556,
              "#d8576b"
             ],
             [
              0.6666666666666666,
              "#ed7953"
             ],
             [
              0.7777777777777778,
              "#fb9f3a"
             ],
             [
              0.8888888888888888,
              "#fdca26"
             ],
             [
              1,
              "#f0f921"
             ]
            ],
            "type": "surface"
           }
          ],
          "table": [
           {
            "cells": {
             "fill": {
              "color": "#EBF0F8"
             },
             "line": {
              "color": "white"
             }
            },
            "header": {
             "fill": {
              "color": "#C8D4E3"
             },
             "line": {
              "color": "white"
             }
            },
            "type": "table"
           }
          ]
         },
         "layout": {
          "annotationdefaults": {
           "arrowcolor": "#2a3f5f",
           "arrowhead": 0,
           "arrowwidth": 1
          },
          "coloraxis": {
           "colorbar": {
            "outlinewidth": 0,
            "ticks": ""
           }
          },
          "colorscale": {
           "diverging": [
            [
             0,
             "#8e0152"
            ],
            [
             0.1,
             "#c51b7d"
            ],
            [
             0.2,
             "#de77ae"
            ],
            [
             0.3,
             "#f1b6da"
            ],
            [
             0.4,
             "#fde0ef"
            ],
            [
             0.5,
             "#f7f7f7"
            ],
            [
             0.6,
             "#e6f5d0"
            ],
            [
             0.7,
             "#b8e186"
            ],
            [
             0.8,
             "#7fbc41"
            ],
            [
             0.9,
             "#4d9221"
            ],
            [
             1,
             "#276419"
            ]
           ],
           "sequential": [
            [
             0,
             "#0d0887"
            ],
            [
             0.1111111111111111,
             "#46039f"
            ],
            [
             0.2222222222222222,
             "#7201a8"
            ],
            [
             0.3333333333333333,
             "#9c179e"
            ],
            [
             0.4444444444444444,
             "#bd3786"
            ],
            [
             0.5555555555555556,
             "#d8576b"
            ],
            [
             0.6666666666666666,
             "#ed7953"
            ],
            [
             0.7777777777777778,
             "#fb9f3a"
            ],
            [
             0.8888888888888888,
             "#fdca26"
            ],
            [
             1,
             "#f0f921"
            ]
           ],
           "sequentialminus": [
            [
             0,
             "#0d0887"
            ],
            [
             0.1111111111111111,
             "#46039f"
            ],
            [
             0.2222222222222222,
             "#7201a8"
            ],
            [
             0.3333333333333333,
             "#9c179e"
            ],
            [
             0.4444444444444444,
             "#bd3786"
            ],
            [
             0.5555555555555556,
             "#d8576b"
            ],
            [
             0.6666666666666666,
             "#ed7953"
            ],
            [
             0.7777777777777778,
             "#fb9f3a"
            ],
            [
             0.8888888888888888,
             "#fdca26"
            ],
            [
             1,
             "#f0f921"
            ]
           ]
          },
          "colorway": [
           "#636efa",
           "#EF553B",
           "#00cc96",
           "#ab63fa",
           "#FFA15A",
           "#19d3f3",
           "#FF6692",
           "#B6E880",
           "#FF97FF",
           "#FECB52"
          ],
          "font": {
           "color": "#2a3f5f"
          },
          "geo": {
           "bgcolor": "white",
           "lakecolor": "white",
           "landcolor": "#E5ECF6",
           "showlakes": true,
           "showland": true,
           "subunitcolor": "white"
          },
          "hoverlabel": {
           "align": "left"
          },
          "hovermode": "closest",
          "mapbox": {
           "style": "light"
          },
          "paper_bgcolor": "white",
          "plot_bgcolor": "#E5ECF6",
          "polar": {
           "angularaxis": {
            "gridcolor": "white",
            "linecolor": "white",
            "ticks": ""
           },
           "bgcolor": "#E5ECF6",
           "radialaxis": {
            "gridcolor": "white",
            "linecolor": "white",
            "ticks": ""
           }
          },
          "scene": {
           "xaxis": {
            "backgroundcolor": "#E5ECF6",
            "gridcolor": "white",
            "gridwidth": 2,
            "linecolor": "white",
            "showbackground": true,
            "ticks": "",
            "zerolinecolor": "white"
           },
           "yaxis": {
            "backgroundcolor": "#E5ECF6",
            "gridcolor": "white",
            "gridwidth": 2,
            "linecolor": "white",
            "showbackground": true,
            "ticks": "",
            "zerolinecolor": "white"
           },
           "zaxis": {
            "backgroundcolor": "#E5ECF6",
            "gridcolor": "white",
            "gridwidth": 2,
            "linecolor": "white",
            "showbackground": true,
            "ticks": "",
            "zerolinecolor": "white"
           }
          },
          "shapedefaults": {
           "line": {
            "color": "#2a3f5f"
           }
          },
          "ternary": {
           "aaxis": {
            "gridcolor": "white",
            "linecolor": "white",
            "ticks": ""
           },
           "baxis": {
            "gridcolor": "white",
            "linecolor": "white",
            "ticks": ""
           },
           "bgcolor": "#E5ECF6",
           "caxis": {
            "gridcolor": "white",
            "linecolor": "white",
            "ticks": ""
           }
          },
          "title": {
           "x": 0.05
          },
          "xaxis": {
           "automargin": true,
           "gridcolor": "white",
           "linecolor": "white",
           "ticks": "",
           "title": {
            "standoff": 15
           },
           "zerolinecolor": "white",
           "zerolinewidth": 2
          },
          "yaxis": {
           "automargin": true,
           "gridcolor": "white",
           "linecolor": "white",
           "ticks": "",
           "title": {
            "standoff": 15
           },
           "zerolinecolor": "white",
           "zerolinewidth": 2
          }
         }
        },
        "title": {
         "font": {
          "color": "#4D5663"
         }
        },
        "xaxis": {
         "gridcolor": "#E1E5ED",
         "showgrid": true,
         "tickfont": {
          "color": "#4D5663"
         },
         "title": {
          "font": {
           "color": "#4D5663"
          },
          "text": ""
         },
         "zerolinecolor": "#E1E5ED"
        },
        "yaxis": {
         "gridcolor": "#E1E5ED",
         "showgrid": true,
         "tickfont": {
          "color": "#4D5663"
         },
         "title": {
          "font": {
           "color": "#4D5663"
          },
          "text": ""
         },
         "zerolinecolor": "#E1E5ED"
        }
       }
      },
      "text/html": [
       "<div>\n",
       "        \n",
       "        \n",
       "            <div id=\"5885b894-3c20-4426-a0c9-aef9409dea2f\" class=\"plotly-graph-div\" style=\"height:525px; width:100%;\"></div>\n",
       "            <script type=\"text/javascript\">\n",
       "                require([\"plotly\"], function(Plotly) {\n",
       "                    window.PLOTLYENV=window.PLOTLYENV || {};\n",
       "                    window.PLOTLYENV.BASE_URL='https://plot.ly';\n",
       "                    \n",
       "                if (document.getElementById(\"5885b894-3c20-4426-a0c9-aef9409dea2f\")) {\n",
       "                    Plotly.newPlot(\n",
       "                        '5885b894-3c20-4426-a0c9-aef9409dea2f',\n",
       "                        [{\"marker\": {\"color\": [\"orange\", \"orange\", \"orange\", \"orange\", \"orange\", \"orange\", \"orange\", \"orange\", \"orange\", \"orange\", \"orange\", \"orange\", \"orange\", \"orange\", \"orange\", \"orange\", \"orange\", \"orange\", \"orange\", \"orange\", \"orange\", \"orange\", \"orange\", \"orange\", \"orange\", \"orange\", \"orange\", \"orange\", \"orange\", \"orange\", \"orange\", \"orange\", \"orange\", \"orange\", \"orange\", \"orange\", \"orange\", \"orange\", \"orange\", \"orange\", \"orange\", \"orange\", \"orange\", \"orange\", \"orange\", \"orange\", \"orange\", \"orange\", \"orange\", \"orange\", \"orange\", \"orange\", \"orange\", \"orange\", \"orange\", \"orange\", \"orange\", \"orange\", \"orange\", \"orange\", \"orange\", \"orange\", \"orange\", \"orange\", \"orange\", \"orange\", \"orange\", \"orange\", \"orange\", \"orange\", \"orange\", \"orange\", \"orange\", \"orange\", \"orange\", \"orange\", \"orange\", \"orange\", \"orange\", \"orange\", \"orange\", \"orange\", \"orange\", \"orange\", \"orange\", \"orange\", \"orange\", \"orange\", \"orange\", \"orange\", \"orange\", \"orange\", \"orange\", \"orange\", \"orange\", \"orange\", \"orange\", \"orange\", \"orange\", \"orange\"], \"line\": {\"width\": 1.3}, \"size\": [53, 37, 32, 55, 52, 72, 30, 69, 36, 45, 43, 37, 60, 67, 30, 60, 50, 51, 54, 51, 58, 67, 76, 52, 46, 60, 66, 29, 40, 42, 55, 79, 64, 54, 48, 53, 36, 83, 48, 53, 62, 35, 41, 60, 43, 112, 46, 48, 60, 35, 83, 66, 50, 43, 69, 55, 16, 40, 62, 37, 59, 52, 77, 52, 73, 53, 80, 50, 59, 51, 80, 59, 12, 59, 54, 31, 42, 59, 52, 63, 53, 71, 61, 30, 69, 55, 54, 63, 47, 53, 44, 52, 35, 38, 39, 54, 64, 64, 56, 66], \"symbol\": \"circle\"}, \"mode\": \"markers\", \"text\": \"\", \"type\": \"scatter\", \"x\": [-0.4400399649717887, -0.3595613077728515, 1.873406826294262, 0.38969186783380566, -0.022267424723130477, 0.43504747311291625, 0.2554983804257713, -0.43489588798704, 1.3426244457395577, -0.48428219422439583, 1.2792534848487378, -0.33430267928447205, -0.05871625452323227, -1.4641294945567087, 0.6879170405939331, -0.5789676388980899, 0.4834159267743571, 0.7888288795843491, 0.3323842082460313, -0.500455046491514, 1.1349638922438667, 0.0648394026874129, -1.8369173628695823, -1.364696374259146, -0.23163879310313643, 0.44184120624887646, -0.008754529905923444, -0.8468384671871605, -1.7609159005214712, -0.8906016871681184, 0.0014061404898391655, -0.8273110356202099, -1.4469547151441569, 1.130716065259019, 1.8385150812690811, 1.4480020373494882, -0.7299993682456137, 0.7084053880561713, -1.9574977231406003, 1.3225294983535072, 0.4604816538773025, 0.5978851424936994, -0.029798002575205002, 2.4444818990726014, 0.23121109999846337, 0.39411414563714564, 1.424994271543353, -1.0108760588569032, -0.20433405466852314, -0.5930604286487997, -0.17345914350442432, -1.5383599521702267, 1.9870464339271097, -0.9572961564127893, 0.2736969217055384, -0.14260090164422665, 0.5639127289263197, -1.2416397081029351, -1.0359339740593136, 0.49857507285146657, -1.2100830662432491, 1.0950061628189116, 1.8846659520987912, -1.7878728745495034, 0.28857746221554864, -1.4088943816655852, -1.2087136735183925, 1.2778115772660252, 1.6546599214910305, -0.7462906107026152, -0.9209903093715155, 0.23517131057492602, -1.3162249191278517, 0.8134368199054091, -0.0374560977698149, -0.9081747971850014, 0.3002608454591211, -1.9056226453352814, 0.4297281861337904, -0.5789872115675557, 0.21575296332290184, 1.5659208168241434, -0.5014118806704894, -0.36063540909619, -1.6235631621904136, 0.20410868074437, -0.9931668727532835, 0.24227106624572672, -1.4183421552714632, -2.4218648828227294, 0.24063590836634863, -0.721590758122123, -0.29554997751728773, -0.723704077745416, -0.6669451077956237, -2.1012240102699056, -0.47528546735939825, 0.9874550770448093, -1.0165171112904952, -0.6352140298009604], \"y\": [0.005253742579835973, 0.7716277501844138, -1.3400305920631033, 0.8318700917157779, 2.240199667702425, -0.22292209976958163, -0.21705185991763193, -0.7393949298922802, -0.3067156431895187, 0.3828707180093922, 2.1967246063897288, -0.02905384790058943, 0.23135537214505922, -1.8585285444240034, 1.5382087491369076, 2.0203249946759017, -0.10883618494234559, 0.5586990172547254, -0.5173941777182314, 0.6493323533920731, 0.5779378136248604, 1.1086260382106041, 0.04515298529579711, 1.8669147038799583, -1.081982530900694, 0.34588203934046, -0.6738517290892458, 0.5307011208620993, -0.2890152225836287, -1.0968014185406156, 0.0069997093709019825, 1.0096161393672936, -0.11999388042626354, -0.9846719383735099, 2.1550176489971897, -0.0862558055942889, -0.6472715416910069, 2.638125871089636, 1.1062598580697107, -0.17386800601023839, -2.035440917897416, -0.3238816966370988, -0.9241586801488743, 0.28270061840290656, -1.2936177268615774, -1.653251938555071, 0.16674799397119405, -0.2662948634241881, 0.08036384060337945, 1.0983462697803852, 0.3509552047370613, -0.43682665169660967, -1.3827744606669374, 0.4738958851556978, -1.1325269214747788, -0.648548134378684, -0.23004881722647422, 1.868850040978546, -0.07655085017094414, -1.406890502921777, -1.065453004451698, 0.5349288988151877, 1.3773373978807573, 0.5867444979295666, 0.8620421567209805, 0.02407766005255767, -0.24521601213683414, 0.048430437282934974, -1.7974755498952042, -1.2740596900069847, 0.1877725087100248, -0.4093879315825059, 0.5824620905697605, -0.799413254250628, 2.6027632503644575, -1.563154453440586, -0.9213031507408195, 0.07979897204686634, -0.9906227712393095, 0.7259471437511759, 0.13646236887374574, -0.5901089050824726, 0.4830250607805121, 0.07045911603626373, -1.0395461897361091, 0.159846520137536, 1.0109455233378781, 0.15754580369888657, -0.10428812849781907, 0.8880653905779591, -0.2091950350731277, -1.5960364240674625, -0.7720547303970756, 1.4142597808980752, 0.253057761265195, 2.096759738915302, -0.49800753714594564, 2.205377221396586, 0.7549940575074778, 0.03171008771101023]}],\n",
       "                        {\"legend\": {\"bgcolor\": \"#F5F6F9\", \"font\": {\"color\": \"#4D5663\"}}, \"paper_bgcolor\": \"#F5F6F9\", \"plot_bgcolor\": \"#F5F6F9\", \"template\": {\"data\": {\"bar\": [{\"error_x\": {\"color\": \"#2a3f5f\"}, \"error_y\": {\"color\": \"#2a3f5f\"}, \"marker\": {\"line\": {\"color\": \"#E5ECF6\", \"width\": 0.5}}, \"type\": \"bar\"}], \"barpolar\": [{\"marker\": {\"line\": {\"color\": \"#E5ECF6\", \"width\": 0.5}}, \"type\": \"barpolar\"}], \"carpet\": [{\"aaxis\": {\"endlinecolor\": \"#2a3f5f\", \"gridcolor\": \"white\", \"linecolor\": \"white\", \"minorgridcolor\": \"white\", \"startlinecolor\": \"#2a3f5f\"}, \"baxis\": {\"endlinecolor\": \"#2a3f5f\", \"gridcolor\": \"white\", \"linecolor\": \"white\", \"minorgridcolor\": \"white\", \"startlinecolor\": \"#2a3f5f\"}, \"type\": \"carpet\"}], \"choropleth\": [{\"colorbar\": {\"outlinewidth\": 0, \"ticks\": \"\"}, \"type\": \"choropleth\"}], \"contour\": [{\"colorbar\": {\"outlinewidth\": 0, \"ticks\": \"\"}, \"colorscale\": [[0.0, \"#0d0887\"], [0.1111111111111111, \"#46039f\"], [0.2222222222222222, \"#7201a8\"], [0.3333333333333333, \"#9c179e\"], [0.4444444444444444, \"#bd3786\"], [0.5555555555555556, \"#d8576b\"], [0.6666666666666666, \"#ed7953\"], [0.7777777777777778, \"#fb9f3a\"], [0.8888888888888888, \"#fdca26\"], [1.0, \"#f0f921\"]], \"type\": \"contour\"}], \"contourcarpet\": [{\"colorbar\": {\"outlinewidth\": 0, \"ticks\": \"\"}, \"type\": \"contourcarpet\"}], \"heatmap\": [{\"colorbar\": {\"outlinewidth\": 0, \"ticks\": \"\"}, \"colorscale\": [[0.0, \"#0d0887\"], [0.1111111111111111, \"#46039f\"], [0.2222222222222222, \"#7201a8\"], [0.3333333333333333, \"#9c179e\"], [0.4444444444444444, \"#bd3786\"], [0.5555555555555556, \"#d8576b\"], [0.6666666666666666, \"#ed7953\"], [0.7777777777777778, \"#fb9f3a\"], [0.8888888888888888, \"#fdca26\"], [1.0, \"#f0f921\"]], \"type\": \"heatmap\"}], \"heatmapgl\": [{\"colorbar\": {\"outlinewidth\": 0, \"ticks\": \"\"}, \"colorscale\": [[0.0, \"#0d0887\"], [0.1111111111111111, \"#46039f\"], [0.2222222222222222, \"#7201a8\"], [0.3333333333333333, \"#9c179e\"], [0.4444444444444444, \"#bd3786\"], [0.5555555555555556, \"#d8576b\"], [0.6666666666666666, \"#ed7953\"], [0.7777777777777778, \"#fb9f3a\"], [0.8888888888888888, \"#fdca26\"], [1.0, \"#f0f921\"]], \"type\": \"heatmapgl\"}], \"histogram\": [{\"marker\": {\"colorbar\": {\"outlinewidth\": 0, \"ticks\": \"\"}}, \"type\": \"histogram\"}], \"histogram2d\": [{\"colorbar\": {\"outlinewidth\": 0, \"ticks\": \"\"}, \"colorscale\": [[0.0, \"#0d0887\"], [0.1111111111111111, \"#46039f\"], [0.2222222222222222, \"#7201a8\"], [0.3333333333333333, \"#9c179e\"], [0.4444444444444444, \"#bd3786\"], [0.5555555555555556, \"#d8576b\"], [0.6666666666666666, \"#ed7953\"], [0.7777777777777778, \"#fb9f3a\"], [0.8888888888888888, \"#fdca26\"], [1.0, \"#f0f921\"]], \"type\": \"histogram2d\"}], \"histogram2dcontour\": [{\"colorbar\": {\"outlinewidth\": 0, \"ticks\": \"\"}, \"colorscale\": [[0.0, \"#0d0887\"], [0.1111111111111111, \"#46039f\"], [0.2222222222222222, \"#7201a8\"], [0.3333333333333333, \"#9c179e\"], [0.4444444444444444, \"#bd3786\"], [0.5555555555555556, \"#d8576b\"], [0.6666666666666666, \"#ed7953\"], [0.7777777777777778, \"#fb9f3a\"], [0.8888888888888888, \"#fdca26\"], [1.0, \"#f0f921\"]], \"type\": \"histogram2dcontour\"}], \"mesh3d\": [{\"colorbar\": {\"outlinewidth\": 0, \"ticks\": \"\"}, \"type\": \"mesh3d\"}], \"parcoords\": [{\"line\": {\"colorbar\": {\"outlinewidth\": 0, \"ticks\": \"\"}}, \"type\": \"parcoords\"}], \"pie\": [{\"automargin\": true, \"type\": \"pie\"}], \"scatter\": [{\"marker\": {\"colorbar\": {\"outlinewidth\": 0, \"ticks\": \"\"}}, \"type\": \"scatter\"}], \"scatter3d\": [{\"line\": {\"colorbar\": {\"outlinewidth\": 0, \"ticks\": \"\"}}, \"marker\": {\"colorbar\": {\"outlinewidth\": 0, \"ticks\": \"\"}}, \"type\": \"scatter3d\"}], \"scattercarpet\": [{\"marker\": {\"colorbar\": {\"outlinewidth\": 0, \"ticks\": \"\"}}, \"type\": \"scattercarpet\"}], \"scattergeo\": [{\"marker\": {\"colorbar\": {\"outlinewidth\": 0, \"ticks\": \"\"}}, \"type\": \"scattergeo\"}], \"scattergl\": [{\"marker\": {\"colorbar\": {\"outlinewidth\": 0, \"ticks\": \"\"}}, \"type\": \"scattergl\"}], \"scattermapbox\": [{\"marker\": {\"colorbar\": {\"outlinewidth\": 0, \"ticks\": \"\"}}, \"type\": \"scattermapbox\"}], \"scatterpolar\": [{\"marker\": {\"colorbar\": {\"outlinewidth\": 0, \"ticks\": \"\"}}, \"type\": \"scatterpolar\"}], \"scatterpolargl\": [{\"marker\": {\"colorbar\": {\"outlinewidth\": 0, \"ticks\": \"\"}}, \"type\": \"scatterpolargl\"}], \"scatterternary\": [{\"marker\": {\"colorbar\": {\"outlinewidth\": 0, \"ticks\": \"\"}}, \"type\": \"scatterternary\"}], \"surface\": [{\"colorbar\": {\"outlinewidth\": 0, \"ticks\": \"\"}, \"colorscale\": [[0.0, \"#0d0887\"], [0.1111111111111111, \"#46039f\"], [0.2222222222222222, \"#7201a8\"], [0.3333333333333333, \"#9c179e\"], [0.4444444444444444, \"#bd3786\"], [0.5555555555555556, \"#d8576b\"], [0.6666666666666666, \"#ed7953\"], [0.7777777777777778, \"#fb9f3a\"], [0.8888888888888888, \"#fdca26\"], [1.0, \"#f0f921\"]], \"type\": \"surface\"}], \"table\": [{\"cells\": {\"fill\": {\"color\": \"#EBF0F8\"}, \"line\": {\"color\": \"white\"}}, \"header\": {\"fill\": {\"color\": \"#C8D4E3\"}, \"line\": {\"color\": \"white\"}}, \"type\": \"table\"}]}, \"layout\": {\"annotationdefaults\": {\"arrowcolor\": \"#2a3f5f\", \"arrowhead\": 0, \"arrowwidth\": 1}, \"coloraxis\": {\"colorbar\": {\"outlinewidth\": 0, \"ticks\": \"\"}}, \"colorscale\": {\"diverging\": [[0, \"#8e0152\"], [0.1, \"#c51b7d\"], [0.2, \"#de77ae\"], [0.3, \"#f1b6da\"], [0.4, \"#fde0ef\"], [0.5, \"#f7f7f7\"], [0.6, \"#e6f5d0\"], [0.7, \"#b8e186\"], [0.8, \"#7fbc41\"], [0.9, \"#4d9221\"], [1, \"#276419\"]], \"sequential\": [[0.0, \"#0d0887\"], [0.1111111111111111, \"#46039f\"], [0.2222222222222222, \"#7201a8\"], [0.3333333333333333, \"#9c179e\"], [0.4444444444444444, \"#bd3786\"], [0.5555555555555556, \"#d8576b\"], [0.6666666666666666, \"#ed7953\"], [0.7777777777777778, \"#fb9f3a\"], [0.8888888888888888, \"#fdca26\"], [1.0, \"#f0f921\"]], \"sequentialminus\": [[0.0, \"#0d0887\"], [0.1111111111111111, \"#46039f\"], [0.2222222222222222, \"#7201a8\"], [0.3333333333333333, \"#9c179e\"], [0.4444444444444444, \"#bd3786\"], [0.5555555555555556, \"#d8576b\"], [0.6666666666666666, \"#ed7953\"], [0.7777777777777778, \"#fb9f3a\"], [0.8888888888888888, \"#fdca26\"], [1.0, \"#f0f921\"]]}, \"colorway\": [\"#636efa\", \"#EF553B\", \"#00cc96\", \"#ab63fa\", \"#FFA15A\", \"#19d3f3\", \"#FF6692\", \"#B6E880\", \"#FF97FF\", \"#FECB52\"], \"font\": {\"color\": \"#2a3f5f\"}, \"geo\": {\"bgcolor\": \"white\", \"lakecolor\": \"white\", \"landcolor\": \"#E5ECF6\", \"showlakes\": true, \"showland\": true, \"subunitcolor\": \"white\"}, \"hoverlabel\": {\"align\": \"left\"}, \"hovermode\": \"closest\", \"mapbox\": {\"style\": \"light\"}, \"paper_bgcolor\": \"white\", \"plot_bgcolor\": \"#E5ECF6\", \"polar\": {\"angularaxis\": {\"gridcolor\": \"white\", \"linecolor\": \"white\", \"ticks\": \"\"}, \"bgcolor\": \"#E5ECF6\", \"radialaxis\": {\"gridcolor\": \"white\", \"linecolor\": \"white\", \"ticks\": \"\"}}, \"scene\": {\"xaxis\": {\"backgroundcolor\": \"#E5ECF6\", \"gridcolor\": \"white\", \"gridwidth\": 2, \"linecolor\": \"white\", \"showbackground\": true, \"ticks\": \"\", \"zerolinecolor\": \"white\"}, \"yaxis\": {\"backgroundcolor\": \"#E5ECF6\", \"gridcolor\": \"white\", \"gridwidth\": 2, \"linecolor\": \"white\", \"showbackground\": true, \"ticks\": \"\", \"zerolinecolor\": \"white\"}, \"zaxis\": {\"backgroundcolor\": \"#E5ECF6\", \"gridcolor\": \"white\", \"gridwidth\": 2, \"linecolor\": \"white\", \"showbackground\": true, \"ticks\": \"\", \"zerolinecolor\": \"white\"}}, \"shapedefaults\": {\"line\": {\"color\": \"#2a3f5f\"}}, \"ternary\": {\"aaxis\": {\"gridcolor\": \"white\", \"linecolor\": \"white\", \"ticks\": \"\"}, \"baxis\": {\"gridcolor\": \"white\", \"linecolor\": \"white\", \"ticks\": \"\"}, \"bgcolor\": \"#E5ECF6\", \"caxis\": {\"gridcolor\": \"white\", \"linecolor\": \"white\", \"ticks\": \"\"}}, \"title\": {\"x\": 0.05}, \"xaxis\": {\"automargin\": true, \"gridcolor\": \"white\", \"linecolor\": \"white\", \"ticks\": \"\", \"title\": {\"standoff\": 15}, \"zerolinecolor\": \"white\", \"zerolinewidth\": 2}, \"yaxis\": {\"automargin\": true, \"gridcolor\": \"white\", \"linecolor\": \"white\", \"ticks\": \"\", \"title\": {\"standoff\": 15}, \"zerolinecolor\": \"white\", \"zerolinewidth\": 2}}}, \"title\": {\"font\": {\"color\": \"#4D5663\"}}, \"xaxis\": {\"gridcolor\": \"#E1E5ED\", \"showgrid\": true, \"tickfont\": {\"color\": \"#4D5663\"}, \"title\": {\"font\": {\"color\": \"#4D5663\"}, \"text\": \"\"}, \"zerolinecolor\": \"#E1E5ED\"}, \"yaxis\": {\"gridcolor\": \"#E1E5ED\", \"showgrid\": true, \"tickfont\": {\"color\": \"#4D5663\"}, \"title\": {\"font\": {\"color\": \"#4D5663\"}, \"text\": \"\"}, \"zerolinecolor\": \"#E1E5ED\"}},\n",
       "                        {\"showLink\": true, \"linkText\": \"Export to plot.ly\", \"plotlyServerURL\": \"https://plot.ly\", \"responsive\": true}\n",
       "                    ).then(function(){\n",
       "                            \n",
       "var gd = document.getElementById('5885b894-3c20-4426-a0c9-aef9409dea2f');\n",
       "var x = new MutationObserver(function (mutations, observer) {{\n",
       "        var display = window.getComputedStyle(gd).display;\n",
       "        if (!display || display === 'none') {{\n",
       "            console.log([gd, 'removed!']);\n",
       "            Plotly.purge(gd);\n",
       "            observer.disconnect();\n",
       "        }}\n",
       "}});\n",
       "\n",
       "// Listen for the removal of the full notebook cells\n",
       "var notebookContainer = gd.closest('#notebook-container');\n",
       "if (notebookContainer) {{\n",
       "    x.observe(notebookContainer, {childList: true});\n",
       "}}\n",
       "\n",
       "// Listen for the clearing of the current output cell\n",
       "var outputEl = gd.closest('.output');\n",
       "if (outputEl) {{\n",
       "    x.observe(outputEl, {childList: true});\n",
       "}}\n",
       "\n",
       "                        })\n",
       "                };\n",
       "                });\n",
       "            </script>\n",
       "        </div>"
      ]
     },
     "metadata": {},
     "output_type": "display_data"
    }
   ],
   "source": [
    "df.iplot(kind=\"bubble\",x=\"A\",y=\"B\",size=\"C\",color=\"orange\")"
   ]
  },
  {
   "cell_type": "code",
   "execution_count": 84,
   "metadata": {},
   "outputs": [
    {
     "data": {
      "application/vnd.plotly.v1+json": {
       "config": {
        "linkText": "Export to plot.ly",
        "plotlyServerURL": "https://plot.ly",
        "showLink": true
       },
       "data": [
        {
         "histfunc": "count",
         "histnorm": "",
         "marker": {
          "color": "rgba(255, 153, 51, 1.0)",
          "line": {
           "color": "#4D5663",
           "width": 1.3
          }
         },
         "name": "A",
         "nbinsx": 10,
         "opacity": 0.8,
         "orientation": "v",
         "type": "histogram",
         "x": [
          -0.4400399649717887,
          -0.3595613077728515,
          1.873406826294262,
          0.38969186783380566,
          -0.022267424723130477,
          0.43504747311291625,
          0.2554983804257713,
          -0.43489588798704,
          1.3426244457395577,
          -0.48428219422439583,
          1.2792534848487378,
          -0.33430267928447205,
          -0.05871625452323227,
          -1.4641294945567087,
          0.6879170405939331,
          -0.5789676388980899,
          0.4834159267743571,
          0.7888288795843491,
          0.3323842082460313,
          -0.500455046491514,
          1.1349638922438667,
          0.0648394026874129,
          -1.8369173628695823,
          -1.364696374259146,
          -0.23163879310313643,
          0.44184120624887646,
          -0.008754529905923444,
          -0.8468384671871605,
          -1.7609159005214712,
          -0.8906016871681184,
          0.0014061404898391655,
          -0.8273110356202099,
          -1.4469547151441569,
          1.130716065259019,
          1.8385150812690811,
          1.4480020373494882,
          -0.7299993682456137,
          0.7084053880561713,
          -1.9574977231406003,
          1.3225294983535072,
          0.4604816538773025,
          0.5978851424936994,
          -0.029798002575205002,
          2.4444818990726014,
          0.23121109999846337,
          0.39411414563714564,
          1.424994271543353,
          -1.0108760588569032,
          -0.20433405466852314,
          -0.5930604286487997,
          -0.17345914350442432,
          -1.5383599521702267,
          1.9870464339271097,
          -0.9572961564127893,
          0.2736969217055384,
          -0.14260090164422665,
          0.5639127289263197,
          -1.2416397081029351,
          -1.0359339740593136,
          0.49857507285146657,
          -1.2100830662432491,
          1.0950061628189116,
          1.8846659520987912,
          -1.7878728745495034,
          0.28857746221554864,
          -1.4088943816655852,
          -1.2087136735183925,
          1.2778115772660252,
          1.6546599214910305,
          -0.7462906107026152,
          -0.9209903093715155,
          0.23517131057492602,
          -1.3162249191278517,
          0.8134368199054091,
          -0.0374560977698149,
          -0.9081747971850014,
          0.3002608454591211,
          -1.9056226453352814,
          0.4297281861337904,
          -0.5789872115675557,
          0.21575296332290184,
          1.5659208168241434,
          -0.5014118806704894,
          -0.36063540909619,
          -1.6235631621904136,
          0.20410868074437,
          -0.9931668727532835,
          0.24227106624572672,
          -1.4183421552714632,
          -2.4218648828227294,
          0.24063590836634863,
          -0.721590758122123,
          -0.29554997751728773,
          -0.723704077745416,
          -0.6669451077956237,
          -2.1012240102699056,
          -0.47528546735939825,
          0.9874550770448093,
          -1.0165171112904952,
          -0.6352140298009604
         ],
         "xaxis": "x",
         "yaxis": "y"
        },
        {
         "line": {
          "color": "rgba(128, 128, 128, 1.0)",
          "dash": "solid",
          "shape": "linear",
          "width": 1.3
         },
         "marker": {
          "size": 2,
          "symbol": "circle"
         },
         "mode": "markers",
         "name": "A",
         "text": "",
         "type": "scatter",
         "x": [
          0.005253742579835973,
          0.7716277501844138,
          -1.3400305920631033,
          0.8318700917157779,
          2.240199667702425,
          -0.22292209976958163,
          -0.21705185991763193,
          -0.7393949298922802,
          -0.3067156431895187,
          0.3828707180093922,
          2.1967246063897288,
          -0.02905384790058943,
          0.23135537214505922,
          -1.8585285444240034,
          1.5382087491369076,
          2.0203249946759017,
          -0.10883618494234559,
          0.5586990172547254,
          -0.5173941777182314,
          0.6493323533920731,
          0.5779378136248604,
          1.1086260382106041,
          0.04515298529579711,
          1.8669147038799583,
          -1.081982530900694,
          0.34588203934046,
          -0.6738517290892458,
          0.5307011208620993,
          -0.2890152225836287,
          -1.0968014185406156,
          0.0069997093709019825,
          1.0096161393672936,
          -0.11999388042626354,
          -0.9846719383735099,
          2.1550176489971897,
          -0.0862558055942889,
          -0.6472715416910069,
          2.638125871089636,
          1.1062598580697107,
          -0.17386800601023839,
          -2.035440917897416,
          -0.3238816966370988,
          -0.9241586801488743,
          0.28270061840290656,
          -1.2936177268615774,
          -1.653251938555071,
          0.16674799397119405,
          -0.2662948634241881,
          0.08036384060337945,
          1.0983462697803852,
          0.3509552047370613,
          -0.43682665169660967,
          -1.3827744606669374,
          0.4738958851556978,
          -1.1325269214747788,
          -0.648548134378684,
          -0.23004881722647422,
          1.868850040978546,
          -0.07655085017094414,
          -1.406890502921777,
          -1.065453004451698,
          0.5349288988151877,
          1.3773373978807573,
          0.5867444979295666,
          0.8620421567209805,
          0.02407766005255767,
          -0.24521601213683414,
          0.048430437282934974,
          -1.7974755498952042,
          -1.2740596900069847,
          0.1877725087100248,
          -0.4093879315825059,
          0.5824620905697605,
          -0.799413254250628,
          2.6027632503644575,
          -1.563154453440586,
          -0.9213031507408195,
          0.07979897204686634,
          -0.9906227712393095,
          0.7259471437511759,
          0.13646236887374574,
          -0.5901089050824726,
          0.4830250607805121,
          0.07045911603626373,
          -1.0395461897361091,
          0.159846520137536,
          1.0109455233378781,
          0.15754580369888657,
          -0.10428812849781907,
          0.8880653905779591,
          -0.2091950350731277,
          -1.5960364240674625,
          -0.7720547303970756,
          1.4142597808980752,
          0.253057761265195,
          2.096759738915302,
          -0.49800753714594564,
          2.205377221396586,
          0.7549940575074778,
          0.03171008771101023
         ],
         "xaxis": "x2",
         "y": [
          -0.4400399649717887,
          -0.3595613077728515,
          1.873406826294262,
          0.38969186783380566,
          -0.022267424723130477,
          0.43504747311291625,
          0.2554983804257713,
          -0.43489588798704,
          1.3426244457395577,
          -0.48428219422439583,
          1.2792534848487378,
          -0.33430267928447205,
          -0.05871625452323227,
          -1.4641294945567087,
          0.6879170405939331,
          -0.5789676388980899,
          0.4834159267743571,
          0.7888288795843491,
          0.3323842082460313,
          -0.500455046491514,
          1.1349638922438667,
          0.0648394026874129,
          -1.8369173628695823,
          -1.364696374259146,
          -0.23163879310313643,
          0.44184120624887646,
          -0.008754529905923444,
          -0.8468384671871605,
          -1.7609159005214712,
          -0.8906016871681184,
          0.0014061404898391655,
          -0.8273110356202099,
          -1.4469547151441569,
          1.130716065259019,
          1.8385150812690811,
          1.4480020373494882,
          -0.7299993682456137,
          0.7084053880561713,
          -1.9574977231406003,
          1.3225294983535072,
          0.4604816538773025,
          0.5978851424936994,
          -0.029798002575205002,
          2.4444818990726014,
          0.23121109999846337,
          0.39411414563714564,
          1.424994271543353,
          -1.0108760588569032,
          -0.20433405466852314,
          -0.5930604286487997,
          -0.17345914350442432,
          -1.5383599521702267,
          1.9870464339271097,
          -0.9572961564127893,
          0.2736969217055384,
          -0.14260090164422665,
          0.5639127289263197,
          -1.2416397081029351,
          -1.0359339740593136,
          0.49857507285146657,
          -1.2100830662432491,
          1.0950061628189116,
          1.8846659520987912,
          -1.7878728745495034,
          0.28857746221554864,
          -1.4088943816655852,
          -1.2087136735183925,
          1.2778115772660252,
          1.6546599214910305,
          -0.7462906107026152,
          -0.9209903093715155,
          0.23517131057492602,
          -1.3162249191278517,
          0.8134368199054091,
          -0.0374560977698149,
          -0.9081747971850014,
          0.3002608454591211,
          -1.9056226453352814,
          0.4297281861337904,
          -0.5789872115675557,
          0.21575296332290184,
          1.5659208168241434,
          -0.5014118806704894,
          -0.36063540909619,
          -1.6235631621904136,
          0.20410868074437,
          -0.9931668727532835,
          0.24227106624572672,
          -1.4183421552714632,
          -2.4218648828227294,
          0.24063590836634863,
          -0.721590758122123,
          -0.29554997751728773,
          -0.723704077745416,
          -0.6669451077956237,
          -2.1012240102699056,
          -0.47528546735939825,
          0.9874550770448093,
          -1.0165171112904952,
          -0.6352140298009604
         ],
         "yaxis": "y2"
        },
        {
         "line": {
          "color": "rgba(128, 128, 128, 1.0)",
          "dash": "solid",
          "shape": "linear",
          "width": 1.3
         },
         "marker": {
          "size": 2,
          "symbol": "circle"
         },
         "mode": "markers",
         "name": "A",
         "text": "",
         "type": "scatter",
         "x": [
          -0.059833531115340205,
          -1.1307586921024038,
          -1.5170991708405983,
          0.1160808301074496,
          -0.12443331309427426,
          1.2676305263539098,
          -1.6463008113069764,
          1.0704509382146838,
          -1.2047255156083325,
          -0.6037064891403543,
          -0.7475201631838689,
          -1.1744669027475887,
          0.48030262284316644,
          0.9098214135560966,
          -1.5993906133446323,
          0.4197640743888284,
          -0.2149301619105147,
          -0.17314106369777055,
          0.028213515702107568,
          -0.18534379249626168,
          0.3151620624222115,
          0.9543056213143404,
          1.5883852349755774,
          -0.12240271652122195,
          -0.5270291517043504,
          0.4864170800204461,
          0.8562578232246958,
          -1.6797894688423038,
          -0.9467473139214349,
          -0.7997157670107652,
          0.10001814984347672,
          1.7828893670975494,
          0.7031607462574542,
          0.010171140660643115,
          -0.40167286790753254,
          -0.022713288502423733,
          -1.2176710880508304,
          2.069515328450902,
          -0.4091616095882992,
          -0.0215929308246728,
          0.5974480325520253,
          -1.2983711082734464,
          -0.8769517606723604,
          0.43442891150441015,
          -0.6944095639989479,
          4.032736790835397,
          -0.5183645416258648,
          -0.35214783613094147,
          0.4283182689039598,
          -1.2825855564049675,
          2.042810376896394,
          0.8363617075024146,
          -0.24996803048593447,
          -0.7249052202412539,
          1.0659431873725955,
          0.11999074219720175,
          -2.6225097483783832,
          -0.9306985386490227,
          0.6149332485969911,
          -1.135900314950092,
          0.38599838131658937,
          -0.08306721638522246,
          1.6228039601371533,
          -0.07772711618525334,
          1.3298450092271772,
          -0.05050903008593878,
          1.8652974639279727,
          -0.2665584107205339,
          0.3849658987096003,
          -0.15359569461542186,
          1.8237622467376262,
          0.3661468059331742,
          -2.916564206650955,
          0.3972639089615204,
          0.008198659931431334,
          -1.5760208632854669,
          -0.8030979407843182,
          0.35268724922940176,
          -0.07195584029076904,
          0.6332523111960984,
          -0.053138329815598066,
          1.2350429498079165,
          0.5319503342878098,
          -1.6645778363543628,
          1.0582342841677217,
          0.13758399933343138,
          0.028425285203291552,
          0.6308990774792219,
          -0.44371572618825567,
          -0.03240748373035467,
          -0.6681543753003671,
          -0.11092583493554127,
          -1.3046806089449365,
          -1.0946605716276787,
          -1.0221848513838285,
          0.029419760269896504,
          0.7125106388215899,
          0.7110358381773751,
          0.2072281455770876,
          0.8858439582475902
         ],
         "xaxis": "x3",
         "y": [
          -0.4400399649717887,
          -0.3595613077728515,
          1.873406826294262,
          0.38969186783380566,
          -0.022267424723130477,
          0.43504747311291625,
          0.2554983804257713,
          -0.43489588798704,
          1.3426244457395577,
          -0.48428219422439583,
          1.2792534848487378,
          -0.33430267928447205,
          -0.05871625452323227,
          -1.4641294945567087,
          0.6879170405939331,
          -0.5789676388980899,
          0.4834159267743571,
          0.7888288795843491,
          0.3323842082460313,
          -0.500455046491514,
          1.1349638922438667,
          0.0648394026874129,
          -1.8369173628695823,
          -1.364696374259146,
          -0.23163879310313643,
          0.44184120624887646,
          -0.008754529905923444,
          -0.8468384671871605,
          -1.7609159005214712,
          -0.8906016871681184,
          0.0014061404898391655,
          -0.8273110356202099,
          -1.4469547151441569,
          1.130716065259019,
          1.8385150812690811,
          1.4480020373494882,
          -0.7299993682456137,
          0.7084053880561713,
          -1.9574977231406003,
          1.3225294983535072,
          0.4604816538773025,
          0.5978851424936994,
          -0.029798002575205002,
          2.4444818990726014,
          0.23121109999846337,
          0.39411414563714564,
          1.424994271543353,
          -1.0108760588569032,
          -0.20433405466852314,
          -0.5930604286487997,
          -0.17345914350442432,
          -1.5383599521702267,
          1.9870464339271097,
          -0.9572961564127893,
          0.2736969217055384,
          -0.14260090164422665,
          0.5639127289263197,
          -1.2416397081029351,
          -1.0359339740593136,
          0.49857507285146657,
          -1.2100830662432491,
          1.0950061628189116,
          1.8846659520987912,
          -1.7878728745495034,
          0.28857746221554864,
          -1.4088943816655852,
          -1.2087136735183925,
          1.2778115772660252,
          1.6546599214910305,
          -0.7462906107026152,
          -0.9209903093715155,
          0.23517131057492602,
          -1.3162249191278517,
          0.8134368199054091,
          -0.0374560977698149,
          -0.9081747971850014,
          0.3002608454591211,
          -1.9056226453352814,
          0.4297281861337904,
          -0.5789872115675557,
          0.21575296332290184,
          1.5659208168241434,
          -0.5014118806704894,
          -0.36063540909619,
          -1.6235631621904136,
          0.20410868074437,
          -0.9931668727532835,
          0.24227106624572672,
          -1.4183421552714632,
          -2.4218648828227294,
          0.24063590836634863,
          -0.721590758122123,
          -0.29554997751728773,
          -0.723704077745416,
          -0.6669451077956237,
          -2.1012240102699056,
          -0.47528546735939825,
          0.9874550770448093,
          -1.0165171112904952,
          -0.6352140298009604
         ],
         "yaxis": "y3"
        },
        {
         "line": {
          "color": "rgba(128, 128, 128, 1.0)",
          "dash": "solid",
          "shape": "linear",
          "width": 1.3
         },
         "marker": {
          "size": 2,
          "symbol": "circle"
         },
         "mode": "markers",
         "name": "A",
         "text": "",
         "type": "scatter",
         "x": [
          -0.048438637774105314,
          -0.7819332955743884,
          -0.3801495953586696,
          0.09272418733206131,
          0.7808245571391312,
          0.5292232251316453,
          0.7274627743044587,
          -0.39748388296073767,
          0.33351628234173764,
          1.4353874488035603,
          -0.6416122676165328,
          -0.21624374030643773,
          -0.18262892551164203,
          1.4320690617186551,
          0.7522520439339312,
          -0.22238280208314654,
          -0.0024148553404345257,
          -1.5499752000072256,
          -1.969076768612912,
          1.0340972198392024,
          0.580563689799276,
          1.4587509308564321,
          -0.7825285048922617,
          0.16942465775404666,
          0.6580084266340505,
          0.9721824509859225,
          -0.9114882246177496,
          0.4611795445753822,
          0.7117293714633903,
          1.0491048103930758,
          0.8913969800869878,
          0.8974951904504173,
          -1.8467424551374227,
          1.2907662114214729,
          -2.459928488972569,
          -0.7628256803186014,
          -1.1986338915846038,
          0.8409660087997013,
          0.39053277181916746,
          0.3537879516964365,
          -0.19827400142084714,
          2.45078684667432,
          0.39339632744919706,
          1.2959445775725915,
          1.55742033037734,
          0.15903677031659075,
          0.8301172205354383,
          0.07725869797638997,
          -0.8540182591131804,
          -0.4997019785406598,
          1.2306188176947799,
          1.0920997473503868,
          -1.4925144990722459,
          -0.637145097678531,
          0.6605694198821305,
          -0.2817495373297371,
          -0.8375067117343374,
          -0.49206741167074847,
          -0.7726679333091742,
          -0.25396873345375925,
          0.9369327122811331,
          0.11446557309415974,
          0.557350214273498,
          -1.9565685423533479,
          -1.5931447014695428,
          0.42898871597828225,
          -0.13836267817067688,
          0.1740860135897892,
          -0.8150969593659615,
          0.3098140820911925,
          1.5856448102666456,
          -2.1520243724874897,
          -1.7069881134059737,
          0.6700740038384747,
          -1.2851453720497432,
          0.6364030819540974,
          -0.6728078005632903,
          -0.541035384971853,
          0.48763875357064984,
          1.091767088668557,
          1.109686796001412,
          -0.8621987749294595,
          -0.6507530256151302,
          0.485891682406828,
          1.4384870607912152,
          -1.2671510033372553,
          1.4909740801643505,
          -0.8486207628250105,
          -0.32893116836800396,
          -0.06685992986459374,
          -0.038509021919391075,
          1.39546176696491,
          -0.15091955130675058,
          1.0986346044800837,
          0.025414523902503757,
          1.26850959258467,
          0.4458738876443096,
          0.9496227170696862,
          -0.561925735762768,
          -0.5181977558854044
         ],
         "xaxis": "x4",
         "y": [
          -0.4400399649717887,
          -0.3595613077728515,
          1.873406826294262,
          0.38969186783380566,
          -0.022267424723130477,
          0.43504747311291625,
          0.2554983804257713,
          -0.43489588798704,
          1.3426244457395577,
          -0.48428219422439583,
          1.2792534848487378,
          -0.33430267928447205,
          -0.05871625452323227,
          -1.4641294945567087,
          0.6879170405939331,
          -0.5789676388980899,
          0.4834159267743571,
          0.7888288795843491,
          0.3323842082460313,
          -0.500455046491514,
          1.1349638922438667,
          0.0648394026874129,
          -1.8369173628695823,
          -1.364696374259146,
          -0.23163879310313643,
          0.44184120624887646,
          -0.008754529905923444,
          -0.8468384671871605,
          -1.7609159005214712,
          -0.8906016871681184,
          0.0014061404898391655,
          -0.8273110356202099,
          -1.4469547151441569,
          1.130716065259019,
          1.8385150812690811,
          1.4480020373494882,
          -0.7299993682456137,
          0.7084053880561713,
          -1.9574977231406003,
          1.3225294983535072,
          0.4604816538773025,
          0.5978851424936994,
          -0.029798002575205002,
          2.4444818990726014,
          0.23121109999846337,
          0.39411414563714564,
          1.424994271543353,
          -1.0108760588569032,
          -0.20433405466852314,
          -0.5930604286487997,
          -0.17345914350442432,
          -1.5383599521702267,
          1.9870464339271097,
          -0.9572961564127893,
          0.2736969217055384,
          -0.14260090164422665,
          0.5639127289263197,
          -1.2416397081029351,
          -1.0359339740593136,
          0.49857507285146657,
          -1.2100830662432491,
          1.0950061628189116,
          1.8846659520987912,
          -1.7878728745495034,
          0.28857746221554864,
          -1.4088943816655852,
          -1.2087136735183925,
          1.2778115772660252,
          1.6546599214910305,
          -0.7462906107026152,
          -0.9209903093715155,
          0.23517131057492602,
          -1.3162249191278517,
          0.8134368199054091,
          -0.0374560977698149,
          -0.9081747971850014,
          0.3002608454591211,
          -1.9056226453352814,
          0.4297281861337904,
          -0.5789872115675557,
          0.21575296332290184,
          1.5659208168241434,
          -0.5014118806704894,
          -0.36063540909619,
          -1.6235631621904136,
          0.20410868074437,
          -0.9931668727532835,
          0.24227106624572672,
          -1.4183421552714632,
          -2.4218648828227294,
          0.24063590836634863,
          -0.721590758122123,
          -0.29554997751728773,
          -0.723704077745416,
          -0.6669451077956237,
          -2.1012240102699056,
          -0.47528546735939825,
          0.9874550770448093,
          -1.0165171112904952,
          -0.6352140298009604
         ],
         "yaxis": "y4"
        },
        {
         "line": {
          "color": "rgba(128, 128, 128, 1.0)",
          "dash": "solid",
          "shape": "linear",
          "width": 1.3
         },
         "marker": {
          "size": 2,
          "symbol": "circle"
         },
         "mode": "markers",
         "name": "B",
         "text": "",
         "type": "scatter",
         "x": [
          -0.4400399649717887,
          -0.3595613077728515,
          1.873406826294262,
          0.38969186783380566,
          -0.022267424723130477,
          0.43504747311291625,
          0.2554983804257713,
          -0.43489588798704,
          1.3426244457395577,
          -0.48428219422439583,
          1.2792534848487378,
          -0.33430267928447205,
          -0.05871625452323227,
          -1.4641294945567087,
          0.6879170405939331,
          -0.5789676388980899,
          0.4834159267743571,
          0.7888288795843491,
          0.3323842082460313,
          -0.500455046491514,
          1.1349638922438667,
          0.0648394026874129,
          -1.8369173628695823,
          -1.364696374259146,
          -0.23163879310313643,
          0.44184120624887646,
          -0.008754529905923444,
          -0.8468384671871605,
          -1.7609159005214712,
          -0.8906016871681184,
          0.0014061404898391655,
          -0.8273110356202099,
          -1.4469547151441569,
          1.130716065259019,
          1.8385150812690811,
          1.4480020373494882,
          -0.7299993682456137,
          0.7084053880561713,
          -1.9574977231406003,
          1.3225294983535072,
          0.4604816538773025,
          0.5978851424936994,
          -0.029798002575205002,
          2.4444818990726014,
          0.23121109999846337,
          0.39411414563714564,
          1.424994271543353,
          -1.0108760588569032,
          -0.20433405466852314,
          -0.5930604286487997,
          -0.17345914350442432,
          -1.5383599521702267,
          1.9870464339271097,
          -0.9572961564127893,
          0.2736969217055384,
          -0.14260090164422665,
          0.5639127289263197,
          -1.2416397081029351,
          -1.0359339740593136,
          0.49857507285146657,
          -1.2100830662432491,
          1.0950061628189116,
          1.8846659520987912,
          -1.7878728745495034,
          0.28857746221554864,
          -1.4088943816655852,
          -1.2087136735183925,
          1.2778115772660252,
          1.6546599214910305,
          -0.7462906107026152,
          -0.9209903093715155,
          0.23517131057492602,
          -1.3162249191278517,
          0.8134368199054091,
          -0.0374560977698149,
          -0.9081747971850014,
          0.3002608454591211,
          -1.9056226453352814,
          0.4297281861337904,
          -0.5789872115675557,
          0.21575296332290184,
          1.5659208168241434,
          -0.5014118806704894,
          -0.36063540909619,
          -1.6235631621904136,
          0.20410868074437,
          -0.9931668727532835,
          0.24227106624572672,
          -1.4183421552714632,
          -2.4218648828227294,
          0.24063590836634863,
          -0.721590758122123,
          -0.29554997751728773,
          -0.723704077745416,
          -0.6669451077956237,
          -2.1012240102699056,
          -0.47528546735939825,
          0.9874550770448093,
          -1.0165171112904952,
          -0.6352140298009604
         ],
         "xaxis": "x5",
         "y": [
          0.005253742579835973,
          0.7716277501844138,
          -1.3400305920631033,
          0.8318700917157779,
          2.240199667702425,
          -0.22292209976958163,
          -0.21705185991763193,
          -0.7393949298922802,
          -0.3067156431895187,
          0.3828707180093922,
          2.1967246063897288,
          -0.02905384790058943,
          0.23135537214505922,
          -1.8585285444240034,
          1.5382087491369076,
          2.0203249946759017,
          -0.10883618494234559,
          0.5586990172547254,
          -0.5173941777182314,
          0.6493323533920731,
          0.5779378136248604,
          1.1086260382106041,
          0.04515298529579711,
          1.8669147038799583,
          -1.081982530900694,
          0.34588203934046,
          -0.6738517290892458,
          0.5307011208620993,
          -0.2890152225836287,
          -1.0968014185406156,
          0.0069997093709019825,
          1.0096161393672936,
          -0.11999388042626354,
          -0.9846719383735099,
          2.1550176489971897,
          -0.0862558055942889,
          -0.6472715416910069,
          2.638125871089636,
          1.1062598580697107,
          -0.17386800601023839,
          -2.035440917897416,
          -0.3238816966370988,
          -0.9241586801488743,
          0.28270061840290656,
          -1.2936177268615774,
          -1.653251938555071,
          0.16674799397119405,
          -0.2662948634241881,
          0.08036384060337945,
          1.0983462697803852,
          0.3509552047370613,
          -0.43682665169660967,
          -1.3827744606669374,
          0.4738958851556978,
          -1.1325269214747788,
          -0.648548134378684,
          -0.23004881722647422,
          1.868850040978546,
          -0.07655085017094414,
          -1.406890502921777,
          -1.065453004451698,
          0.5349288988151877,
          1.3773373978807573,
          0.5867444979295666,
          0.8620421567209805,
          0.02407766005255767,
          -0.24521601213683414,
          0.048430437282934974,
          -1.7974755498952042,
          -1.2740596900069847,
          0.1877725087100248,
          -0.4093879315825059,
          0.5824620905697605,
          -0.799413254250628,
          2.6027632503644575,
          -1.563154453440586,
          -0.9213031507408195,
          0.07979897204686634,
          -0.9906227712393095,
          0.7259471437511759,
          0.13646236887374574,
          -0.5901089050824726,
          0.4830250607805121,
          0.07045911603626373,
          -1.0395461897361091,
          0.159846520137536,
          1.0109455233378781,
          0.15754580369888657,
          -0.10428812849781907,
          0.8880653905779591,
          -0.2091950350731277,
          -1.5960364240674625,
          -0.7720547303970756,
          1.4142597808980752,
          0.253057761265195,
          2.096759738915302,
          -0.49800753714594564,
          2.205377221396586,
          0.7549940575074778,
          0.03171008771101023
         ],
         "yaxis": "y5"
        },
        {
         "histfunc": "count",
         "histnorm": "",
         "marker": {
          "color": "rgba(55, 128, 191, 1.0)",
          "line": {
           "color": "#4D5663",
           "width": 1.3
          }
         },
         "name": "B",
         "nbinsx": 10,
         "opacity": 0.8,
         "orientation": "v",
         "type": "histogram",
         "x": [
          0.005253742579835973,
          0.7716277501844138,
          -1.3400305920631033,
          0.8318700917157779,
          2.240199667702425,
          -0.22292209976958163,
          -0.21705185991763193,
          -0.7393949298922802,
          -0.3067156431895187,
          0.3828707180093922,
          2.1967246063897288,
          -0.02905384790058943,
          0.23135537214505922,
          -1.8585285444240034,
          1.5382087491369076,
          2.0203249946759017,
          -0.10883618494234559,
          0.5586990172547254,
          -0.5173941777182314,
          0.6493323533920731,
          0.5779378136248604,
          1.1086260382106041,
          0.04515298529579711,
          1.8669147038799583,
          -1.081982530900694,
          0.34588203934046,
          -0.6738517290892458,
          0.5307011208620993,
          -0.2890152225836287,
          -1.0968014185406156,
          0.0069997093709019825,
          1.0096161393672936,
          -0.11999388042626354,
          -0.9846719383735099,
          2.1550176489971897,
          -0.0862558055942889,
          -0.6472715416910069,
          2.638125871089636,
          1.1062598580697107,
          -0.17386800601023839,
          -2.035440917897416,
          -0.3238816966370988,
          -0.9241586801488743,
          0.28270061840290656,
          -1.2936177268615774,
          -1.653251938555071,
          0.16674799397119405,
          -0.2662948634241881,
          0.08036384060337945,
          1.0983462697803852,
          0.3509552047370613,
          -0.43682665169660967,
          -1.3827744606669374,
          0.4738958851556978,
          -1.1325269214747788,
          -0.648548134378684,
          -0.23004881722647422,
          1.868850040978546,
          -0.07655085017094414,
          -1.406890502921777,
          -1.065453004451698,
          0.5349288988151877,
          1.3773373978807573,
          0.5867444979295666,
          0.8620421567209805,
          0.02407766005255767,
          -0.24521601213683414,
          0.048430437282934974,
          -1.7974755498952042,
          -1.2740596900069847,
          0.1877725087100248,
          -0.4093879315825059,
          0.5824620905697605,
          -0.799413254250628,
          2.6027632503644575,
          -1.563154453440586,
          -0.9213031507408195,
          0.07979897204686634,
          -0.9906227712393095,
          0.7259471437511759,
          0.13646236887374574,
          -0.5901089050824726,
          0.4830250607805121,
          0.07045911603626373,
          -1.0395461897361091,
          0.159846520137536,
          1.0109455233378781,
          0.15754580369888657,
          -0.10428812849781907,
          0.8880653905779591,
          -0.2091950350731277,
          -1.5960364240674625,
          -0.7720547303970756,
          1.4142597808980752,
          0.253057761265195,
          2.096759738915302,
          -0.49800753714594564,
          2.205377221396586,
          0.7549940575074778,
          0.03171008771101023
         ],
         "xaxis": "x6",
         "yaxis": "y6"
        },
        {
         "line": {
          "color": "rgba(128, 128, 128, 1.0)",
          "dash": "solid",
          "shape": "linear",
          "width": 1.3
         },
         "marker": {
          "size": 2,
          "symbol": "circle"
         },
         "mode": "markers",
         "name": "B",
         "text": "",
         "type": "scatter",
         "x": [
          -0.059833531115340205,
          -1.1307586921024038,
          -1.5170991708405983,
          0.1160808301074496,
          -0.12443331309427426,
          1.2676305263539098,
          -1.6463008113069764,
          1.0704509382146838,
          -1.2047255156083325,
          -0.6037064891403543,
          -0.7475201631838689,
          -1.1744669027475887,
          0.48030262284316644,
          0.9098214135560966,
          -1.5993906133446323,
          0.4197640743888284,
          -0.2149301619105147,
          -0.17314106369777055,
          0.028213515702107568,
          -0.18534379249626168,
          0.3151620624222115,
          0.9543056213143404,
          1.5883852349755774,
          -0.12240271652122195,
          -0.5270291517043504,
          0.4864170800204461,
          0.8562578232246958,
          -1.6797894688423038,
          -0.9467473139214349,
          -0.7997157670107652,
          0.10001814984347672,
          1.7828893670975494,
          0.7031607462574542,
          0.010171140660643115,
          -0.40167286790753254,
          -0.022713288502423733,
          -1.2176710880508304,
          2.069515328450902,
          -0.4091616095882992,
          -0.0215929308246728,
          0.5974480325520253,
          -1.2983711082734464,
          -0.8769517606723604,
          0.43442891150441015,
          -0.6944095639989479,
          4.032736790835397,
          -0.5183645416258648,
          -0.35214783613094147,
          0.4283182689039598,
          -1.2825855564049675,
          2.042810376896394,
          0.8363617075024146,
          -0.24996803048593447,
          -0.7249052202412539,
          1.0659431873725955,
          0.11999074219720175,
          -2.6225097483783832,
          -0.9306985386490227,
          0.6149332485969911,
          -1.135900314950092,
          0.38599838131658937,
          -0.08306721638522246,
          1.6228039601371533,
          -0.07772711618525334,
          1.3298450092271772,
          -0.05050903008593878,
          1.8652974639279727,
          -0.2665584107205339,
          0.3849658987096003,
          -0.15359569461542186,
          1.8237622467376262,
          0.3661468059331742,
          -2.916564206650955,
          0.3972639089615204,
          0.008198659931431334,
          -1.5760208632854669,
          -0.8030979407843182,
          0.35268724922940176,
          -0.07195584029076904,
          0.6332523111960984,
          -0.053138329815598066,
          1.2350429498079165,
          0.5319503342878098,
          -1.6645778363543628,
          1.0582342841677217,
          0.13758399933343138,
          0.028425285203291552,
          0.6308990774792219,
          -0.44371572618825567,
          -0.03240748373035467,
          -0.6681543753003671,
          -0.11092583493554127,
          -1.3046806089449365,
          -1.0946605716276787,
          -1.0221848513838285,
          0.029419760269896504,
          0.7125106388215899,
          0.7110358381773751,
          0.2072281455770876,
          0.8858439582475902
         ],
         "xaxis": "x7",
         "y": [
          0.005253742579835973,
          0.7716277501844138,
          -1.3400305920631033,
          0.8318700917157779,
          2.240199667702425,
          -0.22292209976958163,
          -0.21705185991763193,
          -0.7393949298922802,
          -0.3067156431895187,
          0.3828707180093922,
          2.1967246063897288,
          -0.02905384790058943,
          0.23135537214505922,
          -1.8585285444240034,
          1.5382087491369076,
          2.0203249946759017,
          -0.10883618494234559,
          0.5586990172547254,
          -0.5173941777182314,
          0.6493323533920731,
          0.5779378136248604,
          1.1086260382106041,
          0.04515298529579711,
          1.8669147038799583,
          -1.081982530900694,
          0.34588203934046,
          -0.6738517290892458,
          0.5307011208620993,
          -0.2890152225836287,
          -1.0968014185406156,
          0.0069997093709019825,
          1.0096161393672936,
          -0.11999388042626354,
          -0.9846719383735099,
          2.1550176489971897,
          -0.0862558055942889,
          -0.6472715416910069,
          2.638125871089636,
          1.1062598580697107,
          -0.17386800601023839,
          -2.035440917897416,
          -0.3238816966370988,
          -0.9241586801488743,
          0.28270061840290656,
          -1.2936177268615774,
          -1.653251938555071,
          0.16674799397119405,
          -0.2662948634241881,
          0.08036384060337945,
          1.0983462697803852,
          0.3509552047370613,
          -0.43682665169660967,
          -1.3827744606669374,
          0.4738958851556978,
          -1.1325269214747788,
          -0.648548134378684,
          -0.23004881722647422,
          1.868850040978546,
          -0.07655085017094414,
          -1.406890502921777,
          -1.065453004451698,
          0.5349288988151877,
          1.3773373978807573,
          0.5867444979295666,
          0.8620421567209805,
          0.02407766005255767,
          -0.24521601213683414,
          0.048430437282934974,
          -1.7974755498952042,
          -1.2740596900069847,
          0.1877725087100248,
          -0.4093879315825059,
          0.5824620905697605,
          -0.799413254250628,
          2.6027632503644575,
          -1.563154453440586,
          -0.9213031507408195,
          0.07979897204686634,
          -0.9906227712393095,
          0.7259471437511759,
          0.13646236887374574,
          -0.5901089050824726,
          0.4830250607805121,
          0.07045911603626373,
          -1.0395461897361091,
          0.159846520137536,
          1.0109455233378781,
          0.15754580369888657,
          -0.10428812849781907,
          0.8880653905779591,
          -0.2091950350731277,
          -1.5960364240674625,
          -0.7720547303970756,
          1.4142597808980752,
          0.253057761265195,
          2.096759738915302,
          -0.49800753714594564,
          2.205377221396586,
          0.7549940575074778,
          0.03171008771101023
         ],
         "yaxis": "y7"
        },
        {
         "line": {
          "color": "rgba(128, 128, 128, 1.0)",
          "dash": "solid",
          "shape": "linear",
          "width": 1.3
         },
         "marker": {
          "size": 2,
          "symbol": "circle"
         },
         "mode": "markers",
         "name": "B",
         "text": "",
         "type": "scatter",
         "x": [
          -0.048438637774105314,
          -0.7819332955743884,
          -0.3801495953586696,
          0.09272418733206131,
          0.7808245571391312,
          0.5292232251316453,
          0.7274627743044587,
          -0.39748388296073767,
          0.33351628234173764,
          1.4353874488035603,
          -0.6416122676165328,
          -0.21624374030643773,
          -0.18262892551164203,
          1.4320690617186551,
          0.7522520439339312,
          -0.22238280208314654,
          -0.0024148553404345257,
          -1.5499752000072256,
          -1.969076768612912,
          1.0340972198392024,
          0.580563689799276,
          1.4587509308564321,
          -0.7825285048922617,
          0.16942465775404666,
          0.6580084266340505,
          0.9721824509859225,
          -0.9114882246177496,
          0.4611795445753822,
          0.7117293714633903,
          1.0491048103930758,
          0.8913969800869878,
          0.8974951904504173,
          -1.8467424551374227,
          1.2907662114214729,
          -2.459928488972569,
          -0.7628256803186014,
          -1.1986338915846038,
          0.8409660087997013,
          0.39053277181916746,
          0.3537879516964365,
          -0.19827400142084714,
          2.45078684667432,
          0.39339632744919706,
          1.2959445775725915,
          1.55742033037734,
          0.15903677031659075,
          0.8301172205354383,
          0.07725869797638997,
          -0.8540182591131804,
          -0.4997019785406598,
          1.2306188176947799,
          1.0920997473503868,
          -1.4925144990722459,
          -0.637145097678531,
          0.6605694198821305,
          -0.2817495373297371,
          -0.8375067117343374,
          -0.49206741167074847,
          -0.7726679333091742,
          -0.25396873345375925,
          0.9369327122811331,
          0.11446557309415974,
          0.557350214273498,
          -1.9565685423533479,
          -1.5931447014695428,
          0.42898871597828225,
          -0.13836267817067688,
          0.1740860135897892,
          -0.8150969593659615,
          0.3098140820911925,
          1.5856448102666456,
          -2.1520243724874897,
          -1.7069881134059737,
          0.6700740038384747,
          -1.2851453720497432,
          0.6364030819540974,
          -0.6728078005632903,
          -0.541035384971853,
          0.48763875357064984,
          1.091767088668557,
          1.109686796001412,
          -0.8621987749294595,
          -0.6507530256151302,
          0.485891682406828,
          1.4384870607912152,
          -1.2671510033372553,
          1.4909740801643505,
          -0.8486207628250105,
          -0.32893116836800396,
          -0.06685992986459374,
          -0.038509021919391075,
          1.39546176696491,
          -0.15091955130675058,
          1.0986346044800837,
          0.025414523902503757,
          1.26850959258467,
          0.4458738876443096,
          0.9496227170696862,
          -0.561925735762768,
          -0.5181977558854044
         ],
         "xaxis": "x8",
         "y": [
          0.005253742579835973,
          0.7716277501844138,
          -1.3400305920631033,
          0.8318700917157779,
          2.240199667702425,
          -0.22292209976958163,
          -0.21705185991763193,
          -0.7393949298922802,
          -0.3067156431895187,
          0.3828707180093922,
          2.1967246063897288,
          -0.02905384790058943,
          0.23135537214505922,
          -1.8585285444240034,
          1.5382087491369076,
          2.0203249946759017,
          -0.10883618494234559,
          0.5586990172547254,
          -0.5173941777182314,
          0.6493323533920731,
          0.5779378136248604,
          1.1086260382106041,
          0.04515298529579711,
          1.8669147038799583,
          -1.081982530900694,
          0.34588203934046,
          -0.6738517290892458,
          0.5307011208620993,
          -0.2890152225836287,
          -1.0968014185406156,
          0.0069997093709019825,
          1.0096161393672936,
          -0.11999388042626354,
          -0.9846719383735099,
          2.1550176489971897,
          -0.0862558055942889,
          -0.6472715416910069,
          2.638125871089636,
          1.1062598580697107,
          -0.17386800601023839,
          -2.035440917897416,
          -0.3238816966370988,
          -0.9241586801488743,
          0.28270061840290656,
          -1.2936177268615774,
          -1.653251938555071,
          0.16674799397119405,
          -0.2662948634241881,
          0.08036384060337945,
          1.0983462697803852,
          0.3509552047370613,
          -0.43682665169660967,
          -1.3827744606669374,
          0.4738958851556978,
          -1.1325269214747788,
          -0.648548134378684,
          -0.23004881722647422,
          1.868850040978546,
          -0.07655085017094414,
          -1.406890502921777,
          -1.065453004451698,
          0.5349288988151877,
          1.3773373978807573,
          0.5867444979295666,
          0.8620421567209805,
          0.02407766005255767,
          -0.24521601213683414,
          0.048430437282934974,
          -1.7974755498952042,
          -1.2740596900069847,
          0.1877725087100248,
          -0.4093879315825059,
          0.5824620905697605,
          -0.799413254250628,
          2.6027632503644575,
          -1.563154453440586,
          -0.9213031507408195,
          0.07979897204686634,
          -0.9906227712393095,
          0.7259471437511759,
          0.13646236887374574,
          -0.5901089050824726,
          0.4830250607805121,
          0.07045911603626373,
          -1.0395461897361091,
          0.159846520137536,
          1.0109455233378781,
          0.15754580369888657,
          -0.10428812849781907,
          0.8880653905779591,
          -0.2091950350731277,
          -1.5960364240674625,
          -0.7720547303970756,
          1.4142597808980752,
          0.253057761265195,
          2.096759738915302,
          -0.49800753714594564,
          2.205377221396586,
          0.7549940575074778,
          0.03171008771101023
         ],
         "yaxis": "y8"
        },
        {
         "line": {
          "color": "rgba(128, 128, 128, 1.0)",
          "dash": "solid",
          "shape": "linear",
          "width": 1.3
         },
         "marker": {
          "size": 2,
          "symbol": "circle"
         },
         "mode": "markers",
         "name": "C",
         "text": "",
         "type": "scatter",
         "x": [
          -0.4400399649717887,
          -0.3595613077728515,
          1.873406826294262,
          0.38969186783380566,
          -0.022267424723130477,
          0.43504747311291625,
          0.2554983804257713,
          -0.43489588798704,
          1.3426244457395577,
          -0.48428219422439583,
          1.2792534848487378,
          -0.33430267928447205,
          -0.05871625452323227,
          -1.4641294945567087,
          0.6879170405939331,
          -0.5789676388980899,
          0.4834159267743571,
          0.7888288795843491,
          0.3323842082460313,
          -0.500455046491514,
          1.1349638922438667,
          0.0648394026874129,
          -1.8369173628695823,
          -1.364696374259146,
          -0.23163879310313643,
          0.44184120624887646,
          -0.008754529905923444,
          -0.8468384671871605,
          -1.7609159005214712,
          -0.8906016871681184,
          0.0014061404898391655,
          -0.8273110356202099,
          -1.4469547151441569,
          1.130716065259019,
          1.8385150812690811,
          1.4480020373494882,
          -0.7299993682456137,
          0.7084053880561713,
          -1.9574977231406003,
          1.3225294983535072,
          0.4604816538773025,
          0.5978851424936994,
          -0.029798002575205002,
          2.4444818990726014,
          0.23121109999846337,
          0.39411414563714564,
          1.424994271543353,
          -1.0108760588569032,
          -0.20433405466852314,
          -0.5930604286487997,
          -0.17345914350442432,
          -1.5383599521702267,
          1.9870464339271097,
          -0.9572961564127893,
          0.2736969217055384,
          -0.14260090164422665,
          0.5639127289263197,
          -1.2416397081029351,
          -1.0359339740593136,
          0.49857507285146657,
          -1.2100830662432491,
          1.0950061628189116,
          1.8846659520987912,
          -1.7878728745495034,
          0.28857746221554864,
          -1.4088943816655852,
          -1.2087136735183925,
          1.2778115772660252,
          1.6546599214910305,
          -0.7462906107026152,
          -0.9209903093715155,
          0.23517131057492602,
          -1.3162249191278517,
          0.8134368199054091,
          -0.0374560977698149,
          -0.9081747971850014,
          0.3002608454591211,
          -1.9056226453352814,
          0.4297281861337904,
          -0.5789872115675557,
          0.21575296332290184,
          1.5659208168241434,
          -0.5014118806704894,
          -0.36063540909619,
          -1.6235631621904136,
          0.20410868074437,
          -0.9931668727532835,
          0.24227106624572672,
          -1.4183421552714632,
          -2.4218648828227294,
          0.24063590836634863,
          -0.721590758122123,
          -0.29554997751728773,
          -0.723704077745416,
          -0.6669451077956237,
          -2.1012240102699056,
          -0.47528546735939825,
          0.9874550770448093,
          -1.0165171112904952,
          -0.6352140298009604
         ],
         "xaxis": "x9",
         "y": [
          -0.059833531115340205,
          -1.1307586921024038,
          -1.5170991708405983,
          0.1160808301074496,
          -0.12443331309427426,
          1.2676305263539098,
          -1.6463008113069764,
          1.0704509382146838,
          -1.2047255156083325,
          -0.6037064891403543,
          -0.7475201631838689,
          -1.1744669027475887,
          0.48030262284316644,
          0.9098214135560966,
          -1.5993906133446323,
          0.4197640743888284,
          -0.2149301619105147,
          -0.17314106369777055,
          0.028213515702107568,
          -0.18534379249626168,
          0.3151620624222115,
          0.9543056213143404,
          1.5883852349755774,
          -0.12240271652122195,
          -0.5270291517043504,
          0.4864170800204461,
          0.8562578232246958,
          -1.6797894688423038,
          -0.9467473139214349,
          -0.7997157670107652,
          0.10001814984347672,
          1.7828893670975494,
          0.7031607462574542,
          0.010171140660643115,
          -0.40167286790753254,
          -0.022713288502423733,
          -1.2176710880508304,
          2.069515328450902,
          -0.4091616095882992,
          -0.0215929308246728,
          0.5974480325520253,
          -1.2983711082734464,
          -0.8769517606723604,
          0.43442891150441015,
          -0.6944095639989479,
          4.032736790835397,
          -0.5183645416258648,
          -0.35214783613094147,
          0.4283182689039598,
          -1.2825855564049675,
          2.042810376896394,
          0.8363617075024146,
          -0.24996803048593447,
          -0.7249052202412539,
          1.0659431873725955,
          0.11999074219720175,
          -2.6225097483783832,
          -0.9306985386490227,
          0.6149332485969911,
          -1.135900314950092,
          0.38599838131658937,
          -0.08306721638522246,
          1.6228039601371533,
          -0.07772711618525334,
          1.3298450092271772,
          -0.05050903008593878,
          1.8652974639279727,
          -0.2665584107205339,
          0.3849658987096003,
          -0.15359569461542186,
          1.8237622467376262,
          0.3661468059331742,
          -2.916564206650955,
          0.3972639089615204,
          0.008198659931431334,
          -1.5760208632854669,
          -0.8030979407843182,
          0.35268724922940176,
          -0.07195584029076904,
          0.6332523111960984,
          -0.053138329815598066,
          1.2350429498079165,
          0.5319503342878098,
          -1.6645778363543628,
          1.0582342841677217,
          0.13758399933343138,
          0.028425285203291552,
          0.6308990774792219,
          -0.44371572618825567,
          -0.03240748373035467,
          -0.6681543753003671,
          -0.11092583493554127,
          -1.3046806089449365,
          -1.0946605716276787,
          -1.0221848513838285,
          0.029419760269896504,
          0.7125106388215899,
          0.7110358381773751,
          0.2072281455770876,
          0.8858439582475902
         ],
         "yaxis": "y9"
        },
        {
         "line": {
          "color": "rgba(128, 128, 128, 1.0)",
          "dash": "solid",
          "shape": "linear",
          "width": 1.3
         },
         "marker": {
          "size": 2,
          "symbol": "circle"
         },
         "mode": "markers",
         "name": "C",
         "text": "",
         "type": "scatter",
         "x": [
          0.005253742579835973,
          0.7716277501844138,
          -1.3400305920631033,
          0.8318700917157779,
          2.240199667702425,
          -0.22292209976958163,
          -0.21705185991763193,
          -0.7393949298922802,
          -0.3067156431895187,
          0.3828707180093922,
          2.1967246063897288,
          -0.02905384790058943,
          0.23135537214505922,
          -1.8585285444240034,
          1.5382087491369076,
          2.0203249946759017,
          -0.10883618494234559,
          0.5586990172547254,
          -0.5173941777182314,
          0.6493323533920731,
          0.5779378136248604,
          1.1086260382106041,
          0.04515298529579711,
          1.8669147038799583,
          -1.081982530900694,
          0.34588203934046,
          -0.6738517290892458,
          0.5307011208620993,
          -0.2890152225836287,
          -1.0968014185406156,
          0.0069997093709019825,
          1.0096161393672936,
          -0.11999388042626354,
          -0.9846719383735099,
          2.1550176489971897,
          -0.0862558055942889,
          -0.6472715416910069,
          2.638125871089636,
          1.1062598580697107,
          -0.17386800601023839,
          -2.035440917897416,
          -0.3238816966370988,
          -0.9241586801488743,
          0.28270061840290656,
          -1.2936177268615774,
          -1.653251938555071,
          0.16674799397119405,
          -0.2662948634241881,
          0.08036384060337945,
          1.0983462697803852,
          0.3509552047370613,
          -0.43682665169660967,
          -1.3827744606669374,
          0.4738958851556978,
          -1.1325269214747788,
          -0.648548134378684,
          -0.23004881722647422,
          1.868850040978546,
          -0.07655085017094414,
          -1.406890502921777,
          -1.065453004451698,
          0.5349288988151877,
          1.3773373978807573,
          0.5867444979295666,
          0.8620421567209805,
          0.02407766005255767,
          -0.24521601213683414,
          0.048430437282934974,
          -1.7974755498952042,
          -1.2740596900069847,
          0.1877725087100248,
          -0.4093879315825059,
          0.5824620905697605,
          -0.799413254250628,
          2.6027632503644575,
          -1.563154453440586,
          -0.9213031507408195,
          0.07979897204686634,
          -0.9906227712393095,
          0.7259471437511759,
          0.13646236887374574,
          -0.5901089050824726,
          0.4830250607805121,
          0.07045911603626373,
          -1.0395461897361091,
          0.159846520137536,
          1.0109455233378781,
          0.15754580369888657,
          -0.10428812849781907,
          0.8880653905779591,
          -0.2091950350731277,
          -1.5960364240674625,
          -0.7720547303970756,
          1.4142597808980752,
          0.253057761265195,
          2.096759738915302,
          -0.49800753714594564,
          2.205377221396586,
          0.7549940575074778,
          0.03171008771101023
         ],
         "xaxis": "x10",
         "y": [
          -0.059833531115340205,
          -1.1307586921024038,
          -1.5170991708405983,
          0.1160808301074496,
          -0.12443331309427426,
          1.2676305263539098,
          -1.6463008113069764,
          1.0704509382146838,
          -1.2047255156083325,
          -0.6037064891403543,
          -0.7475201631838689,
          -1.1744669027475887,
          0.48030262284316644,
          0.9098214135560966,
          -1.5993906133446323,
          0.4197640743888284,
          -0.2149301619105147,
          -0.17314106369777055,
          0.028213515702107568,
          -0.18534379249626168,
          0.3151620624222115,
          0.9543056213143404,
          1.5883852349755774,
          -0.12240271652122195,
          -0.5270291517043504,
          0.4864170800204461,
          0.8562578232246958,
          -1.6797894688423038,
          -0.9467473139214349,
          -0.7997157670107652,
          0.10001814984347672,
          1.7828893670975494,
          0.7031607462574542,
          0.010171140660643115,
          -0.40167286790753254,
          -0.022713288502423733,
          -1.2176710880508304,
          2.069515328450902,
          -0.4091616095882992,
          -0.0215929308246728,
          0.5974480325520253,
          -1.2983711082734464,
          -0.8769517606723604,
          0.43442891150441015,
          -0.6944095639989479,
          4.032736790835397,
          -0.5183645416258648,
          -0.35214783613094147,
          0.4283182689039598,
          -1.2825855564049675,
          2.042810376896394,
          0.8363617075024146,
          -0.24996803048593447,
          -0.7249052202412539,
          1.0659431873725955,
          0.11999074219720175,
          -2.6225097483783832,
          -0.9306985386490227,
          0.6149332485969911,
          -1.135900314950092,
          0.38599838131658937,
          -0.08306721638522246,
          1.6228039601371533,
          -0.07772711618525334,
          1.3298450092271772,
          -0.05050903008593878,
          1.8652974639279727,
          -0.2665584107205339,
          0.3849658987096003,
          -0.15359569461542186,
          1.8237622467376262,
          0.3661468059331742,
          -2.916564206650955,
          0.3972639089615204,
          0.008198659931431334,
          -1.5760208632854669,
          -0.8030979407843182,
          0.35268724922940176,
          -0.07195584029076904,
          0.6332523111960984,
          -0.053138329815598066,
          1.2350429498079165,
          0.5319503342878098,
          -1.6645778363543628,
          1.0582342841677217,
          0.13758399933343138,
          0.028425285203291552,
          0.6308990774792219,
          -0.44371572618825567,
          -0.03240748373035467,
          -0.6681543753003671,
          -0.11092583493554127,
          -1.3046806089449365,
          -1.0946605716276787,
          -1.0221848513838285,
          0.029419760269896504,
          0.7125106388215899,
          0.7110358381773751,
          0.2072281455770876,
          0.8858439582475902
         ],
         "yaxis": "y10"
        },
        {
         "histfunc": "count",
         "histnorm": "",
         "marker": {
          "color": "rgba(50, 171, 96, 1.0)",
          "line": {
           "color": "#4D5663",
           "width": 1.3
          }
         },
         "name": "C",
         "nbinsx": 10,
         "opacity": 0.8,
         "orientation": "v",
         "type": "histogram",
         "x": [
          -0.059833531115340205,
          -1.1307586921024038,
          -1.5170991708405983,
          0.1160808301074496,
          -0.12443331309427426,
          1.2676305263539098,
          -1.6463008113069764,
          1.0704509382146838,
          -1.2047255156083325,
          -0.6037064891403543,
          -0.7475201631838689,
          -1.1744669027475887,
          0.48030262284316644,
          0.9098214135560966,
          -1.5993906133446323,
          0.4197640743888284,
          -0.2149301619105147,
          -0.17314106369777055,
          0.028213515702107568,
          -0.18534379249626168,
          0.3151620624222115,
          0.9543056213143404,
          1.5883852349755774,
          -0.12240271652122195,
          -0.5270291517043504,
          0.4864170800204461,
          0.8562578232246958,
          -1.6797894688423038,
          -0.9467473139214349,
          -0.7997157670107652,
          0.10001814984347672,
          1.7828893670975494,
          0.7031607462574542,
          0.010171140660643115,
          -0.40167286790753254,
          -0.022713288502423733,
          -1.2176710880508304,
          2.069515328450902,
          -0.4091616095882992,
          -0.0215929308246728,
          0.5974480325520253,
          -1.2983711082734464,
          -0.8769517606723604,
          0.43442891150441015,
          -0.6944095639989479,
          4.032736790835397,
          -0.5183645416258648,
          -0.35214783613094147,
          0.4283182689039598,
          -1.2825855564049675,
          2.042810376896394,
          0.8363617075024146,
          -0.24996803048593447,
          -0.7249052202412539,
          1.0659431873725955,
          0.11999074219720175,
          -2.6225097483783832,
          -0.9306985386490227,
          0.6149332485969911,
          -1.135900314950092,
          0.38599838131658937,
          -0.08306721638522246,
          1.6228039601371533,
          -0.07772711618525334,
          1.3298450092271772,
          -0.05050903008593878,
          1.8652974639279727,
          -0.2665584107205339,
          0.3849658987096003,
          -0.15359569461542186,
          1.8237622467376262,
          0.3661468059331742,
          -2.916564206650955,
          0.3972639089615204,
          0.008198659931431334,
          -1.5760208632854669,
          -0.8030979407843182,
          0.35268724922940176,
          -0.07195584029076904,
          0.6332523111960984,
          -0.053138329815598066,
          1.2350429498079165,
          0.5319503342878098,
          -1.6645778363543628,
          1.0582342841677217,
          0.13758399933343138,
          0.028425285203291552,
          0.6308990774792219,
          -0.44371572618825567,
          -0.03240748373035467,
          -0.6681543753003671,
          -0.11092583493554127,
          -1.3046806089449365,
          -1.0946605716276787,
          -1.0221848513838285,
          0.029419760269896504,
          0.7125106388215899,
          0.7110358381773751,
          0.2072281455770876,
          0.8858439582475902
         ],
         "xaxis": "x11",
         "yaxis": "y11"
        },
        {
         "line": {
          "color": "rgba(128, 128, 128, 1.0)",
          "dash": "solid",
          "shape": "linear",
          "width": 1.3
         },
         "marker": {
          "size": 2,
          "symbol": "circle"
         },
         "mode": "markers",
         "name": "C",
         "text": "",
         "type": "scatter",
         "x": [
          -0.048438637774105314,
          -0.7819332955743884,
          -0.3801495953586696,
          0.09272418733206131,
          0.7808245571391312,
          0.5292232251316453,
          0.7274627743044587,
          -0.39748388296073767,
          0.33351628234173764,
          1.4353874488035603,
          -0.6416122676165328,
          -0.21624374030643773,
          -0.18262892551164203,
          1.4320690617186551,
          0.7522520439339312,
          -0.22238280208314654,
          -0.0024148553404345257,
          -1.5499752000072256,
          -1.969076768612912,
          1.0340972198392024,
          0.580563689799276,
          1.4587509308564321,
          -0.7825285048922617,
          0.16942465775404666,
          0.6580084266340505,
          0.9721824509859225,
          -0.9114882246177496,
          0.4611795445753822,
          0.7117293714633903,
          1.0491048103930758,
          0.8913969800869878,
          0.8974951904504173,
          -1.8467424551374227,
          1.2907662114214729,
          -2.459928488972569,
          -0.7628256803186014,
          -1.1986338915846038,
          0.8409660087997013,
          0.39053277181916746,
          0.3537879516964365,
          -0.19827400142084714,
          2.45078684667432,
          0.39339632744919706,
          1.2959445775725915,
          1.55742033037734,
          0.15903677031659075,
          0.8301172205354383,
          0.07725869797638997,
          -0.8540182591131804,
          -0.4997019785406598,
          1.2306188176947799,
          1.0920997473503868,
          -1.4925144990722459,
          -0.637145097678531,
          0.6605694198821305,
          -0.2817495373297371,
          -0.8375067117343374,
          -0.49206741167074847,
          -0.7726679333091742,
          -0.25396873345375925,
          0.9369327122811331,
          0.11446557309415974,
          0.557350214273498,
          -1.9565685423533479,
          -1.5931447014695428,
          0.42898871597828225,
          -0.13836267817067688,
          0.1740860135897892,
          -0.8150969593659615,
          0.3098140820911925,
          1.5856448102666456,
          -2.1520243724874897,
          -1.7069881134059737,
          0.6700740038384747,
          -1.2851453720497432,
          0.6364030819540974,
          -0.6728078005632903,
          -0.541035384971853,
          0.48763875357064984,
          1.091767088668557,
          1.109686796001412,
          -0.8621987749294595,
          -0.6507530256151302,
          0.485891682406828,
          1.4384870607912152,
          -1.2671510033372553,
          1.4909740801643505,
          -0.8486207628250105,
          -0.32893116836800396,
          -0.06685992986459374,
          -0.038509021919391075,
          1.39546176696491,
          -0.15091955130675058,
          1.0986346044800837,
          0.025414523902503757,
          1.26850959258467,
          0.4458738876443096,
          0.9496227170696862,
          -0.561925735762768,
          -0.5181977558854044
         ],
         "xaxis": "x12",
         "y": [
          -0.059833531115340205,
          -1.1307586921024038,
          -1.5170991708405983,
          0.1160808301074496,
          -0.12443331309427426,
          1.2676305263539098,
          -1.6463008113069764,
          1.0704509382146838,
          -1.2047255156083325,
          -0.6037064891403543,
          -0.7475201631838689,
          -1.1744669027475887,
          0.48030262284316644,
          0.9098214135560966,
          -1.5993906133446323,
          0.4197640743888284,
          -0.2149301619105147,
          -0.17314106369777055,
          0.028213515702107568,
          -0.18534379249626168,
          0.3151620624222115,
          0.9543056213143404,
          1.5883852349755774,
          -0.12240271652122195,
          -0.5270291517043504,
          0.4864170800204461,
          0.8562578232246958,
          -1.6797894688423038,
          -0.9467473139214349,
          -0.7997157670107652,
          0.10001814984347672,
          1.7828893670975494,
          0.7031607462574542,
          0.010171140660643115,
          -0.40167286790753254,
          -0.022713288502423733,
          -1.2176710880508304,
          2.069515328450902,
          -0.4091616095882992,
          -0.0215929308246728,
          0.5974480325520253,
          -1.2983711082734464,
          -0.8769517606723604,
          0.43442891150441015,
          -0.6944095639989479,
          4.032736790835397,
          -0.5183645416258648,
          -0.35214783613094147,
          0.4283182689039598,
          -1.2825855564049675,
          2.042810376896394,
          0.8363617075024146,
          -0.24996803048593447,
          -0.7249052202412539,
          1.0659431873725955,
          0.11999074219720175,
          -2.6225097483783832,
          -0.9306985386490227,
          0.6149332485969911,
          -1.135900314950092,
          0.38599838131658937,
          -0.08306721638522246,
          1.6228039601371533,
          -0.07772711618525334,
          1.3298450092271772,
          -0.05050903008593878,
          1.8652974639279727,
          -0.2665584107205339,
          0.3849658987096003,
          -0.15359569461542186,
          1.8237622467376262,
          0.3661468059331742,
          -2.916564206650955,
          0.3972639089615204,
          0.008198659931431334,
          -1.5760208632854669,
          -0.8030979407843182,
          0.35268724922940176,
          -0.07195584029076904,
          0.6332523111960984,
          -0.053138329815598066,
          1.2350429498079165,
          0.5319503342878098,
          -1.6645778363543628,
          1.0582342841677217,
          0.13758399933343138,
          0.028425285203291552,
          0.6308990774792219,
          -0.44371572618825567,
          -0.03240748373035467,
          -0.6681543753003671,
          -0.11092583493554127,
          -1.3046806089449365,
          -1.0946605716276787,
          -1.0221848513838285,
          0.029419760269896504,
          0.7125106388215899,
          0.7110358381773751,
          0.2072281455770876,
          0.8858439582475902
         ],
         "yaxis": "y12"
        },
        {
         "line": {
          "color": "rgba(128, 128, 128, 1.0)",
          "dash": "solid",
          "shape": "linear",
          "width": 1.3
         },
         "marker": {
          "size": 2,
          "symbol": "circle"
         },
         "mode": "markers",
         "name": "D",
         "text": "",
         "type": "scatter",
         "x": [
          -0.4400399649717887,
          -0.3595613077728515,
          1.873406826294262,
          0.38969186783380566,
          -0.022267424723130477,
          0.43504747311291625,
          0.2554983804257713,
          -0.43489588798704,
          1.3426244457395577,
          -0.48428219422439583,
          1.2792534848487378,
          -0.33430267928447205,
          -0.05871625452323227,
          -1.4641294945567087,
          0.6879170405939331,
          -0.5789676388980899,
          0.4834159267743571,
          0.7888288795843491,
          0.3323842082460313,
          -0.500455046491514,
          1.1349638922438667,
          0.0648394026874129,
          -1.8369173628695823,
          -1.364696374259146,
          -0.23163879310313643,
          0.44184120624887646,
          -0.008754529905923444,
          -0.8468384671871605,
          -1.7609159005214712,
          -0.8906016871681184,
          0.0014061404898391655,
          -0.8273110356202099,
          -1.4469547151441569,
          1.130716065259019,
          1.8385150812690811,
          1.4480020373494882,
          -0.7299993682456137,
          0.7084053880561713,
          -1.9574977231406003,
          1.3225294983535072,
          0.4604816538773025,
          0.5978851424936994,
          -0.029798002575205002,
          2.4444818990726014,
          0.23121109999846337,
          0.39411414563714564,
          1.424994271543353,
          -1.0108760588569032,
          -0.20433405466852314,
          -0.5930604286487997,
          -0.17345914350442432,
          -1.5383599521702267,
          1.9870464339271097,
          -0.9572961564127893,
          0.2736969217055384,
          -0.14260090164422665,
          0.5639127289263197,
          -1.2416397081029351,
          -1.0359339740593136,
          0.49857507285146657,
          -1.2100830662432491,
          1.0950061628189116,
          1.8846659520987912,
          -1.7878728745495034,
          0.28857746221554864,
          -1.4088943816655852,
          -1.2087136735183925,
          1.2778115772660252,
          1.6546599214910305,
          -0.7462906107026152,
          -0.9209903093715155,
          0.23517131057492602,
          -1.3162249191278517,
          0.8134368199054091,
          -0.0374560977698149,
          -0.9081747971850014,
          0.3002608454591211,
          -1.9056226453352814,
          0.4297281861337904,
          -0.5789872115675557,
          0.21575296332290184,
          1.5659208168241434,
          -0.5014118806704894,
          -0.36063540909619,
          -1.6235631621904136,
          0.20410868074437,
          -0.9931668727532835,
          0.24227106624572672,
          -1.4183421552714632,
          -2.4218648828227294,
          0.24063590836634863,
          -0.721590758122123,
          -0.29554997751728773,
          -0.723704077745416,
          -0.6669451077956237,
          -2.1012240102699056,
          -0.47528546735939825,
          0.9874550770448093,
          -1.0165171112904952,
          -0.6352140298009604
         ],
         "xaxis": "x13",
         "y": [
          -0.048438637774105314,
          -0.7819332955743884,
          -0.3801495953586696,
          0.09272418733206131,
          0.7808245571391312,
          0.5292232251316453,
          0.7274627743044587,
          -0.39748388296073767,
          0.33351628234173764,
          1.4353874488035603,
          -0.6416122676165328,
          -0.21624374030643773,
          -0.18262892551164203,
          1.4320690617186551,
          0.7522520439339312,
          -0.22238280208314654,
          -0.0024148553404345257,
          -1.5499752000072256,
          -1.969076768612912,
          1.0340972198392024,
          0.580563689799276,
          1.4587509308564321,
          -0.7825285048922617,
          0.16942465775404666,
          0.6580084266340505,
          0.9721824509859225,
          -0.9114882246177496,
          0.4611795445753822,
          0.7117293714633903,
          1.0491048103930758,
          0.8913969800869878,
          0.8974951904504173,
          -1.8467424551374227,
          1.2907662114214729,
          -2.459928488972569,
          -0.7628256803186014,
          -1.1986338915846038,
          0.8409660087997013,
          0.39053277181916746,
          0.3537879516964365,
          -0.19827400142084714,
          2.45078684667432,
          0.39339632744919706,
          1.2959445775725915,
          1.55742033037734,
          0.15903677031659075,
          0.8301172205354383,
          0.07725869797638997,
          -0.8540182591131804,
          -0.4997019785406598,
          1.2306188176947799,
          1.0920997473503868,
          -1.4925144990722459,
          -0.637145097678531,
          0.6605694198821305,
          -0.2817495373297371,
          -0.8375067117343374,
          -0.49206741167074847,
          -0.7726679333091742,
          -0.25396873345375925,
          0.9369327122811331,
          0.11446557309415974,
          0.557350214273498,
          -1.9565685423533479,
          -1.5931447014695428,
          0.42898871597828225,
          -0.13836267817067688,
          0.1740860135897892,
          -0.8150969593659615,
          0.3098140820911925,
          1.5856448102666456,
          -2.1520243724874897,
          -1.7069881134059737,
          0.6700740038384747,
          -1.2851453720497432,
          0.6364030819540974,
          -0.6728078005632903,
          -0.541035384971853,
          0.48763875357064984,
          1.091767088668557,
          1.109686796001412,
          -0.8621987749294595,
          -0.6507530256151302,
          0.485891682406828,
          1.4384870607912152,
          -1.2671510033372553,
          1.4909740801643505,
          -0.8486207628250105,
          -0.32893116836800396,
          -0.06685992986459374,
          -0.038509021919391075,
          1.39546176696491,
          -0.15091955130675058,
          1.0986346044800837,
          0.025414523902503757,
          1.26850959258467,
          0.4458738876443096,
          0.9496227170696862,
          -0.561925735762768,
          -0.5181977558854044
         ],
         "yaxis": "y13"
        },
        {
         "line": {
          "color": "rgba(128, 128, 128, 1.0)",
          "dash": "solid",
          "shape": "linear",
          "width": 1.3
         },
         "marker": {
          "size": 2,
          "symbol": "circle"
         },
         "mode": "markers",
         "name": "D",
         "text": "",
         "type": "scatter",
         "x": [
          0.005253742579835973,
          0.7716277501844138,
          -1.3400305920631033,
          0.8318700917157779,
          2.240199667702425,
          -0.22292209976958163,
          -0.21705185991763193,
          -0.7393949298922802,
          -0.3067156431895187,
          0.3828707180093922,
          2.1967246063897288,
          -0.02905384790058943,
          0.23135537214505922,
          -1.8585285444240034,
          1.5382087491369076,
          2.0203249946759017,
          -0.10883618494234559,
          0.5586990172547254,
          -0.5173941777182314,
          0.6493323533920731,
          0.5779378136248604,
          1.1086260382106041,
          0.04515298529579711,
          1.8669147038799583,
          -1.081982530900694,
          0.34588203934046,
          -0.6738517290892458,
          0.5307011208620993,
          -0.2890152225836287,
          -1.0968014185406156,
          0.0069997093709019825,
          1.0096161393672936,
          -0.11999388042626354,
          -0.9846719383735099,
          2.1550176489971897,
          -0.0862558055942889,
          -0.6472715416910069,
          2.638125871089636,
          1.1062598580697107,
          -0.17386800601023839,
          -2.035440917897416,
          -0.3238816966370988,
          -0.9241586801488743,
          0.28270061840290656,
          -1.2936177268615774,
          -1.653251938555071,
          0.16674799397119405,
          -0.2662948634241881,
          0.08036384060337945,
          1.0983462697803852,
          0.3509552047370613,
          -0.43682665169660967,
          -1.3827744606669374,
          0.4738958851556978,
          -1.1325269214747788,
          -0.648548134378684,
          -0.23004881722647422,
          1.868850040978546,
          -0.07655085017094414,
          -1.406890502921777,
          -1.065453004451698,
          0.5349288988151877,
          1.3773373978807573,
          0.5867444979295666,
          0.8620421567209805,
          0.02407766005255767,
          -0.24521601213683414,
          0.048430437282934974,
          -1.7974755498952042,
          -1.2740596900069847,
          0.1877725087100248,
          -0.4093879315825059,
          0.5824620905697605,
          -0.799413254250628,
          2.6027632503644575,
          -1.563154453440586,
          -0.9213031507408195,
          0.07979897204686634,
          -0.9906227712393095,
          0.7259471437511759,
          0.13646236887374574,
          -0.5901089050824726,
          0.4830250607805121,
          0.07045911603626373,
          -1.0395461897361091,
          0.159846520137536,
          1.0109455233378781,
          0.15754580369888657,
          -0.10428812849781907,
          0.8880653905779591,
          -0.2091950350731277,
          -1.5960364240674625,
          -0.7720547303970756,
          1.4142597808980752,
          0.253057761265195,
          2.096759738915302,
          -0.49800753714594564,
          2.205377221396586,
          0.7549940575074778,
          0.03171008771101023
         ],
         "xaxis": "x14",
         "y": [
          -0.048438637774105314,
          -0.7819332955743884,
          -0.3801495953586696,
          0.09272418733206131,
          0.7808245571391312,
          0.5292232251316453,
          0.7274627743044587,
          -0.39748388296073767,
          0.33351628234173764,
          1.4353874488035603,
          -0.6416122676165328,
          -0.21624374030643773,
          -0.18262892551164203,
          1.4320690617186551,
          0.7522520439339312,
          -0.22238280208314654,
          -0.0024148553404345257,
          -1.5499752000072256,
          -1.969076768612912,
          1.0340972198392024,
          0.580563689799276,
          1.4587509308564321,
          -0.7825285048922617,
          0.16942465775404666,
          0.6580084266340505,
          0.9721824509859225,
          -0.9114882246177496,
          0.4611795445753822,
          0.7117293714633903,
          1.0491048103930758,
          0.8913969800869878,
          0.8974951904504173,
          -1.8467424551374227,
          1.2907662114214729,
          -2.459928488972569,
          -0.7628256803186014,
          -1.1986338915846038,
          0.8409660087997013,
          0.39053277181916746,
          0.3537879516964365,
          -0.19827400142084714,
          2.45078684667432,
          0.39339632744919706,
          1.2959445775725915,
          1.55742033037734,
          0.15903677031659075,
          0.8301172205354383,
          0.07725869797638997,
          -0.8540182591131804,
          -0.4997019785406598,
          1.2306188176947799,
          1.0920997473503868,
          -1.4925144990722459,
          -0.637145097678531,
          0.6605694198821305,
          -0.2817495373297371,
          -0.8375067117343374,
          -0.49206741167074847,
          -0.7726679333091742,
          -0.25396873345375925,
          0.9369327122811331,
          0.11446557309415974,
          0.557350214273498,
          -1.9565685423533479,
          -1.5931447014695428,
          0.42898871597828225,
          -0.13836267817067688,
          0.1740860135897892,
          -0.8150969593659615,
          0.3098140820911925,
          1.5856448102666456,
          -2.1520243724874897,
          -1.7069881134059737,
          0.6700740038384747,
          -1.2851453720497432,
          0.6364030819540974,
          -0.6728078005632903,
          -0.541035384971853,
          0.48763875357064984,
          1.091767088668557,
          1.109686796001412,
          -0.8621987749294595,
          -0.6507530256151302,
          0.485891682406828,
          1.4384870607912152,
          -1.2671510033372553,
          1.4909740801643505,
          -0.8486207628250105,
          -0.32893116836800396,
          -0.06685992986459374,
          -0.038509021919391075,
          1.39546176696491,
          -0.15091955130675058,
          1.0986346044800837,
          0.025414523902503757,
          1.26850959258467,
          0.4458738876443096,
          0.9496227170696862,
          -0.561925735762768,
          -0.5181977558854044
         ],
         "yaxis": "y14"
        },
        {
         "line": {
          "color": "rgba(128, 128, 128, 1.0)",
          "dash": "solid",
          "shape": "linear",
          "width": 1.3
         },
         "marker": {
          "size": 2,
          "symbol": "circle"
         },
         "mode": "markers",
         "name": "D",
         "text": "",
         "type": "scatter",
         "x": [
          -0.059833531115340205,
          -1.1307586921024038,
          -1.5170991708405983,
          0.1160808301074496,
          -0.12443331309427426,
          1.2676305263539098,
          -1.6463008113069764,
          1.0704509382146838,
          -1.2047255156083325,
          -0.6037064891403543,
          -0.7475201631838689,
          -1.1744669027475887,
          0.48030262284316644,
          0.9098214135560966,
          -1.5993906133446323,
          0.4197640743888284,
          -0.2149301619105147,
          -0.17314106369777055,
          0.028213515702107568,
          -0.18534379249626168,
          0.3151620624222115,
          0.9543056213143404,
          1.5883852349755774,
          -0.12240271652122195,
          -0.5270291517043504,
          0.4864170800204461,
          0.8562578232246958,
          -1.6797894688423038,
          -0.9467473139214349,
          -0.7997157670107652,
          0.10001814984347672,
          1.7828893670975494,
          0.7031607462574542,
          0.010171140660643115,
          -0.40167286790753254,
          -0.022713288502423733,
          -1.2176710880508304,
          2.069515328450902,
          -0.4091616095882992,
          -0.0215929308246728,
          0.5974480325520253,
          -1.2983711082734464,
          -0.8769517606723604,
          0.43442891150441015,
          -0.6944095639989479,
          4.032736790835397,
          -0.5183645416258648,
          -0.35214783613094147,
          0.4283182689039598,
          -1.2825855564049675,
          2.042810376896394,
          0.8363617075024146,
          -0.24996803048593447,
          -0.7249052202412539,
          1.0659431873725955,
          0.11999074219720175,
          -2.6225097483783832,
          -0.9306985386490227,
          0.6149332485969911,
          -1.135900314950092,
          0.38599838131658937,
          -0.08306721638522246,
          1.6228039601371533,
          -0.07772711618525334,
          1.3298450092271772,
          -0.05050903008593878,
          1.8652974639279727,
          -0.2665584107205339,
          0.3849658987096003,
          -0.15359569461542186,
          1.8237622467376262,
          0.3661468059331742,
          -2.916564206650955,
          0.3972639089615204,
          0.008198659931431334,
          -1.5760208632854669,
          -0.8030979407843182,
          0.35268724922940176,
          -0.07195584029076904,
          0.6332523111960984,
          -0.053138329815598066,
          1.2350429498079165,
          0.5319503342878098,
          -1.6645778363543628,
          1.0582342841677217,
          0.13758399933343138,
          0.028425285203291552,
          0.6308990774792219,
          -0.44371572618825567,
          -0.03240748373035467,
          -0.6681543753003671,
          -0.11092583493554127,
          -1.3046806089449365,
          -1.0946605716276787,
          -1.0221848513838285,
          0.029419760269896504,
          0.7125106388215899,
          0.7110358381773751,
          0.2072281455770876,
          0.8858439582475902
         ],
         "xaxis": "x15",
         "y": [
          -0.048438637774105314,
          -0.7819332955743884,
          -0.3801495953586696,
          0.09272418733206131,
          0.7808245571391312,
          0.5292232251316453,
          0.7274627743044587,
          -0.39748388296073767,
          0.33351628234173764,
          1.4353874488035603,
          -0.6416122676165328,
          -0.21624374030643773,
          -0.18262892551164203,
          1.4320690617186551,
          0.7522520439339312,
          -0.22238280208314654,
          -0.0024148553404345257,
          -1.5499752000072256,
          -1.969076768612912,
          1.0340972198392024,
          0.580563689799276,
          1.4587509308564321,
          -0.7825285048922617,
          0.16942465775404666,
          0.6580084266340505,
          0.9721824509859225,
          -0.9114882246177496,
          0.4611795445753822,
          0.7117293714633903,
          1.0491048103930758,
          0.8913969800869878,
          0.8974951904504173,
          -1.8467424551374227,
          1.2907662114214729,
          -2.459928488972569,
          -0.7628256803186014,
          -1.1986338915846038,
          0.8409660087997013,
          0.39053277181916746,
          0.3537879516964365,
          -0.19827400142084714,
          2.45078684667432,
          0.39339632744919706,
          1.2959445775725915,
          1.55742033037734,
          0.15903677031659075,
          0.8301172205354383,
          0.07725869797638997,
          -0.8540182591131804,
          -0.4997019785406598,
          1.2306188176947799,
          1.0920997473503868,
          -1.4925144990722459,
          -0.637145097678531,
          0.6605694198821305,
          -0.2817495373297371,
          -0.8375067117343374,
          -0.49206741167074847,
          -0.7726679333091742,
          -0.25396873345375925,
          0.9369327122811331,
          0.11446557309415974,
          0.557350214273498,
          -1.9565685423533479,
          -1.5931447014695428,
          0.42898871597828225,
          -0.13836267817067688,
          0.1740860135897892,
          -0.8150969593659615,
          0.3098140820911925,
          1.5856448102666456,
          -2.1520243724874897,
          -1.7069881134059737,
          0.6700740038384747,
          -1.2851453720497432,
          0.6364030819540974,
          -0.6728078005632903,
          -0.541035384971853,
          0.48763875357064984,
          1.091767088668557,
          1.109686796001412,
          -0.8621987749294595,
          -0.6507530256151302,
          0.485891682406828,
          1.4384870607912152,
          -1.2671510033372553,
          1.4909740801643505,
          -0.8486207628250105,
          -0.32893116836800396,
          -0.06685992986459374,
          -0.038509021919391075,
          1.39546176696491,
          -0.15091955130675058,
          1.0986346044800837,
          0.025414523902503757,
          1.26850959258467,
          0.4458738876443096,
          0.9496227170696862,
          -0.561925735762768,
          -0.5181977558854044
         ],
         "yaxis": "y15"
        },
        {
         "histfunc": "count",
         "histnorm": "",
         "marker": {
          "color": "rgba(128, 0, 128, 1.0)",
          "line": {
           "color": "#4D5663",
           "width": 1.3
          }
         },
         "name": "D",
         "nbinsx": 10,
         "opacity": 0.8,
         "orientation": "v",
         "type": "histogram",
         "x": [
          -0.048438637774105314,
          -0.7819332955743884,
          -0.3801495953586696,
          0.09272418733206131,
          0.7808245571391312,
          0.5292232251316453,
          0.7274627743044587,
          -0.39748388296073767,
          0.33351628234173764,
          1.4353874488035603,
          -0.6416122676165328,
          -0.21624374030643773,
          -0.18262892551164203,
          1.4320690617186551,
          0.7522520439339312,
          -0.22238280208314654,
          -0.0024148553404345257,
          -1.5499752000072256,
          -1.969076768612912,
          1.0340972198392024,
          0.580563689799276,
          1.4587509308564321,
          -0.7825285048922617,
          0.16942465775404666,
          0.6580084266340505,
          0.9721824509859225,
          -0.9114882246177496,
          0.4611795445753822,
          0.7117293714633903,
          1.0491048103930758,
          0.8913969800869878,
          0.8974951904504173,
          -1.8467424551374227,
          1.2907662114214729,
          -2.459928488972569,
          -0.7628256803186014,
          -1.1986338915846038,
          0.8409660087997013,
          0.39053277181916746,
          0.3537879516964365,
          -0.19827400142084714,
          2.45078684667432,
          0.39339632744919706,
          1.2959445775725915,
          1.55742033037734,
          0.15903677031659075,
          0.8301172205354383,
          0.07725869797638997,
          -0.8540182591131804,
          -0.4997019785406598,
          1.2306188176947799,
          1.0920997473503868,
          -1.4925144990722459,
          -0.637145097678531,
          0.6605694198821305,
          -0.2817495373297371,
          -0.8375067117343374,
          -0.49206741167074847,
          -0.7726679333091742,
          -0.25396873345375925,
          0.9369327122811331,
          0.11446557309415974,
          0.557350214273498,
          -1.9565685423533479,
          -1.5931447014695428,
          0.42898871597828225,
          -0.13836267817067688,
          0.1740860135897892,
          -0.8150969593659615,
          0.3098140820911925,
          1.5856448102666456,
          -2.1520243724874897,
          -1.7069881134059737,
          0.6700740038384747,
          -1.2851453720497432,
          0.6364030819540974,
          -0.6728078005632903,
          -0.541035384971853,
          0.48763875357064984,
          1.091767088668557,
          1.109686796001412,
          -0.8621987749294595,
          -0.6507530256151302,
          0.485891682406828,
          1.4384870607912152,
          -1.2671510033372553,
          1.4909740801643505,
          -0.8486207628250105,
          -0.32893116836800396,
          -0.06685992986459374,
          -0.038509021919391075,
          1.39546176696491,
          -0.15091955130675058,
          1.0986346044800837,
          0.025414523902503757,
          1.26850959258467,
          0.4458738876443096,
          0.9496227170696862,
          -0.561925735762768,
          -0.5181977558854044
         ],
         "xaxis": "x16",
         "yaxis": "y16"
        }
       ],
       "layout": {
        "bargap": 0.02,
        "legend": {
         "bgcolor": "#F5F6F9",
         "font": {
          "color": "#4D5663"
         }
        },
        "paper_bgcolor": "#F5F6F9",
        "plot_bgcolor": "#F5F6F9",
        "showlegend": false,
        "template": {
         "data": {
          "bar": [
           {
            "error_x": {
             "color": "#2a3f5f"
            },
            "error_y": {
             "color": "#2a3f5f"
            },
            "marker": {
             "line": {
              "color": "#E5ECF6",
              "width": 0.5
             }
            },
            "type": "bar"
           }
          ],
          "barpolar": [
           {
            "marker": {
             "line": {
              "color": "#E5ECF6",
              "width": 0.5
             }
            },
            "type": "barpolar"
           }
          ],
          "carpet": [
           {
            "aaxis": {
             "endlinecolor": "#2a3f5f",
             "gridcolor": "white",
             "linecolor": "white",
             "minorgridcolor": "white",
             "startlinecolor": "#2a3f5f"
            },
            "baxis": {
             "endlinecolor": "#2a3f5f",
             "gridcolor": "white",
             "linecolor": "white",
             "minorgridcolor": "white",
             "startlinecolor": "#2a3f5f"
            },
            "type": "carpet"
           }
          ],
          "choropleth": [
           {
            "colorbar": {
             "outlinewidth": 0,
             "ticks": ""
            },
            "type": "choropleth"
           }
          ],
          "contour": [
           {
            "colorbar": {
             "outlinewidth": 0,
             "ticks": ""
            },
            "colorscale": [
             [
              0,
              "#0d0887"
             ],
             [
              0.1111111111111111,
              "#46039f"
             ],
             [
              0.2222222222222222,
              "#7201a8"
             ],
             [
              0.3333333333333333,
              "#9c179e"
             ],
             [
              0.4444444444444444,
              "#bd3786"
             ],
             [
              0.5555555555555556,
              "#d8576b"
             ],
             [
              0.6666666666666666,
              "#ed7953"
             ],
             [
              0.7777777777777778,
              "#fb9f3a"
             ],
             [
              0.8888888888888888,
              "#fdca26"
             ],
             [
              1,
              "#f0f921"
             ]
            ],
            "type": "contour"
           }
          ],
          "contourcarpet": [
           {
            "colorbar": {
             "outlinewidth": 0,
             "ticks": ""
            },
            "type": "contourcarpet"
           }
          ],
          "heatmap": [
           {
            "colorbar": {
             "outlinewidth": 0,
             "ticks": ""
            },
            "colorscale": [
             [
              0,
              "#0d0887"
             ],
             [
              0.1111111111111111,
              "#46039f"
             ],
             [
              0.2222222222222222,
              "#7201a8"
             ],
             [
              0.3333333333333333,
              "#9c179e"
             ],
             [
              0.4444444444444444,
              "#bd3786"
             ],
             [
              0.5555555555555556,
              "#d8576b"
             ],
             [
              0.6666666666666666,
              "#ed7953"
             ],
             [
              0.7777777777777778,
              "#fb9f3a"
             ],
             [
              0.8888888888888888,
              "#fdca26"
             ],
             [
              1,
              "#f0f921"
             ]
            ],
            "type": "heatmap"
           }
          ],
          "heatmapgl": [
           {
            "colorbar": {
             "outlinewidth": 0,
             "ticks": ""
            },
            "colorscale": [
             [
              0,
              "#0d0887"
             ],
             [
              0.1111111111111111,
              "#46039f"
             ],
             [
              0.2222222222222222,
              "#7201a8"
             ],
             [
              0.3333333333333333,
              "#9c179e"
             ],
             [
              0.4444444444444444,
              "#bd3786"
             ],
             [
              0.5555555555555556,
              "#d8576b"
             ],
             [
              0.6666666666666666,
              "#ed7953"
             ],
             [
              0.7777777777777778,
              "#fb9f3a"
             ],
             [
              0.8888888888888888,
              "#fdca26"
             ],
             [
              1,
              "#f0f921"
             ]
            ],
            "type": "heatmapgl"
           }
          ],
          "histogram": [
           {
            "marker": {
             "colorbar": {
              "outlinewidth": 0,
              "ticks": ""
             }
            },
            "type": "histogram"
           }
          ],
          "histogram2d": [
           {
            "colorbar": {
             "outlinewidth": 0,
             "ticks": ""
            },
            "colorscale": [
             [
              0,
              "#0d0887"
             ],
             [
              0.1111111111111111,
              "#46039f"
             ],
             [
              0.2222222222222222,
              "#7201a8"
             ],
             [
              0.3333333333333333,
              "#9c179e"
             ],
             [
              0.4444444444444444,
              "#bd3786"
             ],
             [
              0.5555555555555556,
              "#d8576b"
             ],
             [
              0.6666666666666666,
              "#ed7953"
             ],
             [
              0.7777777777777778,
              "#fb9f3a"
             ],
             [
              0.8888888888888888,
              "#fdca26"
             ],
             [
              1,
              "#f0f921"
             ]
            ],
            "type": "histogram2d"
           }
          ],
          "histogram2dcontour": [
           {
            "colorbar": {
             "outlinewidth": 0,
             "ticks": ""
            },
            "colorscale": [
             [
              0,
              "#0d0887"
             ],
             [
              0.1111111111111111,
              "#46039f"
             ],
             [
              0.2222222222222222,
              "#7201a8"
             ],
             [
              0.3333333333333333,
              "#9c179e"
             ],
             [
              0.4444444444444444,
              "#bd3786"
             ],
             [
              0.5555555555555556,
              "#d8576b"
             ],
             [
              0.6666666666666666,
              "#ed7953"
             ],
             [
              0.7777777777777778,
              "#fb9f3a"
             ],
             [
              0.8888888888888888,
              "#fdca26"
             ],
             [
              1,
              "#f0f921"
             ]
            ],
            "type": "histogram2dcontour"
           }
          ],
          "mesh3d": [
           {
            "colorbar": {
             "outlinewidth": 0,
             "ticks": ""
            },
            "type": "mesh3d"
           }
          ],
          "parcoords": [
           {
            "line": {
             "colorbar": {
              "outlinewidth": 0,
              "ticks": ""
             }
            },
            "type": "parcoords"
           }
          ],
          "pie": [
           {
            "automargin": true,
            "type": "pie"
           }
          ],
          "scatter": [
           {
            "marker": {
             "colorbar": {
              "outlinewidth": 0,
              "ticks": ""
             }
            },
            "type": "scatter"
           }
          ],
          "scatter3d": [
           {
            "line": {
             "colorbar": {
              "outlinewidth": 0,
              "ticks": ""
             }
            },
            "marker": {
             "colorbar": {
              "outlinewidth": 0,
              "ticks": ""
             }
            },
            "type": "scatter3d"
           }
          ],
          "scattercarpet": [
           {
            "marker": {
             "colorbar": {
              "outlinewidth": 0,
              "ticks": ""
             }
            },
            "type": "scattercarpet"
           }
          ],
          "scattergeo": [
           {
            "marker": {
             "colorbar": {
              "outlinewidth": 0,
              "ticks": ""
             }
            },
            "type": "scattergeo"
           }
          ],
          "scattergl": [
           {
            "marker": {
             "colorbar": {
              "outlinewidth": 0,
              "ticks": ""
             }
            },
            "type": "scattergl"
           }
          ],
          "scattermapbox": [
           {
            "marker": {
             "colorbar": {
              "outlinewidth": 0,
              "ticks": ""
             }
            },
            "type": "scattermapbox"
           }
          ],
          "scatterpolar": [
           {
            "marker": {
             "colorbar": {
              "outlinewidth": 0,
              "ticks": ""
             }
            },
            "type": "scatterpolar"
           }
          ],
          "scatterpolargl": [
           {
            "marker": {
             "colorbar": {
              "outlinewidth": 0,
              "ticks": ""
             }
            },
            "type": "scatterpolargl"
           }
          ],
          "scatterternary": [
           {
            "marker": {
             "colorbar": {
              "outlinewidth": 0,
              "ticks": ""
             }
            },
            "type": "scatterternary"
           }
          ],
          "surface": [
           {
            "colorbar": {
             "outlinewidth": 0,
             "ticks": ""
            },
            "colorscale": [
             [
              0,
              "#0d0887"
             ],
             [
              0.1111111111111111,
              "#46039f"
             ],
             [
              0.2222222222222222,
              "#7201a8"
             ],
             [
              0.3333333333333333,
              "#9c179e"
             ],
             [
              0.4444444444444444,
              "#bd3786"
             ],
             [
              0.5555555555555556,
              "#d8576b"
             ],
             [
              0.6666666666666666,
              "#ed7953"
             ],
             [
              0.7777777777777778,
              "#fb9f3a"
             ],
             [
              0.8888888888888888,
              "#fdca26"
             ],
             [
              1,
              "#f0f921"
             ]
            ],
            "type": "surface"
           }
          ],
          "table": [
           {
            "cells": {
             "fill": {
              "color": "#EBF0F8"
             },
             "line": {
              "color": "white"
             }
            },
            "header": {
             "fill": {
              "color": "#C8D4E3"
             },
             "line": {
              "color": "white"
             }
            },
            "type": "table"
           }
          ]
         },
         "layout": {
          "annotationdefaults": {
           "arrowcolor": "#2a3f5f",
           "arrowhead": 0,
           "arrowwidth": 1
          },
          "coloraxis": {
           "colorbar": {
            "outlinewidth": 0,
            "ticks": ""
           }
          },
          "colorscale": {
           "diverging": [
            [
             0,
             "#8e0152"
            ],
            [
             0.1,
             "#c51b7d"
            ],
            [
             0.2,
             "#de77ae"
            ],
            [
             0.3,
             "#f1b6da"
            ],
            [
             0.4,
             "#fde0ef"
            ],
            [
             0.5,
             "#f7f7f7"
            ],
            [
             0.6,
             "#e6f5d0"
            ],
            [
             0.7,
             "#b8e186"
            ],
            [
             0.8,
             "#7fbc41"
            ],
            [
             0.9,
             "#4d9221"
            ],
            [
             1,
             "#276419"
            ]
           ],
           "sequential": [
            [
             0,
             "#0d0887"
            ],
            [
             0.1111111111111111,
             "#46039f"
            ],
            [
             0.2222222222222222,
             "#7201a8"
            ],
            [
             0.3333333333333333,
             "#9c179e"
            ],
            [
             0.4444444444444444,
             "#bd3786"
            ],
            [
             0.5555555555555556,
             "#d8576b"
            ],
            [
             0.6666666666666666,
             "#ed7953"
            ],
            [
             0.7777777777777778,
             "#fb9f3a"
            ],
            [
             0.8888888888888888,
             "#fdca26"
            ],
            [
             1,
             "#f0f921"
            ]
           ],
           "sequentialminus": [
            [
             0,
             "#0d0887"
            ],
            [
             0.1111111111111111,
             "#46039f"
            ],
            [
             0.2222222222222222,
             "#7201a8"
            ],
            [
             0.3333333333333333,
             "#9c179e"
            ],
            [
             0.4444444444444444,
             "#bd3786"
            ],
            [
             0.5555555555555556,
             "#d8576b"
            ],
            [
             0.6666666666666666,
             "#ed7953"
            ],
            [
             0.7777777777777778,
             "#fb9f3a"
            ],
            [
             0.8888888888888888,
             "#fdca26"
            ],
            [
             1,
             "#f0f921"
            ]
           ]
          },
          "colorway": [
           "#636efa",
           "#EF553B",
           "#00cc96",
           "#ab63fa",
           "#FFA15A",
           "#19d3f3",
           "#FF6692",
           "#B6E880",
           "#FF97FF",
           "#FECB52"
          ],
          "font": {
           "color": "#2a3f5f"
          },
          "geo": {
           "bgcolor": "white",
           "lakecolor": "white",
           "landcolor": "#E5ECF6",
           "showlakes": true,
           "showland": true,
           "subunitcolor": "white"
          },
          "hoverlabel": {
           "align": "left"
          },
          "hovermode": "closest",
          "mapbox": {
           "style": "light"
          },
          "paper_bgcolor": "white",
          "plot_bgcolor": "#E5ECF6",
          "polar": {
           "angularaxis": {
            "gridcolor": "white",
            "linecolor": "white",
            "ticks": ""
           },
           "bgcolor": "#E5ECF6",
           "radialaxis": {
            "gridcolor": "white",
            "linecolor": "white",
            "ticks": ""
           }
          },
          "scene": {
           "xaxis": {
            "backgroundcolor": "#E5ECF6",
            "gridcolor": "white",
            "gridwidth": 2,
            "linecolor": "white",
            "showbackground": true,
            "ticks": "",
            "zerolinecolor": "white"
           },
           "yaxis": {
            "backgroundcolor": "#E5ECF6",
            "gridcolor": "white",
            "gridwidth": 2,
            "linecolor": "white",
            "showbackground": true,
            "ticks": "",
            "zerolinecolor": "white"
           },
           "zaxis": {
            "backgroundcolor": "#E5ECF6",
            "gridcolor": "white",
            "gridwidth": 2,
            "linecolor": "white",
            "showbackground": true,
            "ticks": "",
            "zerolinecolor": "white"
           }
          },
          "shapedefaults": {
           "line": {
            "color": "#2a3f5f"
           }
          },
          "ternary": {
           "aaxis": {
            "gridcolor": "white",
            "linecolor": "white",
            "ticks": ""
           },
           "baxis": {
            "gridcolor": "white",
            "linecolor": "white",
            "ticks": ""
           },
           "bgcolor": "#E5ECF6",
           "caxis": {
            "gridcolor": "white",
            "linecolor": "white",
            "ticks": ""
           }
          },
          "title": {
           "x": 0.05
          },
          "xaxis": {
           "automargin": true,
           "gridcolor": "white",
           "linecolor": "white",
           "ticks": "",
           "title": {
            "standoff": 15
           },
           "zerolinecolor": "white",
           "zerolinewidth": 2
          },
          "yaxis": {
           "automargin": true,
           "gridcolor": "white",
           "linecolor": "white",
           "ticks": "",
           "title": {
            "standoff": 15
           },
           "zerolinecolor": "white",
           "zerolinewidth": 2
          }
         }
        },
        "title": {
         "font": {
          "color": "#4D5663"
         }
        },
        "xaxis": {
         "anchor": "y",
         "domain": [
          0,
          0.2125
         ],
         "gridcolor": "#E1E5ED",
         "showgrid": false,
         "tickfont": {
          "color": "#4D5663"
         },
         "title": {
          "font": {
           "color": "#4D5663"
          },
          "text": ""
         },
         "zerolinecolor": "#E1E5ED"
        },
        "xaxis10": {
         "anchor": "y10",
         "domain": [
          0.2625,
          0.475
         ],
         "gridcolor": "#E1E5ED",
         "showgrid": false,
         "tickfont": {
          "color": "#4D5663"
         },
         "title": {
          "font": {
           "color": "#4D5663"
          },
          "text": ""
         },
         "zerolinecolor": "#E1E5ED"
        },
        "xaxis11": {
         "anchor": "y11",
         "domain": [
          0.525,
          0.7375
         ],
         "gridcolor": "#E1E5ED",
         "showgrid": false,
         "tickfont": {
          "color": "#4D5663"
         },
         "title": {
          "font": {
           "color": "#4D5663"
          },
          "text": ""
         },
         "zerolinecolor": "#E1E5ED"
        },
        "xaxis12": {
         "anchor": "y12",
         "domain": [
          0.7875,
          1
         ],
         "gridcolor": "#E1E5ED",
         "showgrid": false,
         "tickfont": {
          "color": "#4D5663"
         },
         "title": {
          "font": {
           "color": "#4D5663"
          },
          "text": ""
         },
         "zerolinecolor": "#E1E5ED"
        },
        "xaxis13": {
         "anchor": "y13",
         "domain": [
          0,
          0.2125
         ],
         "gridcolor": "#E1E5ED",
         "showgrid": false,
         "tickfont": {
          "color": "#4D5663"
         },
         "title": {
          "font": {
           "color": "#4D5663"
          },
          "text": ""
         },
         "zerolinecolor": "#E1E5ED"
        },
        "xaxis14": {
         "anchor": "y14",
         "domain": [
          0.2625,
          0.475
         ],
         "gridcolor": "#E1E5ED",
         "showgrid": false,
         "tickfont": {
          "color": "#4D5663"
         },
         "title": {
          "font": {
           "color": "#4D5663"
          },
          "text": ""
         },
         "zerolinecolor": "#E1E5ED"
        },
        "xaxis15": {
         "anchor": "y15",
         "domain": [
          0.525,
          0.7375
         ],
         "gridcolor": "#E1E5ED",
         "showgrid": false,
         "tickfont": {
          "color": "#4D5663"
         },
         "title": {
          "font": {
           "color": "#4D5663"
          },
          "text": ""
         },
         "zerolinecolor": "#E1E5ED"
        },
        "xaxis16": {
         "anchor": "y16",
         "domain": [
          0.7875,
          1
         ],
         "gridcolor": "#E1E5ED",
         "showgrid": false,
         "tickfont": {
          "color": "#4D5663"
         },
         "title": {
          "font": {
           "color": "#4D5663"
          },
          "text": ""
         },
         "zerolinecolor": "#E1E5ED"
        },
        "xaxis2": {
         "anchor": "y2",
         "domain": [
          0.2625,
          0.475
         ],
         "gridcolor": "#E1E5ED",
         "showgrid": false,
         "tickfont": {
          "color": "#4D5663"
         },
         "title": {
          "font": {
           "color": "#4D5663"
          },
          "text": ""
         },
         "zerolinecolor": "#E1E5ED"
        },
        "xaxis3": {
         "anchor": "y3",
         "domain": [
          0.525,
          0.7375
         ],
         "gridcolor": "#E1E5ED",
         "showgrid": false,
         "tickfont": {
          "color": "#4D5663"
         },
         "title": {
          "font": {
           "color": "#4D5663"
          },
          "text": ""
         },
         "zerolinecolor": "#E1E5ED"
        },
        "xaxis4": {
         "anchor": "y4",
         "domain": [
          0.7875,
          1
         ],
         "gridcolor": "#E1E5ED",
         "showgrid": false,
         "tickfont": {
          "color": "#4D5663"
         },
         "title": {
          "font": {
           "color": "#4D5663"
          },
          "text": ""
         },
         "zerolinecolor": "#E1E5ED"
        },
        "xaxis5": {
         "anchor": "y5",
         "domain": [
          0,
          0.2125
         ],
         "gridcolor": "#E1E5ED",
         "showgrid": false,
         "tickfont": {
          "color": "#4D5663"
         },
         "title": {
          "font": {
           "color": "#4D5663"
          },
          "text": ""
         },
         "zerolinecolor": "#E1E5ED"
        },
        "xaxis6": {
         "anchor": "y6",
         "domain": [
          0.2625,
          0.475
         ],
         "gridcolor": "#E1E5ED",
         "showgrid": false,
         "tickfont": {
          "color": "#4D5663"
         },
         "title": {
          "font": {
           "color": "#4D5663"
          },
          "text": ""
         },
         "zerolinecolor": "#E1E5ED"
        },
        "xaxis7": {
         "anchor": "y7",
         "domain": [
          0.525,
          0.7375
         ],
         "gridcolor": "#E1E5ED",
         "showgrid": false,
         "tickfont": {
          "color": "#4D5663"
         },
         "title": {
          "font": {
           "color": "#4D5663"
          },
          "text": ""
         },
         "zerolinecolor": "#E1E5ED"
        },
        "xaxis8": {
         "anchor": "y8",
         "domain": [
          0.7875,
          1
         ],
         "gridcolor": "#E1E5ED",
         "showgrid": false,
         "tickfont": {
          "color": "#4D5663"
         },
         "title": {
          "font": {
           "color": "#4D5663"
          },
          "text": ""
         },
         "zerolinecolor": "#E1E5ED"
        },
        "xaxis9": {
         "anchor": "y9",
         "domain": [
          0,
          0.2125
         ],
         "gridcolor": "#E1E5ED",
         "showgrid": false,
         "tickfont": {
          "color": "#4D5663"
         },
         "title": {
          "font": {
           "color": "#4D5663"
          },
          "text": ""
         },
         "zerolinecolor": "#E1E5ED"
        },
        "yaxis": {
         "anchor": "x",
         "domain": [
          0.8025,
          1
         ],
         "gridcolor": "#E1E5ED",
         "showgrid": false,
         "tickfont": {
          "color": "#4D5663"
         },
         "title": {
          "font": {
           "color": "#4D5663"
          },
          "text": ""
         },
         "zerolinecolor": "#E1E5ED"
        },
        "yaxis10": {
         "anchor": "x10",
         "domain": [
          0.2675,
          0.465
         ],
         "gridcolor": "#E1E5ED",
         "showgrid": false,
         "tickfont": {
          "color": "#4D5663"
         },
         "title": {
          "font": {
           "color": "#4D5663"
          },
          "text": ""
         },
         "zerolinecolor": "#E1E5ED"
        },
        "yaxis11": {
         "anchor": "x11",
         "domain": [
          0.2675,
          0.465
         ],
         "gridcolor": "#E1E5ED",
         "showgrid": false,
         "tickfont": {
          "color": "#4D5663"
         },
         "title": {
          "font": {
           "color": "#4D5663"
          },
          "text": ""
         },
         "zerolinecolor": "#E1E5ED"
        },
        "yaxis12": {
         "anchor": "x12",
         "domain": [
          0.2675,
          0.465
         ],
         "gridcolor": "#E1E5ED",
         "showgrid": false,
         "tickfont": {
          "color": "#4D5663"
         },
         "title": {
          "font": {
           "color": "#4D5663"
          },
          "text": ""
         },
         "zerolinecolor": "#E1E5ED"
        },
        "yaxis13": {
         "anchor": "x13",
         "domain": [
          0,
          0.1975
         ],
         "gridcolor": "#E1E5ED",
         "showgrid": false,
         "tickfont": {
          "color": "#4D5663"
         },
         "title": {
          "font": {
           "color": "#4D5663"
          },
          "text": ""
         },
         "zerolinecolor": "#E1E5ED"
        },
        "yaxis14": {
         "anchor": "x14",
         "domain": [
          0,
          0.1975
         ],
         "gridcolor": "#E1E5ED",
         "showgrid": false,
         "tickfont": {
          "color": "#4D5663"
         },
         "title": {
          "font": {
           "color": "#4D5663"
          },
          "text": ""
         },
         "zerolinecolor": "#E1E5ED"
        },
        "yaxis15": {
         "anchor": "x15",
         "domain": [
          0,
          0.1975
         ],
         "gridcolor": "#E1E5ED",
         "showgrid": false,
         "tickfont": {
          "color": "#4D5663"
         },
         "title": {
          "font": {
           "color": "#4D5663"
          },
          "text": ""
         },
         "zerolinecolor": "#E1E5ED"
        },
        "yaxis16": {
         "anchor": "x16",
         "domain": [
          0,
          0.1975
         ],
         "gridcolor": "#E1E5ED",
         "showgrid": false,
         "tickfont": {
          "color": "#4D5663"
         },
         "title": {
          "font": {
           "color": "#4D5663"
          },
          "text": ""
         },
         "zerolinecolor": "#E1E5ED"
        },
        "yaxis2": {
         "anchor": "x2",
         "domain": [
          0.8025,
          1
         ],
         "gridcolor": "#E1E5ED",
         "showgrid": false,
         "tickfont": {
          "color": "#4D5663"
         },
         "title": {
          "font": {
           "color": "#4D5663"
          },
          "text": ""
         },
         "zerolinecolor": "#E1E5ED"
        },
        "yaxis3": {
         "anchor": "x3",
         "domain": [
          0.8025,
          1
         ],
         "gridcolor": "#E1E5ED",
         "showgrid": false,
         "tickfont": {
          "color": "#4D5663"
         },
         "title": {
          "font": {
           "color": "#4D5663"
          },
          "text": ""
         },
         "zerolinecolor": "#E1E5ED"
        },
        "yaxis4": {
         "anchor": "x4",
         "domain": [
          0.8025,
          1
         ],
         "gridcolor": "#E1E5ED",
         "showgrid": false,
         "tickfont": {
          "color": "#4D5663"
         },
         "title": {
          "font": {
           "color": "#4D5663"
          },
          "text": ""
         },
         "zerolinecolor": "#E1E5ED"
        },
        "yaxis5": {
         "anchor": "x5",
         "domain": [
          0.535,
          0.7325
         ],
         "gridcolor": "#E1E5ED",
         "showgrid": false,
         "tickfont": {
          "color": "#4D5663"
         },
         "title": {
          "font": {
           "color": "#4D5663"
          },
          "text": ""
         },
         "zerolinecolor": "#E1E5ED"
        },
        "yaxis6": {
         "anchor": "x6",
         "domain": [
          0.535,
          0.7325
         ],
         "gridcolor": "#E1E5ED",
         "showgrid": false,
         "tickfont": {
          "color": "#4D5663"
         },
         "title": {
          "font": {
           "color": "#4D5663"
          },
          "text": ""
         },
         "zerolinecolor": "#E1E5ED"
        },
        "yaxis7": {
         "anchor": "x7",
         "domain": [
          0.535,
          0.7325
         ],
         "gridcolor": "#E1E5ED",
         "showgrid": false,
         "tickfont": {
          "color": "#4D5663"
         },
         "title": {
          "font": {
           "color": "#4D5663"
          },
          "text": ""
         },
         "zerolinecolor": "#E1E5ED"
        },
        "yaxis8": {
         "anchor": "x8",
         "domain": [
          0.535,
          0.7325
         ],
         "gridcolor": "#E1E5ED",
         "showgrid": false,
         "tickfont": {
          "color": "#4D5663"
         },
         "title": {
          "font": {
           "color": "#4D5663"
          },
          "text": ""
         },
         "zerolinecolor": "#E1E5ED"
        },
        "yaxis9": {
         "anchor": "x9",
         "domain": [
          0.2675,
          0.465
         ],
         "gridcolor": "#E1E5ED",
         "showgrid": false,
         "tickfont": {
          "color": "#4D5663"
         },
         "title": {
          "font": {
           "color": "#4D5663"
          },
          "text": ""
         },
         "zerolinecolor": "#E1E5ED"
        }
       }
      },
      "text/html": [
       "<div>\n",
       "        \n",
       "        \n",
       "            <div id=\"1306d8cf-f855-4629-9629-082bc3c5f23c\" class=\"plotly-graph-div\" style=\"height:525px; width:100%;\"></div>\n",
       "            <script type=\"text/javascript\">\n",
       "                require([\"plotly\"], function(Plotly) {\n",
       "                    window.PLOTLYENV=window.PLOTLYENV || {};\n",
       "                    window.PLOTLYENV.BASE_URL='https://plot.ly';\n",
       "                    \n",
       "                if (document.getElementById(\"1306d8cf-f855-4629-9629-082bc3c5f23c\")) {\n",
       "                    Plotly.newPlot(\n",
       "                        '1306d8cf-f855-4629-9629-082bc3c5f23c',\n",
       "                        [{\"histfunc\": \"count\", \"histnorm\": \"\", \"marker\": {\"color\": \"rgba(255, 153, 51, 1.0)\", \"line\": {\"color\": \"#4D5663\", \"width\": 1.3}}, \"name\": \"A\", \"nbinsx\": 10, \"opacity\": 0.8, \"orientation\": \"v\", \"type\": \"histogram\", \"x\": [-0.4400399649717887, -0.3595613077728515, 1.873406826294262, 0.38969186783380566, -0.022267424723130477, 0.43504747311291625, 0.2554983804257713, -0.43489588798704, 1.3426244457395577, -0.48428219422439583, 1.2792534848487378, -0.33430267928447205, -0.05871625452323227, -1.4641294945567087, 0.6879170405939331, -0.5789676388980899, 0.4834159267743571, 0.7888288795843491, 0.3323842082460313, -0.500455046491514, 1.1349638922438667, 0.0648394026874129, -1.8369173628695823, -1.364696374259146, -0.23163879310313643, 0.44184120624887646, -0.008754529905923444, -0.8468384671871605, -1.7609159005214712, -0.8906016871681184, 0.0014061404898391655, -0.8273110356202099, -1.4469547151441569, 1.130716065259019, 1.8385150812690811, 1.4480020373494882, -0.7299993682456137, 0.7084053880561713, -1.9574977231406003, 1.3225294983535072, 0.4604816538773025, 0.5978851424936994, -0.029798002575205002, 2.4444818990726014, 0.23121109999846337, 0.39411414563714564, 1.424994271543353, -1.0108760588569032, -0.20433405466852314, -0.5930604286487997, -0.17345914350442432, -1.5383599521702267, 1.9870464339271097, -0.9572961564127893, 0.2736969217055384, -0.14260090164422665, 0.5639127289263197, -1.2416397081029351, -1.0359339740593136, 0.49857507285146657, -1.2100830662432491, 1.0950061628189116, 1.8846659520987912, -1.7878728745495034, 0.28857746221554864, -1.4088943816655852, -1.2087136735183925, 1.2778115772660252, 1.6546599214910305, -0.7462906107026152, -0.9209903093715155, 0.23517131057492602, -1.3162249191278517, 0.8134368199054091, -0.0374560977698149, -0.9081747971850014, 0.3002608454591211, -1.9056226453352814, 0.4297281861337904, -0.5789872115675557, 0.21575296332290184, 1.5659208168241434, -0.5014118806704894, -0.36063540909619, -1.6235631621904136, 0.20410868074437, -0.9931668727532835, 0.24227106624572672, -1.4183421552714632, -2.4218648828227294, 0.24063590836634863, -0.721590758122123, -0.29554997751728773, -0.723704077745416, -0.6669451077956237, -2.1012240102699056, -0.47528546735939825, 0.9874550770448093, -1.0165171112904952, -0.6352140298009604], \"xaxis\": \"x\", \"yaxis\": \"y\"}, {\"line\": {\"color\": \"rgba(128, 128, 128, 1.0)\", \"dash\": \"solid\", \"shape\": \"linear\", \"width\": 1.3}, \"marker\": {\"size\": 2, \"symbol\": \"circle\"}, \"mode\": \"markers\", \"name\": \"A\", \"text\": \"\", \"type\": \"scatter\", \"x\": [0.005253742579835973, 0.7716277501844138, -1.3400305920631033, 0.8318700917157779, 2.240199667702425, -0.22292209976958163, -0.21705185991763193, -0.7393949298922802, -0.3067156431895187, 0.3828707180093922, 2.1967246063897288, -0.02905384790058943, 0.23135537214505922, -1.8585285444240034, 1.5382087491369076, 2.0203249946759017, -0.10883618494234559, 0.5586990172547254, -0.5173941777182314, 0.6493323533920731, 0.5779378136248604, 1.1086260382106041, 0.04515298529579711, 1.8669147038799583, -1.081982530900694, 0.34588203934046, -0.6738517290892458, 0.5307011208620993, -0.2890152225836287, -1.0968014185406156, 0.0069997093709019825, 1.0096161393672936, -0.11999388042626354, -0.9846719383735099, 2.1550176489971897, -0.0862558055942889, -0.6472715416910069, 2.638125871089636, 1.1062598580697107, -0.17386800601023839, -2.035440917897416, -0.3238816966370988, -0.9241586801488743, 0.28270061840290656, -1.2936177268615774, -1.653251938555071, 0.16674799397119405, -0.2662948634241881, 0.08036384060337945, 1.0983462697803852, 0.3509552047370613, -0.43682665169660967, -1.3827744606669374, 0.4738958851556978, -1.1325269214747788, -0.648548134378684, -0.23004881722647422, 1.868850040978546, -0.07655085017094414, -1.406890502921777, -1.065453004451698, 0.5349288988151877, 1.3773373978807573, 0.5867444979295666, 0.8620421567209805, 0.02407766005255767, -0.24521601213683414, 0.048430437282934974, -1.7974755498952042, -1.2740596900069847, 0.1877725087100248, -0.4093879315825059, 0.5824620905697605, -0.799413254250628, 2.6027632503644575, -1.563154453440586, -0.9213031507408195, 0.07979897204686634, -0.9906227712393095, 0.7259471437511759, 0.13646236887374574, -0.5901089050824726, 0.4830250607805121, 0.07045911603626373, -1.0395461897361091, 0.159846520137536, 1.0109455233378781, 0.15754580369888657, -0.10428812849781907, 0.8880653905779591, -0.2091950350731277, -1.5960364240674625, -0.7720547303970756, 1.4142597808980752, 0.253057761265195, 2.096759738915302, -0.49800753714594564, 2.205377221396586, 0.7549940575074778, 0.03171008771101023], \"xaxis\": \"x2\", \"y\": [-0.4400399649717887, -0.3595613077728515, 1.873406826294262, 0.38969186783380566, -0.022267424723130477, 0.43504747311291625, 0.2554983804257713, -0.43489588798704, 1.3426244457395577, -0.48428219422439583, 1.2792534848487378, -0.33430267928447205, -0.05871625452323227, -1.4641294945567087, 0.6879170405939331, -0.5789676388980899, 0.4834159267743571, 0.7888288795843491, 0.3323842082460313, -0.500455046491514, 1.1349638922438667, 0.0648394026874129, -1.8369173628695823, -1.364696374259146, -0.23163879310313643, 0.44184120624887646, -0.008754529905923444, -0.8468384671871605, -1.7609159005214712, -0.8906016871681184, 0.0014061404898391655, -0.8273110356202099, -1.4469547151441569, 1.130716065259019, 1.8385150812690811, 1.4480020373494882, -0.7299993682456137, 0.7084053880561713, -1.9574977231406003, 1.3225294983535072, 0.4604816538773025, 0.5978851424936994, -0.029798002575205002, 2.4444818990726014, 0.23121109999846337, 0.39411414563714564, 1.424994271543353, -1.0108760588569032, -0.20433405466852314, -0.5930604286487997, -0.17345914350442432, -1.5383599521702267, 1.9870464339271097, -0.9572961564127893, 0.2736969217055384, -0.14260090164422665, 0.5639127289263197, -1.2416397081029351, -1.0359339740593136, 0.49857507285146657, -1.2100830662432491, 1.0950061628189116, 1.8846659520987912, -1.7878728745495034, 0.28857746221554864, -1.4088943816655852, -1.2087136735183925, 1.2778115772660252, 1.6546599214910305, -0.7462906107026152, -0.9209903093715155, 0.23517131057492602, -1.3162249191278517, 0.8134368199054091, -0.0374560977698149, -0.9081747971850014, 0.3002608454591211, -1.9056226453352814, 0.4297281861337904, -0.5789872115675557, 0.21575296332290184, 1.5659208168241434, -0.5014118806704894, -0.36063540909619, -1.6235631621904136, 0.20410868074437, -0.9931668727532835, 0.24227106624572672, -1.4183421552714632, -2.4218648828227294, 0.24063590836634863, -0.721590758122123, -0.29554997751728773, -0.723704077745416, -0.6669451077956237, -2.1012240102699056, -0.47528546735939825, 0.9874550770448093, -1.0165171112904952, -0.6352140298009604], \"yaxis\": \"y2\"}, {\"line\": {\"color\": \"rgba(128, 128, 128, 1.0)\", \"dash\": \"solid\", \"shape\": \"linear\", \"width\": 1.3}, \"marker\": {\"size\": 2, \"symbol\": \"circle\"}, \"mode\": \"markers\", \"name\": \"A\", \"text\": \"\", \"type\": \"scatter\", \"x\": [-0.059833531115340205, -1.1307586921024038, -1.5170991708405983, 0.1160808301074496, -0.12443331309427426, 1.2676305263539098, -1.6463008113069764, 1.0704509382146838, -1.2047255156083325, -0.6037064891403543, -0.7475201631838689, -1.1744669027475887, 0.48030262284316644, 0.9098214135560966, -1.5993906133446323, 0.4197640743888284, -0.2149301619105147, -0.17314106369777055, 0.028213515702107568, -0.18534379249626168, 0.3151620624222115, 0.9543056213143404, 1.5883852349755774, -0.12240271652122195, -0.5270291517043504, 0.4864170800204461, 0.8562578232246958, -1.6797894688423038, -0.9467473139214349, -0.7997157670107652, 0.10001814984347672, 1.7828893670975494, 0.7031607462574542, 0.010171140660643115, -0.40167286790753254, -0.022713288502423733, -1.2176710880508304, 2.069515328450902, -0.4091616095882992, -0.0215929308246728, 0.5974480325520253, -1.2983711082734464, -0.8769517606723604, 0.43442891150441015, -0.6944095639989479, 4.032736790835397, -0.5183645416258648, -0.35214783613094147, 0.4283182689039598, -1.2825855564049675, 2.042810376896394, 0.8363617075024146, -0.24996803048593447, -0.7249052202412539, 1.0659431873725955, 0.11999074219720175, -2.6225097483783832, -0.9306985386490227, 0.6149332485969911, -1.135900314950092, 0.38599838131658937, -0.08306721638522246, 1.6228039601371533, -0.07772711618525334, 1.3298450092271772, -0.05050903008593878, 1.8652974639279727, -0.2665584107205339, 0.3849658987096003, -0.15359569461542186, 1.8237622467376262, 0.3661468059331742, -2.916564206650955, 0.3972639089615204, 0.008198659931431334, -1.5760208632854669, -0.8030979407843182, 0.35268724922940176, -0.07195584029076904, 0.6332523111960984, -0.053138329815598066, 1.2350429498079165, 0.5319503342878098, -1.6645778363543628, 1.0582342841677217, 0.13758399933343138, 0.028425285203291552, 0.6308990774792219, -0.44371572618825567, -0.03240748373035467, -0.6681543753003671, -0.11092583493554127, -1.3046806089449365, -1.0946605716276787, -1.0221848513838285, 0.029419760269896504, 0.7125106388215899, 0.7110358381773751, 0.2072281455770876, 0.8858439582475902], \"xaxis\": \"x3\", \"y\": [-0.4400399649717887, -0.3595613077728515, 1.873406826294262, 0.38969186783380566, -0.022267424723130477, 0.43504747311291625, 0.2554983804257713, -0.43489588798704, 1.3426244457395577, -0.48428219422439583, 1.2792534848487378, -0.33430267928447205, -0.05871625452323227, -1.4641294945567087, 0.6879170405939331, -0.5789676388980899, 0.4834159267743571, 0.7888288795843491, 0.3323842082460313, -0.500455046491514, 1.1349638922438667, 0.0648394026874129, -1.8369173628695823, -1.364696374259146, -0.23163879310313643, 0.44184120624887646, -0.008754529905923444, -0.8468384671871605, -1.7609159005214712, -0.8906016871681184, 0.0014061404898391655, -0.8273110356202099, -1.4469547151441569, 1.130716065259019, 1.8385150812690811, 1.4480020373494882, -0.7299993682456137, 0.7084053880561713, -1.9574977231406003, 1.3225294983535072, 0.4604816538773025, 0.5978851424936994, -0.029798002575205002, 2.4444818990726014, 0.23121109999846337, 0.39411414563714564, 1.424994271543353, -1.0108760588569032, -0.20433405466852314, -0.5930604286487997, -0.17345914350442432, -1.5383599521702267, 1.9870464339271097, -0.9572961564127893, 0.2736969217055384, -0.14260090164422665, 0.5639127289263197, -1.2416397081029351, -1.0359339740593136, 0.49857507285146657, -1.2100830662432491, 1.0950061628189116, 1.8846659520987912, -1.7878728745495034, 0.28857746221554864, -1.4088943816655852, -1.2087136735183925, 1.2778115772660252, 1.6546599214910305, -0.7462906107026152, -0.9209903093715155, 0.23517131057492602, -1.3162249191278517, 0.8134368199054091, -0.0374560977698149, -0.9081747971850014, 0.3002608454591211, -1.9056226453352814, 0.4297281861337904, -0.5789872115675557, 0.21575296332290184, 1.5659208168241434, -0.5014118806704894, -0.36063540909619, -1.6235631621904136, 0.20410868074437, -0.9931668727532835, 0.24227106624572672, -1.4183421552714632, -2.4218648828227294, 0.24063590836634863, -0.721590758122123, -0.29554997751728773, -0.723704077745416, -0.6669451077956237, -2.1012240102699056, -0.47528546735939825, 0.9874550770448093, -1.0165171112904952, -0.6352140298009604], \"yaxis\": \"y3\"}, {\"line\": {\"color\": \"rgba(128, 128, 128, 1.0)\", \"dash\": \"solid\", \"shape\": \"linear\", \"width\": 1.3}, \"marker\": {\"size\": 2, \"symbol\": \"circle\"}, \"mode\": \"markers\", \"name\": \"A\", \"text\": \"\", \"type\": \"scatter\", \"x\": [-0.048438637774105314, -0.7819332955743884, -0.3801495953586696, 0.09272418733206131, 0.7808245571391312, 0.5292232251316453, 0.7274627743044587, -0.39748388296073767, 0.33351628234173764, 1.4353874488035603, -0.6416122676165328, -0.21624374030643773, -0.18262892551164203, 1.4320690617186551, 0.7522520439339312, -0.22238280208314654, -0.0024148553404345257, -1.5499752000072256, -1.969076768612912, 1.0340972198392024, 0.580563689799276, 1.4587509308564321, -0.7825285048922617, 0.16942465775404666, 0.6580084266340505, 0.9721824509859225, -0.9114882246177496, 0.4611795445753822, 0.7117293714633903, 1.0491048103930758, 0.8913969800869878, 0.8974951904504173, -1.8467424551374227, 1.2907662114214729, -2.459928488972569, -0.7628256803186014, -1.1986338915846038, 0.8409660087997013, 0.39053277181916746, 0.3537879516964365, -0.19827400142084714, 2.45078684667432, 0.39339632744919706, 1.2959445775725915, 1.55742033037734, 0.15903677031659075, 0.8301172205354383, 0.07725869797638997, -0.8540182591131804, -0.4997019785406598, 1.2306188176947799, 1.0920997473503868, -1.4925144990722459, -0.637145097678531, 0.6605694198821305, -0.2817495373297371, -0.8375067117343374, -0.49206741167074847, -0.7726679333091742, -0.25396873345375925, 0.9369327122811331, 0.11446557309415974, 0.557350214273498, -1.9565685423533479, -1.5931447014695428, 0.42898871597828225, -0.13836267817067688, 0.1740860135897892, -0.8150969593659615, 0.3098140820911925, 1.5856448102666456, -2.1520243724874897, -1.7069881134059737, 0.6700740038384747, -1.2851453720497432, 0.6364030819540974, -0.6728078005632903, -0.541035384971853, 0.48763875357064984, 1.091767088668557, 1.109686796001412, -0.8621987749294595, -0.6507530256151302, 0.485891682406828, 1.4384870607912152, -1.2671510033372553, 1.4909740801643505, -0.8486207628250105, -0.32893116836800396, -0.06685992986459374, -0.038509021919391075, 1.39546176696491, -0.15091955130675058, 1.0986346044800837, 0.025414523902503757, 1.26850959258467, 0.4458738876443096, 0.9496227170696862, -0.561925735762768, -0.5181977558854044], \"xaxis\": \"x4\", \"y\": [-0.4400399649717887, -0.3595613077728515, 1.873406826294262, 0.38969186783380566, -0.022267424723130477, 0.43504747311291625, 0.2554983804257713, -0.43489588798704, 1.3426244457395577, -0.48428219422439583, 1.2792534848487378, -0.33430267928447205, -0.05871625452323227, -1.4641294945567087, 0.6879170405939331, -0.5789676388980899, 0.4834159267743571, 0.7888288795843491, 0.3323842082460313, -0.500455046491514, 1.1349638922438667, 0.0648394026874129, -1.8369173628695823, -1.364696374259146, -0.23163879310313643, 0.44184120624887646, -0.008754529905923444, -0.8468384671871605, -1.7609159005214712, -0.8906016871681184, 0.0014061404898391655, -0.8273110356202099, -1.4469547151441569, 1.130716065259019, 1.8385150812690811, 1.4480020373494882, -0.7299993682456137, 0.7084053880561713, -1.9574977231406003, 1.3225294983535072, 0.4604816538773025, 0.5978851424936994, -0.029798002575205002, 2.4444818990726014, 0.23121109999846337, 0.39411414563714564, 1.424994271543353, -1.0108760588569032, -0.20433405466852314, -0.5930604286487997, -0.17345914350442432, -1.5383599521702267, 1.9870464339271097, -0.9572961564127893, 0.2736969217055384, -0.14260090164422665, 0.5639127289263197, -1.2416397081029351, -1.0359339740593136, 0.49857507285146657, -1.2100830662432491, 1.0950061628189116, 1.8846659520987912, -1.7878728745495034, 0.28857746221554864, -1.4088943816655852, -1.2087136735183925, 1.2778115772660252, 1.6546599214910305, -0.7462906107026152, -0.9209903093715155, 0.23517131057492602, -1.3162249191278517, 0.8134368199054091, -0.0374560977698149, -0.9081747971850014, 0.3002608454591211, -1.9056226453352814, 0.4297281861337904, -0.5789872115675557, 0.21575296332290184, 1.5659208168241434, -0.5014118806704894, -0.36063540909619, -1.6235631621904136, 0.20410868074437, -0.9931668727532835, 0.24227106624572672, -1.4183421552714632, -2.4218648828227294, 0.24063590836634863, -0.721590758122123, -0.29554997751728773, -0.723704077745416, -0.6669451077956237, -2.1012240102699056, -0.47528546735939825, 0.9874550770448093, -1.0165171112904952, -0.6352140298009604], \"yaxis\": \"y4\"}, {\"line\": {\"color\": \"rgba(128, 128, 128, 1.0)\", \"dash\": \"solid\", \"shape\": \"linear\", \"width\": 1.3}, \"marker\": {\"size\": 2, \"symbol\": \"circle\"}, \"mode\": \"markers\", \"name\": \"B\", \"text\": \"\", \"type\": \"scatter\", \"x\": [-0.4400399649717887, -0.3595613077728515, 1.873406826294262, 0.38969186783380566, -0.022267424723130477, 0.43504747311291625, 0.2554983804257713, -0.43489588798704, 1.3426244457395577, -0.48428219422439583, 1.2792534848487378, -0.33430267928447205, -0.05871625452323227, -1.4641294945567087, 0.6879170405939331, -0.5789676388980899, 0.4834159267743571, 0.7888288795843491, 0.3323842082460313, -0.500455046491514, 1.1349638922438667, 0.0648394026874129, -1.8369173628695823, -1.364696374259146, -0.23163879310313643, 0.44184120624887646, -0.008754529905923444, -0.8468384671871605, -1.7609159005214712, -0.8906016871681184, 0.0014061404898391655, -0.8273110356202099, -1.4469547151441569, 1.130716065259019, 1.8385150812690811, 1.4480020373494882, -0.7299993682456137, 0.7084053880561713, -1.9574977231406003, 1.3225294983535072, 0.4604816538773025, 0.5978851424936994, -0.029798002575205002, 2.4444818990726014, 0.23121109999846337, 0.39411414563714564, 1.424994271543353, -1.0108760588569032, -0.20433405466852314, -0.5930604286487997, -0.17345914350442432, -1.5383599521702267, 1.9870464339271097, -0.9572961564127893, 0.2736969217055384, -0.14260090164422665, 0.5639127289263197, -1.2416397081029351, -1.0359339740593136, 0.49857507285146657, -1.2100830662432491, 1.0950061628189116, 1.8846659520987912, -1.7878728745495034, 0.28857746221554864, -1.4088943816655852, -1.2087136735183925, 1.2778115772660252, 1.6546599214910305, -0.7462906107026152, -0.9209903093715155, 0.23517131057492602, -1.3162249191278517, 0.8134368199054091, -0.0374560977698149, -0.9081747971850014, 0.3002608454591211, -1.9056226453352814, 0.4297281861337904, -0.5789872115675557, 0.21575296332290184, 1.5659208168241434, -0.5014118806704894, -0.36063540909619, -1.6235631621904136, 0.20410868074437, -0.9931668727532835, 0.24227106624572672, -1.4183421552714632, -2.4218648828227294, 0.24063590836634863, -0.721590758122123, -0.29554997751728773, -0.723704077745416, -0.6669451077956237, -2.1012240102699056, -0.47528546735939825, 0.9874550770448093, -1.0165171112904952, -0.6352140298009604], \"xaxis\": \"x5\", \"y\": [0.005253742579835973, 0.7716277501844138, -1.3400305920631033, 0.8318700917157779, 2.240199667702425, -0.22292209976958163, -0.21705185991763193, -0.7393949298922802, -0.3067156431895187, 0.3828707180093922, 2.1967246063897288, -0.02905384790058943, 0.23135537214505922, -1.8585285444240034, 1.5382087491369076, 2.0203249946759017, -0.10883618494234559, 0.5586990172547254, -0.5173941777182314, 0.6493323533920731, 0.5779378136248604, 1.1086260382106041, 0.04515298529579711, 1.8669147038799583, -1.081982530900694, 0.34588203934046, -0.6738517290892458, 0.5307011208620993, -0.2890152225836287, -1.0968014185406156, 0.0069997093709019825, 1.0096161393672936, -0.11999388042626354, -0.9846719383735099, 2.1550176489971897, -0.0862558055942889, -0.6472715416910069, 2.638125871089636, 1.1062598580697107, -0.17386800601023839, -2.035440917897416, -0.3238816966370988, -0.9241586801488743, 0.28270061840290656, -1.2936177268615774, -1.653251938555071, 0.16674799397119405, -0.2662948634241881, 0.08036384060337945, 1.0983462697803852, 0.3509552047370613, -0.43682665169660967, -1.3827744606669374, 0.4738958851556978, -1.1325269214747788, -0.648548134378684, -0.23004881722647422, 1.868850040978546, -0.07655085017094414, -1.406890502921777, -1.065453004451698, 0.5349288988151877, 1.3773373978807573, 0.5867444979295666, 0.8620421567209805, 0.02407766005255767, -0.24521601213683414, 0.048430437282934974, -1.7974755498952042, -1.2740596900069847, 0.1877725087100248, -0.4093879315825059, 0.5824620905697605, -0.799413254250628, 2.6027632503644575, -1.563154453440586, -0.9213031507408195, 0.07979897204686634, -0.9906227712393095, 0.7259471437511759, 0.13646236887374574, -0.5901089050824726, 0.4830250607805121, 0.07045911603626373, -1.0395461897361091, 0.159846520137536, 1.0109455233378781, 0.15754580369888657, -0.10428812849781907, 0.8880653905779591, -0.2091950350731277, -1.5960364240674625, -0.7720547303970756, 1.4142597808980752, 0.253057761265195, 2.096759738915302, -0.49800753714594564, 2.205377221396586, 0.7549940575074778, 0.03171008771101023], \"yaxis\": \"y5\"}, {\"histfunc\": \"count\", \"histnorm\": \"\", \"marker\": {\"color\": \"rgba(55, 128, 191, 1.0)\", \"line\": {\"color\": \"#4D5663\", \"width\": 1.3}}, \"name\": \"B\", \"nbinsx\": 10, \"opacity\": 0.8, \"orientation\": \"v\", \"type\": \"histogram\", \"x\": [0.005253742579835973, 0.7716277501844138, -1.3400305920631033, 0.8318700917157779, 2.240199667702425, -0.22292209976958163, -0.21705185991763193, -0.7393949298922802, -0.3067156431895187, 0.3828707180093922, 2.1967246063897288, -0.02905384790058943, 0.23135537214505922, -1.8585285444240034, 1.5382087491369076, 2.0203249946759017, -0.10883618494234559, 0.5586990172547254, -0.5173941777182314, 0.6493323533920731, 0.5779378136248604, 1.1086260382106041, 0.04515298529579711, 1.8669147038799583, -1.081982530900694, 0.34588203934046, -0.6738517290892458, 0.5307011208620993, -0.2890152225836287, -1.0968014185406156, 0.0069997093709019825, 1.0096161393672936, -0.11999388042626354, -0.9846719383735099, 2.1550176489971897, -0.0862558055942889, -0.6472715416910069, 2.638125871089636, 1.1062598580697107, -0.17386800601023839, -2.035440917897416, -0.3238816966370988, -0.9241586801488743, 0.28270061840290656, -1.2936177268615774, -1.653251938555071, 0.16674799397119405, -0.2662948634241881, 0.08036384060337945, 1.0983462697803852, 0.3509552047370613, -0.43682665169660967, -1.3827744606669374, 0.4738958851556978, -1.1325269214747788, -0.648548134378684, -0.23004881722647422, 1.868850040978546, -0.07655085017094414, -1.406890502921777, -1.065453004451698, 0.5349288988151877, 1.3773373978807573, 0.5867444979295666, 0.8620421567209805, 0.02407766005255767, -0.24521601213683414, 0.048430437282934974, -1.7974755498952042, -1.2740596900069847, 0.1877725087100248, -0.4093879315825059, 0.5824620905697605, -0.799413254250628, 2.6027632503644575, -1.563154453440586, -0.9213031507408195, 0.07979897204686634, -0.9906227712393095, 0.7259471437511759, 0.13646236887374574, -0.5901089050824726, 0.4830250607805121, 0.07045911603626373, -1.0395461897361091, 0.159846520137536, 1.0109455233378781, 0.15754580369888657, -0.10428812849781907, 0.8880653905779591, -0.2091950350731277, -1.5960364240674625, -0.7720547303970756, 1.4142597808980752, 0.253057761265195, 2.096759738915302, -0.49800753714594564, 2.205377221396586, 0.7549940575074778, 0.03171008771101023], \"xaxis\": \"x6\", \"yaxis\": \"y6\"}, {\"line\": {\"color\": \"rgba(128, 128, 128, 1.0)\", \"dash\": \"solid\", \"shape\": \"linear\", \"width\": 1.3}, \"marker\": {\"size\": 2, \"symbol\": \"circle\"}, \"mode\": \"markers\", \"name\": \"B\", \"text\": \"\", \"type\": \"scatter\", \"x\": [-0.059833531115340205, -1.1307586921024038, -1.5170991708405983, 0.1160808301074496, -0.12443331309427426, 1.2676305263539098, -1.6463008113069764, 1.0704509382146838, -1.2047255156083325, -0.6037064891403543, -0.7475201631838689, -1.1744669027475887, 0.48030262284316644, 0.9098214135560966, -1.5993906133446323, 0.4197640743888284, -0.2149301619105147, -0.17314106369777055, 0.028213515702107568, -0.18534379249626168, 0.3151620624222115, 0.9543056213143404, 1.5883852349755774, -0.12240271652122195, -0.5270291517043504, 0.4864170800204461, 0.8562578232246958, -1.6797894688423038, -0.9467473139214349, -0.7997157670107652, 0.10001814984347672, 1.7828893670975494, 0.7031607462574542, 0.010171140660643115, -0.40167286790753254, -0.022713288502423733, -1.2176710880508304, 2.069515328450902, -0.4091616095882992, -0.0215929308246728, 0.5974480325520253, -1.2983711082734464, -0.8769517606723604, 0.43442891150441015, -0.6944095639989479, 4.032736790835397, -0.5183645416258648, -0.35214783613094147, 0.4283182689039598, -1.2825855564049675, 2.042810376896394, 0.8363617075024146, -0.24996803048593447, -0.7249052202412539, 1.0659431873725955, 0.11999074219720175, -2.6225097483783832, -0.9306985386490227, 0.6149332485969911, -1.135900314950092, 0.38599838131658937, -0.08306721638522246, 1.6228039601371533, -0.07772711618525334, 1.3298450092271772, -0.05050903008593878, 1.8652974639279727, -0.2665584107205339, 0.3849658987096003, -0.15359569461542186, 1.8237622467376262, 0.3661468059331742, -2.916564206650955, 0.3972639089615204, 0.008198659931431334, -1.5760208632854669, -0.8030979407843182, 0.35268724922940176, -0.07195584029076904, 0.6332523111960984, -0.053138329815598066, 1.2350429498079165, 0.5319503342878098, -1.6645778363543628, 1.0582342841677217, 0.13758399933343138, 0.028425285203291552, 0.6308990774792219, -0.44371572618825567, -0.03240748373035467, -0.6681543753003671, -0.11092583493554127, -1.3046806089449365, -1.0946605716276787, -1.0221848513838285, 0.029419760269896504, 0.7125106388215899, 0.7110358381773751, 0.2072281455770876, 0.8858439582475902], \"xaxis\": \"x7\", \"y\": [0.005253742579835973, 0.7716277501844138, -1.3400305920631033, 0.8318700917157779, 2.240199667702425, -0.22292209976958163, -0.21705185991763193, -0.7393949298922802, -0.3067156431895187, 0.3828707180093922, 2.1967246063897288, -0.02905384790058943, 0.23135537214505922, -1.8585285444240034, 1.5382087491369076, 2.0203249946759017, -0.10883618494234559, 0.5586990172547254, -0.5173941777182314, 0.6493323533920731, 0.5779378136248604, 1.1086260382106041, 0.04515298529579711, 1.8669147038799583, -1.081982530900694, 0.34588203934046, -0.6738517290892458, 0.5307011208620993, -0.2890152225836287, -1.0968014185406156, 0.0069997093709019825, 1.0096161393672936, -0.11999388042626354, -0.9846719383735099, 2.1550176489971897, -0.0862558055942889, -0.6472715416910069, 2.638125871089636, 1.1062598580697107, -0.17386800601023839, -2.035440917897416, -0.3238816966370988, -0.9241586801488743, 0.28270061840290656, -1.2936177268615774, -1.653251938555071, 0.16674799397119405, -0.2662948634241881, 0.08036384060337945, 1.0983462697803852, 0.3509552047370613, -0.43682665169660967, -1.3827744606669374, 0.4738958851556978, -1.1325269214747788, -0.648548134378684, -0.23004881722647422, 1.868850040978546, -0.07655085017094414, -1.406890502921777, -1.065453004451698, 0.5349288988151877, 1.3773373978807573, 0.5867444979295666, 0.8620421567209805, 0.02407766005255767, -0.24521601213683414, 0.048430437282934974, -1.7974755498952042, -1.2740596900069847, 0.1877725087100248, -0.4093879315825059, 0.5824620905697605, -0.799413254250628, 2.6027632503644575, -1.563154453440586, -0.9213031507408195, 0.07979897204686634, -0.9906227712393095, 0.7259471437511759, 0.13646236887374574, -0.5901089050824726, 0.4830250607805121, 0.07045911603626373, -1.0395461897361091, 0.159846520137536, 1.0109455233378781, 0.15754580369888657, -0.10428812849781907, 0.8880653905779591, -0.2091950350731277, -1.5960364240674625, -0.7720547303970756, 1.4142597808980752, 0.253057761265195, 2.096759738915302, -0.49800753714594564, 2.205377221396586, 0.7549940575074778, 0.03171008771101023], \"yaxis\": \"y7\"}, {\"line\": {\"color\": \"rgba(128, 128, 128, 1.0)\", \"dash\": \"solid\", \"shape\": \"linear\", \"width\": 1.3}, \"marker\": {\"size\": 2, \"symbol\": \"circle\"}, \"mode\": \"markers\", \"name\": \"B\", \"text\": \"\", \"type\": \"scatter\", \"x\": [-0.048438637774105314, -0.7819332955743884, -0.3801495953586696, 0.09272418733206131, 0.7808245571391312, 0.5292232251316453, 0.7274627743044587, -0.39748388296073767, 0.33351628234173764, 1.4353874488035603, -0.6416122676165328, -0.21624374030643773, -0.18262892551164203, 1.4320690617186551, 0.7522520439339312, -0.22238280208314654, -0.0024148553404345257, -1.5499752000072256, -1.969076768612912, 1.0340972198392024, 0.580563689799276, 1.4587509308564321, -0.7825285048922617, 0.16942465775404666, 0.6580084266340505, 0.9721824509859225, -0.9114882246177496, 0.4611795445753822, 0.7117293714633903, 1.0491048103930758, 0.8913969800869878, 0.8974951904504173, -1.8467424551374227, 1.2907662114214729, -2.459928488972569, -0.7628256803186014, -1.1986338915846038, 0.8409660087997013, 0.39053277181916746, 0.3537879516964365, -0.19827400142084714, 2.45078684667432, 0.39339632744919706, 1.2959445775725915, 1.55742033037734, 0.15903677031659075, 0.8301172205354383, 0.07725869797638997, -0.8540182591131804, -0.4997019785406598, 1.2306188176947799, 1.0920997473503868, -1.4925144990722459, -0.637145097678531, 0.6605694198821305, -0.2817495373297371, -0.8375067117343374, -0.49206741167074847, -0.7726679333091742, -0.25396873345375925, 0.9369327122811331, 0.11446557309415974, 0.557350214273498, -1.9565685423533479, -1.5931447014695428, 0.42898871597828225, -0.13836267817067688, 0.1740860135897892, -0.8150969593659615, 0.3098140820911925, 1.5856448102666456, -2.1520243724874897, -1.7069881134059737, 0.6700740038384747, -1.2851453720497432, 0.6364030819540974, -0.6728078005632903, -0.541035384971853, 0.48763875357064984, 1.091767088668557, 1.109686796001412, -0.8621987749294595, -0.6507530256151302, 0.485891682406828, 1.4384870607912152, -1.2671510033372553, 1.4909740801643505, -0.8486207628250105, -0.32893116836800396, -0.06685992986459374, -0.038509021919391075, 1.39546176696491, -0.15091955130675058, 1.0986346044800837, 0.025414523902503757, 1.26850959258467, 0.4458738876443096, 0.9496227170696862, -0.561925735762768, -0.5181977558854044], \"xaxis\": \"x8\", \"y\": [0.005253742579835973, 0.7716277501844138, -1.3400305920631033, 0.8318700917157779, 2.240199667702425, -0.22292209976958163, -0.21705185991763193, -0.7393949298922802, -0.3067156431895187, 0.3828707180093922, 2.1967246063897288, -0.02905384790058943, 0.23135537214505922, -1.8585285444240034, 1.5382087491369076, 2.0203249946759017, -0.10883618494234559, 0.5586990172547254, -0.5173941777182314, 0.6493323533920731, 0.5779378136248604, 1.1086260382106041, 0.04515298529579711, 1.8669147038799583, -1.081982530900694, 0.34588203934046, -0.6738517290892458, 0.5307011208620993, -0.2890152225836287, -1.0968014185406156, 0.0069997093709019825, 1.0096161393672936, -0.11999388042626354, -0.9846719383735099, 2.1550176489971897, -0.0862558055942889, -0.6472715416910069, 2.638125871089636, 1.1062598580697107, -0.17386800601023839, -2.035440917897416, -0.3238816966370988, -0.9241586801488743, 0.28270061840290656, -1.2936177268615774, -1.653251938555071, 0.16674799397119405, -0.2662948634241881, 0.08036384060337945, 1.0983462697803852, 0.3509552047370613, -0.43682665169660967, -1.3827744606669374, 0.4738958851556978, -1.1325269214747788, -0.648548134378684, -0.23004881722647422, 1.868850040978546, -0.07655085017094414, -1.406890502921777, -1.065453004451698, 0.5349288988151877, 1.3773373978807573, 0.5867444979295666, 0.8620421567209805, 0.02407766005255767, -0.24521601213683414, 0.048430437282934974, -1.7974755498952042, -1.2740596900069847, 0.1877725087100248, -0.4093879315825059, 0.5824620905697605, -0.799413254250628, 2.6027632503644575, -1.563154453440586, -0.9213031507408195, 0.07979897204686634, -0.9906227712393095, 0.7259471437511759, 0.13646236887374574, -0.5901089050824726, 0.4830250607805121, 0.07045911603626373, -1.0395461897361091, 0.159846520137536, 1.0109455233378781, 0.15754580369888657, -0.10428812849781907, 0.8880653905779591, -0.2091950350731277, -1.5960364240674625, -0.7720547303970756, 1.4142597808980752, 0.253057761265195, 2.096759738915302, -0.49800753714594564, 2.205377221396586, 0.7549940575074778, 0.03171008771101023], \"yaxis\": \"y8\"}, {\"line\": {\"color\": \"rgba(128, 128, 128, 1.0)\", \"dash\": \"solid\", \"shape\": \"linear\", \"width\": 1.3}, \"marker\": {\"size\": 2, \"symbol\": \"circle\"}, \"mode\": \"markers\", \"name\": \"C\", \"text\": \"\", \"type\": \"scatter\", \"x\": [-0.4400399649717887, -0.3595613077728515, 1.873406826294262, 0.38969186783380566, -0.022267424723130477, 0.43504747311291625, 0.2554983804257713, -0.43489588798704, 1.3426244457395577, -0.48428219422439583, 1.2792534848487378, -0.33430267928447205, -0.05871625452323227, -1.4641294945567087, 0.6879170405939331, -0.5789676388980899, 0.4834159267743571, 0.7888288795843491, 0.3323842082460313, -0.500455046491514, 1.1349638922438667, 0.0648394026874129, -1.8369173628695823, -1.364696374259146, -0.23163879310313643, 0.44184120624887646, -0.008754529905923444, -0.8468384671871605, -1.7609159005214712, -0.8906016871681184, 0.0014061404898391655, -0.8273110356202099, -1.4469547151441569, 1.130716065259019, 1.8385150812690811, 1.4480020373494882, -0.7299993682456137, 0.7084053880561713, -1.9574977231406003, 1.3225294983535072, 0.4604816538773025, 0.5978851424936994, -0.029798002575205002, 2.4444818990726014, 0.23121109999846337, 0.39411414563714564, 1.424994271543353, -1.0108760588569032, -0.20433405466852314, -0.5930604286487997, -0.17345914350442432, -1.5383599521702267, 1.9870464339271097, -0.9572961564127893, 0.2736969217055384, -0.14260090164422665, 0.5639127289263197, -1.2416397081029351, -1.0359339740593136, 0.49857507285146657, -1.2100830662432491, 1.0950061628189116, 1.8846659520987912, -1.7878728745495034, 0.28857746221554864, -1.4088943816655852, -1.2087136735183925, 1.2778115772660252, 1.6546599214910305, -0.7462906107026152, -0.9209903093715155, 0.23517131057492602, -1.3162249191278517, 0.8134368199054091, -0.0374560977698149, -0.9081747971850014, 0.3002608454591211, -1.9056226453352814, 0.4297281861337904, -0.5789872115675557, 0.21575296332290184, 1.5659208168241434, -0.5014118806704894, -0.36063540909619, -1.6235631621904136, 0.20410868074437, -0.9931668727532835, 0.24227106624572672, -1.4183421552714632, -2.4218648828227294, 0.24063590836634863, -0.721590758122123, -0.29554997751728773, -0.723704077745416, -0.6669451077956237, -2.1012240102699056, -0.47528546735939825, 0.9874550770448093, -1.0165171112904952, -0.6352140298009604], \"xaxis\": \"x9\", \"y\": [-0.059833531115340205, -1.1307586921024038, -1.5170991708405983, 0.1160808301074496, -0.12443331309427426, 1.2676305263539098, -1.6463008113069764, 1.0704509382146838, -1.2047255156083325, -0.6037064891403543, -0.7475201631838689, -1.1744669027475887, 0.48030262284316644, 0.9098214135560966, -1.5993906133446323, 0.4197640743888284, -0.2149301619105147, -0.17314106369777055, 0.028213515702107568, -0.18534379249626168, 0.3151620624222115, 0.9543056213143404, 1.5883852349755774, -0.12240271652122195, -0.5270291517043504, 0.4864170800204461, 0.8562578232246958, -1.6797894688423038, -0.9467473139214349, -0.7997157670107652, 0.10001814984347672, 1.7828893670975494, 0.7031607462574542, 0.010171140660643115, -0.40167286790753254, -0.022713288502423733, -1.2176710880508304, 2.069515328450902, -0.4091616095882992, -0.0215929308246728, 0.5974480325520253, -1.2983711082734464, -0.8769517606723604, 0.43442891150441015, -0.6944095639989479, 4.032736790835397, -0.5183645416258648, -0.35214783613094147, 0.4283182689039598, -1.2825855564049675, 2.042810376896394, 0.8363617075024146, -0.24996803048593447, -0.7249052202412539, 1.0659431873725955, 0.11999074219720175, -2.6225097483783832, -0.9306985386490227, 0.6149332485969911, -1.135900314950092, 0.38599838131658937, -0.08306721638522246, 1.6228039601371533, -0.07772711618525334, 1.3298450092271772, -0.05050903008593878, 1.8652974639279727, -0.2665584107205339, 0.3849658987096003, -0.15359569461542186, 1.8237622467376262, 0.3661468059331742, -2.916564206650955, 0.3972639089615204, 0.008198659931431334, -1.5760208632854669, -0.8030979407843182, 0.35268724922940176, -0.07195584029076904, 0.6332523111960984, -0.053138329815598066, 1.2350429498079165, 0.5319503342878098, -1.6645778363543628, 1.0582342841677217, 0.13758399933343138, 0.028425285203291552, 0.6308990774792219, -0.44371572618825567, -0.03240748373035467, -0.6681543753003671, -0.11092583493554127, -1.3046806089449365, -1.0946605716276787, -1.0221848513838285, 0.029419760269896504, 0.7125106388215899, 0.7110358381773751, 0.2072281455770876, 0.8858439582475902], \"yaxis\": \"y9\"}, {\"line\": {\"color\": \"rgba(128, 128, 128, 1.0)\", \"dash\": \"solid\", \"shape\": \"linear\", \"width\": 1.3}, \"marker\": {\"size\": 2, \"symbol\": \"circle\"}, \"mode\": \"markers\", \"name\": \"C\", \"text\": \"\", \"type\": \"scatter\", \"x\": [0.005253742579835973, 0.7716277501844138, -1.3400305920631033, 0.8318700917157779, 2.240199667702425, -0.22292209976958163, -0.21705185991763193, -0.7393949298922802, -0.3067156431895187, 0.3828707180093922, 2.1967246063897288, -0.02905384790058943, 0.23135537214505922, -1.8585285444240034, 1.5382087491369076, 2.0203249946759017, -0.10883618494234559, 0.5586990172547254, -0.5173941777182314, 0.6493323533920731, 0.5779378136248604, 1.1086260382106041, 0.04515298529579711, 1.8669147038799583, -1.081982530900694, 0.34588203934046, -0.6738517290892458, 0.5307011208620993, -0.2890152225836287, -1.0968014185406156, 0.0069997093709019825, 1.0096161393672936, -0.11999388042626354, -0.9846719383735099, 2.1550176489971897, -0.0862558055942889, -0.6472715416910069, 2.638125871089636, 1.1062598580697107, -0.17386800601023839, -2.035440917897416, -0.3238816966370988, -0.9241586801488743, 0.28270061840290656, -1.2936177268615774, -1.653251938555071, 0.16674799397119405, -0.2662948634241881, 0.08036384060337945, 1.0983462697803852, 0.3509552047370613, -0.43682665169660967, -1.3827744606669374, 0.4738958851556978, -1.1325269214747788, -0.648548134378684, -0.23004881722647422, 1.868850040978546, -0.07655085017094414, -1.406890502921777, -1.065453004451698, 0.5349288988151877, 1.3773373978807573, 0.5867444979295666, 0.8620421567209805, 0.02407766005255767, -0.24521601213683414, 0.048430437282934974, -1.7974755498952042, -1.2740596900069847, 0.1877725087100248, -0.4093879315825059, 0.5824620905697605, -0.799413254250628, 2.6027632503644575, -1.563154453440586, -0.9213031507408195, 0.07979897204686634, -0.9906227712393095, 0.7259471437511759, 0.13646236887374574, -0.5901089050824726, 0.4830250607805121, 0.07045911603626373, -1.0395461897361091, 0.159846520137536, 1.0109455233378781, 0.15754580369888657, -0.10428812849781907, 0.8880653905779591, -0.2091950350731277, -1.5960364240674625, -0.7720547303970756, 1.4142597808980752, 0.253057761265195, 2.096759738915302, -0.49800753714594564, 2.205377221396586, 0.7549940575074778, 0.03171008771101023], \"xaxis\": \"x10\", \"y\": [-0.059833531115340205, -1.1307586921024038, -1.5170991708405983, 0.1160808301074496, -0.12443331309427426, 1.2676305263539098, -1.6463008113069764, 1.0704509382146838, -1.2047255156083325, -0.6037064891403543, -0.7475201631838689, -1.1744669027475887, 0.48030262284316644, 0.9098214135560966, -1.5993906133446323, 0.4197640743888284, -0.2149301619105147, -0.17314106369777055, 0.028213515702107568, -0.18534379249626168, 0.3151620624222115, 0.9543056213143404, 1.5883852349755774, -0.12240271652122195, -0.5270291517043504, 0.4864170800204461, 0.8562578232246958, -1.6797894688423038, -0.9467473139214349, -0.7997157670107652, 0.10001814984347672, 1.7828893670975494, 0.7031607462574542, 0.010171140660643115, -0.40167286790753254, -0.022713288502423733, -1.2176710880508304, 2.069515328450902, -0.4091616095882992, -0.0215929308246728, 0.5974480325520253, -1.2983711082734464, -0.8769517606723604, 0.43442891150441015, -0.6944095639989479, 4.032736790835397, -0.5183645416258648, -0.35214783613094147, 0.4283182689039598, -1.2825855564049675, 2.042810376896394, 0.8363617075024146, -0.24996803048593447, -0.7249052202412539, 1.0659431873725955, 0.11999074219720175, -2.6225097483783832, -0.9306985386490227, 0.6149332485969911, -1.135900314950092, 0.38599838131658937, -0.08306721638522246, 1.6228039601371533, -0.07772711618525334, 1.3298450092271772, -0.05050903008593878, 1.8652974639279727, -0.2665584107205339, 0.3849658987096003, -0.15359569461542186, 1.8237622467376262, 0.3661468059331742, -2.916564206650955, 0.3972639089615204, 0.008198659931431334, -1.5760208632854669, -0.8030979407843182, 0.35268724922940176, -0.07195584029076904, 0.6332523111960984, -0.053138329815598066, 1.2350429498079165, 0.5319503342878098, -1.6645778363543628, 1.0582342841677217, 0.13758399933343138, 0.028425285203291552, 0.6308990774792219, -0.44371572618825567, -0.03240748373035467, -0.6681543753003671, -0.11092583493554127, -1.3046806089449365, -1.0946605716276787, -1.0221848513838285, 0.029419760269896504, 0.7125106388215899, 0.7110358381773751, 0.2072281455770876, 0.8858439582475902], \"yaxis\": \"y10\"}, {\"histfunc\": \"count\", \"histnorm\": \"\", \"marker\": {\"color\": \"rgba(50, 171, 96, 1.0)\", \"line\": {\"color\": \"#4D5663\", \"width\": 1.3}}, \"name\": \"C\", \"nbinsx\": 10, \"opacity\": 0.8, \"orientation\": \"v\", \"type\": \"histogram\", \"x\": [-0.059833531115340205, -1.1307586921024038, -1.5170991708405983, 0.1160808301074496, -0.12443331309427426, 1.2676305263539098, -1.6463008113069764, 1.0704509382146838, -1.2047255156083325, -0.6037064891403543, -0.7475201631838689, -1.1744669027475887, 0.48030262284316644, 0.9098214135560966, -1.5993906133446323, 0.4197640743888284, -0.2149301619105147, -0.17314106369777055, 0.028213515702107568, -0.18534379249626168, 0.3151620624222115, 0.9543056213143404, 1.5883852349755774, -0.12240271652122195, -0.5270291517043504, 0.4864170800204461, 0.8562578232246958, -1.6797894688423038, -0.9467473139214349, -0.7997157670107652, 0.10001814984347672, 1.7828893670975494, 0.7031607462574542, 0.010171140660643115, -0.40167286790753254, -0.022713288502423733, -1.2176710880508304, 2.069515328450902, -0.4091616095882992, -0.0215929308246728, 0.5974480325520253, -1.2983711082734464, -0.8769517606723604, 0.43442891150441015, -0.6944095639989479, 4.032736790835397, -0.5183645416258648, -0.35214783613094147, 0.4283182689039598, -1.2825855564049675, 2.042810376896394, 0.8363617075024146, -0.24996803048593447, -0.7249052202412539, 1.0659431873725955, 0.11999074219720175, -2.6225097483783832, -0.9306985386490227, 0.6149332485969911, -1.135900314950092, 0.38599838131658937, -0.08306721638522246, 1.6228039601371533, -0.07772711618525334, 1.3298450092271772, -0.05050903008593878, 1.8652974639279727, -0.2665584107205339, 0.3849658987096003, -0.15359569461542186, 1.8237622467376262, 0.3661468059331742, -2.916564206650955, 0.3972639089615204, 0.008198659931431334, -1.5760208632854669, -0.8030979407843182, 0.35268724922940176, -0.07195584029076904, 0.6332523111960984, -0.053138329815598066, 1.2350429498079165, 0.5319503342878098, -1.6645778363543628, 1.0582342841677217, 0.13758399933343138, 0.028425285203291552, 0.6308990774792219, -0.44371572618825567, -0.03240748373035467, -0.6681543753003671, -0.11092583493554127, -1.3046806089449365, -1.0946605716276787, -1.0221848513838285, 0.029419760269896504, 0.7125106388215899, 0.7110358381773751, 0.2072281455770876, 0.8858439582475902], \"xaxis\": \"x11\", \"yaxis\": \"y11\"}, {\"line\": {\"color\": \"rgba(128, 128, 128, 1.0)\", \"dash\": \"solid\", \"shape\": \"linear\", \"width\": 1.3}, \"marker\": {\"size\": 2, \"symbol\": \"circle\"}, \"mode\": \"markers\", \"name\": \"C\", \"text\": \"\", \"type\": \"scatter\", \"x\": [-0.048438637774105314, -0.7819332955743884, -0.3801495953586696, 0.09272418733206131, 0.7808245571391312, 0.5292232251316453, 0.7274627743044587, -0.39748388296073767, 0.33351628234173764, 1.4353874488035603, -0.6416122676165328, -0.21624374030643773, -0.18262892551164203, 1.4320690617186551, 0.7522520439339312, -0.22238280208314654, -0.0024148553404345257, -1.5499752000072256, -1.969076768612912, 1.0340972198392024, 0.580563689799276, 1.4587509308564321, -0.7825285048922617, 0.16942465775404666, 0.6580084266340505, 0.9721824509859225, -0.9114882246177496, 0.4611795445753822, 0.7117293714633903, 1.0491048103930758, 0.8913969800869878, 0.8974951904504173, -1.8467424551374227, 1.2907662114214729, -2.459928488972569, -0.7628256803186014, -1.1986338915846038, 0.8409660087997013, 0.39053277181916746, 0.3537879516964365, -0.19827400142084714, 2.45078684667432, 0.39339632744919706, 1.2959445775725915, 1.55742033037734, 0.15903677031659075, 0.8301172205354383, 0.07725869797638997, -0.8540182591131804, -0.4997019785406598, 1.2306188176947799, 1.0920997473503868, -1.4925144990722459, -0.637145097678531, 0.6605694198821305, -0.2817495373297371, -0.8375067117343374, -0.49206741167074847, -0.7726679333091742, -0.25396873345375925, 0.9369327122811331, 0.11446557309415974, 0.557350214273498, -1.9565685423533479, -1.5931447014695428, 0.42898871597828225, -0.13836267817067688, 0.1740860135897892, -0.8150969593659615, 0.3098140820911925, 1.5856448102666456, -2.1520243724874897, -1.7069881134059737, 0.6700740038384747, -1.2851453720497432, 0.6364030819540974, -0.6728078005632903, -0.541035384971853, 0.48763875357064984, 1.091767088668557, 1.109686796001412, -0.8621987749294595, -0.6507530256151302, 0.485891682406828, 1.4384870607912152, -1.2671510033372553, 1.4909740801643505, -0.8486207628250105, -0.32893116836800396, -0.06685992986459374, -0.038509021919391075, 1.39546176696491, -0.15091955130675058, 1.0986346044800837, 0.025414523902503757, 1.26850959258467, 0.4458738876443096, 0.9496227170696862, -0.561925735762768, -0.5181977558854044], \"xaxis\": \"x12\", \"y\": [-0.059833531115340205, -1.1307586921024038, -1.5170991708405983, 0.1160808301074496, -0.12443331309427426, 1.2676305263539098, -1.6463008113069764, 1.0704509382146838, -1.2047255156083325, -0.6037064891403543, -0.7475201631838689, -1.1744669027475887, 0.48030262284316644, 0.9098214135560966, -1.5993906133446323, 0.4197640743888284, -0.2149301619105147, -0.17314106369777055, 0.028213515702107568, -0.18534379249626168, 0.3151620624222115, 0.9543056213143404, 1.5883852349755774, -0.12240271652122195, -0.5270291517043504, 0.4864170800204461, 0.8562578232246958, -1.6797894688423038, -0.9467473139214349, -0.7997157670107652, 0.10001814984347672, 1.7828893670975494, 0.7031607462574542, 0.010171140660643115, -0.40167286790753254, -0.022713288502423733, -1.2176710880508304, 2.069515328450902, -0.4091616095882992, -0.0215929308246728, 0.5974480325520253, -1.2983711082734464, -0.8769517606723604, 0.43442891150441015, -0.6944095639989479, 4.032736790835397, -0.5183645416258648, -0.35214783613094147, 0.4283182689039598, -1.2825855564049675, 2.042810376896394, 0.8363617075024146, -0.24996803048593447, -0.7249052202412539, 1.0659431873725955, 0.11999074219720175, -2.6225097483783832, -0.9306985386490227, 0.6149332485969911, -1.135900314950092, 0.38599838131658937, -0.08306721638522246, 1.6228039601371533, -0.07772711618525334, 1.3298450092271772, -0.05050903008593878, 1.8652974639279727, -0.2665584107205339, 0.3849658987096003, -0.15359569461542186, 1.8237622467376262, 0.3661468059331742, -2.916564206650955, 0.3972639089615204, 0.008198659931431334, -1.5760208632854669, -0.8030979407843182, 0.35268724922940176, -0.07195584029076904, 0.6332523111960984, -0.053138329815598066, 1.2350429498079165, 0.5319503342878098, -1.6645778363543628, 1.0582342841677217, 0.13758399933343138, 0.028425285203291552, 0.6308990774792219, -0.44371572618825567, -0.03240748373035467, -0.6681543753003671, -0.11092583493554127, -1.3046806089449365, -1.0946605716276787, -1.0221848513838285, 0.029419760269896504, 0.7125106388215899, 0.7110358381773751, 0.2072281455770876, 0.8858439582475902], \"yaxis\": \"y12\"}, {\"line\": {\"color\": \"rgba(128, 128, 128, 1.0)\", \"dash\": \"solid\", \"shape\": \"linear\", \"width\": 1.3}, \"marker\": {\"size\": 2, \"symbol\": \"circle\"}, \"mode\": \"markers\", \"name\": \"D\", \"text\": \"\", \"type\": \"scatter\", \"x\": [-0.4400399649717887, -0.3595613077728515, 1.873406826294262, 0.38969186783380566, -0.022267424723130477, 0.43504747311291625, 0.2554983804257713, -0.43489588798704, 1.3426244457395577, -0.48428219422439583, 1.2792534848487378, -0.33430267928447205, -0.05871625452323227, -1.4641294945567087, 0.6879170405939331, -0.5789676388980899, 0.4834159267743571, 0.7888288795843491, 0.3323842082460313, -0.500455046491514, 1.1349638922438667, 0.0648394026874129, -1.8369173628695823, -1.364696374259146, -0.23163879310313643, 0.44184120624887646, -0.008754529905923444, -0.8468384671871605, -1.7609159005214712, -0.8906016871681184, 0.0014061404898391655, -0.8273110356202099, -1.4469547151441569, 1.130716065259019, 1.8385150812690811, 1.4480020373494882, -0.7299993682456137, 0.7084053880561713, -1.9574977231406003, 1.3225294983535072, 0.4604816538773025, 0.5978851424936994, -0.029798002575205002, 2.4444818990726014, 0.23121109999846337, 0.39411414563714564, 1.424994271543353, -1.0108760588569032, -0.20433405466852314, -0.5930604286487997, -0.17345914350442432, -1.5383599521702267, 1.9870464339271097, -0.9572961564127893, 0.2736969217055384, -0.14260090164422665, 0.5639127289263197, -1.2416397081029351, -1.0359339740593136, 0.49857507285146657, -1.2100830662432491, 1.0950061628189116, 1.8846659520987912, -1.7878728745495034, 0.28857746221554864, -1.4088943816655852, -1.2087136735183925, 1.2778115772660252, 1.6546599214910305, -0.7462906107026152, -0.9209903093715155, 0.23517131057492602, -1.3162249191278517, 0.8134368199054091, -0.0374560977698149, -0.9081747971850014, 0.3002608454591211, -1.9056226453352814, 0.4297281861337904, -0.5789872115675557, 0.21575296332290184, 1.5659208168241434, -0.5014118806704894, -0.36063540909619, -1.6235631621904136, 0.20410868074437, -0.9931668727532835, 0.24227106624572672, -1.4183421552714632, -2.4218648828227294, 0.24063590836634863, -0.721590758122123, -0.29554997751728773, -0.723704077745416, -0.6669451077956237, -2.1012240102699056, -0.47528546735939825, 0.9874550770448093, -1.0165171112904952, -0.6352140298009604], \"xaxis\": \"x13\", \"y\": [-0.048438637774105314, -0.7819332955743884, -0.3801495953586696, 0.09272418733206131, 0.7808245571391312, 0.5292232251316453, 0.7274627743044587, -0.39748388296073767, 0.33351628234173764, 1.4353874488035603, -0.6416122676165328, -0.21624374030643773, -0.18262892551164203, 1.4320690617186551, 0.7522520439339312, -0.22238280208314654, -0.0024148553404345257, -1.5499752000072256, -1.969076768612912, 1.0340972198392024, 0.580563689799276, 1.4587509308564321, -0.7825285048922617, 0.16942465775404666, 0.6580084266340505, 0.9721824509859225, -0.9114882246177496, 0.4611795445753822, 0.7117293714633903, 1.0491048103930758, 0.8913969800869878, 0.8974951904504173, -1.8467424551374227, 1.2907662114214729, -2.459928488972569, -0.7628256803186014, -1.1986338915846038, 0.8409660087997013, 0.39053277181916746, 0.3537879516964365, -0.19827400142084714, 2.45078684667432, 0.39339632744919706, 1.2959445775725915, 1.55742033037734, 0.15903677031659075, 0.8301172205354383, 0.07725869797638997, -0.8540182591131804, -0.4997019785406598, 1.2306188176947799, 1.0920997473503868, -1.4925144990722459, -0.637145097678531, 0.6605694198821305, -0.2817495373297371, -0.8375067117343374, -0.49206741167074847, -0.7726679333091742, -0.25396873345375925, 0.9369327122811331, 0.11446557309415974, 0.557350214273498, -1.9565685423533479, -1.5931447014695428, 0.42898871597828225, -0.13836267817067688, 0.1740860135897892, -0.8150969593659615, 0.3098140820911925, 1.5856448102666456, -2.1520243724874897, -1.7069881134059737, 0.6700740038384747, -1.2851453720497432, 0.6364030819540974, -0.6728078005632903, -0.541035384971853, 0.48763875357064984, 1.091767088668557, 1.109686796001412, -0.8621987749294595, -0.6507530256151302, 0.485891682406828, 1.4384870607912152, -1.2671510033372553, 1.4909740801643505, -0.8486207628250105, -0.32893116836800396, -0.06685992986459374, -0.038509021919391075, 1.39546176696491, -0.15091955130675058, 1.0986346044800837, 0.025414523902503757, 1.26850959258467, 0.4458738876443096, 0.9496227170696862, -0.561925735762768, -0.5181977558854044], \"yaxis\": \"y13\"}, {\"line\": {\"color\": \"rgba(128, 128, 128, 1.0)\", \"dash\": \"solid\", \"shape\": \"linear\", \"width\": 1.3}, \"marker\": {\"size\": 2, \"symbol\": \"circle\"}, \"mode\": \"markers\", \"name\": \"D\", \"text\": \"\", \"type\": \"scatter\", \"x\": [0.005253742579835973, 0.7716277501844138, -1.3400305920631033, 0.8318700917157779, 2.240199667702425, -0.22292209976958163, -0.21705185991763193, -0.7393949298922802, -0.3067156431895187, 0.3828707180093922, 2.1967246063897288, -0.02905384790058943, 0.23135537214505922, -1.8585285444240034, 1.5382087491369076, 2.0203249946759017, -0.10883618494234559, 0.5586990172547254, -0.5173941777182314, 0.6493323533920731, 0.5779378136248604, 1.1086260382106041, 0.04515298529579711, 1.8669147038799583, -1.081982530900694, 0.34588203934046, -0.6738517290892458, 0.5307011208620993, -0.2890152225836287, -1.0968014185406156, 0.0069997093709019825, 1.0096161393672936, -0.11999388042626354, -0.9846719383735099, 2.1550176489971897, -0.0862558055942889, -0.6472715416910069, 2.638125871089636, 1.1062598580697107, -0.17386800601023839, -2.035440917897416, -0.3238816966370988, -0.9241586801488743, 0.28270061840290656, -1.2936177268615774, -1.653251938555071, 0.16674799397119405, -0.2662948634241881, 0.08036384060337945, 1.0983462697803852, 0.3509552047370613, -0.43682665169660967, -1.3827744606669374, 0.4738958851556978, -1.1325269214747788, -0.648548134378684, -0.23004881722647422, 1.868850040978546, -0.07655085017094414, -1.406890502921777, -1.065453004451698, 0.5349288988151877, 1.3773373978807573, 0.5867444979295666, 0.8620421567209805, 0.02407766005255767, -0.24521601213683414, 0.048430437282934974, -1.7974755498952042, -1.2740596900069847, 0.1877725087100248, -0.4093879315825059, 0.5824620905697605, -0.799413254250628, 2.6027632503644575, -1.563154453440586, -0.9213031507408195, 0.07979897204686634, -0.9906227712393095, 0.7259471437511759, 0.13646236887374574, -0.5901089050824726, 0.4830250607805121, 0.07045911603626373, -1.0395461897361091, 0.159846520137536, 1.0109455233378781, 0.15754580369888657, -0.10428812849781907, 0.8880653905779591, -0.2091950350731277, -1.5960364240674625, -0.7720547303970756, 1.4142597808980752, 0.253057761265195, 2.096759738915302, -0.49800753714594564, 2.205377221396586, 0.7549940575074778, 0.03171008771101023], \"xaxis\": \"x14\", \"y\": [-0.048438637774105314, -0.7819332955743884, -0.3801495953586696, 0.09272418733206131, 0.7808245571391312, 0.5292232251316453, 0.7274627743044587, -0.39748388296073767, 0.33351628234173764, 1.4353874488035603, -0.6416122676165328, -0.21624374030643773, -0.18262892551164203, 1.4320690617186551, 0.7522520439339312, -0.22238280208314654, -0.0024148553404345257, -1.5499752000072256, -1.969076768612912, 1.0340972198392024, 0.580563689799276, 1.4587509308564321, -0.7825285048922617, 0.16942465775404666, 0.6580084266340505, 0.9721824509859225, -0.9114882246177496, 0.4611795445753822, 0.7117293714633903, 1.0491048103930758, 0.8913969800869878, 0.8974951904504173, -1.8467424551374227, 1.2907662114214729, -2.459928488972569, -0.7628256803186014, -1.1986338915846038, 0.8409660087997013, 0.39053277181916746, 0.3537879516964365, -0.19827400142084714, 2.45078684667432, 0.39339632744919706, 1.2959445775725915, 1.55742033037734, 0.15903677031659075, 0.8301172205354383, 0.07725869797638997, -0.8540182591131804, -0.4997019785406598, 1.2306188176947799, 1.0920997473503868, -1.4925144990722459, -0.637145097678531, 0.6605694198821305, -0.2817495373297371, -0.8375067117343374, -0.49206741167074847, -0.7726679333091742, -0.25396873345375925, 0.9369327122811331, 0.11446557309415974, 0.557350214273498, -1.9565685423533479, -1.5931447014695428, 0.42898871597828225, -0.13836267817067688, 0.1740860135897892, -0.8150969593659615, 0.3098140820911925, 1.5856448102666456, -2.1520243724874897, -1.7069881134059737, 0.6700740038384747, -1.2851453720497432, 0.6364030819540974, -0.6728078005632903, -0.541035384971853, 0.48763875357064984, 1.091767088668557, 1.109686796001412, -0.8621987749294595, -0.6507530256151302, 0.485891682406828, 1.4384870607912152, -1.2671510033372553, 1.4909740801643505, -0.8486207628250105, -0.32893116836800396, -0.06685992986459374, -0.038509021919391075, 1.39546176696491, -0.15091955130675058, 1.0986346044800837, 0.025414523902503757, 1.26850959258467, 0.4458738876443096, 0.9496227170696862, -0.561925735762768, -0.5181977558854044], \"yaxis\": \"y14\"}, {\"line\": {\"color\": \"rgba(128, 128, 128, 1.0)\", \"dash\": \"solid\", \"shape\": \"linear\", \"width\": 1.3}, \"marker\": {\"size\": 2, \"symbol\": \"circle\"}, \"mode\": \"markers\", \"name\": \"D\", \"text\": \"\", \"type\": \"scatter\", \"x\": [-0.059833531115340205, -1.1307586921024038, -1.5170991708405983, 0.1160808301074496, -0.12443331309427426, 1.2676305263539098, -1.6463008113069764, 1.0704509382146838, -1.2047255156083325, -0.6037064891403543, -0.7475201631838689, -1.1744669027475887, 0.48030262284316644, 0.9098214135560966, -1.5993906133446323, 0.4197640743888284, -0.2149301619105147, -0.17314106369777055, 0.028213515702107568, -0.18534379249626168, 0.3151620624222115, 0.9543056213143404, 1.5883852349755774, -0.12240271652122195, -0.5270291517043504, 0.4864170800204461, 0.8562578232246958, -1.6797894688423038, -0.9467473139214349, -0.7997157670107652, 0.10001814984347672, 1.7828893670975494, 0.7031607462574542, 0.010171140660643115, -0.40167286790753254, -0.022713288502423733, -1.2176710880508304, 2.069515328450902, -0.4091616095882992, -0.0215929308246728, 0.5974480325520253, -1.2983711082734464, -0.8769517606723604, 0.43442891150441015, -0.6944095639989479, 4.032736790835397, -0.5183645416258648, -0.35214783613094147, 0.4283182689039598, -1.2825855564049675, 2.042810376896394, 0.8363617075024146, -0.24996803048593447, -0.7249052202412539, 1.0659431873725955, 0.11999074219720175, -2.6225097483783832, -0.9306985386490227, 0.6149332485969911, -1.135900314950092, 0.38599838131658937, -0.08306721638522246, 1.6228039601371533, -0.07772711618525334, 1.3298450092271772, -0.05050903008593878, 1.8652974639279727, -0.2665584107205339, 0.3849658987096003, -0.15359569461542186, 1.8237622467376262, 0.3661468059331742, -2.916564206650955, 0.3972639089615204, 0.008198659931431334, -1.5760208632854669, -0.8030979407843182, 0.35268724922940176, -0.07195584029076904, 0.6332523111960984, -0.053138329815598066, 1.2350429498079165, 0.5319503342878098, -1.6645778363543628, 1.0582342841677217, 0.13758399933343138, 0.028425285203291552, 0.6308990774792219, -0.44371572618825567, -0.03240748373035467, -0.6681543753003671, -0.11092583493554127, -1.3046806089449365, -1.0946605716276787, -1.0221848513838285, 0.029419760269896504, 0.7125106388215899, 0.7110358381773751, 0.2072281455770876, 0.8858439582475902], \"xaxis\": \"x15\", \"y\": [-0.048438637774105314, -0.7819332955743884, -0.3801495953586696, 0.09272418733206131, 0.7808245571391312, 0.5292232251316453, 0.7274627743044587, -0.39748388296073767, 0.33351628234173764, 1.4353874488035603, -0.6416122676165328, -0.21624374030643773, -0.18262892551164203, 1.4320690617186551, 0.7522520439339312, -0.22238280208314654, -0.0024148553404345257, -1.5499752000072256, -1.969076768612912, 1.0340972198392024, 0.580563689799276, 1.4587509308564321, -0.7825285048922617, 0.16942465775404666, 0.6580084266340505, 0.9721824509859225, -0.9114882246177496, 0.4611795445753822, 0.7117293714633903, 1.0491048103930758, 0.8913969800869878, 0.8974951904504173, -1.8467424551374227, 1.2907662114214729, -2.459928488972569, -0.7628256803186014, -1.1986338915846038, 0.8409660087997013, 0.39053277181916746, 0.3537879516964365, -0.19827400142084714, 2.45078684667432, 0.39339632744919706, 1.2959445775725915, 1.55742033037734, 0.15903677031659075, 0.8301172205354383, 0.07725869797638997, -0.8540182591131804, -0.4997019785406598, 1.2306188176947799, 1.0920997473503868, -1.4925144990722459, -0.637145097678531, 0.6605694198821305, -0.2817495373297371, -0.8375067117343374, -0.49206741167074847, -0.7726679333091742, -0.25396873345375925, 0.9369327122811331, 0.11446557309415974, 0.557350214273498, -1.9565685423533479, -1.5931447014695428, 0.42898871597828225, -0.13836267817067688, 0.1740860135897892, -0.8150969593659615, 0.3098140820911925, 1.5856448102666456, -2.1520243724874897, -1.7069881134059737, 0.6700740038384747, -1.2851453720497432, 0.6364030819540974, -0.6728078005632903, -0.541035384971853, 0.48763875357064984, 1.091767088668557, 1.109686796001412, -0.8621987749294595, -0.6507530256151302, 0.485891682406828, 1.4384870607912152, -1.2671510033372553, 1.4909740801643505, -0.8486207628250105, -0.32893116836800396, -0.06685992986459374, -0.038509021919391075, 1.39546176696491, -0.15091955130675058, 1.0986346044800837, 0.025414523902503757, 1.26850959258467, 0.4458738876443096, 0.9496227170696862, -0.561925735762768, -0.5181977558854044], \"yaxis\": \"y15\"}, {\"histfunc\": \"count\", \"histnorm\": \"\", \"marker\": {\"color\": \"rgba(128, 0, 128, 1.0)\", \"line\": {\"color\": \"#4D5663\", \"width\": 1.3}}, \"name\": \"D\", \"nbinsx\": 10, \"opacity\": 0.8, \"orientation\": \"v\", \"type\": \"histogram\", \"x\": [-0.048438637774105314, -0.7819332955743884, -0.3801495953586696, 0.09272418733206131, 0.7808245571391312, 0.5292232251316453, 0.7274627743044587, -0.39748388296073767, 0.33351628234173764, 1.4353874488035603, -0.6416122676165328, -0.21624374030643773, -0.18262892551164203, 1.4320690617186551, 0.7522520439339312, -0.22238280208314654, -0.0024148553404345257, -1.5499752000072256, -1.969076768612912, 1.0340972198392024, 0.580563689799276, 1.4587509308564321, -0.7825285048922617, 0.16942465775404666, 0.6580084266340505, 0.9721824509859225, -0.9114882246177496, 0.4611795445753822, 0.7117293714633903, 1.0491048103930758, 0.8913969800869878, 0.8974951904504173, -1.8467424551374227, 1.2907662114214729, -2.459928488972569, -0.7628256803186014, -1.1986338915846038, 0.8409660087997013, 0.39053277181916746, 0.3537879516964365, -0.19827400142084714, 2.45078684667432, 0.39339632744919706, 1.2959445775725915, 1.55742033037734, 0.15903677031659075, 0.8301172205354383, 0.07725869797638997, -0.8540182591131804, -0.4997019785406598, 1.2306188176947799, 1.0920997473503868, -1.4925144990722459, -0.637145097678531, 0.6605694198821305, -0.2817495373297371, -0.8375067117343374, -0.49206741167074847, -0.7726679333091742, -0.25396873345375925, 0.9369327122811331, 0.11446557309415974, 0.557350214273498, -1.9565685423533479, -1.5931447014695428, 0.42898871597828225, -0.13836267817067688, 0.1740860135897892, -0.8150969593659615, 0.3098140820911925, 1.5856448102666456, -2.1520243724874897, -1.7069881134059737, 0.6700740038384747, -1.2851453720497432, 0.6364030819540974, -0.6728078005632903, -0.541035384971853, 0.48763875357064984, 1.091767088668557, 1.109686796001412, -0.8621987749294595, -0.6507530256151302, 0.485891682406828, 1.4384870607912152, -1.2671510033372553, 1.4909740801643505, -0.8486207628250105, -0.32893116836800396, -0.06685992986459374, -0.038509021919391075, 1.39546176696491, -0.15091955130675058, 1.0986346044800837, 0.025414523902503757, 1.26850959258467, 0.4458738876443096, 0.9496227170696862, -0.561925735762768, -0.5181977558854044], \"xaxis\": \"x16\", \"yaxis\": \"y16\"}],\n",
       "                        {\"bargap\": 0.02, \"legend\": {\"bgcolor\": \"#F5F6F9\", \"font\": {\"color\": \"#4D5663\"}}, \"paper_bgcolor\": \"#F5F6F9\", \"plot_bgcolor\": \"#F5F6F9\", \"showlegend\": false, \"template\": {\"data\": {\"bar\": [{\"error_x\": {\"color\": \"#2a3f5f\"}, \"error_y\": {\"color\": \"#2a3f5f\"}, \"marker\": {\"line\": {\"color\": \"#E5ECF6\", \"width\": 0.5}}, \"type\": \"bar\"}], \"barpolar\": [{\"marker\": {\"line\": {\"color\": \"#E5ECF6\", \"width\": 0.5}}, \"type\": \"barpolar\"}], \"carpet\": [{\"aaxis\": {\"endlinecolor\": \"#2a3f5f\", \"gridcolor\": \"white\", \"linecolor\": \"white\", \"minorgridcolor\": \"white\", \"startlinecolor\": \"#2a3f5f\"}, \"baxis\": {\"endlinecolor\": \"#2a3f5f\", \"gridcolor\": \"white\", \"linecolor\": \"white\", \"minorgridcolor\": \"white\", \"startlinecolor\": \"#2a3f5f\"}, \"type\": \"carpet\"}], \"choropleth\": [{\"colorbar\": {\"outlinewidth\": 0, \"ticks\": \"\"}, \"type\": \"choropleth\"}], \"contour\": [{\"colorbar\": {\"outlinewidth\": 0, \"ticks\": \"\"}, \"colorscale\": [[0.0, \"#0d0887\"], [0.1111111111111111, \"#46039f\"], [0.2222222222222222, \"#7201a8\"], [0.3333333333333333, \"#9c179e\"], [0.4444444444444444, \"#bd3786\"], [0.5555555555555556, \"#d8576b\"], [0.6666666666666666, \"#ed7953\"], [0.7777777777777778, \"#fb9f3a\"], [0.8888888888888888, \"#fdca26\"], [1.0, \"#f0f921\"]], \"type\": \"contour\"}], \"contourcarpet\": [{\"colorbar\": {\"outlinewidth\": 0, \"ticks\": \"\"}, \"type\": \"contourcarpet\"}], \"heatmap\": [{\"colorbar\": {\"outlinewidth\": 0, \"ticks\": \"\"}, \"colorscale\": [[0.0, \"#0d0887\"], [0.1111111111111111, \"#46039f\"], [0.2222222222222222, \"#7201a8\"], [0.3333333333333333, \"#9c179e\"], [0.4444444444444444, \"#bd3786\"], [0.5555555555555556, \"#d8576b\"], [0.6666666666666666, \"#ed7953\"], [0.7777777777777778, \"#fb9f3a\"], [0.8888888888888888, \"#fdca26\"], [1.0, \"#f0f921\"]], \"type\": \"heatmap\"}], \"heatmapgl\": [{\"colorbar\": {\"outlinewidth\": 0, \"ticks\": \"\"}, \"colorscale\": [[0.0, \"#0d0887\"], [0.1111111111111111, \"#46039f\"], [0.2222222222222222, \"#7201a8\"], [0.3333333333333333, \"#9c179e\"], [0.4444444444444444, \"#bd3786\"], [0.5555555555555556, \"#d8576b\"], [0.6666666666666666, \"#ed7953\"], [0.7777777777777778, \"#fb9f3a\"], [0.8888888888888888, \"#fdca26\"], [1.0, \"#f0f921\"]], \"type\": \"heatmapgl\"}], \"histogram\": [{\"marker\": {\"colorbar\": {\"outlinewidth\": 0, \"ticks\": \"\"}}, \"type\": \"histogram\"}], \"histogram2d\": [{\"colorbar\": {\"outlinewidth\": 0, \"ticks\": \"\"}, \"colorscale\": [[0.0, \"#0d0887\"], [0.1111111111111111, \"#46039f\"], [0.2222222222222222, \"#7201a8\"], [0.3333333333333333, \"#9c179e\"], [0.4444444444444444, \"#bd3786\"], [0.5555555555555556, \"#d8576b\"], [0.6666666666666666, \"#ed7953\"], [0.7777777777777778, \"#fb9f3a\"], [0.8888888888888888, \"#fdca26\"], [1.0, \"#f0f921\"]], \"type\": \"histogram2d\"}], \"histogram2dcontour\": [{\"colorbar\": {\"outlinewidth\": 0, \"ticks\": \"\"}, \"colorscale\": [[0.0, \"#0d0887\"], [0.1111111111111111, \"#46039f\"], [0.2222222222222222, \"#7201a8\"], [0.3333333333333333, \"#9c179e\"], [0.4444444444444444, \"#bd3786\"], [0.5555555555555556, \"#d8576b\"], [0.6666666666666666, \"#ed7953\"], [0.7777777777777778, \"#fb9f3a\"], [0.8888888888888888, \"#fdca26\"], [1.0, \"#f0f921\"]], \"type\": \"histogram2dcontour\"}], \"mesh3d\": [{\"colorbar\": {\"outlinewidth\": 0, \"ticks\": \"\"}, \"type\": \"mesh3d\"}], \"parcoords\": [{\"line\": {\"colorbar\": {\"outlinewidth\": 0, \"ticks\": \"\"}}, \"type\": \"parcoords\"}], \"pie\": [{\"automargin\": true, \"type\": \"pie\"}], \"scatter\": [{\"marker\": {\"colorbar\": {\"outlinewidth\": 0, \"ticks\": \"\"}}, \"type\": \"scatter\"}], \"scatter3d\": [{\"line\": {\"colorbar\": {\"outlinewidth\": 0, \"ticks\": \"\"}}, \"marker\": {\"colorbar\": {\"outlinewidth\": 0, \"ticks\": \"\"}}, \"type\": \"scatter3d\"}], \"scattercarpet\": [{\"marker\": {\"colorbar\": {\"outlinewidth\": 0, \"ticks\": \"\"}}, \"type\": \"scattercarpet\"}], \"scattergeo\": [{\"marker\": {\"colorbar\": {\"outlinewidth\": 0, \"ticks\": \"\"}}, \"type\": \"scattergeo\"}], \"scattergl\": [{\"marker\": {\"colorbar\": {\"outlinewidth\": 0, \"ticks\": \"\"}}, \"type\": \"scattergl\"}], \"scattermapbox\": [{\"marker\": {\"colorbar\": {\"outlinewidth\": 0, \"ticks\": \"\"}}, \"type\": \"scattermapbox\"}], \"scatterpolar\": [{\"marker\": {\"colorbar\": {\"outlinewidth\": 0, \"ticks\": \"\"}}, \"type\": \"scatterpolar\"}], \"scatterpolargl\": [{\"marker\": {\"colorbar\": {\"outlinewidth\": 0, \"ticks\": \"\"}}, \"type\": \"scatterpolargl\"}], \"scatterternary\": [{\"marker\": {\"colorbar\": {\"outlinewidth\": 0, \"ticks\": \"\"}}, \"type\": \"scatterternary\"}], \"surface\": [{\"colorbar\": {\"outlinewidth\": 0, \"ticks\": \"\"}, \"colorscale\": [[0.0, \"#0d0887\"], [0.1111111111111111, \"#46039f\"], [0.2222222222222222, \"#7201a8\"], [0.3333333333333333, \"#9c179e\"], [0.4444444444444444, \"#bd3786\"], [0.5555555555555556, \"#d8576b\"], [0.6666666666666666, \"#ed7953\"], [0.7777777777777778, \"#fb9f3a\"], [0.8888888888888888, \"#fdca26\"], [1.0, \"#f0f921\"]], \"type\": \"surface\"}], \"table\": [{\"cells\": {\"fill\": {\"color\": \"#EBF0F8\"}, \"line\": {\"color\": \"white\"}}, \"header\": {\"fill\": {\"color\": \"#C8D4E3\"}, \"line\": {\"color\": \"white\"}}, \"type\": \"table\"}]}, \"layout\": {\"annotationdefaults\": {\"arrowcolor\": \"#2a3f5f\", \"arrowhead\": 0, \"arrowwidth\": 1}, \"coloraxis\": {\"colorbar\": {\"outlinewidth\": 0, \"ticks\": \"\"}}, \"colorscale\": {\"diverging\": [[0, \"#8e0152\"], [0.1, \"#c51b7d\"], [0.2, \"#de77ae\"], [0.3, \"#f1b6da\"], [0.4, \"#fde0ef\"], [0.5, \"#f7f7f7\"], [0.6, \"#e6f5d0\"], [0.7, \"#b8e186\"], [0.8, \"#7fbc41\"], [0.9, \"#4d9221\"], [1, \"#276419\"]], \"sequential\": [[0.0, \"#0d0887\"], [0.1111111111111111, \"#46039f\"], [0.2222222222222222, \"#7201a8\"], [0.3333333333333333, \"#9c179e\"], [0.4444444444444444, \"#bd3786\"], [0.5555555555555556, \"#d8576b\"], [0.6666666666666666, \"#ed7953\"], [0.7777777777777778, \"#fb9f3a\"], [0.8888888888888888, \"#fdca26\"], [1.0, \"#f0f921\"]], \"sequentialminus\": [[0.0, \"#0d0887\"], [0.1111111111111111, \"#46039f\"], [0.2222222222222222, \"#7201a8\"], [0.3333333333333333, \"#9c179e\"], [0.4444444444444444, \"#bd3786\"], [0.5555555555555556, \"#d8576b\"], [0.6666666666666666, \"#ed7953\"], [0.7777777777777778, \"#fb9f3a\"], [0.8888888888888888, \"#fdca26\"], [1.0, \"#f0f921\"]]}, \"colorway\": [\"#636efa\", \"#EF553B\", \"#00cc96\", \"#ab63fa\", \"#FFA15A\", \"#19d3f3\", \"#FF6692\", \"#B6E880\", \"#FF97FF\", \"#FECB52\"], \"font\": {\"color\": \"#2a3f5f\"}, \"geo\": {\"bgcolor\": \"white\", \"lakecolor\": \"white\", \"landcolor\": \"#E5ECF6\", \"showlakes\": true, \"showland\": true, \"subunitcolor\": \"white\"}, \"hoverlabel\": {\"align\": \"left\"}, \"hovermode\": \"closest\", \"mapbox\": {\"style\": \"light\"}, \"paper_bgcolor\": \"white\", \"plot_bgcolor\": \"#E5ECF6\", \"polar\": {\"angularaxis\": {\"gridcolor\": \"white\", \"linecolor\": \"white\", \"ticks\": \"\"}, \"bgcolor\": \"#E5ECF6\", \"radialaxis\": {\"gridcolor\": \"white\", \"linecolor\": \"white\", \"ticks\": \"\"}}, \"scene\": {\"xaxis\": {\"backgroundcolor\": \"#E5ECF6\", \"gridcolor\": \"white\", \"gridwidth\": 2, \"linecolor\": \"white\", \"showbackground\": true, \"ticks\": \"\", \"zerolinecolor\": \"white\"}, \"yaxis\": {\"backgroundcolor\": \"#E5ECF6\", \"gridcolor\": \"white\", \"gridwidth\": 2, \"linecolor\": \"white\", \"showbackground\": true, \"ticks\": \"\", \"zerolinecolor\": \"white\"}, \"zaxis\": {\"backgroundcolor\": \"#E5ECF6\", \"gridcolor\": \"white\", \"gridwidth\": 2, \"linecolor\": \"white\", \"showbackground\": true, \"ticks\": \"\", \"zerolinecolor\": \"white\"}}, \"shapedefaults\": {\"line\": {\"color\": \"#2a3f5f\"}}, \"ternary\": {\"aaxis\": {\"gridcolor\": \"white\", \"linecolor\": \"white\", \"ticks\": \"\"}, \"baxis\": {\"gridcolor\": \"white\", \"linecolor\": \"white\", \"ticks\": \"\"}, \"bgcolor\": \"#E5ECF6\", \"caxis\": {\"gridcolor\": \"white\", \"linecolor\": \"white\", \"ticks\": \"\"}}, \"title\": {\"x\": 0.05}, \"xaxis\": {\"automargin\": true, \"gridcolor\": \"white\", \"linecolor\": \"white\", \"ticks\": \"\", \"title\": {\"standoff\": 15}, \"zerolinecolor\": \"white\", \"zerolinewidth\": 2}, \"yaxis\": {\"automargin\": true, \"gridcolor\": \"white\", \"linecolor\": \"white\", \"ticks\": \"\", \"title\": {\"standoff\": 15}, \"zerolinecolor\": \"white\", \"zerolinewidth\": 2}}}, \"title\": {\"font\": {\"color\": \"#4D5663\"}}, \"xaxis\": {\"anchor\": \"y\", \"domain\": [0.0, 0.2125], \"gridcolor\": \"#E1E5ED\", \"showgrid\": false, \"tickfont\": {\"color\": \"#4D5663\"}, \"title\": {\"font\": {\"color\": \"#4D5663\"}, \"text\": \"\"}, \"zerolinecolor\": \"#E1E5ED\"}, \"xaxis10\": {\"anchor\": \"y10\", \"domain\": [0.2625, 0.475], \"gridcolor\": \"#E1E5ED\", \"showgrid\": false, \"tickfont\": {\"color\": \"#4D5663\"}, \"title\": {\"font\": {\"color\": \"#4D5663\"}, \"text\": \"\"}, \"zerolinecolor\": \"#E1E5ED\"}, \"xaxis11\": {\"anchor\": \"y11\", \"domain\": [0.525, 0.7375], \"gridcolor\": \"#E1E5ED\", \"showgrid\": false, \"tickfont\": {\"color\": \"#4D5663\"}, \"title\": {\"font\": {\"color\": \"#4D5663\"}, \"text\": \"\"}, \"zerolinecolor\": \"#E1E5ED\"}, \"xaxis12\": {\"anchor\": \"y12\", \"domain\": [0.7875, 1.0], \"gridcolor\": \"#E1E5ED\", \"showgrid\": false, \"tickfont\": {\"color\": \"#4D5663\"}, \"title\": {\"font\": {\"color\": \"#4D5663\"}, \"text\": \"\"}, \"zerolinecolor\": \"#E1E5ED\"}, \"xaxis13\": {\"anchor\": \"y13\", \"domain\": [0.0, 0.2125], \"gridcolor\": \"#E1E5ED\", \"showgrid\": false, \"tickfont\": {\"color\": \"#4D5663\"}, \"title\": {\"font\": {\"color\": \"#4D5663\"}, \"text\": \"\"}, \"zerolinecolor\": \"#E1E5ED\"}, \"xaxis14\": {\"anchor\": \"y14\", \"domain\": [0.2625, 0.475], \"gridcolor\": \"#E1E5ED\", \"showgrid\": false, \"tickfont\": {\"color\": \"#4D5663\"}, \"title\": {\"font\": {\"color\": \"#4D5663\"}, \"text\": \"\"}, \"zerolinecolor\": \"#E1E5ED\"}, \"xaxis15\": {\"anchor\": \"y15\", \"domain\": [0.525, 0.7375], \"gridcolor\": \"#E1E5ED\", \"showgrid\": false, \"tickfont\": {\"color\": \"#4D5663\"}, \"title\": {\"font\": {\"color\": \"#4D5663\"}, \"text\": \"\"}, \"zerolinecolor\": \"#E1E5ED\"}, \"xaxis16\": {\"anchor\": \"y16\", \"domain\": [0.7875, 1.0], \"gridcolor\": \"#E1E5ED\", \"showgrid\": false, \"tickfont\": {\"color\": \"#4D5663\"}, \"title\": {\"font\": {\"color\": \"#4D5663\"}, \"text\": \"\"}, \"zerolinecolor\": \"#E1E5ED\"}, \"xaxis2\": {\"anchor\": \"y2\", \"domain\": [0.2625, 0.475], \"gridcolor\": \"#E1E5ED\", \"showgrid\": false, \"tickfont\": {\"color\": \"#4D5663\"}, \"title\": {\"font\": {\"color\": \"#4D5663\"}, \"text\": \"\"}, \"zerolinecolor\": \"#E1E5ED\"}, \"xaxis3\": {\"anchor\": \"y3\", \"domain\": [0.525, 0.7375], \"gridcolor\": \"#E1E5ED\", \"showgrid\": false, \"tickfont\": {\"color\": \"#4D5663\"}, \"title\": {\"font\": {\"color\": \"#4D5663\"}, \"text\": \"\"}, \"zerolinecolor\": \"#E1E5ED\"}, \"xaxis4\": {\"anchor\": \"y4\", \"domain\": [0.7875, 1.0], \"gridcolor\": \"#E1E5ED\", \"showgrid\": false, \"tickfont\": {\"color\": \"#4D5663\"}, \"title\": {\"font\": {\"color\": \"#4D5663\"}, \"text\": \"\"}, \"zerolinecolor\": \"#E1E5ED\"}, \"xaxis5\": {\"anchor\": \"y5\", \"domain\": [0.0, 0.2125], \"gridcolor\": \"#E1E5ED\", \"showgrid\": false, \"tickfont\": {\"color\": \"#4D5663\"}, \"title\": {\"font\": {\"color\": \"#4D5663\"}, \"text\": \"\"}, \"zerolinecolor\": \"#E1E5ED\"}, \"xaxis6\": {\"anchor\": \"y6\", \"domain\": [0.2625, 0.475], \"gridcolor\": \"#E1E5ED\", \"showgrid\": false, \"tickfont\": {\"color\": \"#4D5663\"}, \"title\": {\"font\": {\"color\": \"#4D5663\"}, \"text\": \"\"}, \"zerolinecolor\": \"#E1E5ED\"}, \"xaxis7\": {\"anchor\": \"y7\", \"domain\": [0.525, 0.7375], \"gridcolor\": \"#E1E5ED\", \"showgrid\": false, \"tickfont\": {\"color\": \"#4D5663\"}, \"title\": {\"font\": {\"color\": \"#4D5663\"}, \"text\": \"\"}, \"zerolinecolor\": \"#E1E5ED\"}, \"xaxis8\": {\"anchor\": \"y8\", \"domain\": [0.7875, 1.0], \"gridcolor\": \"#E1E5ED\", \"showgrid\": false, \"tickfont\": {\"color\": \"#4D5663\"}, \"title\": {\"font\": {\"color\": \"#4D5663\"}, \"text\": \"\"}, \"zerolinecolor\": \"#E1E5ED\"}, \"xaxis9\": {\"anchor\": \"y9\", \"domain\": [0.0, 0.2125], \"gridcolor\": \"#E1E5ED\", \"showgrid\": false, \"tickfont\": {\"color\": \"#4D5663\"}, \"title\": {\"font\": {\"color\": \"#4D5663\"}, \"text\": \"\"}, \"zerolinecolor\": \"#E1E5ED\"}, \"yaxis\": {\"anchor\": \"x\", \"domain\": [0.8025, 1.0], \"gridcolor\": \"#E1E5ED\", \"showgrid\": false, \"tickfont\": {\"color\": \"#4D5663\"}, \"title\": {\"font\": {\"color\": \"#4D5663\"}, \"text\": \"\"}, \"zerolinecolor\": \"#E1E5ED\"}, \"yaxis10\": {\"anchor\": \"x10\", \"domain\": [0.2675, 0.465], \"gridcolor\": \"#E1E5ED\", \"showgrid\": false, \"tickfont\": {\"color\": \"#4D5663\"}, \"title\": {\"font\": {\"color\": \"#4D5663\"}, \"text\": \"\"}, \"zerolinecolor\": \"#E1E5ED\"}, \"yaxis11\": {\"anchor\": \"x11\", \"domain\": [0.2675, 0.465], \"gridcolor\": \"#E1E5ED\", \"showgrid\": false, \"tickfont\": {\"color\": \"#4D5663\"}, \"title\": {\"font\": {\"color\": \"#4D5663\"}, \"text\": \"\"}, \"zerolinecolor\": \"#E1E5ED\"}, \"yaxis12\": {\"anchor\": \"x12\", \"domain\": [0.2675, 0.465], \"gridcolor\": \"#E1E5ED\", \"showgrid\": false, \"tickfont\": {\"color\": \"#4D5663\"}, \"title\": {\"font\": {\"color\": \"#4D5663\"}, \"text\": \"\"}, \"zerolinecolor\": \"#E1E5ED\"}, \"yaxis13\": {\"anchor\": \"x13\", \"domain\": [0.0, 0.1975], \"gridcolor\": \"#E1E5ED\", \"showgrid\": false, \"tickfont\": {\"color\": \"#4D5663\"}, \"title\": {\"font\": {\"color\": \"#4D5663\"}, \"text\": \"\"}, \"zerolinecolor\": \"#E1E5ED\"}, \"yaxis14\": {\"anchor\": \"x14\", \"domain\": [0.0, 0.1975], \"gridcolor\": \"#E1E5ED\", \"showgrid\": false, \"tickfont\": {\"color\": \"#4D5663\"}, \"title\": {\"font\": {\"color\": \"#4D5663\"}, \"text\": \"\"}, \"zerolinecolor\": \"#E1E5ED\"}, \"yaxis15\": {\"anchor\": \"x15\", \"domain\": [0.0, 0.1975], \"gridcolor\": \"#E1E5ED\", \"showgrid\": false, \"tickfont\": {\"color\": \"#4D5663\"}, \"title\": {\"font\": {\"color\": \"#4D5663\"}, \"text\": \"\"}, \"zerolinecolor\": \"#E1E5ED\"}, \"yaxis16\": {\"anchor\": \"x16\", \"domain\": [0.0, 0.1975], \"gridcolor\": \"#E1E5ED\", \"showgrid\": false, \"tickfont\": {\"color\": \"#4D5663\"}, \"title\": {\"font\": {\"color\": \"#4D5663\"}, \"text\": \"\"}, \"zerolinecolor\": \"#E1E5ED\"}, \"yaxis2\": {\"anchor\": \"x2\", \"domain\": [0.8025, 1.0], \"gridcolor\": \"#E1E5ED\", \"showgrid\": false, \"tickfont\": {\"color\": \"#4D5663\"}, \"title\": {\"font\": {\"color\": \"#4D5663\"}, \"text\": \"\"}, \"zerolinecolor\": \"#E1E5ED\"}, \"yaxis3\": {\"anchor\": \"x3\", \"domain\": [0.8025, 1.0], \"gridcolor\": \"#E1E5ED\", \"showgrid\": false, \"tickfont\": {\"color\": \"#4D5663\"}, \"title\": {\"font\": {\"color\": \"#4D5663\"}, \"text\": \"\"}, \"zerolinecolor\": \"#E1E5ED\"}, \"yaxis4\": {\"anchor\": \"x4\", \"domain\": [0.8025, 1.0], \"gridcolor\": \"#E1E5ED\", \"showgrid\": false, \"tickfont\": {\"color\": \"#4D5663\"}, \"title\": {\"font\": {\"color\": \"#4D5663\"}, \"text\": \"\"}, \"zerolinecolor\": \"#E1E5ED\"}, \"yaxis5\": {\"anchor\": \"x5\", \"domain\": [0.535, 0.7325], \"gridcolor\": \"#E1E5ED\", \"showgrid\": false, \"tickfont\": {\"color\": \"#4D5663\"}, \"title\": {\"font\": {\"color\": \"#4D5663\"}, \"text\": \"\"}, \"zerolinecolor\": \"#E1E5ED\"}, \"yaxis6\": {\"anchor\": \"x6\", \"domain\": [0.535, 0.7325], \"gridcolor\": \"#E1E5ED\", \"showgrid\": false, \"tickfont\": {\"color\": \"#4D5663\"}, \"title\": {\"font\": {\"color\": \"#4D5663\"}, \"text\": \"\"}, \"zerolinecolor\": \"#E1E5ED\"}, \"yaxis7\": {\"anchor\": \"x7\", \"domain\": [0.535, 0.7325], \"gridcolor\": \"#E1E5ED\", \"showgrid\": false, \"tickfont\": {\"color\": \"#4D5663\"}, \"title\": {\"font\": {\"color\": \"#4D5663\"}, \"text\": \"\"}, \"zerolinecolor\": \"#E1E5ED\"}, \"yaxis8\": {\"anchor\": \"x8\", \"domain\": [0.535, 0.7325], \"gridcolor\": \"#E1E5ED\", \"showgrid\": false, \"tickfont\": {\"color\": \"#4D5663\"}, \"title\": {\"font\": {\"color\": \"#4D5663\"}, \"text\": \"\"}, \"zerolinecolor\": \"#E1E5ED\"}, \"yaxis9\": {\"anchor\": \"x9\", \"domain\": [0.2675, 0.465], \"gridcolor\": \"#E1E5ED\", \"showgrid\": false, \"tickfont\": {\"color\": \"#4D5663\"}, \"title\": {\"font\": {\"color\": \"#4D5663\"}, \"text\": \"\"}, \"zerolinecolor\": \"#E1E5ED\"}},\n",
       "                        {\"showLink\": true, \"linkText\": \"Export to plot.ly\", \"plotlyServerURL\": \"https://plot.ly\", \"responsive\": true}\n",
       "                    ).then(function(){\n",
       "                            \n",
       "var gd = document.getElementById('1306d8cf-f855-4629-9629-082bc3c5f23c');\n",
       "var x = new MutationObserver(function (mutations, observer) {{\n",
       "        var display = window.getComputedStyle(gd).display;\n",
       "        if (!display || display === 'none') {{\n",
       "            console.log([gd, 'removed!']);\n",
       "            Plotly.purge(gd);\n",
       "            observer.disconnect();\n",
       "        }}\n",
       "}});\n",
       "\n",
       "// Listen for the removal of the full notebook cells\n",
       "var notebookContainer = gd.closest('#notebook-container');\n",
       "if (notebookContainer) {{\n",
       "    x.observe(notebookContainer, {childList: true});\n",
       "}}\n",
       "\n",
       "// Listen for the clearing of the current output cell\n",
       "var outputEl = gd.closest('.output');\n",
       "if (outputEl) {{\n",
       "    x.observe(outputEl, {childList: true});\n",
       "}}\n",
       "\n",
       "                        })\n",
       "                };\n",
       "                });\n",
       "            </script>\n",
       "        </div>"
      ]
     },
     "metadata": {},
     "output_type": "display_data"
    }
   ],
   "source": [
    "df.scatter_matrix()"
   ]
  }
 ],
 "metadata": {
  "kernelspec": {
   "display_name": "Python 3",
   "language": "python",
   "name": "python3"
  },
  "language_info": {
   "codemirror_mode": {
    "name": "ipython",
    "version": 3
   },
   "file_extension": ".py",
   "mimetype": "text/x-python",
   "name": "python",
   "nbconvert_exporter": "python",
   "pygments_lexer": "ipython3",
   "version": "3.7.4"
  }
 },
 "nbformat": 4,
 "nbformat_minor": 2
}
